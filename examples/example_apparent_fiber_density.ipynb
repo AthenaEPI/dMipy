{
 "metadata": {
  "name": "results_apparent_fiber_density.ipynb"
 },
 "nbformat": 3,
 "nbformat_minor": 0,
 "worksheets": [
  {
   "cells": [
    {
     "cell_type": "code",
     "collapsed": false,
     "input": [
      "from microstruktur.signal_models import three_dimensional_models\n",
      "from microstruktur.signal_models import spherical_mean\n",
      "from microstruktur.signal_models.utils import T1_tortuosity, parameter_equality, define_shell_indices\n",
      "from os.path import join\n",
      "from scipy import optimize\n",
      "from scipy.stats import pearsonr\n",
      "# import pandas"
     ],
     "language": "python",
     "metadata": {},
     "outputs": [],
     "prompt_number": 27
    },
    {
     "cell_type": "code",
     "collapsed": false,
     "input": [
      "import pkg_resources\n",
      "DATA_PATH = '/user/rfick/home/microstruktur/microstruktur/data/'\n",
      "# DATA_PATH = pkg_resources.resource_filename(\n",
      "#     'microstruktur', 'data/'\n",
      "# )"
     ],
     "language": "python",
     "metadata": {},
     "outputs": [],
     "prompt_number": 28
    },
    {
     "cell_type": "code",
     "collapsed": false,
     "input": [
      "# bvals = np.loadtxt(join(three_dimensional_models.GRADIENT_TABLES_PATH, 'bvals_hcp_wu_minn.txt'))\n",
      "# gradient_directions = np.loadtxt(join(three_dimensional_models.GRADIENT_TABLES_PATH, 'bvecs_hcp_wu_minn.txt'))\n",
      "\n",
      "# shell_indices, shell_bvalues = define_shell_indices(bvals, ((0, 10), (995, 1005), (1995, 2005), (2995, 3005)))\n",
      "# number_of_shells = shell_indices.max()"
     ],
     "language": "python",
     "metadata": {},
     "outputs": [],
     "prompt_number": 29
    },
    {
     "cell_type": "code",
     "collapsed": false,
     "input": [
      "data_1_7 = np.loadtxt(join(DATA_PATH, 'data_camino_D1_7.txt'))\n",
      "fractions_1_7 = np.loadtxt(DATA_PATH +'fractions_camino_D1_7.txt')\n",
      "data_2_0 = np.loadtxt(join(DATA_PATH, 'data_camino_D2_0.txt'))\n",
      "fractions_2_0 = np.loadtxt(DATA_PATH +'fractions_camino_D2_0.txt')\n",
      "data_2_3 = np.loadtxt(join(DATA_PATH, 'data_camino_D2_3.txt'))\n",
      "fractions_2_3 = np.loadtxt(DATA_PATH +'fractions_camino_D2_3.txt')\n",
      "data_axcaliber_1_7 = np.loadtxt(join(DATA_PATH, 'data_camino_axcaliber_D1_7.txt'))\n",
      "fractions_axcaliber_1_7 = np.loadtxt(DATA_PATH +'fractions_camino_axcaliber_D1_7.txt')"
     ],
     "language": "python",
     "metadata": {},
     "outputs": [],
     "prompt_number": 30
    },
    {
     "cell_type": "code",
     "collapsed": false,
     "input": [
      "data_multidif = np.r_[data_1_7, data_2_0, data_2_3]\n",
      "fractions_multidif = np.r_[fractions_1_7, fractions_2_0, fractions_2_3]"
     ],
     "language": "python",
     "metadata": {},
     "outputs": [],
     "prompt_number": 31
    },
    {
     "cell_type": "code",
     "collapsed": false,
     "input": [
      "data_1_7_dispersed = np.loadtxt(join(DATA_PATH, 'data_camino_dispersed_D1_7.txt'))\n",
      "parameters_1_7_dispersed = np.loadtxt(DATA_PATH +'parameters_camino_dispersed_D1_7.txt')\n",
      "fractions_1_7_dispersed = parameters_1_7_dispersed[:,0]\n",
      "\n",
      "data_2_0_dispersed = np.loadtxt(join(DATA_PATH, 'data_camino_dispersed_D2_0.txt'))\n",
      "parameters_2_0_dispersed = np.loadtxt(DATA_PATH +'parameters_camino_dispersed_D2_0.txt')\n",
      "fractions_2_0_dispersed = parameters_2_0_dispersed[:,0]\n",
      "\n",
      "data_2_3_dispersed = np.loadtxt(join(DATA_PATH, 'data_camino_dispersed_D2_3.txt'))\n",
      "parameters_2_3_dispersed = np.loadtxt(DATA_PATH +'parameters_camino_dispersed_D2_3.txt')\n",
      "fractions_2_3_dispersed = parameters_2_3_dispersed[:,0]"
     ],
     "language": "python",
     "metadata": {},
     "outputs": [],
     "prompt_number": 32
    },
    {
     "cell_type": "code",
     "collapsed": false,
     "input": [
      "data_multidif_dispersed = np.r_[data_1_7_dispersed, data_2_0_dispersed, data_2_3_dispersed]\n",
      "fractions_multidif_dispersed = np.r_[fractions_1_7_dispersed, fractions_2_0_dispersed, fractions_2_3_dispersed]"
     ],
     "language": "python",
     "metadata": {},
     "outputs": [],
     "prompt_number": 33
    },
    {
     "cell_type": "code",
     "collapsed": false,
     "input": [
      "# from dipy.reconst.csdeconv import auto_response\n",
      "# from dipy.core.gradients import gradient_table\n",
      "# from dipy.reconst.csdeconv import ConstrainedSphericalDeconvModel\n",
      "# from dipy.data import get_sphere\n",
      "# sphere = get_sphere('symmetric724')\n",
      "\n",
      "# b3k_mask = np.any([bvals == 0, bvals > 2500], axis=0)\n",
      "# bvals3k = bvals[b3k_mask]\n",
      "# gradient_directions3k = gradient_directions[b3k_mask]\n",
      "# gtab3k = gradient_table(bvals=bvals3k, bvecs=gradient_directions3k)\n",
      "\n",
      "# data3k = data_1_7[:, b3k_mask]\n",
      "# data3k_dispersed = data_1_7_dispersed[:, b3k_mask]\n",
      "# data3k_multidif = data_multidif[:, b3k_mask]\n",
      "# data3k_multidif_dispersed = data_multidif_dispersed[:, b3k_mask]"
     ],
     "language": "python",
     "metadata": {},
     "outputs": [],
     "prompt_number": 34
    },
    {
     "cell_type": "code",
     "collapsed": false,
     "input": [
      "# # not dispersed\n",
      "# response, ratio = auto_response(gtab3k, data3k[:, None, None], roi_radius=1000, fa_thr=0.5)\n",
      "# csd_model = ConstrainedSphericalDeconvModel(gtab3k, response)\n",
      "# csd_fit = csd_model.fit(data3k)\n",
      "# arg_par = argmin(np.linalg.norm(sphere.vertices - np.r_[0, 0, 1], axis=1))\n",
      "# csd_odf = csd_fit.odf(sphere)\n",
      "# csd_amplitudes = csd_odf[:, arg_par]\n",
      "\n",
      "# # dispersed\n",
      "# response, ratio = auto_response(gtab3k, data3k_dispersed[:, None, None], roi_radius=1000, fa_thr=0.5)\n",
      "# csd_model = ConstrainedSphericalDeconvModel(gtab3k, response)\n",
      "# csd_fit = csd_model.fit(data3k_dispersed)\n",
      "# arg_par = argmin(np.linalg.norm(sphere.vertices - np.r_[0, 0, 1], axis=1))\n",
      "# csd_odf = csd_fit.odf(sphere)\n",
      "# csd_amplitudes_dispersed = csd_odf[:, arg_par]\n",
      "\n",
      "# # multidif\n",
      "# response, ratio = auto_response(gtab3k, data3k_multidif[:, None, None], roi_radius=1000, fa_thr=0.5)\n",
      "# csd_model = ConstrainedSphericalDeconvModel(gtab3k, response)\n",
      "# csd_fit = csd_model.fit(data3k_multidif)\n",
      "# arg_par = argmin(np.linalg.norm(sphere.vertices - np.r_[0, 0, 1], axis=1))\n",
      "# csd_odf = csd_fit.odf(sphere)\n",
      "# csd_amplitudes_multidif = csd_odf[:, arg_par]\n",
      "\n",
      "# # multidif dispersed\n",
      "# response, ratio = auto_response(gtab3k, data3k_multidif_dispersed[:, None, None], roi_radius=1000, fa_thr=0.5)\n",
      "# csd_model = ConstrainedSphericalDeconvModel(gtab3k, response)\n",
      "# csd_fit = csd_model.fit(data3k_multidif_dispersed)\n",
      "# arg_par = argmin(np.linalg.norm(sphere.vertices - np.r_[0, 0, 1], axis=1))\n",
      "# csd_odf = csd_fit.odf(sphere)\n",
      "# csd_amplitudes_multidif_dispersed = csd_odf[:, arg_par]"
     ],
     "language": "python",
     "metadata": {},
     "outputs": [],
     "prompt_number": 35
    },
    {
     "cell_type": "code",
     "collapsed": false,
     "input": [
      "# np.savetxt(DATA_PATH + \"res_afd.txt\", csd_amplitudes)\n",
      "# np.savetxt(DATA_PATH + \"res_afd_disp.txt\", csd_amplitudes_dispersed)\n",
      "# np.savetxt(DATA_PATH + \"res_afd_mult.txt\", csd_amplitudes_multidif)\n",
      "# np.savetxt(DATA_PATH + \"res_afd_disp_mult.txt\", csd_amplitudes_multidif_dispersed)"
     ],
     "language": "python",
     "metadata": {},
     "outputs": [],
     "prompt_number": 36
    },
    {
     "cell_type": "code",
     "collapsed": false,
     "input": [
      "csd_amplitudes = np.loadtxt(DATA_PATH + \"res_afd.txt\")\n",
      "csd_amplitudes_dispersed = np.loadtxt(DATA_PATH + \"res_afd_disp.txt\")\n",
      "csd_amplitudes_multidif = np.loadtxt(DATA_PATH + \"res_afd_mult.txt\")\n",
      "csd_amplitudes_multidif_dispersed = np.loadtxt(DATA_PATH + \"res_afd_disp_mult.txt\")"
     ],
     "language": "python",
     "metadata": {},
     "outputs": [],
     "prompt_number": 37
    },
    {
     "cell_type": "code",
     "collapsed": false,
     "input": [
      "# estimating pearson correlation with ground truth\n",
      "pr = pearsonr(csd_amplitudes, fractions_1_7)\n",
      "pr_dispersed = pearsonr(csd_amplitudes_dispersed, fractions_1_7_dispersed)\n",
      "pr_multidif = pearsonr(csd_amplitudes_multidif, fractions_multidif)\n",
      "pr_multidif_dispersed = pearsonr(csd_amplitudes_multidif_dispersed, fractions_multidif_dispersed)"
     ],
     "language": "python",
     "metadata": {},
     "outputs": [],
     "prompt_number": 38
    },
    {
     "cell_type": "code",
     "collapsed": false,
     "input": [
      "scaling = csd_amplitudes.max() / .7"
     ],
     "language": "python",
     "metadata": {},
     "outputs": [],
     "prompt_number": 39
    },
    {
     "cell_type": "code",
     "collapsed": false,
     "input": [
      "f, ((ax1, ax2), (ax3, ax4)) = plt.subplots(2, 2, sharex='col', sharey='row')\n",
      "ax1.scatter(fractions_1_7, csd_amplitudes / scaling)\n",
      "ax2.scatter(fractions_multidif, csd_amplitudes_multidif/ scaling)\n",
      "ax3.scatter(fractions_1_7_dispersed, csd_amplitudes_dispersed/ scaling)\n",
      "ax4.scatter(fractions_multidif_dispersed, csd_amplitudes_multidif_dispersed/ scaling)\n",
      "\n",
      "ax1.text(.02, .8, 'pearsonR= '+str(np.round(pr[0], 3)), fontsize=10, bbox=dict(facecolor='white', alpha=1))\n",
      "ax2.text(.02, .8, 'pearsonR= '+str(np.round(pr_multidif[0], 3)), fontsize=10, bbox=dict(facecolor='white', alpha=1))\n",
      "ax3.text(.02, .8, 'pearsonR= '+str(np.round(pr_dispersed[0], 3)), fontsize=10, bbox=dict(facecolor='white', alpha=1))\n",
      "ax4.text(.02, .8, 'pearsonR= '+str(np.round(pr_multidif_dispersed[0], 3)), fontsize=10, bbox=dict(facecolor='white', alpha=1))\n",
      "\n",
      "# ax1.set_title('Static Diffusivity')\n",
      "ax3.set_xlabel('Ground Truth')\n",
      "# ax2.set_title('Varying Diffusivity')\n",
      "ax1.set_ylabel('Scaled AFD')\n",
      "ax4.set_xlabel('Ground Truth')\n",
      "ax3.set_ylabel('Scaled AFD')\n",
      "\n",
      "ax1.plot([0, 1], [0, 1], ls='--', c='k', lw=3)\n",
      "ax2.plot([0, 1], [0, 1], ls='--', c='k', lw=3)\n",
      "ax3.plot([0, 1], [0, 1], ls='--', c='k', lw=3)\n",
      "ax4.plot([0, 1], [0, 1], ls='--', c='k', lw=3)\n",
      "ax1.set_ylim(0, .9)\n",
      "ax1.set_xlim(0, .8)\n",
      "ax4.set_ylim(0, .9)\n",
      "ax4.set_xlim(0, .8)\n",
      "\n",
      "savefig('/user/rfick/home/Work/neuroimage_review/results_AFD.png', dpi=120)"
     ],
     "language": "python",
     "metadata": {},
     "outputs": [
      {
       "metadata": {},
       "output_type": "display_data",
       "png": "[encoded data removed]",
       "text": [
        "<matplotlib.figure.Figure at 0x73d5f90>"
       ]
      }
     ],
     "prompt_number": 54
    },
    {
     "cell_type": "code",
     "collapsed": false,
     "input": [],
     "language": "python",
     "metadata": {},
     "outputs": []
    }
   ],
   "metadata": {}
  }
 ]
}