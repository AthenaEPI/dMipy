{
 "cells": [
  {
   "cell_type": "markdown",
   "metadata": {
    "deletable": true,
    "editable": true
   },
   "source": [
    "# AxCaliber with time-dependent zeppelin\n",
    "\n",
    "In this tuto, we use the AxCaliber method *(Assaf et al. 2008)* presented in a previous example while including the diffusion time-dependency of the extra-axonal space *(Novikov et al. 2014, Burcaw et al. 2015)*. \n",
    "\n",
    "\n",
    "The signal representation is \n",
    "\n",
    "\n",
    "\\begin{equation}\n",
    "E_{\\textrm{AxCaliber}}^{\\textrm{Temporal}}= \\underbrace{(1-f_r)\\overbrace{E_h(b,\\textbf{n},\\lambda_\\parallel,D_{\\infty},A)}^{\\textrm{Zeppelin}}}_{\\textrm{Extra-Axonal}} + \\underbrace{f_r \\overbrace{\\Gamma(\\alpha,\\beta)}^{\\textrm{Gamma Distribution}}*_{\\mathbb{R}}\\overbrace{E_r(\\cdot|D_\\perp)}^{\\textrm{Cylinder}}}_{\\textrm{Intra-Axonal}}\n",
    "\\end{equation}\n"
   ]
  },
  {
   "cell_type": "markdown",
   "metadata": {},
   "source": [
    "where the cylinder was initially represented using the Callaghan model, but was later replaced with the more general Van Gelderen model *(Assaf et al. 2008, Huang et al. 2015, De Santis et al. 2016)*. The initial Ball, which accounted for the extra-axonal signal, is replaced by the time-dependent zeppelin *(De Santis et al, 2016)*. This is easily done in dmipy as follows\n",
    "\n",
    "\\begin{equation}\n",
    " E_h(b,\\textbf{n},\\lambda_\\parallel,D_{\\infty},A)=\\exp(-b\\textbf{n}^T(\\textbf{R}\\textbf{D}^h_{\\textrm{diag}}\\textbf{R}^T)\\textbf{n})\\quad\\textrm{with}\\quad\n",
    " \\textbf{D}^h_{\\textrm{diag}}=\n",
    "\\begin{pmatrix}\n",
    "  \\lambda_\\parallel & 0 & 0  \\\\\n",
    "  0 & D_{\\infty}+A\\frac{\\ln(\\Delta/\\delta)+3/2}{\\Delta-\\delta/3} & 0  \\\\\n",
    "  0  & 0  & D_{\\infty}+A\\frac{\\ln(\\Delta/\\delta)+3/2}{\\Delta-\\delta/3}\n",
    " \\end{pmatrix}\n",
    "\\end{equation}"
   ]
  },
  {
   "cell_type": "markdown",
   "metadata": {},
   "source": [
    "here the perpendicular diffusivity is now dependent on $\\Delta$ with $D_{\\infty}$ the bulk diffusion constant and $A$ a characteristic coefficient for extra-axonal hindrence.\n",
    "\n",
    "Our gaol here is to reproduce the Monte Carlo simulations presented in *(De Santis et al, 2016)*, where they investigated the impact of including extra-axonal hindrence through the temporal zeppelin on axonal density and diameter estimation."
   ]
  },
  {
   "cell_type": "markdown",
   "metadata": {},
   "source": [
    "# AxCaliber model with time-dependent zeppelin"
   ]
  },
  {
   "cell_type": "code",
   "execution_count": 2,
   "metadata": {
    "collapsed": false
   },
   "outputs": [],
   "source": [
    "from dmipy.signal_models import cylinder_models, gaussian_models\n",
    "from dmipy.distributions import distribute_models\n",
    "\n",
    "temporal_zeppelin = gaussian_models.G3TemporalZeppelin()\n",
    "cylinder = cylinder_models.C4CylinderGaussianPhaseApproximation()\n",
    "gamma_cylinder = distribute_models.DD1GammaDistributed(models=[cylinder])"
   ]
  },
  {
   "cell_type": "markdown",
   "metadata": {},
   "source": [
    "Then put the models together in a MultiCompartmentModel and display the parameters. Note that this model has a lot of parameters."
   ]
  },
  {
   "cell_type": "code",
   "execution_count": 3,
   "metadata": {
    "collapsed": false,
    "scrolled": true
   },
   "outputs": [
    {
     "data": {
      "text/plain": [
       "OrderedDict([('G3TemporalZeppelin_1_mu', 2),\n",
       "             ('DD1GammaDistributed_1_DD1Gamma_1_beta', 1),\n",
       "             ('G3TemporalZeppelin_1_lambda_inf', 1),\n",
       "             ('DD1GammaDistributed_1_C4CylinderGaussianPhaseApproximation_1_lambda_par',\n",
       "              1),\n",
       "             ('DD1GammaDistributed_1_C4CylinderGaussianPhaseApproximation_1_mu',\n",
       "              2),\n",
       "             ('G3TemporalZeppelin_1_A', 1),\n",
       "             ('DD1GammaDistributed_1_DD1Gamma_1_alpha', 1),\n",
       "             ('G3TemporalZeppelin_1_lambda_par', 1),\n",
       "             ('partial_volume_0', 1),\n",
       "             ('partial_volume_1', 1)])"
      ]
     },
     "execution_count": 3,
     "metadata": {},
     "output_type": "execute_result"
    }
   ],
   "source": [
    "from dmipy.core import modeling_framework\n",
    "temporal_AxCaliber = modeling_framework.MultiCompartmentModel(models=[temporal_zeppelin, gamma_cylinder])\n",
    "temporal_AxCaliber.parameter_cardinality"
   ]
  },
  {
   "cell_type": "markdown",
   "metadata": {},
   "source": [
    "The data we will fit is measured only along 2 gradients perpendicular to the fiber axis (along x and y axis). This means there is no data that provides information to fit parallel diffusivity \"lambda_par\" or the axon orientation \"mu\". \n",
    "\n",
    "So first, we make sure that the intra- and extra-axonal orientations are aligned and that their parallel diffusivities are equal by using the set_equal_parameter() :"
   ]
  },
  {
   "cell_type": "code",
   "execution_count": 4,
   "metadata": {
    "collapsed": false
   },
   "outputs": [],
   "source": [
    "temporal_AxCaliber.set_equal_parameter('G3TemporalZeppelin_1_mu','DD1GammaDistributed_1_C4CylinderGaussianPhaseApproximation_1_mu');\n",
    "temporal_AxCaliber.set_equal_parameter('G3TemporalZeppelin_1_lambda_par','DD1GammaDistributed_1_C4CylinderGaussianPhaseApproximation_1_lambda_par');"
   ]
  },
  {
   "cell_type": "markdown",
   "metadata": {},
   "source": [
    "Then to not fit these superfluous parameters, we fix the orientation mu along the z-axis and give lambda_par an arbitrary value (it will not affect the results). "
   ]
  },
  {
   "cell_type": "code",
   "execution_count": 5,
   "metadata": {
    "collapsed": false,
    "deletable": true,
    "editable": true
   },
   "outputs": [],
   "source": [
    "temporal_AxCaliber.set_fixed_parameter(\n",
    "    'G3TemporalZeppelin_1_lambda_par', 1.5e-9)\n",
    "temporal_AxCaliber.set_fixed_parameter(\n",
    "    'G3TemporalZeppelin_1_mu', [0, 0])"
   ]
  },
  {
   "cell_type": "markdown",
   "metadata": {
    "collapsed": true,
    "deletable": true,
    "editable": true
   },
   "source": [
    "# Load Monte Carlo simulated data"
   ]
  },
  {
   "cell_type": "code",
   "execution_count": 7,
   "metadata": {
    "collapsed": false
   },
   "outputs": [],
   "source": [
    "from dmipy.data import saved_data\n",
    "acquisition_scheme, signal = saved_data.de_santis_camino_data()"
   ]
  },
  {
   "cell_type": "markdown",
   "metadata": {},
   "source": [
    "Unlike De Santis et al who simulated STEAM acquistion scheme, we simulate a PGSE scheme considering their parameters: $\\delta = 17$ ms, $\\Delta = 48,60,80,100,120,140,160,180,195$ ms, 4 b-values $(500, 1000, 2000$ and $4000$ $s/mm^2$) and 2 unweighted images for each $\\Delta$."
   ]
  },
  {
   "cell_type": "code",
   "execution_count": 8,
   "metadata": {
    "collapsed": false
   },
   "outputs": [
    {
     "name": "stdout",
     "output_type": "stream",
     "text": [
      "Acquisition scheme summary\n",
      "\n",
      "total number of measurements: 54\n",
      "number of b0 measurements: 18\n",
      "number of DWI shells: 36\n",
      "\n",
      "shell_index |# of DWIs |bvalue [s/mm^2] |gradient strength [mT/m] |delta [ms] |Delta[ms] |TE[ms]\n",
      "0           |2         |0               |0                        |17.0       |48.0      |83.0 \n",
      "1           |1         |500             |23                       |17.0       |48.0      |83.0 \n",
      "2           |1         |999             |33                       |17.0       |48.0      |83.0 \n",
      "3           |1         |2000            |47                       |17.0       |48.0      |83.0 \n",
      "4           |1         |3999            |67                       |17.0       |48.0      |83.0 \n",
      "5           |2         |0               |0                        |17.0       |60.0      |95.0 \n",
      "6           |1         |500             |21                       |17.0       |60.0      |95.0 \n",
      "7           |1         |1000            |29                       |17.0       |60.0      |95.0 \n",
      "8           |1         |2000            |42                       |17.0       |60.0      |95.0 \n",
      "9           |1         |4000            |59                       |17.0       |60.0      |95.0 \n",
      "10          |2         |0               |0                        |17.0       |80.0      |115.0\n",
      "11          |1         |500             |18                       |17.0       |80.0      |115.0\n",
      "12          |1         |1000            |25                       |17.0       |80.0      |115.0\n",
      "13          |1         |2000            |36                       |17.0       |80.0      |115.0\n",
      "14          |1         |4000            |51                       |17.0       |80.0      |115.0\n",
      "15          |2         |0               |0                        |17.0       |100.0     |135.0\n",
      "16          |1         |499             |16                       |17.0       |100.0     |135.0\n",
      "17          |1         |1000            |22                       |17.0       |100.0     |135.0\n",
      "18          |1         |1999            |32                       |17.0       |100.0     |135.0\n",
      "19          |1         |4000            |45                       |17.0       |100.0     |135.0\n",
      "20          |2         |0               |0                        |17.0       |120.0     |155.0\n",
      "21          |1         |499             |14                       |17.0       |120.0     |155.0\n",
      "22          |1         |1000            |20                       |17.0       |120.0     |155.0\n",
      "23          |1         |1999            |29                       |17.0       |120.0     |155.0\n",
      "24          |1         |4000            |41                       |17.0       |120.0     |155.0\n",
      "25          |2         |0               |0                        |17.0       |140.0     |175.0\n",
      "26          |1         |500             |13                       |17.0       |140.0     |175.0\n",
      "27          |1         |999             |18                       |17.0       |140.0     |175.0\n",
      "28          |1         |2000            |26                       |17.0       |140.0     |175.0\n",
      "29          |1         |3999            |37                       |17.0       |140.0     |175.0\n",
      "30          |2         |0               |0                        |17.0       |160.0     |195.0\n",
      "31          |1         |500             |12                       |17.0       |160.0     |195.0\n",
      "32          |1         |1000            |17                       |17.0       |160.0     |195.0\n",
      "33          |1         |2000            |25                       |17.0       |160.0     |195.0\n",
      "34          |1         |4000            |35                       |17.0       |160.0     |195.0\n",
      "35          |2         |0               |0                        |17.0       |180.0     |215.0\n",
      "36          |1         |500             |11                       |17.0       |180.0     |215.0\n",
      "37          |1         |1000            |16                       |17.0       |180.0     |215.0\n",
      "38          |1         |2000            |23                       |17.0       |180.0     |215.0\n",
      "39          |1         |4000            |33                       |17.0       |180.0     |215.0\n",
      "40          |2         |0               |0                        |17.0       |195.0     |230.0\n",
      "41          |1         |500             |11                       |17.0       |195.0     |230.0\n",
      "42          |1         |1000            |15                       |17.0       |195.0     |230.0\n",
      "43          |1         |2000            |22                       |17.0       |195.0     |230.0\n",
      "44          |1         |4000            |31                       |17.0       |195.0     |230.0\n"
     ]
    }
   ],
   "source": [
    "acquisition_scheme.print_acquisition_info"
   ]
  },
  {
   "cell_type": "markdown",
   "metadata": {
    "collapsed": false,
    "deletable": true,
    "editable": true
   },
   "source": [
    "loading the simulated data ... To account for noise, 50 repetitions were generated, on which rician noise was added with SNR=30"
   ]
  },
  {
   "cell_type": "code",
   "execution_count": 9,
   "metadata": {
    "collapsed": false
   },
   "outputs": [
    {
     "data": {
      "text/plain": [
       "(50, 54)"
      ]
     },
     "execution_count": 9,
     "metadata": {},
     "output_type": "execute_result"
    }
   ],
   "source": [
    "signal.shape"
   ]
  },
  {
   "cell_type": "markdown",
   "metadata": {},
   "source": [
    "# Fit time-dependent AxCaliber model to simulated data"
   ]
  },
  {
   "cell_type": "code",
   "execution_count": 10,
   "metadata": {
    "collapsed": true
   },
   "outputs": [],
   "source": [
    "import numpy as np"
   ]
  },
  {
   "cell_type": "code",
   "execution_count": 11,
   "metadata": {
    "collapsed": false
   },
   "outputs": [
    {
     "name": "stdout",
     "output_type": "stream",
     "text": [
      "Using parallel processing with 4 workers.\n",
      "Setup MIX optimizer in 0.000157833099365 seconds\n",
      "Fitting of 50 voxels complete in 513.877308846 seconds.\n",
      "Average of 10.2775461769 seconds per voxel.\n"
     ]
    }
   ],
   "source": [
    "temporal_AxCaliber_fit = temporal_AxCaliber.fit(\n",
    "    acquisition_scheme, np.atleast_2d(signal), solver='mix', \n",
    "    maxiter=100, use_parallel_processing=True)"
   ]
  },
  {
   "cell_type": "code",
   "execution_count": 12,
   "metadata": {
    "collapsed": true
   },
   "outputs": [],
   "source": [
    "A_s = temporal_AxCaliber_fit.fitted_parameters['G3TemporalZeppelin_1_A']\n",
    "fr_s = temporal_AxCaliber_fit.fitted_parameters['partial_volume_0']\n",
    "D_inf_s = temporal_AxCaliber_fit.fitted_parameters['G3TemporalZeppelin_1_lambda_inf']\n",
    "alpha_s = temporal_AxCaliber_fit.fitted_parameters['DD1GammaDistributed_1_DD1Gamma_1_alpha']\n",
    "beta_s = temporal_AxCaliber_fit.fitted_parameters['DD1GammaDistributed_1_DD1Gamma_1_beta']"
   ]
  },
  {
   "cell_type": "markdown",
   "metadata": {},
   "source": [
    "# Visualize fitted parameters"
   ]
  },
  {
   "cell_type": "code",
   "execution_count": 13,
   "metadata": {
    "collapsed": true
   },
   "outputs": [],
   "source": [
    "from scipy import stats\n",
    "%matplotlib inline\n",
    "import matplotlib.pyplot as plt"
   ]
  },
  {
   "cell_type": "code",
   "execution_count": 55,
   "metadata": {
    "collapsed": true
   },
   "outputs": [],
   "source": [
    "A_kernel = stats.gaussian_kde(A_s)\n",
    "D_inf_kernel = stats.gaussian_kde(D_inf_s)\n",
    "AD_s = 2 * alpha_s * beta_s\n",
    "AD_kernel = stats.gaussian_kde(AD_s)\n",
    "fr_kernel = stats.gaussian_kde(fr_s)\n",
    "\n",
    "ind_A = np.linspace(A_s.min(), A_s.max(), 50)\n",
    "ind_D_inf = np.linspace(D_inf_s.min(), D_inf_s.max(), 50)\n",
    "ind_AD = np.linspace(AD_s.min(), AD_s.max(), 50)\n",
    "ind_fr = np.linspace(fr_s.min(), fr_s.max(), 50)"
   ]
  },
  {
   "cell_type": "markdown",
   "metadata": {},
   "source": [
    "We use the gaussian_kde function to show the distribution of the fitted parameters. For each figure, the red vertical line is the ground truth while the green vertical one represents the mean value of the estimated parameter."
   ]
  },
  {
   "cell_type": "code",
   "execution_count": 106,
   "metadata": {
    "collapsed": false
   },
   "outputs": [
    {
     "data": {
      "image/png": "[encoded data removed]",
      "text/plain": [
       "<matplotlib.figure.Figure at 0x10f3c3c10>"
      ]
     },
     "metadata": {},
     "output_type": "display_data"
    }
   ],
   "source": [
    "plt.title('Axonal density', fontsize=15)\n",
    "plt.plot(ind_fr, fr_kernel(ind_fr))\n",
    "plt.axvline(fr_s.mean(), c='g', label='mean $f_r$ = '+str(np.round(fr_s.mean(), 2)))\n",
    "plt.axvline(0.79, c='r', label='true = 0.79')\n",
    "plt.ylabel('Probability density', fontsize=15)\n",
    "plt.xlabel('$f_r$', fontsize=15)\n",
    "plt.legend(fontsize=15, loc=2)\n",
    "plt.show()"
   ]
  },
  {
   "cell_type": "code",
   "execution_count": 123,
   "metadata": {
    "collapsed": false
   },
   "outputs": [
    {
     "data": {
      "image/png": "[encoded data removed]",
      "text/plain": [
       "<matplotlib.figure.Figure at 0x10f3be1d0>"
      ]
     },
     "metadata": {},
     "output_type": "display_data"
    }
   ],
   "source": [
    "plt.plot(ind_A*1e12, kernel(ind)*1e12)\n",
    "plt.axvline(A_s.mean()*1e12, c='g', label='mean $A$ = '+str(np.round(A_s.mean()*1e12, 2)))\n",
    "plt.ylabel('Probability density', fontsize=15)\n",
    "plt.xlabel('A [$mm^2$]', fontsize=15)\n",
    "plt.title('Characteristic coefficient A', fontsize=15)\n",
    "plt.legend(fontsize=15)\n",
    "plt.show()"
   ]
  },
  {
   "cell_type": "code",
   "execution_count": 133,
   "metadata": {
    "collapsed": false
   },
   "outputs": [
    {
     "data": {
      "image/png": "[encoded data removed]",
      "text/plain": [
       "<matplotlib.figure.Figure at 0x10a28d9d0>"
      ]
     },
     "metadata": {},
     "output_type": "display_data"
    }
   ],
   "source": [
    "plt.title('Bulk diffusion constant', fontsize=15)\n",
    "plt.plot(ind2*1e9, kernel2(ind2)*1e9)\n",
    "plt.axvline(D_inf_s.mean()*1e9, c='g', label='mean $D_{\\infty}$ = '+str(np.round(D_inf_s.mean()*1e9, 2)))\n",
    "plt.ylabel('Probability density', fontsize=15)\n",
    "plt.xlabel('$D_{\\infty}$  [$mm^2/s$]', fontsize=15)\n",
    "plt.legend(fontsize=15)\n",
    "plt.show()"
   ]
  },
  {
   "cell_type": "markdown",
   "metadata": {},
   "source": [
    "Our results are comparable to De Santis et al results (of the 3rd simulation presented in table 1). Indeed,\n",
    "the mean of the estmated axonal density $f_r$ is close to the ground truth, however, with this scheme, the axonal diameter is badly estimated.\n",
    "As for the characteristic coefficient A, the estimated value is very close to De Santis et al, while its variance is a bit larger. And the mean of the estimated bulk diffision constant $D_{\\infty}$ is 3 times bigger. Further study is needed to explain the differences between De Santis et al's findings and ours."
   ]
  },
  {
   "cell_type": "markdown",
   "metadata": {
    "collapsed": true
   },
   "source": [
    "## References\n",
    "- Assaf, Yaniv, et al. \"AxCaliber: a method for measuring axon diameter distribution from diffusion MRI.\" Magnetic resonance in medicine 59.6 (2008): 1347-1354.\n",
    "- Novikov, Dmitry S., et al. \"Revealing mesoscopic structural universality with diffusion.\" Proceedings of the National Academy of Sciences 111.14 (2014): 5088-5093.\n",
    "- Huang, Susie Y., et al. \"The impact of gradient strength on in vivo diffusion MRI estimates of axon diameter.\" NeuroImage 106 (2015): 464-472.\n",
    "- Burcaw, Lauren M., Els Fieremans, and Dmitry S. Novikov. \"Mesoscopic structure of neuronal tracts from time-dependent diffusion.\" NeuroImage 114 (2015): 18-37.\n",
    "- De Santis, Silvia, Derek K. Jones, and Alard Roebroeck. \"Including diffusion time dependence in the extra-axonal space improves in vivo estimates of axonal diameter and density in human white matter.\" NeuroImage 130 (2016): 91-103.\n"
   ]
  }
 ],
 "metadata": {
  "kernelspec": {
   "display_name": "Python [Root]",
   "language": "python",
   "name": "Python [Root]"
  },
  "language_info": {
   "codemirror_mode": {
    "name": "ipython",
    "version": 2
   },
   "file_extension": ".py",
   "mimetype": "text/x-python",
   "name": "python",
   "nbconvert_exporter": "python",
   "pygments_lexer": "ipython2",
   "version": "2.7.11"
  }
 },
 "nbformat": 4,
 "nbformat_minor": 2
}
