{
 "cells": [
  {
   "cell_type": "markdown",
   "metadata": {
    "deletable": true,
    "editable": true
   },
   "source": [
    "# AxCaliber with time-dependent zeppelin\n",
    "\n",
    "\n",
    "\\begin{equation}\n",
    "E_{\\textrm{AxCaliber}}^{\\textrm{Temporal}}= \\underbrace{(1-f_r)\\overbrace{E_h(b,\\textbf{n},\\lambda_\\parallel,D_{\\infty},A)}^{\\textrm{Zeppelin}}}_{\\textrm{Extra-Axonal}} + \\underbrace{f_r \\overbrace{\\Gamma(\\alpha,\\beta)}^{\\textrm{Gamma Distribution}}*_{\\mathbb{R}}\\overbrace{E_r(\\cdot|D_\\perp)}^{\\textrm{Cylinder}}}_{\\textrm{Intra-Axonal}}\n",
    "\\end{equation}\n"
   ]
  },
  {
   "cell_type": "markdown",
   "metadata": {},
   "source": [
    "\n",
    "\n",
    "\\begin{equation}\n",
    " E_h(b,\\textbf{n},\\lambda_\\parallel,D_{\\infty},A)=\\exp(-b\\textbf{n}^T(\\textbf{R}\\textbf{D}^h_{\\textrm{diag}}\\textbf{R}^T)\\textbf{n})\\quad\\textrm{with}\\quad\n",
    " \\textbf{D}^h_{\\textrm{diag}}=\n",
    "\\begin{pmatrix}\n",
    "  \\lambda_\\parallel & 0 & 0  \\\\\n",
    "  0 & D_{\\infty}+A\\frac{\\ln(\\Delta/\\delta)+3/2}{\\Delta-\\delta/3} & 0  \\\\\n",
    "  0  & 0  & D_{\\infty}+A\\frac{\\ln(\\Delta/\\delta)+3/2}{\\Delta-\\delta/3}\n",
    " \\end{pmatrix}\n",
    "\\end{equation}"
   ]
  },
  {
   "cell_type": "markdown",
   "metadata": {},
   "source": [
    "# AxCaliber model with time-dependent zeppelin"
   ]
  },
  {
   "cell_type": "code",
   "execution_count": 5,
   "metadata": {
    "collapsed": true
   },
   "outputs": [],
   "source": [
    "from dmipy.signal_models import cylinder_models, gaussian_models\n",
    "from dmipy.distributions import distribute_models\n",
    "\n",
    "temporal_zeppelin = gaussian_models.G3TemporalZeppelin()\n",
    "cylinder = cylinder_models.C4CylinderGaussianPhaseApproximation()\n",
    "gamma_cylinder = distribute_models.DD1GammaDistributed(models=[cylinder])"
   ]
  },
  {
   "cell_type": "markdown",
   "metadata": {},
   "source": [
    "Then put the models together in a MultiCompartmentModel and display the parameters"
   ]
  },
  {
   "cell_type": "code",
   "execution_count": 6,
   "metadata": {
    "collapsed": false,
    "scrolled": true
   },
   "outputs": [
    {
     "data": {
      "text/plain": [
       "OrderedDict([('G3TemporalZeppelin_1_mu', 2),\n",
       "             ('DD1GammaDistributed_1_DD1Gamma_1_beta', 1),\n",
       "             ('G3TemporalZeppelin_1_lambda_inf', 1),\n",
       "             ('DD1GammaDistributed_1_C4CylinderGaussianPhaseApproximation_1_lambda_par',\n",
       "              1),\n",
       "             ('DD1GammaDistributed_1_C4CylinderGaussianPhaseApproximation_1_mu',\n",
       "              2),\n",
       "             ('G3TemporalZeppelin_1_A', 1),\n",
       "             ('DD1GammaDistributed_1_DD1Gamma_1_alpha', 1),\n",
       "             ('G3TemporalZeppelin_1_lambda_par', 1),\n",
       "             ('partial_volume_0', 1),\n",
       "             ('partial_volume_1', 1)])"
      ]
     },
     "execution_count": 6,
     "metadata": {},
     "output_type": "execute_result"
    }
   ],
   "source": [
    "from dmipy.core import modeling_framework\n",
    "temporal_AxCaliber = modeling_framework.MultiCompartmentModel(models=[temporal_zeppelin, gamma_cylinder])\n",
    "temporal_AxCaliber.parameter_cardinality"
   ]
  },
  {
   "cell_type": "markdown",
   "metadata": {},
   "source": [
    "The data we will fit is measured only along 2 gradients perpendicular to the fiber axis (along x and y axis). This means there is no data that provides information to fit parallel diffusivity \"lambda_par\" or the axon orientation \"mu\". To not fit these superfluous parameters we fix mu along the z-axis and give lambda_par an arbitrary value (it will not affect the results)."
   ]
  },
  {
   "cell_type": "code",
   "execution_count": 7,
   "metadata": {
    "collapsed": false,
    "deletable": true,
    "editable": true
   },
   "outputs": [],
   "source": [
    "temporal_AxCaliber.set_fixed_parameter(\n",
    "    'G3TemporalZeppelin_1_lambda_par', 1.5e-9)\n",
    "temporal_AxCaliber.set_fixed_parameter(\n",
    "    'G3TemporalZeppelin_1_mu', [0, 0])\n",
    "temporal_AxCaliber.set_fixed_parameter(\n",
    "    'DD1GammaDistributed_1_C4CylinderGaussianPhaseApproximation_1_lambda_par', 1.5e-9)\n",
    "temporal_AxCaliber.set_fixed_parameter(\n",
    "    'DD1GammaDistributed_1_C4CylinderGaussianPhaseApproximation_1_mu', [0, 0])"
   ]
  },
  {
   "cell_type": "markdown",
   "metadata": {
    "collapsed": true,
    "deletable": true,
    "editable": true
   },
   "source": [
    "# Load Monte Carlo simulated data"
   ]
  },
  {
   "cell_type": "code",
   "execution_count": 34,
   "metadata": {
    "collapsed": true
   },
   "outputs": [],
   "source": [
    "from dmipy.data import saved_data\n",
    "#scheme_spinal_cord, data_spinal_cord = saved_data.duval_cat_spinal_cord_2d()"
   ]
  },
  {
   "cell_type": "code",
   "execution_count": 35,
   "metadata": {
    "collapsed": true
   },
   "outputs": [],
   "source": [
    "scheme_, data_ = saved_data.deSantis_camino_data()"
   ]
  },
  {
   "cell_type": "code",
   "execution_count": 36,
   "metadata": {
    "collapsed": false
   },
   "outputs": [
    {
     "name": "stdout",
     "output_type": "stream",
     "text": [
      "Acquisition scheme summary\n",
      "\n",
      "total number of measurements: 53\n",
      "number of b0 measurements: 17\n",
      "number of DWI shells: 36\n",
      "\n",
      "shell_index |# of DWIs |bvalue [s/mm^2] |gradient strength [mT/m] |delta [ms] |Delta[ms] |TE[ms]\n",
      "0           |1         |0               |0                        |17.0       |48.0      |83.0 \n",
      "1           |1         |500             |23                       |17.0       |48.0      |83.0 \n",
      "2           |1         |999             |33                       |17.0       |48.0      |83.0 \n",
      "3           |1         |2000            |47                       |17.0       |48.0      |83.0 \n",
      "4           |1         |3999            |67                       |17.0       |48.0      |83.0 \n",
      "5           |2         |0               |0                        |17.0       |60.0      |95.0 \n",
      "6           |1         |499             |21                       |17.0       |60.0      |95.0 \n",
      "7           |1         |1000            |29                       |17.0       |60.0      |95.0 \n",
      "8           |1         |1999            |42                       |17.0       |60.0      |95.0 \n",
      "9           |1         |4000            |59                       |17.0       |60.0      |95.0 \n",
      "10          |2         |0               |0                        |17.0       |80.0      |115.0\n",
      "11          |1         |500             |18                       |17.0       |80.0      |115.0\n",
      "12          |1         |1000            |25                       |17.0       |80.0      |115.0\n",
      "13          |1         |2000            |36                       |17.0       |80.0      |115.0\n",
      "14          |1         |4000            |51                       |17.0       |80.0      |115.0\n",
      "15          |2         |0               |0                        |17.0       |100.0     |135.0\n",
      "16          |1         |499             |16                       |17.0       |100.0     |135.0\n",
      "17          |1         |1000            |22                       |17.0       |100.0     |135.0\n",
      "18          |1         |1999            |32                       |17.0       |100.0     |135.0\n",
      "19          |1         |4000            |45                       |17.0       |100.0     |135.0\n",
      "20          |2         |0               |0                        |17.0       |120.0     |155.0\n",
      "21          |1         |499             |14                       |17.0       |120.0     |155.0\n",
      "22          |1         |999             |20                       |17.0       |120.0     |155.0\n",
      "23          |1         |1999            |29                       |17.0       |120.0     |155.0\n",
      "24          |1         |3999            |41                       |17.0       |120.0     |155.0\n",
      "25          |2         |0               |0                        |17.0       |140.0     |175.0\n",
      "26          |1         |500             |13                       |17.0       |140.0     |175.0\n",
      "27          |1         |999             |18                       |17.0       |140.0     |175.0\n",
      "28          |1         |2000            |26                       |17.0       |140.0     |175.0\n",
      "29          |1         |3999            |37                       |17.0       |140.0     |175.0\n",
      "30          |2         |0               |0                        |17.0       |160.0     |195.0\n",
      "31          |1         |500             |12                       |17.0       |160.0     |195.0\n",
      "32          |1         |1000            |17                       |17.0       |160.0     |195.0\n",
      "33          |1         |2000            |25                       |17.0       |160.0     |195.0\n",
      "34          |1         |4000            |35                       |17.0       |160.0     |195.0\n",
      "35          |2         |0               |0                        |17.0       |180.0     |215.0\n",
      "36          |1         |500             |11                       |17.0       |180.0     |215.0\n",
      "37          |1         |1000            |16                       |17.0       |180.0     |215.0\n",
      "38          |1         |2000            |23                       |17.0       |180.0     |215.0\n",
      "39          |1         |4000            |33                       |17.0       |180.0     |215.0\n",
      "40          |2         |0               |0                        |17.0       |195.0     |230.0\n",
      "41          |1         |500             |11                       |17.0       |195.0     |230.0\n",
      "42          |1         |1000            |15                       |17.0       |195.0     |230.0\n",
      "43          |1         |2000            |22                       |17.0       |195.0     |230.0\n",
      "44          |1         |4000            |31                       |17.0       |195.0     |230.0\n"
     ]
    }
   ],
   "source": [
    "scheme_.print_acquisition_info"
   ]
  },
  {
   "cell_type": "markdown",
   "metadata": {},
   "source": [
    "We reproduce a PGSE acquisition scheme si based on De Santis STEAM acquistion scheme..."
   ]
  },
  {
   "cell_type": "markdown",
   "metadata": {
    "collapsed": false,
    "deletable": true,
    "editable": true
   },
   "source": [
    "loading the simulated data ... For our configuration, 50 repetitions were generated, on which rician noise was added with SNR=30"
   ]
  },
  {
   "cell_type": "code",
   "execution_count": 38,
   "metadata": {
    "collapsed": false
   },
   "outputs": [
    {
     "data": {
      "text/plain": [
       "(50, 54)"
      ]
     },
     "execution_count": 38,
     "metadata": {},
     "output_type": "execute_result"
    }
   ],
   "source": [
    "data_.shape"
   ]
  },
  {
   "cell_type": "markdown",
   "metadata": {},
   "source": [
    "# Fit time-dependent AxCaliber model to simulated data"
   ]
  },
  {
   "cell_type": "code",
   "execution_count": 12,
   "metadata": {
    "collapsed": false
   },
   "outputs": [
    {
     "name": "stdout",
     "output_type": "stream",
     "text": [
      "Using parallel processing with 4 workers.\n",
      "Setup MIX optimizer in 5.72204589844e-05 seconds\n",
      "Fitting of 50 voxels complete in 752.048654079 seconds.\n",
      "Average of 15.0409730816 seconds per voxel.\n"
     ]
    }
   ],
   "source": [
    "temporal_AxCaliber_fit = temporal_AxCaliber.fit(\n",
    "    acquisition_scheme, np.atleast_2d(generated_signal), solver='mix', \n",
    "    maxiter=100, use_parallel_processing=True)"
   ]
  },
  {
   "cell_type": "code",
   "execution_count": 13,
   "metadata": {
    "collapsed": false
   },
   "outputs": [
    {
     "data": {
      "text/plain": [
       "{'DD1GammaDistributed_1_DD1Gamma_1_alpha': array([ 11.71691344,  29.99996639,   0.59413706,  22.03533648,\n",
       "          6.3750363 ,   1.71542792,  17.64274369,   6.796168  ,\n",
       "         10.9576752 ,   0.39249578,  30.        ,   6.33258956,\n",
       "         15.96886754,  27.75734593,   1.27360472,  11.5772134 ,\n",
       "          1.32061208,  10.32329497,   6.7892918 ,  30.        ,\n",
       "         30.        ,   4.30294986,   0.9464993 ,   0.44885595,\n",
       "         22.44853162,   0.1       ,   1.1581099 ,  29.99998885,\n",
       "          6.31838761,  30.        ,  16.76993216,  17.63949051,\n",
       "          3.14832868,   3.07701092,   0.72256856,  15.7943821 ,\n",
       "         14.53866174,   8.15638063,  15.23014878,   0.57755865,\n",
       "          0.14381948,  29.46453156,   1.63303866,   2.68075589,\n",
       "          0.38841089,  29.99992325,   8.05405672,  27.53217344,\n",
       "          6.19974924,   0.21657462]),\n",
       " 'DD1GammaDistributed_1_DD1Gamma_1_beta': array([  3.43975212e-09,   1.35879413e-07,   7.18127062e-07,\n",
       "          1.05466663e-08,   3.40952166e-08,   7.86939089e-08,\n",
       "          1.00000000e-09,   7.97304874e-09,   2.55737115e-07,\n",
       "          8.50686117e-08,   1.73134804e-07,   1.69331904e-08,\n",
       "          2.96137805e-09,   2.69747384e-09,   7.29550041e-08,\n",
       "          3.43731038e-07,   1.45341012e-08,   3.14442156e-07,\n",
       "          7.94231236e-09,   1.38271802e-07,   1.97830096e-07,\n",
       "          1.58886147e-08,   5.28463332e-08,   2.39964076e-08,\n",
       "          1.00000000e-09,   1.43356285e-06,   3.04321980e-08,\n",
       "          1.52445043e-07,   4.47999083e-09,   1.53703845e-07,\n",
       "          1.56485698e-07,   1.97843136e-07,   1.21432433e-08,\n",
       "          8.32300327e-09,   1.65336165e-08,   1.95115218e-07,\n",
       "          1.00000000e-09,   9.05173168e-09,   1.89864860e-09,\n",
       "          1.89960929e-08,   9.75434942e-09,   9.27255725e-08,\n",
       "          1.13948340e-08,   9.37128772e-09,   1.96455942e-08,\n",
       "          1.39295387e-07,   2.72789610e-07,   1.32010509e-07,\n",
       "          8.97516497e-09,   1.25198200e-07]),\n",
       " 'G3TemporalZeppelin_1_A': array([  0.00000000e+00,   0.00000000e+00,   0.00000000e+00,\n",
       "          4.35097804e-12,   0.00000000e+00,   0.00000000e+00,\n",
       "          8.28107604e-12,   2.11814821e-13,   0.00000000e+00,\n",
       "          3.99658139e-12,   0.00000000e+00,   1.16596831e-12,\n",
       "          0.00000000e+00,   0.00000000e+00,   0.00000000e+00,\n",
       "          0.00000000e+00,   3.49114248e-12,   8.92549194e-13,\n",
       "          0.00000000e+00,   0.00000000e+00,   0.00000000e+00,\n",
       "          0.00000000e+00,   7.30537430e-13,   9.97458466e-12,\n",
       "          0.00000000e+00,   2.23978907e-12,   1.35496747e-16,\n",
       "          2.62059703e-12,   9.29452815e-12,   0.00000000e+00,\n",
       "          2.59767673e-12,   0.00000000e+00,   0.00000000e+00,\n",
       "          0.00000000e+00,   2.10435315e-12,   3.50981455e-12,\n",
       "          0.00000000e+00,   2.46363729e-12,   0.00000000e+00,\n",
       "          0.00000000e+00,   0.00000000e+00,   0.00000000e+00,\n",
       "          6.61013358e-12,   0.00000000e+00,   1.30771303e-12,\n",
       "          0.00000000e+00,   0.00000000e+00,   8.41639241e-13,\n",
       "          1.05290409e-12,   0.00000000e+00]),\n",
       " 'G3TemporalZeppelin_1_lambda_inf': array([  1.26591569e-09,   1.34090465e-09,   1.12731783e-09,\n",
       "          1.01325970e-09,   1.28181856e-09,   1.22538731e-09,\n",
       "          9.80466253e-10,   1.20893751e-09,   1.23593193e-09,\n",
       "          1.03359815e-09,   1.32652176e-09,   1.23224872e-09,\n",
       "          1.12997184e-09,   1.20721891e-09,   1.26327212e-09,\n",
       "          1.33278753e-09,   1.07829142e-09,   1.13620588e-09,\n",
       "          1.20818167e-09,   1.32832659e-09,   1.41831312e-09,\n",
       "          1.29703169e-09,   1.18646781e-09,   8.29754831e-10,\n",
       "          1.15537985e-09,   1.16394917e-09,   1.26973196e-09,\n",
       "          1.22539589e-09,   8.25738494e-10,   1.33190429e-09,\n",
       "          1.09626864e-09,   1.20808779e-09,   1.11967924e-09,\n",
       "          1.17305493e-09,   1.00799937e-09,   1.12116674e-09,\n",
       "          1.14527909e-09,   1.19092685e-09,   1.24258032e-09,\n",
       "          1.14494799e-09,   1.16086737e-09,   1.23195041e-09,\n",
       "          9.66349948e-10,   1.22210074e-09,   1.22452012e-09,\n",
       "          1.31655567e-09,   1.21797062e-09,   1.15907784e-09,\n",
       "          1.11152070e-09,   1.12874531e-09]),\n",
       " 'partial_volume_0': array([ 0.78853901,  0.7534144 ,  0.79722   ,  0.7901705 ,  0.78556653,\n",
       "         0.78417256,  0.78277533,  0.78936229,  0.77527378,  0.80082202,\n",
       "         0.74804925,  0.78417116,  0.79827883,  0.79262073,  0.78120001,\n",
       "         0.7600549 ,  0.79328934,  0.78963275,  0.78126837,  0.76126613,\n",
       "         0.71459155,  0.78574984,  0.79950675,  0.79433096,  0.79319368,\n",
       "         0.77180709,  0.78549917,  0.74771961,  0.79445977,  0.76240573,\n",
       "         0.78583794,  0.78826758,  0.79197272,  0.7961415 ,  0.81164645,\n",
       "         0.78045631,  0.80074272,  0.78548335,  0.76875637,  0.80353575,\n",
       "         0.79874375,  0.78023339,  0.77999965,  0.78575904,  0.77947421,\n",
       "         0.77144935,  0.78522001,  0.80138245,  0.79256314,  0.80748673]),\n",
       " 'partial_volume_1': array([ 0.21146099,  0.2465856 ,  0.20278   ,  0.2098295 ,  0.21443347,\n",
       "         0.21582744,  0.21722467,  0.21063771,  0.22472622,  0.19917798,\n",
       "         0.25195075,  0.21582884,  0.20172117,  0.20737927,  0.21879999,\n",
       "         0.2399451 ,  0.20671066,  0.21036725,  0.21873163,  0.23873387,\n",
       "         0.28540845,  0.21425016,  0.20049325,  0.20566904,  0.20680632,\n",
       "         0.22819291,  0.21450083,  0.25228039,  0.20554023,  0.23759427,\n",
       "         0.21416206,  0.21173242,  0.20802728,  0.2038585 ,  0.18835355,\n",
       "         0.21954369,  0.19925728,  0.21451665,  0.23124363,  0.19646425,\n",
       "         0.20125625,  0.21976661,  0.22000035,  0.21424096,  0.22052579,\n",
       "         0.22855065,  0.21477999,  0.19861755,  0.20743686,  0.19251327])}"
      ]
     },
     "execution_count": 13,
     "metadata": {},
     "output_type": "execute_result"
    }
   ],
   "source": [
    "temporal_AxCaliber_fit.fitted_parameters"
   ]
  },
  {
   "cell_type": "code",
   "execution_count": 14,
   "metadata": {
    "collapsed": true
   },
   "outputs": [],
   "source": [
    "A_s = temporal_AxCaliber_fit.fitted_parameters['G3TemporalZeppelin_1_A']\n",
    "D_inf_s = temporal_AxCaliber_fit.fitted_parameters['G3TemporalZeppelin_1_lambda_inf']\n",
    "alpha_s = temporal_AxCaliber_fit.fitted_parameters['DD1GammaDistributed_1_DD1Gamma_1_alpha']\n",
    "beta_s = temporal_AxCaliber_fit.fitted_parameters['DD1GammaDistributed_1_DD1Gamma_1_beta']"
   ]
  },
  {
   "cell_type": "code",
   "execution_count": 15,
   "metadata": {
    "collapsed": false
   },
   "outputs": [
    {
     "data": {
      "text/plain": [
       "(1.3547630753944138, 2.4543176199101562)"
      ]
     },
     "execution_count": 15,
     "metadata": {},
     "output_type": "execute_result"
    }
   ],
   "source": [
    "A_s.mean()*1e12, A_s.std()*1e12"
   ]
  },
  {
   "cell_type": "code",
   "execution_count": 16,
   "metadata": {
    "collapsed": false
   },
   "outputs": [
    {
     "data": {
      "text/plain": [
       "(1.1769976165665323, 0.11982352108982226)"
      ]
     },
     "execution_count": 16,
     "metadata": {},
     "output_type": "execute_result"
    }
   ],
   "source": [
    "D_inf_s.mean()*1e9, D_inf_s.std()*1e9"
   ]
  },
  {
   "cell_type": "code",
   "execution_count": 17,
   "metadata": {
    "collapsed": false
   },
   "outputs": [
    {
     "data": {
      "text/plain": [
       "(2.5101838659918734, 3.6395169863865213)"
      ]
     },
     "execution_count": 17,
     "metadata": {},
     "output_type": "execute_result"
    }
   ],
   "source": [
    "np.mean(alpha_s * beta_s * 2e6), np.std(alpha_s * beta_s * 2e6)"
   ]
  },
  {
   "cell_type": "markdown",
   "metadata": {},
   "source": [
    "# Visualize fitted parameters"
   ]
  },
  {
   "cell_type": "code",
   "execution_count": 18,
   "metadata": {
    "collapsed": true
   },
   "outputs": [],
   "source": [
    "from scipy import stats\n",
    "%matplotlib inline\n",
    "import matplotlib.pyplot as plt"
   ]
  },
  {
   "cell_type": "code",
   "execution_count": 19,
   "metadata": {
    "collapsed": true
   },
   "outputs": [],
   "source": [
    "kernel = stats.gaussian_kde(A_s)\n",
    "kernel2 = stats.gaussian_kde(D_inf_s)"
   ]
  },
  {
   "cell_type": "code",
   "execution_count": 31,
   "metadata": {
    "collapsed": true
   },
   "outputs": [],
   "source": [
    "ind = np.linspace(A_s.min(), A_s.max(), 50)\n",
    "ind2 = np.linspace(D_inf_s.min(), D_inf_s.max(), 50)"
   ]
  },
  {
   "cell_type": "code",
   "execution_count": 32,
   "metadata": {
    "collapsed": false
   },
   "outputs": [
    {
     "data": {
      "image/png": "[encoded data removed]",
      "text/plain": [
       "<matplotlib.figure.Figure at 0x7f5b877f57d0>"
      ]
     },
     "metadata": {},
     "output_type": "display_data"
    }
   ],
   "source": [
    "plt.plot(kernel.evaluate(ind))\n",
    "plt.show()"
   ]
  },
  {
   "cell_type": "code",
   "execution_count": 33,
   "metadata": {
    "collapsed": false,
    "deletable": true,
    "editable": true
   },
   "outputs": [
    {
     "data": {
      "image/png": "[encoded data removed]",
      "text/plain": [
       "<matplotlib.figure.Figure at 0x7f5b8747eed0>"
      ]
     },
     "metadata": {},
     "output_type": "display_data"
    }
   ],
   "source": [
    "plt.plot(kernel2.evaluate(ind2))\n",
    "plt.show()"
   ]
  },
  {
   "cell_type": "code",
   "execution_count": null,
   "metadata": {
    "collapsed": true
   },
   "outputs": [],
   "source": []
  }
 ],
 "metadata": {
  "kernelspec": {
   "display_name": "Python 2",
   "language": "python",
   "name": "python2"
  },
  "language_info": {
   "codemirror_mode": {
    "name": "ipython",
    "version": 2
   },
   "file_extension": ".py",
   "mimetype": "text/x-python",
   "name": "python",
   "nbconvert_exporter": "python",
   "pygments_lexer": "ipython2",
   "version": "2.7.13"
  }
 },
 "nbformat": 4,
 "nbformat_minor": 2
}
