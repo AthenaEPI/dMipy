{
 "cells": [
  {
   "cell_type": "markdown",
   "metadata": {},
   "source": [
    "# AxCaliber with time-dependent zeppelin\n",
    "\n",
    "In this example, we use the AxCaliber method *(Assaf et al. 2008)* presented in a previous example while including the diffusion time-dependency of the extra-axonal space *(Novikov et al. 2014, Burcaw et al. 2015)*. \n",
    "\n",
    "\n",
    "The signal representation is \n",
    "\n",
    "\n",
    "\\begin{equation}\n",
    "E_{\\textrm{AxCaliber}}^{\\textrm{Temporal}}= \\underbrace{(1-f_r)\\overbrace{E_h(b,\\textbf{n},\\lambda_\\parallel,D_{\\infty},A)}^{\\textrm{GPA-Zeppelin}}}_{\\textrm{Extra-Axonal}} + \\underbrace{f_r \\overbrace{\\Gamma(\\alpha,\\beta)}^{\\textrm{Gamma Distribution}}*_{\\mathbb{R}}\\overbrace{E_r(\\cdot|D_\\perp)}^{\\textrm{Cylinder}}}_{\\textrm{Intra-Axonal}}\n",
    "\\end{equation}\n"
   ]
  },
  {
   "cell_type": "markdown",
   "metadata": {},
   "source": [
    "where the cylinder was initially represented using the Callaghan model, but was later replaced with the more general Van Gelderen model *(Huang et al. 2015, De Santis et al. 2016)*. The initial Ball, which accounted for the extra-axonal signal, is replaced by the time-dependent Zeppelin *(De Santis et al, 2016)*. The formulation of the time-dependent Zeppelin is as follows:\n",
    "\n",
    "\\begin{equation}\n",
    " E_h(b,\\textbf{n},\\lambda_\\parallel,D_{\\infty},A)=\\exp(-b\\textbf{n}^T(\\textbf{R}\\textbf{D}^h_{\\textrm{diag}}\\textbf{R}^T)\\textbf{n})\\quad\\textrm{with}\\quad\n",
    " \\textbf{D}^h_{\\textrm{diag}}=\n",
    "\\begin{pmatrix}\n",
    "  \\lambda_\\parallel & 0 & 0  \\\\\n",
    "  0 & D_{\\infty}+A\\frac{\\ln(\\Delta/\\delta)+3/2}{\\Delta-\\delta/3} & 0  \\\\\n",
    "  0  & 0  & D_{\\infty}+A\\frac{\\ln(\\Delta/\\delta)+3/2}{\\Delta-\\delta/3}\n",
    " \\end{pmatrix}\n",
    "\\end{equation}"
   ]
  },
  {
   "cell_type": "markdown",
   "metadata": {},
   "source": [
    "here the perpendicular diffusivity is now dependent on $\\Delta$ and $\\delta$, with $D_{\\infty}$ the bulk diffusion constant and $A$ a characteristic coefficient for extra-axonal hindrence.\n",
    "\n",
    "Our goal here is to reproduce the Monte Carlo simulations presented in *(De Santis et al, 2016)*, where they investigated the impact of including extra-axonal hindrence through the temporal zeppelin on axonal density and diameter estimation."
   ]
  },
  {
   "cell_type": "markdown",
   "metadata": {},
   "source": [
    "# AxCaliber model with time-dependent zeppelin"
   ]
  },
  {
   "cell_type": "markdown",
   "metadata": {},
   "source": [
    "Using Dmipy, we can construct the time-dependent version of AxCaliber by calling `G3TemporalZeppelin` instead of the previously used `G1Ball`.  \n",
    "As before, the Gamma-distributed Gaussian-Phase cylinders are instantiated by first calling the cylinder model, and then using it as input for the GammaDistributed model."
   ]
  },
  {
   "cell_type": "code",
   "execution_count": 1,
   "metadata": {},
   "outputs": [],
   "source": [
    "from dmipy.signal_models import cylinder_models, gaussian_models\n",
    "from dmipy.distributions import distribute_models\n",
    "\n",
    "temporal_zeppelin = gaussian_models.G3TemporalZeppelin()\n",
    "cylinder = cylinder_models.C4CylinderGaussianPhaseApproximation()\n",
    "gamma_cylinder = distribute_models.DD1GammaDistributed(models=[cylinder])"
   ]
  },
  {
   "cell_type": "markdown",
   "metadata": {},
   "source": [
    "Then put the models together in a MultiCompartmentModel and display the parameters. Note that this model has a lot of parameters."
   ]
  },
  {
   "cell_type": "code",
   "execution_count": 2,
   "metadata": {
    "scrolled": true
   },
   "outputs": [
    {
     "data": {
      "text/plain": [
       "OrderedDict([('G3TemporalZeppelin_1_mu', 2),\n",
       "             ('DD1GammaDistributed_1_DD1Gamma_1_beta', 1),\n",
       "             ('G3TemporalZeppelin_1_lambda_inf', 1),\n",
       "             ('DD1GammaDistributed_1_C4CylinderGaussianPhaseApproximation_1_lambda_par',\n",
       "              1),\n",
       "             ('DD1GammaDistributed_1_C4CylinderGaussianPhaseApproximation_1_mu',\n",
       "              2),\n",
       "             ('G3TemporalZeppelin_1_A', 1),\n",
       "             ('DD1GammaDistributed_1_DD1Gamma_1_alpha', 1),\n",
       "             ('G3TemporalZeppelin_1_lambda_par', 1),\n",
       "             ('partial_volume_0', 1),\n",
       "             ('partial_volume_1', 1)])"
      ]
     },
     "execution_count": 2,
     "metadata": {},
     "output_type": "execute_result"
    }
   ],
   "source": [
    "from dmipy.core import modeling_framework\n",
    "temporal_AxCaliber = modeling_framework.MultiCompartmentModel(models=[temporal_zeppelin, gamma_cylinder])\n",
    "temporal_AxCaliber.parameter_cardinality"
   ]
  },
  {
   "cell_type": "markdown",
   "metadata": {},
   "source": [
    "The data we will fit is measured only along 2 gradients perpendicular to the fiber axis (along x and y axis). This means there is no data that provides information to fit parallel diffusivity \"lambda_par\" or the axon orientation \"mu\". \n",
    "\n",
    "So first, we make sure that the intra- and extra-axonal orientations are aligned and that their parallel diffusivities are equal by using the set_equal_parameter() :"
   ]
  },
  {
   "cell_type": "code",
   "execution_count": 3,
   "metadata": {},
   "outputs": [],
   "source": [
    "temporal_AxCaliber.set_equal_parameter(\n",
    "    'G3TemporalZeppelin_1_mu',\n",
    "    'DD1GammaDistributed_1_C4CylinderGaussianPhaseApproximation_1_mu');\n",
    "temporal_AxCaliber.set_equal_parameter(\n",
    "    'G3TemporalZeppelin_1_lambda_par',\n",
    "    'DD1GammaDistributed_1_C4CylinderGaussianPhaseApproximation_1_lambda_par');"
   ]
  },
  {
   "cell_type": "markdown",
   "metadata": {},
   "source": [
    "Then to not fit these superfluous parameters, we fix the orientation mu along the z-axis and give lambda_par an arbitrary value (it will not affect the results). "
   ]
  },
  {
   "cell_type": "code",
   "execution_count": 4,
   "metadata": {},
   "outputs": [],
   "source": [
    "temporal_AxCaliber.set_fixed_parameter(\n",
    "    'G3TemporalZeppelin_1_lambda_par', 1.5e-9)\n",
    "temporal_AxCaliber.set_fixed_parameter(\n",
    "    'G3TemporalZeppelin_1_mu', [0, 0])"
   ]
  },
  {
   "cell_type": "markdown",
   "metadata": {},
   "source": [
    "Notice that we are now only fitting the volume fractions, the Gamma distribution parameters $\\alpha$ and $\\beta$, the bulk diffusivity $\\lambda_\\infty$ and the coefficient for extra-axonal hindrance $A$."
   ]
  },
  {
   "cell_type": "code",
   "execution_count": 5,
   "metadata": {},
   "outputs": [
    {
     "data": {
      "text/plain": [
       "['DD1GammaDistributed_1_DD1Gamma_1_beta',\n",
       " 'G3TemporalZeppelin_1_lambda_inf',\n",
       " 'G3TemporalZeppelin_1_A',\n",
       " 'DD1GammaDistributed_1_DD1Gamma_1_alpha',\n",
       " 'partial_volume_0',\n",
       " 'partial_volume_1']"
      ]
     },
     "execution_count": 5,
     "metadata": {},
     "output_type": "execute_result"
    }
   ],
   "source": [
    "temporal_AxCaliber.parameter_names"
   ]
  },
  {
   "cell_type": "markdown",
   "metadata": {
    "collapsed": true
   },
   "source": [
    "# Load Monte Carlo simulated data"
   ]
  },
  {
   "cell_type": "markdown",
   "metadata": {},
   "source": [
    "Using Camino, we previously generated a substrate of Gamma-distributed cylinders and simulated the perpendicular acquisition scheme that was used by *(De Santis et al. 2016)*."
   ]
  },
  {
   "cell_type": "code",
   "execution_count": 6,
   "metadata": {},
   "outputs": [],
   "source": [
    "from dmipy.data import saved_data\n",
    "acquisition_scheme, signal = saved_data.de_santis_camino_data()"
   ]
  },
  {
   "cell_type": "markdown",
   "metadata": {},
   "source": [
    "Unlike De Santis et al who simulated STEAM acquistion scheme, we simulate a PGSE scheme considering their parameters: $\\delta = 17$ ms, $\\Delta = 48,60,80,100,120,140,160,180,195$ ms, 4 b-values $(500, 1000, 2000$ and $4000$ $s/mm^2$) and 2 unweighted images for each $\\Delta$."
   ]
  },
  {
   "cell_type": "code",
   "execution_count": 7,
   "metadata": {},
   "outputs": [
    {
     "name": "stdout",
     "output_type": "stream",
     "text": [
      "Acquisition scheme summary\n",
      "\n",
      "total number of measurements: 54\n",
      "number of b0 measurements: 18\n",
      "number of DWI shells: 36\n",
      "\n",
      "shell_index |# of DWIs |bvalue [s/mm^2] |gradient strength [mT/m] |delta [ms] |Delta[ms] |TE[ms]\n",
      "0           |2         |0               |0                        |17.0       |48.0      |83.0 \n",
      "1           |1         |500             |23                       |17.0       |48.0      |83.0 \n",
      "2           |1         |999             |33                       |17.0       |48.0      |83.0 \n",
      "3           |1         |2000            |47                       |17.0       |48.0      |83.0 \n",
      "4           |1         |3999            |67                       |17.0       |48.0      |83.0 \n",
      "5           |2         |0               |0                        |17.0       |60.0      |95.0 \n",
      "6           |1         |500             |21                       |17.0       |60.0      |95.0 \n",
      "7           |1         |1000            |29                       |17.0       |60.0      |95.0 \n",
      "8           |1         |2000            |42                       |17.0       |60.0      |95.0 \n",
      "9           |1         |4000            |59                       |17.0       |60.0      |95.0 \n",
      "10          |2         |0               |0                        |17.0       |80.0      |115.0\n",
      "11          |1         |500             |18                       |17.0       |80.0      |115.0\n",
      "12          |1         |1000            |25                       |17.0       |80.0      |115.0\n",
      "13          |1         |2000            |36                       |17.0       |80.0      |115.0\n",
      "14          |1         |4000            |51                       |17.0       |80.0      |115.0\n",
      "15          |2         |0               |0                        |17.0       |100.0     |135.0\n",
      "16          |1         |499             |16                       |17.0       |100.0     |135.0\n",
      "17          |1         |1000            |22                       |17.0       |100.0     |135.0\n",
      "18          |1         |1999            |32                       |17.0       |100.0     |135.0\n",
      "19          |1         |4000            |45                       |17.0       |100.0     |135.0\n",
      "20          |2         |0               |0                        |17.0       |120.0     |155.0\n",
      "21          |1         |499             |14                       |17.0       |120.0     |155.0\n",
      "22          |1         |1000            |20                       |17.0       |120.0     |155.0\n",
      "23          |1         |1999            |29                       |17.0       |120.0     |155.0\n",
      "24          |1         |4000            |41                       |17.0       |120.0     |155.0\n",
      "25          |2         |0               |0                        |17.0       |140.0     |175.0\n",
      "26          |1         |500             |13                       |17.0       |140.0     |175.0\n",
      "27          |1         |999             |18                       |17.0       |140.0     |175.0\n",
      "28          |1         |2000            |26                       |17.0       |140.0     |175.0\n",
      "29          |1         |3999            |37                       |17.0       |140.0     |175.0\n",
      "30          |2         |0               |0                        |17.0       |160.0     |195.0\n",
      "31          |1         |500             |12                       |17.0       |160.0     |195.0\n",
      "32          |1         |1000            |17                       |17.0       |160.0     |195.0\n",
      "33          |1         |2000            |25                       |17.0       |160.0     |195.0\n",
      "34          |1         |4000            |35                       |17.0       |160.0     |195.0\n",
      "35          |2         |0               |0                        |17.0       |180.0     |215.0\n",
      "36          |1         |500             |11                       |17.0       |180.0     |215.0\n",
      "37          |1         |1000            |16                       |17.0       |180.0     |215.0\n",
      "38          |1         |2000            |23                       |17.0       |180.0     |215.0\n",
      "39          |1         |4000            |33                       |17.0       |180.0     |215.0\n",
      "40          |2         |0               |0                        |17.0       |195.0     |230.0\n",
      "41          |1         |500             |11                       |17.0       |195.0     |230.0\n",
      "42          |1         |1000            |15                       |17.0       |195.0     |230.0\n",
      "43          |1         |2000            |22                       |17.0       |195.0     |230.0\n",
      "44          |1         |4000            |31                       |17.0       |195.0     |230.0\n"
     ]
    }
   ],
   "source": [
    "acquisition_scheme.print_acquisition_info"
   ]
  },
  {
   "cell_type": "markdown",
   "metadata": {},
   "source": [
    "To estimate the robustness of the model's parameter estimates, we simulate 50 Rician noise instances on the data at SNR=30."
   ]
  },
  {
   "cell_type": "code",
   "execution_count": 8,
   "metadata": {},
   "outputs": [
    {
     "data": {
      "text/plain": [
       "(50, 54)"
      ]
     },
     "execution_count": 8,
     "metadata": {},
     "output_type": "execute_result"
    }
   ],
   "source": [
    "signal.shape"
   ]
  },
  {
   "cell_type": "markdown",
   "metadata": {},
   "source": [
    "# Fit time-dependent AxCaliber model to simulated data"
   ]
  },
  {
   "cell_type": "code",
   "execution_count": 9,
   "metadata": {},
   "outputs": [
    {
     "name": "stdout",
     "output_type": "stream",
     "text": [
      "Setup MIX optimizer in 1.19209289551e-05 seconds\n",
      "Fitting of 20 voxels complete in 627.656817913 seconds.\n",
      "Average of 31.3828408957 seconds per voxel.\n"
     ]
    }
   ],
   "source": [
    "temporal_AxCaliber_fit = temporal_AxCaliber.fit(\n",
    "    acquisition_scheme, signal[:20], solver='mix', \n",
    "    maxiter=100, use_parallel_processing=False)"
   ]
  },
  {
   "cell_type": "code",
   "execution_count": 16,
   "metadata": {
    "collapsed": true
   },
   "outputs": [],
   "source": [
    "A_s = temporal_AxCaliber_fit.fitted_parameters['G3TemporalZeppelin_1_A']\n",
    "fr_s = temporal_AxCaliber_fit.fitted_parameters['partial_volume_0']\n",
    "D_inf_s = temporal_AxCaliber_fit.fitted_parameters['G3TemporalZeppelin_1_lambda_inf']\n",
    "alpha_s = temporal_AxCaliber_fit.fitted_parameters['DD1GammaDistributed_1_DD1Gamma_1_alpha']\n",
    "beta_s = temporal_AxCaliber_fit.fitted_parameters['DD1GammaDistributed_1_DD1Gamma_1_beta']"
   ]
  },
  {
   "cell_type": "markdown",
   "metadata": {},
   "source": [
    "# Visualize fitted parameters"
   ]
  },
  {
   "cell_type": "code",
   "execution_count": 17,
   "metadata": {
    "collapsed": true
   },
   "outputs": [],
   "source": [
    "import numpy as np\n",
    "from scipy import stats\n",
    "import matplotlib.pyplot as plt\n",
    "%matplotlib inline"
   ]
  },
  {
   "cell_type": "code",
   "execution_count": 30,
   "metadata": {
    "collapsed": true
   },
   "outputs": [],
   "source": [
    "A_kernel = stats.gaussian_kde(A_s)\n",
    "D_inf_kernel = stats.gaussian_kde(D_inf_s)\n",
    "AD_s = 2 * alpha_s * beta_s\n",
    "AD_kernel = stats.gaussian_kde(AD_s)\n",
    "fr_kernel = stats.gaussian_kde(fr_s)\n",
    "\n",
    "ind_A = np.linspace(A_s.min(), A_s.max(), 50)\n",
    "ind_D_inf = np.linspace(D_inf_s.min(), D_inf_s.max(), 50)\n",
    "ind_AD = np.linspace(AD_s.min(), AD_s.max(), 50)\n",
    "ind_fr = np.linspace(fr_s.min(), fr_s.max(), 50)"
   ]
  },
  {
   "cell_type": "code",
   "execution_count": 31,
   "metadata": {},
   "outputs": [
    {
     "data": {
      "text/plain": [
       "array([  2.27166548e-08,   2.34254791e-07,   4.45792928e-07,\n",
       "         6.57331064e-07,   8.68869201e-07,   1.08040734e-06,\n",
       "         1.29194547e-06,   1.50348361e-06,   1.71502175e-06,\n",
       "         1.92655988e-06,   2.13809802e-06,   2.34963616e-06,\n",
       "         2.56117429e-06,   2.77271243e-06,   2.98425057e-06,\n",
       "         3.19578870e-06,   3.40732684e-06,   3.61886498e-06,\n",
       "         3.83040311e-06,   4.04194125e-06,   4.25347939e-06,\n",
       "         4.46501752e-06,   4.67655566e-06,   4.88809379e-06,\n",
       "         5.09963193e-06,   5.31117007e-06,   5.52270820e-06,\n",
       "         5.73424634e-06,   5.94578448e-06,   6.15732261e-06,\n",
       "         6.36886075e-06,   6.58039889e-06,   6.79193702e-06,\n",
       "         7.00347516e-06,   7.21501330e-06,   7.42655143e-06,\n",
       "         7.63808957e-06,   7.84962771e-06,   8.06116584e-06,\n",
       "         8.27270398e-06,   8.48424212e-06,   8.69578025e-06,\n",
       "         8.90731839e-06,   9.11885653e-06,   9.33039466e-06,\n",
       "         9.54193280e-06,   9.75347093e-06,   9.96500907e-06,\n",
       "         1.01765472e-05,   1.03880853e-05])"
      ]
     },
     "execution_count": 31,
     "metadata": {},
     "output_type": "execute_result"
    }
   ],
   "source": [
    "ind_AD_s"
   ]
  },
  {
   "cell_type": "markdown",
   "metadata": {},
   "source": [
    "We use the gaussian_kde function to show the distribution of the fitted parameters. For each figure, the red vertical line is the ground truth while the green vertical one represents the mean value of the estimated parameter."
   ]
  },
  {
   "cell_type": "code",
   "execution_count": 19,
   "metadata": {},
   "outputs": [
    {
     "data": {
      "image/png": "[encoded data removed]",
      "text/plain": [
       "<matplotlib.figure.Figure at 0x7fde2b038610>"
      ]
     },
     "metadata": {},
     "output_type": "display_data"
    }
   ],
   "source": [
    "plt.title('Axonal density', fontsize=15)\n",
    "plt.plot(ind_fr, fr_kernel(ind_fr))\n",
    "plt.axvline(fr_s.mean(), c='g', label='mean $f_r$ = '+str(np.round(fr_s.mean(), 2)))\n",
    "plt.axvline(0.79, c='r', label='true = 0.79')\n",
    "plt.ylabel('Probability density', fontsize=15)\n",
    "plt.xlabel('$f_r$', fontsize=15)\n",
    "plt.legend(fontsize=15, loc=2)\n",
    "plt.show()"
   ]
  },
  {
   "cell_type": "code",
   "execution_count": 40,
   "metadata": {},
   "outputs": [
    {
     "data": {
      "image/png": "[encoded data removed]",
      "text/plain": [
       "<matplotlib.figure.Figure at 0x7fde2abcdf90>"
      ]
     },
     "metadata": {},
     "output_type": "display_data"
    }
   ],
   "source": [
    "plt.title('Mean Axon Diameter', fontsize=15)\n",
    "plt.hist(1e6 * AD_s, normed=True, bins=20)\n",
    "plt.axvline(1e6 * AD_s.mean(), c='g', label='mean diameter = '+str(np.round(1e6 * AD_s.mean(), 2)))\n",
    "plt.axvline(0.79, c='r', label='true = 1.7')\n",
    "plt.ylabel('Probability density', fontsize=15)\n",
    "plt.xlabel('$f_r$', fontsize=15)\n",
    "plt.legend(fontsize=15, loc=1)\n",
    "plt.show()"
   ]
  },
  {
   "cell_type": "markdown",
   "metadata": {},
   "source": [
    "Notice that the estimated mean axon diameter either defaults to \"Stick-like\" behavior or finds axon diameter much too large. The mean is therefore mostly outlier driven."
   ]
  },
  {
   "cell_type": "code",
   "execution_count": 23,
   "metadata": {},
   "outputs": [
    {
     "data": {
      "image/png": "[encoded data removed]",
      "text/plain": [
       "<matplotlib.figure.Figure at 0x7fde2ac6f290>"
      ]
     },
     "metadata": {},
     "output_type": "display_data"
    }
   ],
   "source": [
    "plt.plot(ind_A*1e12, A_kernel(ind_A)*1e12)\n",
    "plt.axvline(A_s.mean()*1e12, c='g', label='mean $A$ = '+str(np.round(A_s.mean()*1e12, 2)))\n",
    "plt.ylabel('Probability density', fontsize=15)\n",
    "plt.xlabel('A [$mm^2$]', fontsize=15)\n",
    "plt.title('Characteristic coefficient A', fontsize=15)\n",
    "plt.legend(fontsize=15)\n",
    "plt.show()"
   ]
  },
  {
   "cell_type": "code",
   "execution_count": 24,
   "metadata": {},
   "outputs": [
    {
     "data": {
      "image/png": "[encoded data removed]",
      "text/plain": [
       "<matplotlib.figure.Figure at 0x7fde2abb4b10>"
      ]
     },
     "metadata": {},
     "output_type": "display_data"
    }
   ],
   "source": [
    "plt.title('Bulk diffusion constant', fontsize=15)\n",
    "plt.plot(ind_D_inf*1e9, D_inf_kernel(ind_D_inf)*1e9)\n",
    "plt.axvline(D_inf_s.mean()*1e9, c='g', label='mean $D_{\\infty}$ = '+str(np.round(D_inf_s.mean()*1e9, 2)))\n",
    "plt.ylabel('Probability density', fontsize=15)\n",
    "plt.xlabel('$D_{\\infty}$  [$mm^2/s$]', fontsize=15)\n",
    "plt.legend(fontsize=15)\n",
    "plt.show()"
   ]
  },
  {
   "cell_type": "markdown",
   "metadata": {},
   "source": [
    "Except for the axon diameter estimation, our results are comparable to De Santis et al results (of the 3rd simulation presented in table 1). Indeed,\n",
    "the mean of the estmated axonal density $f_r$ is close to the ground truth, however, with this scheme, the axonal diameter is badly estimated.\n",
    "\n",
    "As for the characteristic coefficient A, the estimated value is very close to De Santis et al, while its variance is a bit larger. And the mean of the estimated bulk diffision constant $D_{\\infty}$ is 3 times bigger. Further study is needed to explain the differences between De Santis et al's findings and ours."
   ]
  },
  {
   "cell_type": "markdown",
   "metadata": {
    "collapsed": true
   },
   "source": [
    "## References\n",
    "- Assaf, Yaniv, et al. \"AxCaliber: a method for measuring axon diameter distribution from diffusion MRI.\" Magnetic resonance in medicine 59.6 (2008): 1347-1354.\n",
    "- Novikov, Dmitry S., et al. \"Revealing mesoscopic structural universality with diffusion.\" Proceedings of the National Academy of Sciences 111.14 (2014): 5088-5093.\n",
    "- Huang, Susie Y., et al. \"The impact of gradient strength on in vivo diffusion MRI estimates of axon diameter.\" NeuroImage 106 (2015): 464-472.\n",
    "- Burcaw, Lauren M., Els Fieremans, and Dmitry S. Novikov. \"Mesoscopic structure of neuronal tracts from time-dependent diffusion.\" NeuroImage 114 (2015): 18-37.\n",
    "- De Santis, Silvia, Derek K. Jones, and Alard Roebroeck. \"Including diffusion time dependence in the extra-axonal space improves in vivo estimates of axonal diameter and density in human white matter.\" NeuroImage 130 (2016): 91-103.\n"
   ]
  }
 ],
 "metadata": {
  "kernelspec": {
   "display_name": "Python 2",
   "language": "python",
   "name": "python2"
  },
  "language_info": {
   "codemirror_mode": {
    "name": "ipython",
    "version": 2
   },
   "file_extension": ".py",
   "mimetype": "text/x-python",
   "name": "python",
   "nbconvert_exporter": "python",
   "pygments_lexer": "ipython2",
   "version": "2.7.13"
  }
 },
 "nbformat": 4,
 "nbformat_minor": 2
}
