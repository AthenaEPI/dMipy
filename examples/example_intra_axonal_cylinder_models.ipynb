{
 "cells": [
  {
   "cell_type": "markdown",
   "metadata": {},
   "source": [
    "# Intra-Axonal cylinder Models"
   ]
  },
  {
   "cell_type": "code",
   "execution_count": 1,
   "metadata": {
    "collapsed": true
   },
   "outputs": [],
   "source": [
    "from microstruktur.signal_models import three_dimensional_models, dispersed_models"
   ]
  },
  {
   "cell_type": "markdown",
   "metadata": {
    "collapsed": true
   },
   "source": [
    "Cylinder models are typically used to describe intra-axonal diffusion. All cylinder models assume parallel diffusion $\\lambda_\\parallel$ orientated along $\\mu$ is free, but have different approximations for perpendicular diffusion. Briefly, from simplest to more complex approximations, we have:  \n",
    "- Stick model: Cylinder of radius zero, assumes perpendicular diffusion is zero.\n",
    "- Soderman model: Cylinder of finite radius $R$, assumes narrow pulses $\\delta\\rightarrow0$ and restricted perpendicular diffusion $\\Delta\\gg R^2/D$.\n",
    "- Callaghan model: Still assumes narrow pulses but accounts for finite pulse separation $\\Delta$.\n",
    "- Van Gelderen / Gaussian Phase model: Accounts for both finite pulse duration $\\delta$ and pulse separation $\\Delta$.\n",
    "\n",
    "As the Stick, all cylinder models can be imported in one line. The only parameter that is added for the added is the cylinder diameter."
   ]
  },
  {
   "cell_type": "code",
   "execution_count": 2,
   "metadata": {
    "collapsed": true
   },
   "outputs": [],
   "source": [
    "cylinder_stick = three_dimensional_models.I1Stick()\n",
    "cylinder_soderman = three_dimensional_models.I2CylinderSodermanApproximation()\n",
    "cylinder_callaghan = three_dimensional_models.I3CylinderCallaghanApproximation()\n",
    "cylinder_vangelderen = three_dimensional_models.I4CylinderGaussianPhaseApproximation()"
   ]
  },
  {
   "cell_type": "markdown",
   "metadata": {},
   "source": [
    "# Dispersed Cylinder Models"
   ]
  },
  {
   "cell_type": "markdown",
   "metadata": {},
   "source": [
    "Parametric angular distributions such as the Bingham and Watson are typically used to model axonal dispersion, and we provide a more detailed explanation of these distributions at the [axon dispersion tutorial](https://github.com/AthenaEPI/microstruktur/blob/master/examples/example_watson_bingham.ipynb).\n",
    "\n",
    "Basically, we can disperse any axially symmetric model (such as a cylinder or zeppelin) using a Watson or Bingham distribution. Using a Watson distribution, along with the standard model parameters (i.e. $\\lambda_\\parallel$ and $\\mu$ for the Stick for example), now concentration parameter $\\kappa$ sets the concentration of the Sticks. $\\kappa=0$ is a completely isotropic distribution, while $\\kappa\\rightarrow\\infty$ is a Delta function along $\\mu$.\n",
    "\n",
    "The Bingham distribution further generalizes the Watson to also include anistropic dispersion, whose anisotropy and orientation is set using secondary concentration parameter $\\beta$ and angle $\\psi$."
   ]
  },
  {
   "cell_type": "code",
   "execution_count": 3,
   "metadata": {
    "collapsed": true
   },
   "outputs": [],
   "source": [
    "watson_dispersed_stick = dispersed_models.SD3I1WatsonDispersedStick()\n",
    "watson_dispersed_callaghan = dispersed_models.SD3I2WatsonDispersedSodermanCylinder()\n",
    "watson_dispersed_soderman = dispersed_models.SD3I3WatsonDispersedCallaghanCylinder()\n",
    "watson_dispersed_vangelderen = dispersed_models.SD3I4WatsonDispersedGaussianPhaseCylinder()"
   ]
  },
  {
   "cell_type": "code",
   "execution_count": 4,
   "metadata": {
    "collapsed": true
   },
   "outputs": [],
   "source": [
    "bingham_dispersed_stick = dispersed_models.SD2I1BinghamDispersedStick()\n",
    "bingham_dispersed_callaghan = dispersed_models.SD2I2BinghamDispersedSodermanCylinder()\n",
    "bingham_dispersed_soderman = dispersed_models.SD2I3BinghamDispersedCallaghanCylinder()\n",
    "bingham_dispersed_vangelderen = dispersed_models.SD2I4BinghamDispersedGaussianPhaseCylinder()"
   ]
  },
  {
   "cell_type": "code",
   "execution_count": null,
   "metadata": {
    "collapsed": true
   },
   "outputs": [],
   "source": []
  }
 ],
 "metadata": {
  "kernelspec": {
   "display_name": "Python 2",
   "language": "python",
   "name": "python2"
  },
  "language_info": {
   "codemirror_mode": {
    "name": "ipython",
    "version": 2
   },
   "file_extension": ".py",
   "mimetype": "text/x-python",
   "name": "python",
   "nbconvert_exporter": "python",
   "pygments_lexer": "ipython2",
   "version": "2.7.6"
  }
 },
 "nbformat": 4,
 "nbformat_minor": 0
}
