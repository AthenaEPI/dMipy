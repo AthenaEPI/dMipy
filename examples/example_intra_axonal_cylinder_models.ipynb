{
 "cells": [
  {
   "cell_type": "markdown",
   "metadata": {},
   "source": [
    "# Cylinder Models"
   ]
  },
  {
   "cell_type": "markdown",
   "metadata": {},
   "source": [
    "In this section, we describe models of intra-axonal diffusion.\n",
    "In all cases, the intra-axonal diffusion is represented using axially symmetric cylinder models with $\\boldsymbol{\\mu}\\in\\mathbb{S}^2$ the orientation parallel to the cylinder axis.\n",
    "The three-dimensional diffusion signal in these models is given as the separable product of (free) parallel and restricted perpendicular diffusion~\\citep{assaf2004new}.\n",
    "This means that the three-dimensional signal is given by\n",
    "\n",
    "\\begin{equation}\\label{eq:cyl3d}\n",
    " E_{\\textrm{intra}}(\\textbf{q},\\Delta,\\delta,\\lambda_\\parallel,R) = E_\\parallel(q_\\parallel,\\Delta,\\delta,\\lambda_\\parallel)\\times E_\\perp(q_\\perp,\\Delta,\\delta,R)\n",
    "\\end{equation}\n",
    "\n",
    "with parallel q-value $q_\\parallel=\\textbf{q}^T\\boldsymbol{\\mu}$, perpendicular q-value $q_\\perp=(\\textbf{q}^T\\textbf{q}-(\\textbf{q}^T\\boldsymbol{\\mu})^2))^{1/2}$, parallel diffusivity $\\lambda_\\parallel>0$ and cylinder radius $R>0$[mm]. The parallel signal is usually given by Gaussian diffusion as\n",
    "\n",
    "\\begin{equation}\n",
    "E_\\parallel(q_\\parallel,\\Delta,\\delta,\\lambda_\\parallel)=\\exp(-4\\pi^2q_\\parallel^2\\lambda_\\parallel(\\Delta-\\delta/3)).\n",
    "\\end{equation}\n",
    "\n",
    "The perpendicular signal $E_\\perp$ is described using various cylinder models.\n",
    "In the rest of this section, we start with describing the simplest, having the strongest tissue assumptions (I1), and more towards more general models (I4).\n",
    "We end with a description how axon diameter distributions are modeled (DD1)."
   ]
  },
  {
   "cell_type": "markdown",
   "metadata": {},
   "source": [
    "## Stick: C1\n",
    "The simplest model for intra-axonal diffusion is the ``Stick'' -- a cylinder with zero radius~\\citep{behrens2003characterization}.\n",
    "The Stick model assumes that, because axon diameters are very small, the perpendicular diffusion attenuation inside these axons is negligible compared to the overall signal attenuation.\n",
    "The perpendicular diffusion coefficient is therefore be approximated by zero, so the perpendicular signal attenuation is always equal to one as $E_\\perp=1$.\n",
    "Inserting this definition in Eq. (\\ref{eq:cyl3d}) leads to the simple signal representation\n",
    "\n",
    "\\begin{equation}\n",
    "E_{\\textrm{Stick}}(b,\\textbf{n},\\boldsymbol{\\mu},\\lambda_\\parallel)=\\exp(-b\\lambda_\\parallel(\\textbf{n}^T\\boldsymbol{\\mu})^2),\n",
    "\\end{equation}\n",
    "\n",
    "which is the same as a DTI Tensor with $\\lambda_\\parallel=\\lambda_1$ and $\\lambda_\\perp=\\lambda_2=\\lambda_3=0$.\n",
    "Despite its simplicity, it turns out approximating axons as Sticks is quite reasonable at clinical gradient strengths~\\citep{burcaw2015mesoscopic}.\n",
    "In fact, the Stick is used in the most state-of-the-art microstructure models modeling axonal dispersion~\\citep{tariq2016bingham,kaden2016multi}, which we'll get back to in Section \\ref{sec:considerations}."
   ]
  },
  {
   "cell_type": "code",
   "execution_count": 2,
   "metadata": {
    "collapsed": true
   },
   "outputs": [],
   "source": [
    "from microstruktur.signal_models import cylinder_models\n",
    "stick = cylinder_models.C1Stick()"
   ]
  },
  {
   "cell_type": "markdown",
   "metadata": {},
   "source": [
    "## Soderman Cylinder: C2\n",
    "In reality, axons have a non-zero radius.\n",
    "To account for this, different cylinder models for perpendicular diffusion have been proposed for different combinations of PGSE acquisition parameters.\n",
    "The simplest is the ``Soderman'' model~\\citep{soderman1995restricted}, which has the hardest assumptions on the PGSE protocol.\n",
    "First, it assumes that pulse length $\\delta$ is so short that no diffusion occurs during the application of the gradient pulse ($\\delta\\rightarrow0$).\n",
    "%Recalling work \\ref{sec:p1c1:dmri}, this allows us to interpret the diffusion propagator as the Fourier transform of the diffusion signal attenuation $E(\\textbf{q},\\Delta)$~\\citep{tanner1968restricted}.\n",
    "Second, it assumes that pulse separation $\\Delta$ is long enough for diffusion with intra-cylindrical diffusion coefficient $D$ to be restricted inside a cylinder of radius $R$ ($\\Delta\\gg R^2/D$).\n",
    "Within these assumptions, the perpendicular, intra-cylindrical signal attenuation is given as\n",
    "\n",
    "\\begin{equation}\n",
    " E_\\perp(q,R|\\delta\\rightarrow0,\\Delta\\gg R^2/D)=\\left(\\frac{J_1(2\\pi q R)}{\\pi q R}\\right)^2,\n",
    "\\end{equation}\n",
    "\n",
    "where we use the ``$|$'' to separate function parameters from model assumptions, and $J_1$ is a Bessel function of the first kind. Taking $\\lim_{R\\rightarrow0}$ of Eq. (\\ref{eq:soderman}) simplifies the three-dimensional Soderman model to the Stick model as in Eq. (\\ref{eq:stick})."
   ]
  },
  {
   "cell_type": "code",
   "execution_count": 3,
   "metadata": {
    "collapsed": true
   },
   "outputs": [],
   "source": [
    "soderman = cylinder_models.C2CylinderSodermanApproximation()"
   ]
  },
  {
   "cell_type": "markdown",
   "metadata": {},
   "source": [
    "## Callaghan Cylinder: C3\n",
    "The ``Callaghan'' model relaxes Soderman's $\\Delta\\gg R^2/D$ assumption to allow for unrestricted diffusion at shorter pulse separation $\\Delta$~\\citep{callaghan1995pulsed}. In this case, the perpendicular signal attenuation is given as\n",
    "\n",
    "\\begin{align}\n",
    " E_\\perp(q,\\Delta,R|\\delta\\rightarrow0)&=\\sum^\\infty_k4\\exp(-\\beta^2_{0k}D\\Delta/R^2)\\times \\frac{\\left((2\\pi qR)J_0^{'}(2\\pi qR)\\right)^2}{\\left((2\\pi qR)^2-\\beta_{0k}^2\\right)^2}\\nonumber\\\\\n",
    " &+\\sum^\\infty_{nk}8\\exp(-\\beta^2_{nk}D\\Delta/R^2)\\times \\frac{\\beta^2_{nk}}{\\left(\\beta_{nk}^2-n^2\\right)}\\times\\frac{\\left((2\\pi qR)J_n^{'}(2\\pi qR)\\right)^2}{\\left((2\\pi qR)^2-\\beta_{nk}^2\\right)^2}\n",
    "\\end{align}\n",
    "\n",
    "where $J_n^{'}$ are the derivatives of the $n^{th}$-order Bessel function and $\\beta_{nk}$ are the arguments that result in zero-crossings. Taking $\\lim_{\\Delta\\rightarrow\\infty}$ of Eq. (\\ref{eq:callaghan}) simplifies the Callaghan model to the Soderman model as in Eq. (\\ref{eq:soderman}). The Callaghan model has been used to estimate the axon diameter distribution in the multi-compartment AxCaliber approach~\\citep{assaf2008axcaliber}. However, the authors also mention that the perpendicular diffusion is likely already restricted for realistic axon diameters ($<2\\mu$m)~\\citep{aboitiz1992fiber} for the shortest possible $\\Delta$ in PGSE protocols (${\\sim}10$ms). This limits the added value of the Callaghan model over the Soderman model in axon diameter estimation."
   ]
  },
  {
   "cell_type": "code",
   "execution_count": 4,
   "metadata": {
    "collapsed": true
   },
   "outputs": [],
   "source": [
    "callaghan = cylinder_models.C3CylinderCallaghanApproximation()"
   ]
  },
  {
   "cell_type": "markdown",
   "metadata": {},
   "source": [
    "## Van Gelderen Cylinder: C4\n",
    "The last cylinder model generalization we discuss is the ``Van Gelderen'' model~\\citep{vangelderen1994evaluation}, which relaxes the last $\\delta\\rightarrow0$ assumption to allow for finite pulse length $\\delta$. This model is based on the ``Neuman'' model~\\citep{neuman1974spin}, which assumes Gaussian diffusion during the gradient pulse. In this case, the signal attenuation is given as\n",
    "\n",
    "\\begin{equation}\n",
    " E_\\perp(q,\\Delta,\\delta,R)=-8\\pi^2q^2\\sum^\\infty_{m=1}\\dfrac{\\left[\\splitdfrac{2Da_m^2\\delta-2 + 2e^{-Da_m^2\\delta} + 2e^{-Da_m^2\\Delta}}{-e^{-Da_m^2(\\Delta-\\delta)}-e^{-Da_m^2(\\Delta-\\delta)}}\\right]}{\\delta^2D^2a_m^6(R^2a_m^2-1)}\n",
    "\\end{equation}\n",
    "\n",
    "where $a_m$ are roots of the equation $J_1^{'}(a_mR)=0$, with $J_1^{'}$ again the derivative of the Bessel function of the first kind, and $D$ is the intra-axonal diffusivity.\n",
    "According to~\\citet{neuman1974spin}, taking the double $\\lim_{(\\delta,\\Delta)\\rightarrow(0,\\infty)}$ of Eq. (\\ref{eq:vangelderen}) should simplify the Van Gelderen model to the Soderman Model in Eq. (\\ref{eq:soderman}), although he does not show this explicitly.\n",
    "For its generality, the Van Gelderen model has been used in most recent studies regarding \\emph{in-vivo} axon diameter estimation~\\citep{huang2015impact,ferizi2015white,de2016including}."
   ]
  },
  {
   "cell_type": "code",
   "execution_count": 5,
   "metadata": {
    "collapsed": true
   },
   "outputs": [],
   "source": [
    "vangelderen = cylinder_models.C4CylinderGaussianPhaseApproximation()"
   ]
  }
 ],
 "metadata": {
  "kernelspec": {
   "display_name": "Python 2",
   "language": "python",
   "name": "python2"
  },
  "language_info": {
   "codemirror_mode": {
    "name": "ipython",
    "version": 2
   },
   "file_extension": ".py",
   "mimetype": "text/x-python",
   "name": "python",
   "nbconvert_exporter": "python",
   "pygments_lexer": "ipython2",
   "version": "2.7.14"
  }
 },
 "nbformat": 4,
 "nbformat_minor": 1
}
