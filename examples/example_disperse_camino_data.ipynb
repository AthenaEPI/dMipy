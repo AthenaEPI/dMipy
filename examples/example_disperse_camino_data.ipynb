{
 "metadata": {
  "name": "example_disperse_camino_data.ipynb"
 },
 "nbformat": 3,
 "nbformat_minor": 0,
 "worksheets": [
  {
   "cells": [
    {
     "cell_type": "code",
     "collapsed": false,
     "input": [
      "from microstruktur.signal_models.disperse_data import disperse_data\n",
      "from microstruktur.signal_models import three_dimensional_models\n",
      "from os.path import join"
     ],
     "language": "python",
     "metadata": {},
     "outputs": [],
     "prompt_number": 1
    },
    {
     "cell_type": "code",
     "collapsed": false,
     "input": [
      "import pkg_resources\n",
      "DATA_PATH = '/user/rfick/home/microstruktur/microstruktur/data/'\n",
      "# DATA_PATH = pkg_resources.resource_filename(\n",
      "#     'microstruktur', 'data/'\n",
      "# )"
     ],
     "language": "python",
     "metadata": {},
     "outputs": [],
     "prompt_number": 10
    },
    {
     "cell_type": "code",
     "collapsed": false,
     "input": [
      "bvals = np.loadtxt(join(three_dimensional_models.GRADIENT_TABLES_PATH, 'bvals_hcp_wu_minn.txt'))\n",
      "gradient_directions = np.loadtxt(join(three_dimensional_models.GRADIENT_TABLES_PATH, 'bvecs_hcp_wu_minn.txt'))\n",
      "shell_indices = bvals / 1e3"
     ],
     "language": "python",
     "metadata": {},
     "outputs": [],
     "prompt_number": 18
    },
    {
     "cell_type": "code",
     "collapsed": false,
     "input": [
      "data = np.loadtxt(join(DATA_PATH, 'data_camino_D1_7.txt'))\n",
      "fractions = np.loadtxt(DATA_PATH +'fractions_camino_D1_7.txt')"
     ],
     "language": "python",
     "metadata": {},
     "outputs": [],
     "prompt_number": 12
    },
    {
     "cell_type": "code",
     "collapsed": false,
     "input": [
      "kappas = np.r_[3, 9, 16, 3, 9, 16, 3, 9, 16]\n",
      "betas = np.r_[0, 0, 0, 1, 3, 16 / 3., 2, 6, 2 * 16 / 3.]\n",
      "\n",
      "dispersed_data = []\n",
      "dispersed_parameters = []\n",
      "for i, data_ in enumerate(data):\n",
      "    for j, (kappa_, beta_) in enumerate(zip(kappas, betas)):\n",
      "        dispersed_data.append(disperse_data(data_, gradient_directions, shell_indices,\n",
      "                                            mu=(0, 0), psi=0, kappa=kappa_, beta=beta_))\n",
      "        dispersed_parameters.append([fractions[i], kappa_, beta_])\n",
      "dispersed_data = np.array(dispersed_data)\n",
      "dispersed_parameters = np.array(dispersed_parameters)"
     ],
     "language": "python",
     "metadata": {},
     "outputs": [],
     "prompt_number": 29
    },
    {
     "cell_type": "code",
     "collapsed": false,
     "input": [
      "np.savetxt(join(DATA_PATH, 'data_camino_dispersed_D1_7.txt'), dispersed_data)\n",
      "np.savetxt(join(DATA_PATH, 'parameters_camino_dispersed_D1_7.txt'), dispersed_parameters)"
     ],
     "language": "python",
     "metadata": {},
     "outputs": [],
     "prompt_number": 32
    }
   ],
   "metadata": {}
  }
 ]
}