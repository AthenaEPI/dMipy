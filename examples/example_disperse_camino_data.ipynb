{
 "metadata": {
  "name": "example_disperse_camino_data.ipynb"
 },
 "nbformat": 3,
 "nbformat_minor": 0,
 "worksheets": [
  {
   "cells": [
    {
     "cell_type": "code",
     "collapsed": false,
     "input": [
      "from mipy.signal_models.disperse_data import disperse_data\n",
      "from mipy.signal_models import three_dimensional_models\n",
      "from os.path import join"
     ],
     "language": "python",
     "metadata": {},
     "outputs": [],
     "prompt_number": 1
    },
    {
     "cell_type": "code",
     "collapsed": false,
     "input": [
      "import pkg_resources\n",
      "DATA_PATH = '/user/rfick/home/microstruktur/microstruktur/data/'\n",
      "# DATA_PATH = pkg_resources.resource_filename(\n",
      "#     'microstruktur', 'data/'\n",
      "# )"
     ],
     "language": "python",
     "metadata": {},
     "outputs": [],
     "prompt_number": 2
    },
    {
     "cell_type": "code",
     "collapsed": false,
     "input": [
      "bvals = np.loadtxt(join(three_dimensional_models.GRADIENT_TABLES_PATH, 'bvals_hcp_wu_minn.txt'))\n",
      "gradient_directions = np.loadtxt(join(three_dimensional_models.GRADIENT_TABLES_PATH, 'bvecs_hcp_wu_minn.txt'))\n",
      "shell_indices = bvals / 1e3"
     ],
     "language": "python",
     "metadata": {},
     "outputs": [],
     "prompt_number": 3
    },
    {
     "cell_type": "code",
     "collapsed": false,
     "input": [
      "data_1_7 = np.loadtxt(join(DATA_PATH, 'data_camino_D1_7.txt'))\n",
      "data_2_0 = np.loadtxt(join(DATA_PATH, 'data_camino_D2_0.txt'))\n",
      "data_2_3 = np.loadtxt(join(DATA_PATH, 'data_camino_D2_3.txt'))\n",
      "fractions_1_7 = np.loadtxt(DATA_PATH +'fractions_camino_D1_7.txt')\n",
      "fractions_2_0 = np.loadtxt(DATA_PATH +'fractions_camino_D2_0.txt')\n",
      "fractions_2_3 = np.loadtxt(DATA_PATH +'fractions_camino_D2_3.txt')\n",
      "\n",
      "kappas = np.r_[3, 9, 16, 3, 9, 16, 3, 9, 16]\n",
      "betas = np.r_[0, 0, 0, 1, 3, 16 / 3., 2, 6, 2 * 16 / 3.]"
     ],
     "language": "python",
     "metadata": {},
     "outputs": [],
     "prompt_number": 6
    },
    {
     "cell_type": "code",
     "collapsed": false,
     "input": [
      "dispersed_1_7_data = []\n",
      "dispersed_1_7_parameters = []\n",
      "for i, data_ in enumerate(data_1_7):\n",
      "    for j, (kappa_, beta_) in enumerate(zip(kappas, betas)):\n",
      "        dispersed_1_7_data.append(disperse_data(data_, gradient_directions, shell_indices,\n",
      "                                            mu=(0, 0), psi=0, kappa=kappa_, beta=beta_))\n",
      "        dispersed_1_7_parameters.append([fractions_1_7[i], kappa_, beta_])\n",
      "dispersed_1_7_data = np.array(dispersed_1_7_data)\n",
      "dispersed_1_7_parameters = np.array(dispersed_1_7_parameters)"
     ],
     "language": "python",
     "metadata": {},
     "outputs": [],
     "prompt_number": 7
    },
    {
     "cell_type": "code",
     "collapsed": false,
     "input": [
      "np.savetxt(join(DATA_PATH, 'data_camino_dispersed_D1_7.txt'), dispersed_1_7_data)\n",
      "np.savetxt(join(DATA_PATH, 'parameters_camino_dispersed_D1_7.txt'), dispersed_1_7_parameters)"
     ],
     "language": "python",
     "metadata": {},
     "outputs": [],
     "prompt_number": 8
    },
    {
     "cell_type": "code",
     "collapsed": false,
     "input": [
      "dispersed_2_0_data = []\n",
      "dispersed_2_0_parameters = []\n",
      "for i, data_ in enumerate(data_2_0):\n",
      "    for j, (kappa_, beta_) in enumerate(zip(kappas, betas)):\n",
      "        dispersed_2_0_data.append(disperse_data(data_, gradient_directions, shell_indices,\n",
      "                                            mu=(0, 0), psi=0, kappa=kappa_, beta=beta_))\n",
      "        dispersed_2_0_parameters.append([fractions_2_0[i], kappa_, beta_])\n",
      "dispersed_2_0_data = np.array(dispersed_2_0_data)\n",
      "dispersed_2_0_parameters = np.array(dispersed_2_0_parameters)\n",
      "\n",
      "np.savetxt(join(DATA_PATH, 'data_camino_dispersed_D2_0.txt'), dispersed_2_0_data)\n",
      "np.savetxt(join(DATA_PATH, 'parameters_camino_dispersed_D2_0.txt'), dispersed_2_0_parameters)"
     ],
     "language": "python",
     "metadata": {},
     "outputs": [],
     "prompt_number": 9
    },
    {
     "cell_type": "code",
     "collapsed": false,
     "input": [
      "dispersed_2_3_data = []\n",
      "dispersed_2_3_parameters = []\n",
      "for i, data_ in enumerate(data_2_3):\n",
      "    for j, (kappa_, beta_) in enumerate(zip(kappas, betas)):\n",
      "        dispersed_2_3_data.append(disperse_data(data_, gradient_directions, shell_indices,\n",
      "                                            mu=(0, 0), psi=0, kappa=kappa_, beta=beta_))\n",
      "        dispersed_2_3_parameters.append([fractions_2_3[i], kappa_, beta_])\n",
      "dispersed_2_3_data = np.array(dispersed_2_3_data)\n",
      "dispersed_2_3_parameters = np.array(dispersed_2_3_parameters)\n",
      "\n",
      "np.savetxt(join(DATA_PATH, 'data_camino_dispersed_D2_3.txt'), dispersed_2_3_data)\n",
      "np.savetxt(join(DATA_PATH, 'parameters_camino_dispersed_D2_3.txt'), dispersed_2_3_parameters)"
     ],
     "language": "python",
     "metadata": {},
     "outputs": [],
     "prompt_number": 10
    },
    {
     "cell_type": "code",
     "collapsed": false,
     "input": [],
     "language": "python",
     "metadata": {},
     "outputs": []
    }
   ],
   "metadata": {}
  }
 ]
}