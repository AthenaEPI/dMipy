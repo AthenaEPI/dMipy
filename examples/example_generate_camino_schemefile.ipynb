{
 "metadata": {
  "name": "example_generate_camino_schemefile.ipynb"
 },
 "nbformat": 3,
 "nbformat_minor": 0,
 "worksheets": [
  {
   "cells": [
    {
     "cell_type": "code",
     "collapsed": false,
     "input": [
      "import os\n",
      "from microstruktur.signal_models import g_from_b\n",
      "gradient_folder = '/user/rfick/home/microstruktur/microstruktur/gradient_tables/'"
     ],
     "language": "python",
     "metadata": {},
     "outputs": [],
     "prompt_number": 1
    },
    {
     "cell_type": "code",
     "collapsed": false,
     "input": [
      "bvals_hcp = np.loadtxt(gradient_folder + 'bvals_hcp_wu_minn.txt')  # in s/mm^2, shape (N)\n",
      "bvecs_hcp = np.loadtxt(gradient_folder + 'bvecs_hcp_wu_minn.txt').T  # Cartesian unit vectors, shape(N x 3)\n",
      "delta, Delta = np.loadtxt(gradient_folder + 'delta_Delta_hcp_wu_minn.txt', skiprows=1)  # in seconds\n",
      "G = g_from_b(bvals_hcp * 1e6, delta, Delta)  # gradient strength in T/m. bvals input as s/m^2 so x10^6\n",
      "G[G == 5.] = 0.  # set b0 measurements to 0 explicitly\n",
      "TE = 2 * delta + Delta + 0.001"
     ],
     "language": "python",
     "metadata": {},
     "outputs": [],
     "prompt_number": 3
    },
    {
     "cell_type": "raw",
     "metadata": {},
     "source": [
      "Camino schemefiles are formed as:\n",
      "\n",
      "VERSION: STEJSKALTANNER\n",
      "x_1, y_1, z_1, |G_1|, DELTA_1, delta_1, TE_1\n",
      "x_2 ...\n",
      "...\n",
      "\n",
      "where x, y, z are the orientations of the b-vectors, |G| is the gradient strength, DELTA is the pulse separation, delta is the pulse length and TE is the Echo Time. Everything is in SI units, so a Connectom gradient strength of 300 mT/m is put in as 0.3 T/m for example.\n",
      "\n",
      "Reference: http://camino.cs.ucl.ac.uk/index.php?n=Docs.SchemeFiles"
     ]
    },
    {
     "cell_type": "code",
     "collapsed": false,
     "input": [
      "N = len(bvals_hcp)  # length of acquisition\n",
      "scheme = np.concatenate([bvecs_hcp, G[:, None].T,\n",
      "                         np.tile(Delta, (1, N)),\n",
      "                         np.tile(delta, (1, N)),\n",
      "                         np.tile(TE, (1, N))], axis=0).T  # camino schemefile of size (N x 7)\n",
      "header = np.array([['VERSION: STEJSKALTANNER' ,'','','','','','']])  # clumsy way to make an array with text\n",
      "scheme_with_header = np.concatenate([text, scheme], axis=0)  # the to-be-saved schemefile\n",
      "np.savetxt(gradient_folder + 'schemefile_hcp_wu_minn.scheme1', scheme_with_header, fmt=\"%s\")"
     ],
     "language": "python",
     "metadata": {},
     "outputs": [],
     "prompt_number": 37
    },
    {
     "cell_type": "code",
     "collapsed": false,
     "input": [],
     "language": "python",
     "metadata": {},
     "outputs": []
    }
   ],
   "metadata": {}
  }
 ]
}