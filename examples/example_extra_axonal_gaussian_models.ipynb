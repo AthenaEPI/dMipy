{
 "cells": [
  {
   "cell_type": "markdown",
   "metadata": {
    "collapsed": true
   },
   "source": [
    "# Extra-Axonal Gaussian Models"
   ]
  },
  {
   "cell_type": "code",
   "execution_count": 1,
   "metadata": {
    "collapsed": true
   },
   "outputs": [],
   "source": [
    "from microstruktur.signal_models import three_dimensional_models, dispersed_models"
   ]
  },
  {
   "cell_type": "markdown",
   "metadata": {},
   "source": [
    "Gaussian models that are typically used to described extra-axonal diffusion. Briefly, we have:  \n",
    "- Dot model: Compartment in which diffusion is negligble, i.e. diffusion coefficients is zero.\n",
    "- Ball model: Isotropic Gaussian diffusion with diffusion coefficients $\\lambda_{iso}$.\n",
    "- Zeppelin Model: Axially symmetric Gaussian tensor, oriented along orientation $\\mu$ with parallel and perpendicular diffusivity $\\lambda_\\parallel$ and $\\lambda_\\perp$.\n",
    "- Restricted zeppeling model: Axially symmetric Gaussian tensor with time-dependent perpendicular diffusion to account for diffusion restricted in the extra-axonal space between axons. Instead of $\\lambda_\\perp$, this model has $\\lambda_{inf}$ and characteristic coefficient $A$."
   ]
  },
  {
   "cell_type": "code",
   "execution_count": null,
   "metadata": {
    "collapsed": true
   },
   "outputs": [],
   "source": [
    "gaussian_dot = three_dimensional_models.E2Dot()\n",
    "gaussian_ball = three_dimensional_models.E3Ball()\n",
    "gaussian_zeppelin = three_dimensional_models.E4Zeppelin()\n",
    "gaussian_restricted_zeppelin = three_dimensional_models.E5RestrictedZeppelin()"
   ]
  },
  {
   "cell_type": "markdown",
   "metadata": {},
   "source": [
    "# Dispersed Cylinder Models"
   ]
  },
  {
   "cell_type": "markdown",
   "metadata": {},
   "source": [
    "Parametric angular distributions such as the Bingham and Watson are typically used to model axonal dispersion, and we provide a more detailed explanation of these distributions at the [axon dispersion tutorial](https://github.com/AthenaEPI/microstruktur/blob/master/examples/example_watson_bingham.ipynb).\n",
    "\n",
    "Basically, we can disperse any axially symmetric model (such as a cylinder or zeppelin) using a Watson or Bingham distribution. Using a Watson distribution, along with the standard model parameters (i.e. $\\lambda_\\parallel$ and $\\mu$ for the Stick for example), now concentration parameter $\\kappa$ sets the concentration of the Sticks. $\\kappa=0$ is a completely isotropic distribution, while $\\kappa\\rightarrow\\infty$ is a Delta function along $\\mu$.\n",
    "\n",
    "The Bingham distribution further generalizes the Watson to also include anistropic dispersion, whose anisotropy and orientation is set using secondary concentration parameter $\\beta$ and angle $\\psi$."
   ]
  },
  {
   "cell_type": "code",
   "execution_count": null,
   "metadata": {
    "collapsed": true
   },
   "outputs": [],
   "source": [
    "watson_dispersed_zeppelin = dispersed_models.SD3E4WatsonDispersedZeppelin()\n",
    "bingham_dispersed_zeppelin = dispersed_models.SD2E4BinghamDispersedZeppelin()"
   ]
  }
 ],
 "metadata": {
  "kernelspec": {
   "display_name": "Python 2",
   "language": "python",
   "name": "python2"
  },
  "language_info": {
   "codemirror_mode": {
    "name": "ipython",
    "version": 2
   },
   "file_extension": ".py",
   "mimetype": "text/x-python",
   "name": "python",
   "nbconvert_exporter": "python",
   "pygments_lexer": "ipython2",
   "version": "2.7.6"
  }
 },
 "nbformat": 4,
 "nbformat_minor": 0
}
