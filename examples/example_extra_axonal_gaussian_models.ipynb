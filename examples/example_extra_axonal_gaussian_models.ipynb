{
 "cells": [
  {
   "cell_type": "markdown",
   "metadata": {
    "collapsed": true
   },
   "source": [
    "# Gaussian Models"
   ]
  },
  {
   "cell_type": "markdown",
   "metadata": {},
   "source": [
    "Gaussian models that are typically used to described extra-axonal diffusion. Briefly, we have:  \n",
    "- Ball model: Isotropic Gaussian diffusion with diffusion coefficients $\\lambda_{iso}$.\n",
    "- Zeppelin Model: Axially symmetric Gaussian tensor, oriented along orientation $\\mu$ with parallel and perpendicular diffusivity $\\lambda_\\parallel$ and $\\lambda_\\perp$.\n",
    "- Restricted zeppeling model: Axially symmetric Gaussian tensor with time-dependent perpendicular diffusion to account for diffusion restricted in the extra-axonal space between axons. Instead of $\\lambda_\\perp$, this model has $\\lambda_{inf}$ and characteristic coefficient $A$."
   ]
  },
  {
   "cell_type": "markdown",
   "metadata": {},
   "source": [
    "## Ball: G1\n",
    "the ``Ball'' model~\\citep{behrens2003characterization} models the totallity of all extra-axonal diffusion as a Tensor with isotropic diffusivity $\\lambda_{\\textrm{iso}}$ as\n",
    "\n",
    "\\begin{equation}\n",
    "E_{\\textrm{iso}}(b,\\lambda_{\\textrm{iso}})=\\exp(-b\\lambda_{\\textrm{iso}}).\n",
    "\\end{equation}\n",
    "\n",
    "In current models, the Ball is usually only used to describe the CSF and/or grey matter compartment of the tissue, where the isotropic diffusion assumption is reasonably valid~\\citep{alexander2010orientationally,jeurissen2014multi,tariq2016bingham}."
   ]
  },
  {
   "cell_type": "code",
   "execution_count": 3,
   "metadata": {},
   "outputs": [],
   "source": [
    "from mipy.signal_models import gaussian_models\n",
    "ball = gaussian_models.G3Ball()"
   ]
  },
  {
   "cell_type": "markdown",
   "metadata": {},
   "source": [
    "## Zeppelin: G2\n",
    "Hindered extra-axonal diffusion, i.e. diffusion of particles in-between axons, is often modeled as an anisotropic, axially symmetric Gaussian, also known as a ``Zeppelin''~\\citep{panagiotaki2012compartment}.\n",
    "Using the same DTI notation as in Eq. (\\ref{eq:dti},\\ref{eq:tensor}), a Zeppelin with $\\lambda_\\parallel=\\lambda_1$, $\\lambda_\\perp=\\lambda_2=\\lambda_3$ and $\\lambda_\\parallel>\\lambda_\\perp$ is given as\n",
    "\n",
    "\\begin{equation}\n",
    " E_h(b,\\textbf{n},\\lambda_\\parallel,\\lambda_\\perp)=\\exp(-b\\textbf{n}^T(\\textbf{R}\\textbf{D}^h_{\\textrm{diag}}\\textbf{R}^T)\\textbf{n})\\quad\\textrm{with}\\quad\n",
    " \\textbf{D}^h_{\\textrm{diag}}=\n",
    "\\begin{pmatrix}\n",
    "  \\lambda_\\parallel & 0 & 0  \\\\\n",
    "  0 & \\lambda_\\perp & 0  \\\\\n",
    "  0  & 0  & \\lambda_\\perp\n",
    " \\end{pmatrix}.\n",
    "\\end{equation}\n"
   ]
  },
  {
   "cell_type": "code",
   "execution_count": 4,
   "metadata": {
    "collapsed": true
   },
   "outputs": [],
   "source": [
    "zeppelin = gaussian_models.G4Zeppelin()"
   ]
  },
  {
   "cell_type": "markdown",
   "metadata": {},
   "source": [
    "## Restricted Zeppelin: G3\n",
    "In DTI, the signal attenuation decays like a Gaussian over q-value and like an expontial over diffusion time $\\tau$, see Eq. (\\ref{eq:dti}). \n",
    "However, recent works argue that hindered diffusion is actually slower-than-exponential over $\\tau$ due to how the external axon boundaries still restrict diffusing particles~\\citep{novikov2014revealing}.\n",
    "To account for this, ~\\citet{burcaw2015mesoscopic} proposed a modification to the Zeppelin as\n",
    "\n",
    "\\begin{equation}\n",
    "\\textbf{D}_{\\textrm{diag}}^{\\textrm{r}}=\n",
    "\\begin{pmatrix}\n",
    "  \\lambda_\\parallel & 0 & 0  \\\\\n",
    "  0 & \\lambda_\\perp^{\\textrm{r}} & 0  \\\\\n",
    "  0  & 0  & \\lambda_\\perp^{\\textrm{r}}\n",
    " \\end{pmatrix}\\quad\\textrm{with}\\quad\\lambda_\\perp^{\\textrm{r}}=D_{\\infty}+\\frac{A\\ln(\\Delta/\\delta)+3/2}{\\Delta-\\delta/3}\n",
    "\\end{equation}\n",
    "where perpendicular diffusivity $\\lambda_\\perp^{\\textrm{r}}$ is now time-dependent with $D_{\\infty}$ the bulk diffusion constant and $A$ is a characteristic coefficient for extra-axonal restriction.\n",
    "Notice that when $A=0$ then Eq. (\\ref{eq:novikov}) simplifies to Eq. (\\ref{eq:hindered})."
   ]
  },
  {
   "cell_type": "code",
   "execution_count": 5,
   "metadata": {
    "collapsed": true
   },
   "outputs": [],
   "source": [
    "restricted_zeppelin = gaussian_models.G5RestrictedZeppelin()"
   ]
  }
 ],
 "metadata": {
  "kernelspec": {
   "display_name": "Python 2",
   "language": "python",
   "name": "python2"
  },
  "language_info": {
   "codemirror_mode": {
    "name": "ipython",
    "version": 2
   },
   "file_extension": ".py",
   "mimetype": "text/x-python",
   "name": "python",
   "nbconvert_exporter": "python",
   "pygments_lexer": "ipython2",
   "version": "2.7.14"
  }
 },
 "nbformat": 4,
 "nbformat_minor": 1
}
