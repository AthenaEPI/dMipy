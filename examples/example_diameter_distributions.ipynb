{
 "cells": [
  {
   "cell_type": "markdown",
   "metadata": {},
   "source": [
    "## Diameter Distribution: DD1\n",
    "Histology studies show that axons do not have only one fixed diameter throughout the brain, but follow an axon diameter distribution~\\citep{aboitiz1992fiber}.\n",
    "In Microstructure Imaging, the true axon diameter distribution is usually modeled as a Gamma distribution $\\Gamma(R;\\alpha,\\beta)$ with $R$ the axon radius as half its diameter and $\\alpha$ and $\\beta$ its scale and rate parameters~\\citep{assaf2008axcaliber}.\n",
    "The probability density of a Gamma distribution is given as\n",
    "\n",
    "\\begin{equation}\n",
    " \\Gamma(R;\\alpha,\\beta)=\\frac{\\beta^\\alpha R^{\\alpha-1}e^{-R\\beta}}{\\Gamma(\\alpha)}\n",
    "\\end{equation}\n",
    "\n",
    "with $\\Gamma(\\alpha)$ a Gamma function.\n",
    "However, we must take the cross-sectional area of these cylinders into account to relate this Gamma distribution of cylinder radii to the signal attenuation of this distribution of cylinders.\n",
    "The reason for this is that it is not the cylinders themselves, but the (simulated) particles diffusing inside these cylinders that are contributing to the signal attenuation.\n",
    "The final perpendicular, intra-cylindrical signal attenuation for a Gamma-distributed cylinder ensemble, using any of the previously describe cylinder representations, is then given as\n",
    "\n",
    "\\begin{equation}\n",
    "E^{\\Gamma}_\\perp(q,\\Delta,\\delta;\\alpha,\\beta)=\\frac{\\int_{\\mathbb{R}^+}\\overbrace{\\Gamma(R;\\alpha,\\beta)}^{\\textrm{Gamma Distribution}}\\times\\overbrace{E_\\perp(q,\\Delta,\\delta,R)}^{\\textrm{Cylinder Signal Attenuation}}\\times \\overbrace{\\pi R^2}^{\\textrm{Surface Correction}} dR}{\\underbrace{\\int_{\\mathbb{R}^+}\\Gamma(R;\\alpha,\\beta)\\times \\pi R^2dR}_{\\textrm{Normalization}}}\n",
    "\\end{equation}"
   ]
  },
  {
   "cell_type": "code",
   "execution_count": 2,
   "metadata": {
    "collapsed": true
   },
   "outputs": [],
   "source": [
    "from microstruktur.distributions import distributions\n",
    "gamma = distributions.DD1GammaDistribution()"
   ]
  }
 ],
 "metadata": {
  "kernelspec": {
   "display_name": "Python 2",
   "language": "python",
   "name": "python2"
  },
  "language_info": {
   "codemirror_mode": {
    "name": "ipython",
    "version": 2
   },
   "file_extension": ".py",
   "mimetype": "text/x-python",
   "name": "python",
   "nbconvert_exporter": "python",
   "pygments_lexer": "ipython2",
   "version": "2.7.14"
  }
 },
 "nbformat": 4,
 "nbformat_minor": 2
}
