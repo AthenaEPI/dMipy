{
 "metadata": {
  "name": "example_necessity_for_diffusivity_scaling.ipynb"
 },
 "nbformat": 3,
 "nbformat_minor": 0,
 "worksheets": [
  {
   "cells": [
    {
     "cell_type": "heading",
     "level": 1,
     "metadata": {},
     "source": [
      "Illustration of need for diffusivity scaling for optimization"
     ]
    },
    {
     "cell_type": "code",
     "collapsed": false,
     "input": [
      "from microstruktur.signal_models import three_dimensional_models\n",
      "from microstruktur.signal_models import spherical_mean\n",
      "from microstruktur.signal_models.utils import T1_tortuosity\n",
      "from scipy.special import erf\n",
      "from os.path import join\n",
      "from scipy import optimize"
     ],
     "language": "python",
     "metadata": {},
     "outputs": [],
     "prompt_number": 30
    },
    {
     "cell_type": "code",
     "collapsed": false,
     "input": [
      "import pkg_resources\n",
      "DATA_PATH = '/user/rfick/home/microstruktur/microstruktur/data/'\n",
      "# DATA_PATH = pkg_resources.resource_filename(\n",
      "#     'microstruktur', 'data/'\n",
      "# )"
     ],
     "language": "python",
     "metadata": {},
     "outputs": [],
     "prompt_number": 5
    },
    {
     "cell_type": "code",
     "collapsed": false,
     "input": [
      "DIFFUSIVITY_SCALING = 1e-3"
     ],
     "language": "python",
     "metadata": {},
     "outputs": [],
     "prompt_number": 28
    },
    {
     "cell_type": "markdown",
     "metadata": {},
     "source": [
      "Here I took the spherical mean classes from three_dimensional_models and made one without scaling and one with scaling."
     ]
    },
    {
     "cell_type": "code",
     "collapsed": false,
     "input": [
      "class I1StickSphericalMean_with_scaling(three_dimensional_models.MicrostrukturModel):\n",
      "    _parameter_ranges = {\n",
      "        'lambda_par': (0, np.inf)\n",
      "    }\n",
      "\n",
      "    def __init__(self, mu=None, lambda_par=None):\n",
      "        self.lambda_par = lambda_par\n",
      "\n",
      "    def __call__(self, bvals, n, shell_indices, **kwargs):\n",
      "        lambda_par = kwargs.get('lambda_par', self.lambda_par) * DIFFUSIVITY_SCALING\n",
      "        E_mean = ((np.sqrt(np.pi) * erf(np.sqrt(bvals * lambda_par))) /\n",
      "                  (2 * np.sqrt(bvals * lambda_par)))\n",
      "        return E_mean\n",
      "\n",
      "\n",
      "class E4ZeppelinSphericalMean_with_scaling(three_dimensional_models.MicrostrukturModel):\n",
      "    _parameter_ranges = {\n",
      "        'lambda_par': (0, np.inf),\n",
      "        'lambda_perp': (0, np.inf)\n",
      "    }\n",
      "\n",
      "    def __init__(self, lambda_par=None, lambda_perp=None):\n",
      "        self.lambda_par = lambda_par\n",
      "        self.lambda_perp = lambda_perp\n",
      "\n",
      "    def __call__(self, bvals, n, shell_indices, **kwargs):\n",
      "        lambda_par = kwargs.get('lambda_par', self.lambda_par) * DIFFUSIVITY_SCALING\n",
      "        lambda_perp = kwargs.get('lambda_perp', self.lambda_perp) * DIFFUSIVITY_SCALING\n",
      "\n",
      "        exp_bl = np.exp(-bvals * lambda_perp)\n",
      "        sqrt_bl = np.sqrt(bvals * (lambda_par - lambda_perp))\n",
      "        E_mean = exp_bl * np.sqrt(np.pi) * erf(sqrt_bl) / (2 * sqrt_bl)\n",
      "        return E_mean\n",
      "    \n",
      "class I1StickSphericalMean_no_scaling(three_dimensional_models.MicrostrukturModel):\n",
      "    _parameter_ranges = {\n",
      "        'lambda_par': (0, np.inf)\n",
      "    }\n",
      "\n",
      "    def __init__(self, mu=None, lambda_par=None):\n",
      "        self.lambda_par = lambda_par\n",
      "\n",
      "    def __call__(self, bvals, n, shell_indices, **kwargs):\n",
      "        lambda_par = kwargs.get('lambda_par', self.lambda_par)# * DIFFUSIVITY_SCALING\n",
      "        E_mean = ((np.sqrt(np.pi) * erf(np.sqrt(bvals * lambda_par))) /\n",
      "                  (2 * np.sqrt(bvals * lambda_par)))\n",
      "        return E_mean\n",
      "\n",
      "\n",
      "class E4ZeppelinSphericalMean_no_scaling(three_dimensional_models.MicrostrukturModel):\n",
      "    _parameter_ranges = {\n",
      "        'lambda_par': (0, np.inf),\n",
      "        'lambda_perp': (0, np.inf)\n",
      "    }\n",
      "\n",
      "    def __init__(self, lambda_par=None, lambda_perp=None):\n",
      "        self.lambda_par = lambda_par\n",
      "        self.lambda_perp = lambda_perp\n",
      "\n",
      "    def __call__(self, bvals, n, shell_indices, **kwargs):\n",
      "        lambda_par = kwargs.get('lambda_par', self.lambda_par)# * DIFFUSIVITY_SCALING\n",
      "        lambda_perp = kwargs.get('lambda_perp', self.lambda_perp)# * DIFFUSIVITY_SCALING\n",
      "\n",
      "        exp_bl = np.exp(-bvals * lambda_perp)\n",
      "        sqrt_bl = np.sqrt(bvals * (lambda_par - lambda_perp))\n",
      "        E_mean = exp_bl * np.sqrt(np.pi) * erf(sqrt_bl) / (2 * sqrt_bl)\n",
      "        return E_mean"
     ],
     "language": "python",
     "metadata": {},
     "outputs": [],
     "prompt_number": 15
    },
    {
     "cell_type": "heading",
     "level": 2,
     "metadata": {},
     "source": [
      "spherical mean of data"
     ]
    },
    {
     "cell_type": "code",
     "collapsed": false,
     "input": [
      "bvals = np.loadtxt(join(three_dimensional_models.GRADIENT_TABLES_PATH, 'bvals_hcp_wu_minn.txt'))\n",
      "gradient_directions = np.loadtxt(join(three_dimensional_models.GRADIENT_TABLES_PATH, 'bvecs_hcp_wu_minn.txt'))"
     ],
     "language": "python",
     "metadata": {},
     "outputs": [],
     "prompt_number": 6
    },
    {
     "cell_type": "code",
     "collapsed": false,
     "input": [
      "data = np.loadtxt(join(DATA_PATH, 'data_camino_D1_7.txt'))\n",
      "fractions = np.loadtxt(DATA_PATH +'fractions_camino_D1_7.txt')"
     ],
     "language": "python",
     "metadata": {},
     "outputs": [],
     "prompt_number": 7
    },
    {
     "cell_type": "code",
     "collapsed": false,
     "input": [
      "# to be made for convenient later\n",
      "bshell_indices = np.round(bvals / 1e3)\n",
      "shell_bvals = np.linspace(1, 3, 3) * 1e3\n",
      "\n",
      "number_of_shells = bshell_indices.max()\n",
      "data_spherical_means = np.zeros((data.shape[0], number_of_shells))\n",
      "for i, data_ in enumerate(data):\n",
      "    data_spherical_means[i] = spherical_mean.estimate_spherical_mean_multi_shell(\n",
      "                                data_, gradient_directions, bshell_indices)"
     ],
     "language": "python",
     "metadata": {},
     "outputs": [],
     "prompt_number": 24
    },
    {
     "cell_type": "heading",
     "level": 2,
     "metadata": {},
     "source": [
      "Set up the optimization with and without scaling"
     ]
    },
    {
     "cell_type": "code",
     "collapsed": false,
     "input": [
      "def parameter_equality(param):\n",
      "    return param"
     ],
     "language": "python",
     "metadata": {},
     "outputs": [],
     "prompt_number": 16
    },
    {
     "cell_type": "code",
     "collapsed": false,
     "input": [
      "stick_mean_with_scaling = I1StickSphericalMean_with_scaling()\n",
      "zeppelin_mean_with_scaling = E4ZeppelinSphericalMean_with_scaling()\n",
      "\n",
      "stick_mean_no_scaling = I1StickSphericalMean_no_scaling()\n",
      "zeppelin_mean_no_scaling = E4ZeppelinSphericalMean_no_scaling()"
     ],
     "language": "python",
     "metadata": {},
     "outputs": [],
     "prompt_number": 20
    },
    {
     "cell_type": "code",
     "collapsed": false,
     "input": [
      "parameter_links = [\n",
      "    (  # tortuosity assumption\n",
      "        zeppelin_mean_with_scaling, 'lambda_perp',\n",
      "        T1_tortuosity, [\n",
      "            (None, 'partial_volume_0'),\n",
      "            (stick_mean_with_scaling, 'lambda_par')\n",
      "        ]\n",
      "    ),\n",
      "    (  # equal parallel diffusivities\n",
      "         zeppelin_mean_with_scaling, 'lambda_par',\n",
      "         parameter_equality, [\n",
      "            (stick_mean_with_scaling, 'lambda_par')\n",
      "        ]\n",
      "     )\n",
      "]\n",
      "mc_smt_with_scaling = three_dimensional_models.PartialVolumeCombinedMicrostrukturModel(\n",
      "    [stick_mean_with_scaling, zeppelin_mean_with_scaling], parameter_links=parameter_links, optimise_partial_volumes=True)"
     ],
     "language": "python",
     "metadata": {},
     "outputs": [],
     "prompt_number": 23
    },
    {
     "cell_type": "code",
     "collapsed": false,
     "input": [
      "parameter_links = [\n",
      "    (  # tortuosity assumption\n",
      "        zeppelin_mean_no_scaling, 'lambda_perp',\n",
      "        T1_tortuosity, [\n",
      "            (None, 'partial_volume_0'),\n",
      "            (stick_mean_no_scaling, 'lambda_par')\n",
      "        ]\n",
      "    ),\n",
      "    (  # equal parallel diffusivities\n",
      "         zeppelin_mean_no_scaling, 'lambda_par',\n",
      "         parameter_equality, [\n",
      "            (stick_mean_no_scaling, 'lambda_par')\n",
      "        ]\n",
      "     )\n",
      "]\n",
      "mc_smt_no_scaling = three_dimensional_models.PartialVolumeCombinedMicrostrukturModel(\n",
      "    [stick_mean_no_scaling, zeppelin_mean_no_scaling], parameter_links=parameter_links, optimise_partial_volumes=True)"
     ],
     "language": "python",
     "metadata": {},
     "outputs": [],
     "prompt_number": 22
    },
    {
     "cell_type": "heading",
     "level": 2,
     "metadata": {},
     "source": [
      "Optimize with and without scaling"
     ]
    },
    {
     "cell_type": "code",
     "collapsed": false,
     "input": [
      "x0 = mc_smt_with_scaling.parameters_to_parameter_vector(\n",
      "    I1StickSphericalMean_with_scaling_1_lambda_par=.6e-3, partial_volume_0=0.55)\n",
      "\n",
      "results_mc_smt_with_scaling = np.zeros((data.shape[0], 2))\n",
      "for i, data_spherical_mean_ in enumerate(data_spherical_means):\n",
      "    res = optimize.minimize(mc_smt_with_scaling.objective_function, x0,\n",
      "                            (shell_bvals, gradient_directions[:3], data_spherical_mean_),\n",
      "                            bounds=mc_smt_with_scaling.bounds_for_optimization, options={'disp': True})\n",
      "    results_mc_smt_with_scaling[i] = res.x\n",
      "    \n",
      "x0 = mc_smt_no_scaling.parameters_to_parameter_vector(\n",
      "    I1StickSphericalMean_no_scaling_1_lambda_par=.6e-3, partial_volume_0=0.55)\n",
      "\n",
      "results_mc_smt_no_scaling = np.zeros((data.shape[0], 2))\n",
      "for i, data_spherical_mean_ in enumerate(data_spherical_means):\n",
      "    res = optimize.minimize(mc_smt_no_scaling.objective_function, x0,\n",
      "                            (shell_bvals, gradient_directions[:3], data_spherical_mean_),\n",
      "                            bounds=mc_smt_no_scaling.bounds_for_optimization, options={'disp': True})\n",
      "    results_mc_smt_no_scaling[i] = res.x"
     ],
     "language": "python",
     "metadata": {},
     "outputs": [],
     "prompt_number": 31
    },
    {
     "cell_type": "markdown",
     "metadata": {},
     "source": [
      "You can see that without scaling the optimization stays at the initial value of the volume fraction no matter the data. "
     ]
    },
    {
     "cell_type": "code",
     "collapsed": false,
     "input": [
      "ax = plt.subplot(121)\n",
      "ax.scatter(results_mc_smt_with_scaling[:, -1], fractions)\n",
      "plot([0, 1], [0, 1])\n",
      "ylim(0, 1)\n",
      "xlim(0, 1)\n",
      "ylabel('ground truth volume fraction')\n",
      "xlabel('estimated volume fraction')\n",
      "title('vf_intra with scaling')\n",
      "\n",
      "ax = plt.subplot(122)\n",
      "ax.scatter(results_mc_smt_no_scaling[:, -1], fractions)\n",
      "plot([0, 1], [0, 1])\n",
      "ylim(0, 1)\n",
      "xlim(0, 1)\n",
      "title('vf_intra without scaling')\n",
      "xlabel('estimated volume fraction')"
     ],
     "language": "python",
     "metadata": {},
     "outputs": [
      {
       "metadata": {},
       "output_type": "pyout",
       "prompt_number": 69,
       "text": [
        "<matplotlib.text.Text at 0xaea6090>"
       ]
      },
      {
       "metadata": {},
       "output_type": "display_data",
       "png": "[encoded data removed]",
       "text": [
        "<matplotlib.figure.Figure at 0x8b740d0>"
       ]
      }
     ],
     "prompt_number": 69
    },
    {
     "cell_type": "markdown",
     "metadata": {},
     "source": [
      "showing the diffusivity estimates it's clear that with scaling approximately the ground truth diffusivity is recovered (1.7), while without scaling you find a much larger range"
     ]
    },
    {
     "cell_type": "code",
     "collapsed": false,
     "input": [
      "ax = plt.subplot(121)\n",
      "ax.hist(results_mc_smt_with_scaling[:, 0], range=[0, 3], bins=20)\n",
      "ax.axvline(x=1.7, ymax=100, c='r', lw=3)\n",
      "title('diffusivity with scaling')\n",
      "xlabel('diffusivity')\n",
      "\n",
      "ax = plt.subplot(122)\n",
      "ax.hist(results_mc_smt_no_scaling[:, 0]* 1e3, range=[0, 3], bins=20)\n",
      "ax.axvline(x=1.7, ymax=100, c='r', lw=3)\n",
      "title('diffusivity without scaling')\n",
      "xlabel('diffusivity')"
     ],
     "language": "python",
     "metadata": {},
     "outputs": [
      {
       "metadata": {},
       "output_type": "pyout",
       "prompt_number": 77,
       "text": [
        "<matplotlib.text.Text at 0xd0e9e90>"
       ]
      },
      {
       "metadata": {},
       "output_type": "display_data",
       "png": "[encoded data removed]",
       "text": [
        "<matplotlib.figure.Figure at 0xcb4d310>"
       ]
      }
     ],
     "prompt_number": 77
    },
    {
     "cell_type": "markdown",
     "metadata": {},
     "source": [
      "Also, I just showed the physical range of 0-3 with 3 being free water diffusivity.\n",
      "87 out of the 110 data solutions without scaling has a solution outside this range:"
     ]
    },
    {
     "cell_type": "code",
     "collapsed": false,
     "input": [
      "results_mc_smt_no_scaling.shape[0]"
     ],
     "language": "python",
     "metadata": {},
     "outputs": [
      {
       "metadata": {},
       "output_type": "pyout",
       "prompt_number": 81,
       "text": [
        "110"
       ]
      }
     ],
     "prompt_number": 81
    },
    {
     "cell_type": "code",
     "collapsed": false,
     "input": [
      "sum(results_mc_smt_no_scaling[:, 0]* 1e3 > 3)"
     ],
     "language": "python",
     "metadata": {},
     "outputs": [
      {
       "metadata": {},
       "output_type": "pyout",
       "prompt_number": 82,
       "text": [
        "87"
       ]
      }
     ],
     "prompt_number": 82
    },
    {
     "cell_type": "code",
     "collapsed": false,
     "input": [],
     "language": "python",
     "metadata": {},
     "outputs": []
    }
   ],
   "metadata": {}
  }
 ]
}