{
 "cells": [
  {
   "cell_type": "markdown",
   "metadata": {},
   "source": [
    "# Loading acquisition parameters and setting up an acquisition scheme"
   ]
  },
  {
   "cell_type": "markdown",
   "metadata": {},
   "source": [
    "## Setting up a Mipy acquisition scheme by loading acquisition parameters"
   ]
  },
  {
   "cell_type": "markdown",
   "metadata": {},
   "source": [
    "The first thing to do is to load the parameters of some acquisition scheme. Typically, the b-values and gradient directions, along with the used pulse duration time $\\delta$ and pulse separation time $\\Delta$ are known. The Microstruktur toolbox uses SI units, so be careful, as bvalues are typically saved in $s/mm^2$, but we need them in $s/m^2$.\n",
    "\n",
    "As an example we load the acquisition parameters of the WU-MINN Human Connectome Project:"
   ]
  },
  {
   "cell_type": "code",
   "execution_count": 1,
   "metadata": {
    "collapsed": false
   },
   "outputs": [],
   "source": [
    "# load the necessary modules\n",
    "from mipy.core import modeling_framework\n",
    "from mipy.acquisition_scheme.acquisition_scheme import acquisition_scheme_from_bvalues\n",
    "from os.path import join\n",
    "import numpy as np\n",
    "\n",
    "# the HCP acquisition parameters are saved in the following toolbox path:\n",
    "acquisition_path = modeling_framework.GRADIENT_TABLES_PATH\n",
    "\n",
    "# we can then load the parameters themselves and convert them to SI units:\n",
    "bvalues = np.loadtxt(join(acquisition_path, 'bvals_hcp_wu_minn.txt'))  # given in s/mm^2\n",
    "bvalues_SI = bvalues * 1e6  # now given in SI units as s/m^2\n",
    "gradient_directions = np.loadtxt(join(acquisition_path, 'bvecs_hcp_wu_minn.txt'))  # on the unit sphere\n",
    "\n",
    "# The delta and Delta times we know from the HCP documentation in seconds\n",
    "delta = 0.0106  \n",
    "Delta = 0.0431 \n",
    "\n",
    "# The acquisition scheme we use in the toolbox is then simply created as follows:\n",
    "acq_scheme = acquisition_scheme_from_bvalues(bvalues_SI, gradient_directions, delta, Delta)"
   ]
  },
  {
   "cell_type": "markdown",
   "metadata": {},
   "source": [
    "From the acquisition scheme, some basic information can be called using the following command:"
   ]
  },
  {
   "cell_type": "code",
   "execution_count": 2,
   "metadata": {
    "collapsed": false
   },
   "outputs": [
    {
     "name": "stdout",
     "output_type": "stream",
     "text": [
      "Acquisition scheme summary\n",
      "\n",
      "total number of measurements: 288\n",
      "number of b0 measurements: 18\n",
      "number of DWI shells: 3\n",
      "\n",
      "shell_index |# of DWIs |bvalue [s/mm^2] |gradient strength [mT/m] |delta [ms] |Delta[ms]\n",
      "0           |18        |0               |0                        |10.6       |43.1 \n",
      "1           |90        |1000            |56                       |10.6       |43.1 \n",
      "2           |90        |2000            |79                       |10.6       |43.1 \n",
      "3           |90        |3000            |97                       |10.6       |43.1 \n"
     ]
    }
   ],
   "source": [
    "acq_scheme.print_acquisition_info"
   ]
  },
  {
   "cell_type": "markdown",
   "metadata": {},
   "source": [
    "As the summary shows, the function automatically separates the different acquisition shells and detects b0 measurements.  \n",
    "Other metrics such as qvalues, gradient strengths, diffusion times and the shell_indices can also be explicitly called as follows:"
   ]
  },
  {
   "cell_type": "code",
   "execution_count": 3,
   "metadata": {
    "collapsed": false
   },
   "outputs": [],
   "source": [
    "acq_scheme.bvalues;  # bvalues in s/m^2\n",
    "acq_scheme.gradient_directions;  # gradient directions on the unit sphere\n",
    "acq_scheme.gradient_strengths;  # the gradient strength in T/m\n",
    "acq_scheme.qvalues;  # describes the diffusion sensitization in 1/m\n",
    "acq_scheme.tau;  # diffusion time as Delta - delta / 3. in seconds\n",
    "acq_scheme.shell_indices;  # index assigned to each shell. 0 is assigned to b0 measurements"
   ]
  },
  {
   "cell_type": "markdown",
   "metadata": {},
   "source": [
    "## Setting up a Mipy acquisition scheme by converting a Dipy GradientTable"
   ]
  },
  {
   "cell_type": "markdown",
   "metadata": {},
   "source": [
    "Dipy's GradientTable and Mipy's AcquisitionScheme both store and verify a dataset's acquisition parameters to later be used in fitting some model. For convenience, we provide the possibility to convert a dipy table to a mipy scheme using a simple conversion function."
   ]
  },
  {
   "cell_type": "code",
   "execution_count": 4,
   "metadata": {
    "collapsed": false
   },
   "outputs": [
    {
     "name": "stdout",
     "output_type": "stream",
     "text": [
      "Acquisition scheme summary\n",
      "\n",
      "total number of measurements: 288\n",
      "number of b0 measurements: 18\n",
      "number of DWI shells: 3\n",
      "\n",
      "shell_index |# of DWIs |bvalue [s/mm^2] |gradient strength [mT/m] |delta [ms] |Delta[ms]\n",
      "0           |18        |0               |0                        |10.6       |43.1 \n",
      "1           |90        |1000            |56                       |10.6       |43.1 \n",
      "2           |90        |2000            |79                       |10.6       |43.1 \n",
      "3           |90        |3000            |97                       |10.6       |43.1 \n"
     ]
    }
   ],
   "source": [
    "from dipy.core.gradients import gradient_table\n",
    "from mipy.acquisition_scheme.acquisition_scheme import gtab_dipy2mipy\n",
    "gtab_dipy = gradient_table(bvalues, gradient_directions, big_delta=Delta, small_delta=delta)\n",
    "acq_scheme_mipy = gtab_dipy2mipy(gtab_dipy)\n",
    "acq_scheme_mipy.print_acquisition_info"
   ]
  },
  {
   "cell_type": "markdown",
   "metadata": {},
   "source": [
    "As you can see, the result is exactly the same. Note that the conversion requires that big_delta and small_delta are both set in the gradient_table!"
   ]
  }
 ],
 "metadata": {
  "kernelspec": {
   "display_name": "Python 2",
   "language": "python",
   "name": "python2"
  },
  "language_info": {
   "codemirror_mode": {
    "name": "ipython",
    "version": 2
   },
   "file_extension": ".py",
   "mimetype": "text/x-python",
   "name": "python",
   "nbconvert_exporter": "python",
   "pygments_lexer": "ipython2",
   "version": "2.7.6"
  }
 },
 "nbformat": 4,
 "nbformat_minor": 0
}
