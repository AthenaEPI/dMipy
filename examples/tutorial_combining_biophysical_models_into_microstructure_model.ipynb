{
 "cells": [
  {
   "cell_type": "markdown",
   "metadata": {},
   "source": [
    "# Simulating and fitting data using Ball & Stick model"
   ]
  },
  {
   "cell_type": "markdown",
   "metadata": {},
   "source": [
    "As in the previous tutorial we first create an acquisition scheme that we will use to simulate and fit data."
   ]
  },
  {
   "cell_type": "code",
   "execution_count": 1,
   "metadata": {
    "collapsed": true
   },
   "outputs": [],
   "source": [
    "# load the necessary modules\n",
    "from microstruktur.signal_models import cylinder_models, gaussian_models\n",
    "from microstruktur.core import modeling_framework\n",
    "from microstruktur.acquisition_scheme.acquisition_scheme import acquisition_scheme_from_bvalues\n",
    "from os.path import join\n",
    "import numpy as np\n",
    "\n",
    "acquisition_path = modeling_framework.GRADIENT_TABLES_PATH\n",
    "bvalues_SI = np.loadtxt(join(acquisition_path, 'bvals_hcp_wu_minn.txt')) * 1e6  # in s/m^2\n",
    "gradient_directions = np.loadtxt(join(acquisition_path, 'bvecs_hcp_wu_minn.txt'))  # on unit sphere\n",
    "delta = 0.0106 # in seconds\n",
    "Delta = 0.0431 # in seconds\n",
    "acq_scheme = acquisition_scheme_from_bvalues(\n",
    "    bvalues_SI, gradient_directions, delta, Delta)"
   ]
  },
  {
   "cell_type": "markdown",
   "metadata": {},
   "source": [
    "Now to make our first multi-compartment Microstructure model! Don't worry, we start with a simple Ball & Stick model, and the procedure will be very simple and similar as before. First, we instantiate the models we want:"
   ]
  },
  {
   "cell_type": "code",
   "execution_count": 2,
   "metadata": {
    "collapsed": false
   },
   "outputs": [],
   "source": [
    "stick = cylinder_models.C1Stick()\n",
    "ball = gaussian_models.G3Ball()"
   ]
  },
  {
   "cell_type": "markdown",
   "metadata": {},
   "source": [
    "Next, we combine them into one model using PartialVolumeCombinedMicrostructureModel.  \n",
    "Our new model will now be $E = vf * E_{Ball} + (1 - vf) * E_{Stick}$ where $vf$ is the volume fraction between zero and one."
   ]
  },
  {
   "cell_type": "code",
   "execution_count": 3,
   "metadata": {
    "collapsed": true
   },
   "outputs": [],
   "source": [
    "ball_and_stick = (\n",
    "    modeling_framework.MultiCompartmentMicrostructureModel(\n",
    "        models=[ball, stick]))"
   ]
  },
  {
   "cell_type": "markdown",
   "metadata": {},
   "source": [
    "That it! We can again figure out the required parameter names using parameter_cardinality. As we are combining models, the parameter names now have the corresponding model prepended to it."
   ]
  },
  {
   "cell_type": "code",
   "execution_count": 4,
   "metadata": {
    "collapsed": false
   },
   "outputs": [
    {
     "data": {
      "text/plain": [
       "OrderedDict([('G3Ball_1_lambda_iso', 1),\n",
       "             ('C1Stick_1_mu', 2),\n",
       "             ('C1Stick_1_lambda_par', 1),\n",
       "             ('partial_volume_0', 1)])"
      ]
     },
     "execution_count": 4,
     "metadata": {},
     "output_type": "execute_result"
    }
   ],
   "source": [
    "ball_and_stick.parameter_cardinality"
   ]
  },
  {
   "cell_type": "markdown",
   "metadata": {},
   "source": [
    "It can be seen that now 'partial_volume_0' also appears. Note that the ordering in which you give models matters for the significance of the partial_volume_0! The procedure to simulate data is now the same as before:"
   ]
  },
  {
   "cell_type": "code",
   "execution_count": 5,
   "metadata": {
    "collapsed": false
   },
   "outputs": [],
   "source": [
    "mu = (np.pi / 2., np.pi / 2.)\n",
    "lambda_par = 1e-9\n",
    "lambda_iso = .6e-9\n",
    "partial_volume = 0.5\n",
    "\n",
    "parameter_vector = ball_and_stick.parameters_to_parameter_vector(\n",
    "    C1Stick_1_lambda_par=lambda_par,\n",
    "    G3Ball_1_lambda_iso=lambda_iso,\n",
    "    C1Stick_1_mu=mu,\n",
    "    partial_volume_0=partial_volume\n",
    ")\n",
    "\n",
    "E = ball_and_stick.simulate_signal(\n",
    "    acq_scheme, parameter_vector)"
   ]
  },
  {
   "cell_type": "markdown",
   "metadata": {},
   "source": [
    "Fitting the data is also the same as before:"
   ]
  },
  {
   "cell_type": "code",
   "execution_count": 6,
   "metadata": {
    "collapsed": true
   },
   "outputs": [],
   "source": [
    "initial_mu = (np.pi / 4., np.pi / 4.)\n",
    "initial_lambda_par = 1.4e-9\n",
    "intial_lambda_iso = .2e-9\n",
    "intial_partial_volume = .3\n",
    "\n",
    "x0 = ball_and_stick.parameters_to_parameter_vector(\n",
    "    C1Stick_1_lambda_par=initial_lambda_par,\n",
    "    G3Ball_1_lambda_iso=intial_lambda_iso,\n",
    "    C1Stick_1_mu=initial_mu,\n",
    "    partial_volume_0=intial_partial_volume\n",
    ")\n",
    "res = ball_and_stick.fit(E, acq_scheme, x0)"
   ]
  },
  {
   "cell_type": "code",
   "execution_count": 7,
   "metadata": {
    "collapsed": false
   },
   "outputs": [
    {
     "data": {
      "text/plain": [
       "{'C1Stick_1_lambda_par': array([  9.99934872e-10]),\n",
       " 'C1Stick_1_mu': array([ 1.57084068,  1.57082972]),\n",
       " 'G3Ball_1_lambda_iso': array([  6.00003325e-10]),\n",
       " 'partial_volume_0': array([ 0.49997512])}"
      ]
     },
     "execution_count": 7,
     "metadata": {},
     "output_type": "execute_result"
    }
   ],
   "source": [
    "# the optimized results\n",
    "ball_and_stick.parameter_vector_to_parameters(res)"
   ]
  },
  {
   "cell_type": "code",
   "execution_count": 8,
   "metadata": {
    "collapsed": false
   },
   "outputs": [
    {
     "data": {
      "text/plain": [
       "{'C1Stick_1_lambda_par': array([  1.00000000e-09]),\n",
       " 'C1Stick_1_mu': array([ 1.57079633,  1.57079633]),\n",
       " 'G3Ball_1_lambda_iso': array([  6.00000000e-10]),\n",
       " 'partial_volume_0': array([ 0.5])}"
      ]
     },
     "execution_count": 8,
     "metadata": {},
     "output_type": "execute_result"
    }
   ],
   "source": [
    "# and the ground truth correspond\n",
    "ball_and_stick.parameter_vector_to_parameters(parameter_vector)"
   ]
  }
 ],
 "metadata": {
  "kernelspec": {
   "display_name": "Python 2",
   "language": "python",
   "name": "python2"
  },
  "language_info": {
   "codemirror_mode": {
    "name": "ipython",
    "version": 2
   },
   "file_extension": ".py",
   "mimetype": "text/x-python",
   "name": "python",
   "nbconvert_exporter": "python",
   "pygments_lexer": "ipython2",
   "version": "2.7.6"
  }
 },
 "nbformat": 4,
 "nbformat_minor": 0
}
