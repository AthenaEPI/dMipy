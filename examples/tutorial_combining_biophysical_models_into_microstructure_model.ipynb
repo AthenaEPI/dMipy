{
 "cells": [
  {
   "cell_type": "markdown",
   "metadata": {},
   "source": [
    "# Simulating and fitting data using Ball & Stick model"
   ]
  },
  {
   "cell_type": "markdown",
   "metadata": {},
   "source": [
    "As in the previous tutorial we first create an acquisition scheme that we will use to simulate and fit data."
   ]
  },
  {
   "cell_type": "code",
   "execution_count": 1,
   "metadata": {
    "collapsed": true
   },
   "outputs": [],
   "source": [
    "# load the necessary modules\n",
    "from dmipy.signal_models import cylinder_models, gaussian_models\n",
    "from dmipy.core.modeling_framework import MultiCompartmentModel\n",
    "from dmipy.data import saved_acquisition_schemes\n",
    "import numpy as np\n",
    "\n",
    "acq_scheme = saved_acquisition_schemes.wu_minn_hcp_acquisition_scheme()"
   ]
  },
  {
   "cell_type": "markdown",
   "metadata": {},
   "source": [
    "To make our first multi-compartment model, we instantiate the models we want to include:"
   ]
  },
  {
   "cell_type": "code",
   "execution_count": 2,
   "metadata": {
    "collapsed": true
   },
   "outputs": [],
   "source": [
    "stick = cylinder_models.C1Stick()\n",
    "ball = gaussian_models.G1Ball()"
   ]
  },
  {
   "cell_type": "markdown",
   "metadata": {},
   "source": [
    "Next, we combine them into one model using MultiCompartmentModel.  \n",
    "Our new model will now be $E = vf_0 * E_{Ball} + vf_1 * E_{Stick}$ where $vf_0$ and $vf_1$ are volume fractions and add up to one."
   ]
  },
  {
   "cell_type": "code",
   "execution_count": 3,
   "metadata": {},
   "outputs": [],
   "source": [
    "ball_and_stick = MultiCompartmentModel(models=[ball, stick])"
   ]
  },
  {
   "cell_type": "markdown",
   "metadata": {},
   "source": [
    "The MultiCompartmentModel automatically joins the parameters and other properties of the models that are given as input.\n",
    "\n",
    "We can again figure out the required parameter names using parameter_cardinality. As you can see, the parameter names now have the corresponding model prepended to it."
   ]
  },
  {
   "cell_type": "code",
   "execution_count": 4,
   "metadata": {},
   "outputs": [
    {
     "data": {
      "text/plain": [
       "OrderedDict([('G1Ball_1_lambda_iso', 1),\n",
       "             ('C1Stick_1_mu', 2),\n",
       "             ('C1Stick_1_lambda_par', 1),\n",
       "             ('partial_volume_0', 1),\n",
       "             ('partial_volume_1', 1)])"
      ]
     },
     "execution_count": 4,
     "metadata": {},
     "output_type": "execute_result"
    }
   ],
   "source": [
    "ball_and_stick.parameter_cardinality"
   ]
  },
  {
   "cell_type": "markdown",
   "metadata": {},
   "source": [
    "It can be seen that now 'partial_volume_0' and 'partial_volume_1' also appear. Note that the ordering in which you give models matters for the significance of the number of the partial_volume! The procedure to simulate data with some random values is the same as before:"
   ]
  },
  {
   "cell_type": "code",
   "execution_count": 5,
   "metadata": {
    "collapsed": true
   },
   "outputs": [],
   "source": [
    "mu = (np.pi / 2., np.pi / 2.)\n",
    "lambda_par = 1.7e-9\n",
    "lambda_iso = 3e-9\n",
    "partial_volume = 0.5  # we just give the same volume fraction for both fractions\n",
    "\n",
    "parameter_vector = ball_and_stick.parameters_to_parameter_vector(\n",
    "    C1Stick_1_lambda_par=lambda_par,\n",
    "    G1Ball_1_lambda_iso=lambda_iso,\n",
    "    C1Stick_1_mu=mu,\n",
    "    partial_volume_0=partial_volume,\n",
    "    partial_volume_1=partial_volume\n",
    ")\n",
    "\n",
    "E = ball_and_stick.simulate_signal(acq_scheme, parameter_vector)"
   ]
  },
  {
   "cell_type": "markdown",
   "metadata": {},
   "source": [
    "Fitting the data is also the same as before:"
   ]
  },
  {
   "cell_type": "code",
   "execution_count": 6,
   "metadata": {},
   "outputs": [
    {
     "name": "stdout",
     "output_type": "stream",
     "text": [
      "Using parallel processing with 8 workers.\n",
      "Setup brute2fine optimizer in 0.418382883072 seconds\n",
      "Fitting of 1 voxels complete in 0.292662143707 seconds.\n",
      "Average of 0.292662143707 seconds per voxel.\n"
     ]
    }
   ],
   "source": [
    "fitted_ball_and_stick = ball_and_stick.fit(acq_scheme, E)"
   ]
  },
  {
   "cell_type": "code",
   "execution_count": 7,
   "metadata": {},
   "outputs": [
    {
     "data": {
      "text/plain": [
       "{'C1Stick_1_lambda_par': array([[  1.70004007e-09]]),\n",
       " 'C1Stick_1_mu': array([[ 1.57079729, -1.57078812]]),\n",
       " 'G1Ball_1_lambda_iso': array([[  3.00000000e-09]]),\n",
       " 'partial_volume_0': array([[ 0.49999748]]),\n",
       " 'partial_volume_1': array([[ 0.50000252]])}"
      ]
     },
     "execution_count": 7,
     "metadata": {},
     "output_type": "execute_result"
    }
   ],
   "source": [
    "# the optimized results\n",
    "fitted_ball_and_stick.fitted_parameters"
   ]
  },
  {
   "cell_type": "code",
   "execution_count": 8,
   "metadata": {},
   "outputs": [
    {
     "data": {
      "text/plain": [
       "{'C1Stick_1_lambda_par': array([  1.70000000e-09]),\n",
       " 'C1Stick_1_mu': array([ 1.57079633,  1.57079633]),\n",
       " 'G1Ball_1_lambda_iso': array([  3.00000000e-09]),\n",
       " 'partial_volume_0': array([ 0.5]),\n",
       " 'partial_volume_1': array([ 0.5])}"
      ]
     },
     "execution_count": 8,
     "metadata": {},
     "output_type": "execute_result"
    }
   ],
   "source": [
    "# and the ground truth correspond\n",
    "ball_and_stick.parameter_vector_to_parameters(parameter_vector)"
   ]
  }
 ],
 "metadata": {
  "kernelspec": {
   "display_name": "Python 2",
   "language": "python",
   "name": "python2"
  },
  "language_info": {
   "codemirror_mode": {
    "name": "ipython",
    "version": 2
   },
   "file_extension": ".py",
   "mimetype": "text/x-python",
   "name": "python",
   "nbconvert_exporter": "python",
   "pygments_lexer": "ipython2",
   "version": "2.7.14"
  }
 },
 "nbformat": 4,
 "nbformat_minor": 1
}
