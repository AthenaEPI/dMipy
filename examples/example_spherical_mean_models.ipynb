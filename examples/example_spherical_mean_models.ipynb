{
 "cells": [
  {
   "cell_type": "markdown",
   "metadata": {},
   "source": [
    "# Models Based on the Spherical Mean"
   ]
  },
  {
   "cell_type": "code",
   "execution_count": 1,
   "metadata": {
    "collapsed": true
   },
   "outputs": [],
   "source": [
    "from microstruktur.signal_models import three_dimensional_models"
   ]
  },
  {
   "cell_type": "markdown",
   "metadata": {},
   "source": [
    "Finally, we also have spherical mean models that don't fit the 3D DWI signal, but only the 1D spherical mean signal over b-value.\n",
    "- Spherical mean of the Stick model.\n",
    "- Spherical mean of the Zeppelin model.\n",
    "- Spherical mean of the restricted Zeppelin model. (unpublished as far as I know)"
   ]
  },
  {
   "cell_type": "code",
   "execution_count": 2,
   "metadata": {
    "collapsed": true
   },
   "outputs": [],
   "source": [
    "spherical_mean_stick = three_dimensional_models.I1StickSphericalMean()\n",
    "spherical_mean_zeppelin = three_dimensional_models.E4ZeppelinSphericalMean()\n",
    "spherical_mean_restricted_zeppelin = three_dimensional_models.E5RestrictedZeppelinSphericalMean()"
   ]
  }
 ],
 "metadata": {
  "kernelspec": {
   "display_name": "Python 2",
   "language": "python",
   "name": "python2"
  },
  "language_info": {
   "codemirror_mode": {
    "name": "ipython",
    "version": 2
   },
   "file_extension": ".py",
   "mimetype": "text/x-python",
   "name": "python",
   "nbconvert_exporter": "python",
   "pygments_lexer": "ipython2",
   "version": "2.7.6"
  }
 },
 "nbformat": 4,
 "nbformat_minor": 0
}
