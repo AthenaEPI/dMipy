{
 "cells": [
  {
   "cell_type": "markdown",
   "metadata": {},
   "source": [
    "# Imposing parameter links: Tortuosity and Equality"
   ]
  },
  {
   "cell_type": "code",
   "execution_count": 1,
   "metadata": {
    "collapsed": false
   },
   "outputs": [],
   "source": [
    "# load the necessary modules\n",
    "from microstruktur.signal_models import cylinder_models, gaussian_models\n",
    "from microstruktur.core import modeling_framework\n",
    "from microstruktur.acquisition_scheme.acquisition_scheme import acquisition_scheme_from_bvalues\n",
    "from os.path import join\n",
    "import numpy as np\n",
    "\n",
    "acquisition_path = modeling_framework.GRADIENT_TABLES_PATH\n",
    "bvalues_SI = np.loadtxt(join(acquisition_path, 'bvals_hcp_wu_minn.txt')) * 1e6  # in s/m^2\n",
    "gradient_directions = np.loadtxt(join(acquisition_path, 'bvecs_hcp_wu_minn.txt'))  # on unit sphere\n",
    "delta = 0.0106 # in seconds\n",
    "Delta = 0.0431 # in seconds\n",
    "acq_scheme = acquisition_scheme_from_bvalues(\n",
    "    bvalues_SI, gradient_directions, delta, Delta)"
   ]
  },
  {
   "cell_type": "markdown",
   "metadata": {},
   "source": [
    "In Microstructure Imaging, microstructure models like NODDI represent the combined diffusion in the intra- and extra-axonal space as a dispersed stick and a dispersed zeppelin. NODDI further imposes two constraints on the parameters of the model:\n",
    "- Certain parameters are the same between the zeppelin and the stick, such as the orientation $\\mu$, parallel diffusivity $\\lambda_\\parallel$, and concentration $\\kappa$.\n",
    "- The model imposes a Tortuosity constraint, such that $\\lambda_\\perp=(1-vf)\\lambda_\\parallel$.\n",
    "\n",
    "The microstructure toolbox allows us to straightforwardly impose such constraints on a microstructure model.  First we instantiate the required models."
   ]
  },
  {
   "cell_type": "code",
   "execution_count": 2,
   "metadata": {
    "collapsed": false
   },
   "outputs": [],
   "source": [
    "from microstruktur.signal_models import dispersed_models\n",
    "watson_stick = dispersed_models.SD1C1WatsonDispersedStick()\n",
    "watson_zeppelin = dispersed_models.SD1G4WatsonDispersedZeppelin()"
   ]
  },
  {
   "cell_type": "markdown",
   "metadata": {},
   "source": [
    "Just combining these two models results in a model with a lot of parameters, which will probably be very hard to optimize to a global optimum."
   ]
  },
  {
   "cell_type": "code",
   "execution_count": 3,
   "metadata": {
    "collapsed": false
   },
   "outputs": [
    {
     "data": {
      "text/plain": [
       "OrderedDict([('SD1G4WatsonDispersedZeppelin_1_mu', 2),\n",
       "             ('SD1G4WatsonDispersedZeppelin_1_lambda_perp', 1),\n",
       "             ('SD1C1WatsonDispersedStick_1_kappa', 1),\n",
       "             ('SD1C1WatsonDispersedStick_1_lambda_par', 1),\n",
       "             ('SD1G4WatsonDispersedZeppelin_1_kappa', 1),\n",
       "             ('SD1C1WatsonDispersedStick_1_mu', 2),\n",
       "             ('SD1G4WatsonDispersedZeppelin_1_lambda_par', 1),\n",
       "             ('partial_volume_0', 1)])"
      ]
     },
     "execution_count": 3,
     "metadata": {},
     "output_type": "execute_result"
    }
   ],
   "source": [
    "dispersed_stick_and_zeppelin = (\n",
    "    modeling_framework.MultiCompartmentMicrostructureModel(\n",
    "        models=[watson_stick, watson_zeppelin]))\n",
    "dispersed_stick_and_zeppelin.parameter_cardinality"
   ]
  },
  {
   "cell_type": "markdown",
   "metadata": {},
   "source": [
    "We can impose the required parameter constraints by making a parameter linking list. Such a list has the general shape as follows:  \n",
    "[(model1, parameter_to_be_linked, linking_function, [(model2, link_function_input_parameter)])]\n",
    "\n",
    "For example, to make the orientation $\\mu$ the same between the Stick and Zeppelin, the linking list would look like this:  \n",
    "[(watson_zeppelin, 'mu',  parameter_equality, [(watson_stick, 'mu')])]\n",
    "\n",
    "To add a tortuosity constraint, the linking list would look as follows:  \n",
    "[(watson_zeppelin, 'lambda_perp', T1_tortuosity, [(None, 'partial_volume_0'), (watson_stick, 'lambda_par')])] \n",
    "\n",
    "Notice that T1_tortuosity takes 2 input parameters, namely the volume fraction and parallel diffusivity. We can impose a list of links/constraints by simply growing the list:"
   ]
  },
  {
   "cell_type": "code",
   "execution_count": 4,
   "metadata": {
    "collapsed": true
   },
   "outputs": [],
   "source": [
    "from microstruktur.utils.utils import (\n",
    "    T1_tortuosity, parameter_equality)\n",
    "\n",
    "parameter_links_dispersed_stick_and_tortuous_zeppelin = [\n",
    "    (watson_zeppelin, 'lambda_perp', T1_tortuosity,\n",
    "     [(None, 'partial_volume_0'), (watson_stick, 'lambda_par')]\n",
    "    ), \n",
    "    (watson_zeppelin, 'lambda_par', parameter_equality,\n",
    "     [(watson_stick, 'lambda_par')]\n",
    "    ),\n",
    "    (watson_zeppelin, 'mu',  parameter_equality, \n",
    "     [(watson_stick, 'mu')]\n",
    "    ),\n",
    "    (watson_zeppelin, 'kappa',  parameter_equality, \n",
    "     [(watson_stick, 'kappa')]\n",
    "    ),\n",
    "]"
   ]
  },
  {
   "cell_type": "markdown",
   "metadata": {},
   "source": [
    "Now that the parameter linking is prepared, we can simply give them as input in PartialVolumeCombinedMicrostructureModel. Notice that parameter_cardinality now only shows non-linked (so the to-be-optimized) parameters. The remaining parameters are linked internally."
   ]
  },
  {
   "cell_type": "code",
   "execution_count": 5,
   "metadata": {
    "collapsed": false
   },
   "outputs": [
    {
     "data": {
      "text/plain": [
       "OrderedDict([('SD1C1WatsonDispersedStick_1_kappa', 1),\n",
       "             ('SD1C1WatsonDispersedStick_1_lambda_par', 1),\n",
       "             ('SD1C1WatsonDispersedStick_1_mu', 2),\n",
       "             ('partial_volume_0', 1)])"
      ]
     },
     "execution_count": 5,
     "metadata": {},
     "output_type": "execute_result"
    }
   ],
   "source": [
    "dispersed_stick_and_tortuous_zeppelin = (\n",
    "    modeling_framework.MultiCompartmentMicrostructureModel(\n",
    "        models=[watson_stick, watson_zeppelin],\n",
    "        parameter_links=parameter_links_dispersed_stick_and_tortuous_zeppelin)\n",
    ")\n",
    "dispersed_stick_and_tortuous_zeppelin.parameter_cardinality"
   ]
  },
  {
   "cell_type": "markdown",
   "metadata": {},
   "source": [
    "Once the multi-compartment model is made, simulating and fitting data is exactly as in the previous tutorials."
   ]
  }
 ],
 "metadata": {
  "kernelspec": {
   "display_name": "Python 2",
   "language": "python",
   "name": "python2"
  },
  "language_info": {
   "codemirror_mode": {
    "name": "ipython",
    "version": 2
   },
   "file_extension": ".py",
   "mimetype": "text/x-python",
   "name": "python",
   "nbconvert_exporter": "python",
   "pygments_lexer": "ipython2",
   "version": "2.7.6"
  }
 },
 "nbformat": 4,
 "nbformat_minor": 0
}
