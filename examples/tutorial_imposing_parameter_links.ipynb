{
 "cells": [
  {
   "cell_type": "markdown",
   "metadata": {},
   "source": [
    "# Creating a dispersed axon bundle representation"
   ]
  },
  {
   "cell_type": "code",
   "execution_count": 1,
   "metadata": {},
   "outputs": [],
   "source": [
    "# load the necessary modules\n",
    "from mipy.data import saved_acquisition_schemes\n",
    "acq_scheme = saved_acquisition_schemes.wu_minn_hcp_acquisition_scheme()"
   ]
  },
  {
   "cell_type": "markdown",
   "metadata": {},
   "source": [
    "In Microstructure Imaging, the brain's axon bundles are represented as having both an intra- and an extra-axonal compartment. Intra-axonal compartments are typically represented using cylinder models, while extra-axonal compartments are typically Gaussian. To simulate the phenomenon of axon dispersion, it is important to see a bundle as a single \"micro-environment\".\n",
    "\n",
    "Mipy allows to create such a \"bundle representation\" using distribute_models module. A distributed model can be seen as a type of sub-multi-compartment model that can contain multiple single models representations (Sticks, Cylinders, Zeppelin). The contained single models all experience the same distribution parameters. We can choose spherical distributions such as the Watson or Bingham, or spatial distributions such as the Gamma for models such as AxCaliber.\n",
    "\n",
    "In this example, we will start by creating a Watson-dispersed Stick and Zeppelin representation."
   ]
  },
  {
   "cell_type": "code",
   "execution_count": 2,
   "metadata": {},
   "outputs": [],
   "source": [
    "from mipy.signal_models import gaussian_models, cylinder_models\n",
    "from mipy.distributions import distribute_models\n",
    "\n",
    "stick = cylinder_models.C1Stick()\n",
    "zeppelin = gaussian_models.G4Zeppelin()\n",
    "watson_bundle = distribute_models.SD1WatsonDistributed(models=[stick, zeppelin])"
   ]
  },
  {
   "cell_type": "markdown",
   "metadata": {},
   "source": [
    "We can list the parameters of this representation as follows:"
   ]
  },
  {
   "cell_type": "code",
   "execution_count": 3,
   "metadata": {},
   "outputs": [
    {
     "data": {
      "text/plain": [
       "['SD1Watson_1_odi',\n",
       " 'G4Zeppelin_1_lambda_perp',\n",
       " 'SD1Watson_1_mu',\n",
       " 'C1Stick_1_lambda_par',\n",
       " 'G4Zeppelin_1_lambda_par',\n",
       " 'partial_volume_0']"
      ]
     },
     "execution_count": 3,
     "metadata": {},
     "output_type": "execute_result"
    }
   ],
   "source": [
    "watson_bundle.parameter_names"
   ]
  },
  {
   "cell_type": "markdown",
   "metadata": {},
   "source": [
    "The parameters 'SD1Watson_1_odi' and 'SD1Watson_1_mu' represent the Orientation Dispersion Index (ODI) and orientation of the Watson distribution. The others are parameters of the Stick and Zeppelin models.\n",
    "\n",
    "Notice is that there is only one \"mu\" parameter, as the orientation of the Stick and Zeppelin are now tied to that of the Watson distribution, i.e. the Stick and Zeppelin are now always aligned.\n",
    "\n",
    "Lastly, the 'partial_volume_0' parameter represents the volume fraction of the first input model - in our case the stick - where the second volume fraction is defined as partial_volume_1 = 1-partial_volume_0."
   ]
  },
  {
   "cell_type": "markdown",
   "metadata": {},
   "source": [
    "# Imposing parameter links: tortuous, equal and fixed parameters"
   ]
  },
  {
   "cell_type": "markdown",
   "metadata": {},
   "source": [
    "Often, Microstructure models impose parameter constraints in their model definition. In NODDI's case, they impose axon tortuosity and parameter equality:\n",
    "- Certain parameters are the same between the zeppelin and the stick, such as the parallel diffusivity $\\lambda_\\parallel$.\n",
    "- The model imposes a Tortuosity constraint, such that $\\lambda_\\perp=(1-vf)\\lambda_\\parallel$.\n",
    "\n",
    "Mipy allows to straightforwardly impose such constraints on a microstructure model. First, we set the tortuosity constraint using the set_tortuous_parameter function, and inputting the correct names for the $\\lambda_\\perp$, vf and $\\lambda_\\parallel$ parameters. "
   ]
  },
  {
   "cell_type": "code",
   "execution_count": 4,
   "metadata": {
    "collapsed": true
   },
   "outputs": [],
   "source": [
    "watson_bundle.set_tortuous_parameter('G4Zeppelin_1_lambda_perp', 'G4Zeppelin_1_lambda_par', 'partial_volume_0')"
   ]
  },
  {
   "cell_type": "markdown",
   "metadata": {},
   "source": [
    "It can be seen that $\\lambda_\\perp$ is now removed from the list of parameters, as it has been made dependent on $\\lambda_\\parallel$ and $vf$."
   ]
  },
  {
   "cell_type": "code",
   "execution_count": 5,
   "metadata": {},
   "outputs": [
    {
     "data": {
      "text/plain": [
       "['SD1Watson_1_odi',\n",
       " 'SD1Watson_1_mu',\n",
       " 'C1Stick_1_lambda_par',\n",
       " 'G4Zeppelin_1_lambda_par',\n",
       " 'partial_volume_0']"
      ]
     },
     "execution_count": 5,
     "metadata": {},
     "output_type": "execute_result"
    }
   ],
   "source": [
    "watson_bundle.parameter_names"
   ]
  },
  {
   "cell_type": "markdown",
   "metadata": {},
   "source": [
    "To set the parallel diffusivities of the Stick and Zeppelin equal, we use the set_equal_parameter function"
   ]
  },
  {
   "cell_type": "code",
   "execution_count": 6,
   "metadata": {
    "collapsed": true
   },
   "outputs": [],
   "source": [
    "watson_bundle.set_equal_parameter('C1Stick_1_lambda_par', 'G4Zeppelin_1_lambda_par')"
   ]
  },
  {
   "cell_type": "markdown",
   "metadata": {},
   "source": [
    "Notice how the Zeppelin's $\\lambda_\\parallel$ was now removed."
   ]
  },
  {
   "cell_type": "code",
   "execution_count": 7,
   "metadata": {},
   "outputs": [
    {
     "data": {
      "text/plain": [
       "['SD1Watson_1_odi',\n",
       " 'SD1Watson_1_mu',\n",
       " 'C1Stick_1_lambda_par',\n",
       " 'partial_volume_0']"
      ]
     },
     "execution_count": 7,
     "metadata": {},
     "output_type": "execute_result"
    }
   ],
   "source": [
    "watson_bundle.parameter_names"
   ]
  },
  {
   "cell_type": "markdown",
   "metadata": {},
   "source": [
    "Finally, many Microstructure Models will somehow fix its diffusivities to avoid fitting them from the data. As an example, we will finally fix the Stick's $\\lambda_\\parallel$ to a typical value that is used for intra-axonal diffusivity"
   ]
  },
  {
   "cell_type": "code",
   "execution_count": 8,
   "metadata": {
    "collapsed": true
   },
   "outputs": [],
   "source": [
    "watson_bundle.set_fixed_parameter('C1Stick_1_lambda_par', 1.7e-9)"
   ]
  },
  {
   "cell_type": "markdown",
   "metadata": {},
   "source": [
    "Which leaves us with 3 parameters left."
   ]
  },
  {
   "cell_type": "code",
   "execution_count": 9,
   "metadata": {},
   "outputs": [
    {
     "data": {
      "text/plain": [
       "['SD1Watson_1_odi', 'SD1Watson_1_mu', 'partial_volume_0']"
      ]
     },
     "execution_count": 9,
     "metadata": {},
     "output_type": "execute_result"
    }
   ],
   "source": [
    "watson_bundle.parameter_names"
   ]
  },
  {
   "cell_type": "markdown",
   "metadata": {},
   "source": [
    "The watson_bundle can finally be used in a MultiCompartment model like any other, after which it can be used for simulating and fitting data."
   ]
  },
  {
   "cell_type": "code",
   "execution_count": 10,
   "metadata": {},
   "outputs": [
    {
     "data": {
      "text/plain": [
       "OrderedDict([('SD1WatsonDistributed_1_SD1Watson_1_mu', 2),\n",
       "             ('SD1WatsonDistributed_1_partial_volume_0', 1),\n",
       "             ('SD1WatsonDistributed_1_SD1Watson_1_odi', 1)])"
      ]
     },
     "execution_count": 10,
     "metadata": {},
     "output_type": "execute_result"
    }
   ],
   "source": [
    "from mipy.core.modeling_framework import MultiCompartmentModel\n",
    "mcmodel = MultiCompartmentModel(models=[watson_bundle])\n",
    "mcmodel.parameter_cardinality"
   ]
  },
  {
   "cell_type": "markdown",
   "metadata": {},
   "source": [
    "Once the multi-compartment model is made, simulating and fitting data is exactly as in the previous tutorials."
   ]
  }
 ],
 "metadata": {
  "kernelspec": {
   "display_name": "Python 2",
   "language": "python",
   "name": "python2"
  },
  "language_info": {
   "codemirror_mode": {
    "name": "ipython",
    "version": 2
   },
   "file_extension": ".py",
   "mimetype": "text/x-python",
   "name": "python",
   "nbconvert_exporter": "python",
   "pygments_lexer": "ipython2",
   "version": "2.7.14"
  }
 },
 "nbformat": 4,
 "nbformat_minor": 1
}
