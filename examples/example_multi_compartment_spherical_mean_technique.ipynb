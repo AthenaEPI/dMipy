{
 "metadata": {
  "name": "example_multi_compartment_spherical_mean_technique.ipynb"
 },
 "nbformat": 3,
 "nbformat_minor": 0,
 "worksheets": [
  {
   "cells": [
    {
     "cell_type": "code",
     "collapsed": false,
     "input": [
      "from microstruktur.signal_models import (\n",
      "    three_dimensional_models, spherical_mean\n",
      ")\n",
      "from microstruktur.signal_models.utils import (\n",
      "    T1_tortuosity, parameter_equality, define_shell_indices\n",
      ")\n",
      "from os.path import join\n",
      "from scipy import optimize\n",
      "from scipy.stats import pearsonr"
     ],
     "language": "python",
     "metadata": {},
     "outputs": [],
     "prompt_number": 18
    },
    {
     "cell_type": "code",
     "collapsed": false,
     "input": [
      "import pkg_resources\n",
      "DATA_PATH = pkg_resources.resource_filename('microstruktur', 'data/')"
     ],
     "language": "python",
     "metadata": {},
     "outputs": [],
     "prompt_number": 11
    },
    {
     "cell_type": "code",
     "collapsed": false,
     "input": [
      "bvals = np.loadtxt(\n",
      "    join(three_dimensional_models.GRADIENT_TABLES_PATH,\n",
      "         'bvals_hcp_wu_minn.txt')\n",
      ")\n",
      "bvals *= 1e6\n",
      "gradient_directions = np.loadtxt(\n",
      "    join(three_dimensional_models.GRADIENT_TABLES_PATH,\n",
      "         'bvecs_hcp_wu_minn.txt')\n",
      ")\n",
      "\n",
      "shell_indices, shell_bvalues = define_shell_indices(\n",
      "    bvals, ((0, 10e6), (995e6, 1005e6), (1995e6, 2005e6), (2995e6, 3005e6))\n",
      ")\n",
      "number_of_shells = shell_indices.max()"
     ],
     "language": "python",
     "metadata": {},
     "outputs": [],
     "prompt_number": 12
    },
    {
     "cell_type": "code",
     "collapsed": false,
     "input": [
      "data_1_7 = np.loadtxt(join(DATA_PATH, 'data_camino_D1_7.txt'))\n",
      "data_2_0 = np.loadtxt(join(DATA_PATH, 'data_camino_D2_0.txt'))\n",
      "data_2_3 = np.loadtxt(join(DATA_PATH, 'data_camino_D2_3.txt'))\n",
      "fractions_2_0 = np.loadtxt(DATA_PATH +'fractions_camino_D2_0.txt')\n",
      "fractions_1_7 = np.loadtxt(DATA_PATH +'fractions_camino_D1_7.txt')\n",
      "fractions_2_3 = np.loadtxt(DATA_PATH +'fractions_camino_D2_3.txt')\n",
      "\n",
      "data_multidif = np.r_[data_1_7, data_2_0, data_2_3]\n",
      "fractions_multidif = np.r_[fractions_1_7, fractions_2_0, fractions_2_3]\n",
      "\n",
      "data_1_7_dispersed = np.loadtxt(\n",
      "    join(DATA_PATH, 'data_camino_dispersed_D1_7.txt')\n",
      ")\n",
      "data_2_0_dispersed = np.loadtxt(\n",
      "    join(DATA_PATH, 'data_camino_dispersed_D2_0.txt')\n",
      ")\n",
      "data_2_3_dispersed = np.loadtxt(\n",
      "    join(DATA_PATH, 'data_camino_dispersed_D2_3.txt')\n",
      ")\n",
      "data_multidif_dispersed = np.r_[\n",
      "    data_1_7_dispersed, data_2_0_dispersed, data_2_3_dispersed\n",
      "]\n",
      "\n",
      "parameters_1_7_dispersed = np.loadtxt(\n",
      "    join(DATA_PATH, 'parameters_camino_dispersed_D1_7.txt')\n",
      ")\n",
      "parameters_2_0_dispersed = np.loadtxt(\n",
      "    join(DATA_PATH, 'parameters_camino_dispersed_D2_0.txt')\n",
      ")\n",
      "parameters_2_3_dispersed = np.loadtxt(\n",
      "    join(DATA_PATH, 'parameters_camino_dispersed_D2_3.txt')\n",
      ")\n",
      "\n",
      "fractions_1_7_dispersed = parameters_1_7_dispersed[:,0]\n",
      "fractions_2_0_dispersed = parameters_2_0_dispersed[:,0]\n",
      "fractions_2_3_dispersed = parameters_2_3_dispersed[:,0]\n",
      "\n",
      "fractions_multidif_dispersed = np.r_[\n",
      "    fractions_1_7_dispersed,\n",
      "    fractions_2_0_dispersed,\n",
      "    fractions_2_3_dispersed\n",
      "]"
     ],
     "language": "python",
     "metadata": {},
     "outputs": [],
     "prompt_number": 13
    },
    {
     "cell_type": "code",
     "collapsed": false,
     "input": [
      "stick_mean = three_dimensional_models.I1StickSphericalMean()\n",
      "zeppelin_mean = three_dimensional_models.E4ZeppelinSphericalMean()"
     ],
     "language": "python",
     "metadata": {},
     "outputs": [],
     "prompt_number": 14
    },
    {
     "cell_type": "code",
     "collapsed": false,
     "input": [
      "parameter_links_smt = [\n",
      "    (  # tortuosity assumption\n",
      "        zeppelin_mean, 'lambda_perp',\n",
      "        T1_tortuosity, [\n",
      "            (None, 'partial_volume_0'),\n",
      "            (stick_mean, 'lambda_par')\n",
      "        ]\n",
      "    ),\n",
      "    (  # equal parallel diffusivities\n",
      "         zeppelin_mean, 'lambda_par',\n",
      "         parameter_equality, [\n",
      "            (stick_mean, 'lambda_par')\n",
      "        ]\n",
      "     )\n",
      "]"
     ],
     "language": "python",
     "metadata": {},
     "outputs": [],
     "prompt_number": 16
    },
    {
     "cell_type": "code",
     "collapsed": false,
     "input": [
      "mc_smt = three_dimensional_models.PartialVolumeCombinedMicrostrukturModel(\n",
      "    models=[stick_mean, zeppelin_mean],\n",
      "    parameter_links=parameter_links_smt,\n",
      "    optimise_partial_volumes=True\n",
      ")\n",
      "x0_smt = mc_smt.parameters_to_parameter_vector(\n",
      "    I1StickSphericalMean_1_lambda_par=.6,  # initialization diffusivity\n",
      "    partial_volume_0=0.55  # initialization volume fraction parameter\n",
      ")"
     ],
     "language": "python",
     "metadata": {},
     "outputs": [],
     "prompt_number": 21
    },
    {
     "cell_type": "code",
     "collapsed": false,
     "input": [
      "# estimate spherical mean of the data per shell.\n",
      "data_multidif_sm = np.zeros((data_multidif.shape[0], number_of_shells))\n",
      "data_multidif_dispersed_sm = np.zeros((data_multidif_dispersed.shape[0], number_of_shells))\n",
      "\n",
      "for i, data_ in enumerate(data_multidif):\n",
      "    data_multidif_sm[i] = spherical_mean.estimate_spherical_mean_multi_shell(\n",
      "                                data_, gradient_directions, shell_indices)\n",
      "for i, data_ in enumerate(data_multidif_dispersed):\n",
      "    data_multidif_dispersed_sm[i] = spherical_mean.estimate_spherical_mean_multi_shell(\n",
      "                                data_, gradient_directions, shell_indices)"
     ],
     "language": "python",
     "metadata": {},
     "outputs": [],
     "prompt_number": 22
    },
    {
     "cell_type": "code",
     "collapsed": false,
     "input": [
      "results_mc_smt_multidif = np.zeros((data_multidif_sm.shape[0], 2))\n",
      "results_mc_smt_multidif_dispersed = np.zeros((data_multidif_dispersed_sm.shape[0], 2))\n",
      "\n",
      "for i, data_spherical_mean_ in enumerate(data_multidif_sm):\n",
      "    res = optimize.minimize(mc_smt.objective_function, x0_smt,\n",
      "                            (shell_bvalues[1:], gradient_directions[:3], data_spherical_mean_),\n",
      "                            bounds=mc_smt.bounds_for_optimization, options={'disp': True})\n",
      "    results_mc_smt_multidif[i] = res.x\n",
      "\n",
      "for i, data_spherical_mean_ in enumerate(data_multidif_dispersed_sm):\n",
      "    res = optimize.minimize(mc_smt.objective_function, x0_smt,\n",
      "                            (shell_bvalues[1:], gradient_directions[:3], data_spherical_mean_),\n",
      "                            bounds=mc_smt.bounds_for_optimization, options={'disp': True})\n",
      "    results_mc_smt_multidif_dispersed[i] = res.x\n",
      "\n",
      "\n",
      "# we separate the first one-third of the results that come from only D=1.7x10^-9 m/s^2 data\n",
      "results_mc_smt_1_7 = results_mc_smt_multidif[\n",
      "    0: len(results_mc_smt_multidif) / 3]    \n",
      "results_mc_smt_dispersed_1_7 = results_mc_smt_multidif_dispersed[\n",
      "    0: len(results_mc_smt_multidif_dispersed) / 3]"
     ],
     "language": "python",
     "metadata": {},
     "outputs": [],
     "prompt_number": 24
    },
    {
     "cell_type": "code",
     "collapsed": false,
     "input": [
      "# estimating pearson correlation with ground truth\n",
      "pr = pearsonr(results_mc_smt_1_7[:, -1], fractions_1_7)\n",
      "pr_dispersed = pearsonr(results_mc_smt_dispersed_1_7[:, -1], fractions_1_7_dispersed)\n",
      "pr_multidif = pearsonr(results_mc_smt_multidif[:, -1], fractions_multidif)\n",
      "pr_multidif_dispersed = pearsonr(results_mc_smt_multidif_dispersed[:, -1], fractions_multidif_dispersed)"
     ],
     "language": "python",
     "metadata": {},
     "outputs": [],
     "prompt_number": 25
    },
    {
     "cell_type": "code",
     "collapsed": false,
     "input": [
      "f, ((ax1, ax2), (ax3, ax4)) = plt.subplots(2, 2, sharex='col', sharey='row')\n",
      "ax1.scatter(fractions_1_7, results_mc_smt_1_7[:, -1])\n",
      "ax2.scatter(fractions_multidif, results_mc_smt_multidif[:, -1])\n",
      "ax3.scatter(fractions_1_7_dispersed, results_mc_smt_dispersed_1_7[:, -1])\n",
      "ax4.scatter(fractions_multidif_dispersed, results_mc_smt_multidif_dispersed[:, -1])\n",
      "\n",
      "ax1.text(.216, .817, 'pearsonR= '+str(np.round(pr[0], 3)), fontsize=10, bbox=dict(facecolor='white', alpha=1))\n",
      "ax2.text(.216, .817, 'pearsonR= '+str(np.round(pr_multidif[0], 3)), fontsize=10, bbox=dict(facecolor='white', alpha=1))\n",
      "ax3.text(.216, .817, 'pearsonR= '+str(np.round(pr_dispersed[0], 3)), fontsize=10, bbox=dict(facecolor='white', alpha=1))\n",
      "ax4.text(.216, .817, 'pearsonR= '+str(np.round(pr_multidif_dispersed[0], 3)), fontsize=10, bbox=dict(facecolor='white', alpha=1))\n",
      "\n",
      "# ax1.set_title('Static Diffusivity')\n",
      "ax3.set_xlabel('Ground Truth')\n",
      "# ax2.set_title('Varying Diffusivity')\n",
      "ax1.set_ylabel('Estimated intra-vf')\n",
      "ax4.set_xlabel('Ground Truth')\n",
      "ax3.set_ylabel('Estimated intra-vf')\n",
      "\n",
      "ax1.plot([0, 1], [0, 1], ls='--', c='k', lw=3)\n",
      "ax2.plot([0, 1], [0, 1], ls='--', c='k', lw=3)\n",
      "ax3.plot([0, 1], [0, 1], ls='--', c='k', lw=3)\n",
      "ax4.plot([0, 1], [0, 1], ls='--', c='k', lw=3)\n",
      "ax1.set_ylim(0.2, .9)\n",
      "ax1.set_xlim(0.2, .8)\n",
      "ax4.set_ylim(0.2, .9)\n",
      "ax4.set_xlim(0.2, .8)\n",
      "\n",
      "# savefig('/user/rfick/home/Work/neuroimage_review/results_mcsmt.png', dpi=120)"
     ],
     "language": "python",
     "metadata": {},
     "outputs": [
      {
       "metadata": {},
       "output_type": "pyout",
       "prompt_number": 27,
       "text": [
        "(0.2, 0.8)"
       ]
      },
      {
       "metadata": {},
       "output_type": "display_data",
       "png": "[encoded data removed]",
       "text": [
        "<matplotlib.figure.Figure at 0x6971650>"
       ]
      }
     ],
     "prompt_number": 27
    },
    {
     "cell_type": "code",
     "collapsed": false,
     "input": [],
     "language": "python",
     "metadata": {},
     "outputs": []
    }
   ],
   "metadata": {}
  }
 ]
}