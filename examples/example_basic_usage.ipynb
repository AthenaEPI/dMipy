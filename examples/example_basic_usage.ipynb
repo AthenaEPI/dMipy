{
 "cells": [
  {
   "cell_type": "markdown",
   "metadata": {},
   "source": [
    "# Basic Tutorial on using the dMRI Microstructure Toolbox"
   ]
  },
  {
   "cell_type": "markdown",
   "metadata": {},
   "source": [
    "Work in Progress...  \n",
    "Author: Dr. Rutger Fick  \n",
    "Date : 23-10-2017"
   ]
  },
  {
   "cell_type": "markdown",
   "metadata": {},
   "source": [
    "In this tutorial we will show the basic usage of the dMRI Microstructure Toolbox.\n",
    "\n",
    "To generate and fit dMRI data originating from a single voxel:\n",
    "\n",
    "- Some basics about dMRI acquisition parameters, and what information is needed to use the toolbox.\n",
    "- How to load, set model parameters, and generate diffusion signals, and fit data using individual biophysical models.\n",
    "- How to combine biophysical models into a combined \"microstructure model\".\n",
    "- How to impose parameter linking between different components in a microstructure model, such as a Tortuosity constraint.\n",
    "- How to generate and fit data with microstructure models.\n",
    "\n",
    "Finally, to fit N-dimensional data sets with any model we also explain how to set voxel-dependent initial conditions for the fitting process."
   ]
  },
  {
   "cell_type": "markdown",
   "metadata": {},
   "source": [
    "# Loading acquisition parameters and making an acquisition scheme"
   ]
  },
  {
   "cell_type": "markdown",
   "metadata": {},
   "source": [
    "The first thing to do is to load the parameters of some acquisition scheme. Typically, the b-values and gradient directions, along with the used pulse duration time $\\delta$ and pulse separation time $\\Delta$ are known. The Microstruktur toolbox uses SI units, so be careful, as bvalues are typically saved in $s/mm^2$, not $s/m^2$.\n",
    "\n",
    "As an example we load the acquisition parameters of the WU-MINN Human Connectome Project:"
   ]
  },
  {
   "cell_type": "code",
   "execution_count": 8,
   "metadata": {},
   "outputs": [],
   "source": [
    "# load the necessary modules\n",
    "from microstruktur.signal_models import three_dimensional_models\n",
    "from microstruktur.acquisition_scheme.acquisition_scheme import acquisition_scheme_from_bvalues\n",
    "from os.path import join\n",
    "import numpy as np\n",
    "\n",
    "# the HCP acquisition parameters are saved in the following toolbox path:\n",
    "acquisition_path = three_dimensional_models.GRADIENT_TABLES_PATH\n",
    "\n",
    "# we can then load the parameters themselves and convert them to SI units:\n",
    "bvalues = np.loadtxt(join(acquisition_path, 'bvals_hcp_wu_minn.txt'))  # given in s/mm^2\n",
    "bvalues = bvalues * 1e6  # now given in SI units as s/m^2\n",
    "gradient_directions = np.loadtxt(join(acquisition_path, 'bvecs_hcp_wu_minn.txt'))  # on the unit sphere\n",
    "\n",
    "# The delta and Delta times we know from the HCP documentation in seconds\n",
    "delta = 0.0106  \n",
    "Delta = 0.0431 \n",
    "\n",
    "# The acquisition scheme we use in the toolbox is then simply created as follows:\n",
    "acq_scheme = acquisition_scheme_from_bvalues(bvalues, gradient_directions, delta, Delta)"
   ]
  },
  {
   "cell_type": "markdown",
   "metadata": {},
   "source": [
    "Once the acquisition scheme object is made, we also have access to all metrics that can be derived from the given input parameters. Values such as qvalues, diffusion times, gradient strengths, and to which shell a DWI belongs can be obtained with the following commands:"
   ]
  },
  {
   "cell_type": "code",
   "execution_count": 12,
   "metadata": {},
   "outputs": [],
   "source": [
    "acq_scheme.gradient_strengths;  # the gradient strength in T/m\n",
    "acq_scheme.qvalues;  # describes the diffusion sensitization in 1/m\n",
    "acq_scheme.tau;  # diffusion time as Delta - delta / 3. in seconds\n",
    "acq_scheme.shell_indices;  # integer unique to every shell. 0 is automically assigned to b0 measurements"
   ]
  },
  {
   "cell_type": "markdown",
   "metadata": {},
   "source": [
    "# Simulating and fitting data using a cylinder stick model"
   ]
  },
  {
   "cell_type": "markdown",
   "metadata": {},
   "source": [
    "To get started, we will start with "
   ]
  },
  {
   "cell_type": "code",
   "execution_count": 16,
   "metadata": {},
   "outputs": [],
   "source": [
    "# simple stick example generating data and fitting\n",
    "stick = three_dimensional_models.I1Stick()\n",
    "gt_mu = np.random.rand(2)\n",
    "gt_lambda_par = (np.random.rand() + 1.) * 1e-9\n",
    "gt_parameter_vector = stick.parameters_to_parameter_vector(\n",
    "    lambda_par=gt_lambda_par, mu=gt_mu)\n",
    "\n",
    "E = stick.simulate_signal(acq_scheme, gt_parameter_vector)\n",
    "\n",
    "x0 = stick.parameters_to_parameter_vector(\n",
    "    lambda_par=(np.random.rand() + 1.) * 1e-9,\n",
    "    mu=np.random.rand(2)\n",
    ")\n",
    "res = stick.fit(E, acq_scheme, x0)"
   ]
  },
  {
   "cell_type": "code",
   "execution_count": 17,
   "metadata": {},
   "outputs": [],
   "source": [
    "# making simple stick and ball generating data and fitting\n",
    "stick = three_dimensional_models.I1Stick()\n",
    "ball = three_dimensional_models.E3Ball()\n",
    "\n",
    "ball_and_stick = (\n",
    "    three_dimensional_models.PartialVolumeCombinedMicrostrukturModel(\n",
    "        models=[ball, stick],\n",
    "        parameter_links=[],\n",
    "        optimise_partial_volumes=True)\n",
    ")\n",
    "gt_mu = np.clip(np.random.rand(2), .3, np.inf)\n",
    "gt_lambda_par = (np.random.rand() + 1.) * 1e-9\n",
    "gt_lambda_iso = gt_lambda_par / 2.\n",
    "gt_partial_volume = 0.3\n",
    "\n",
    "gt_parameter_vector = ball_and_stick.parameters_to_parameter_vector(\n",
    "    I1Stick_1_lambda_par=gt_lambda_par,\n",
    "    E3Ball_1_lambda_iso=gt_lambda_iso,\n",
    "    I1Stick_1_mu=gt_mu,\n",
    "    partial_volume_0=gt_partial_volume\n",
    ")\n",
    "\n",
    "E = ball_and_stick.simulate_signal(\n",
    "    acq_scheme, gt_parameter_vector)\n",
    "\n",
    "x0 = ball_and_stick.parameters_to_parameter_vector(\n",
    "    I1Stick_1_lambda_par=(np.random.rand() + 1.) * 1e-9,\n",
    "    E3Ball_1_lambda_iso=gt_lambda_par / 2.,\n",
    "    I1Stick_1_mu=np.random.rand(2),\n",
    "    partial_volume_0=np.random.rand()\n",
    ")\n",
    "res = ball_and_stick.fit(E, acq_scheme, x0)"
   ]
  },
  {
   "cell_type": "code",
   "execution_count": 19,
   "metadata": {},
   "outputs": [],
   "source": [
    "# simple stick and zeppelin example with parameter linking\n",
    "from microstruktur.signal_models.utils import (\n",
    "    T1_tortuosity, parameter_equality)\n",
    "\n",
    "gt_mu = np.clip(np.random.rand(2), .3, np.inf)\n",
    "gt_lambda_par = (np.random.rand() + 1.) * 1e-9\n",
    "gt_partial_volume = 0.3\n",
    "\n",
    "stick = three_dimensional_models.I1Stick()\n",
    "zeppelin = three_dimensional_models.E4Zeppelin()\n",
    "\n",
    "parameter_links_stick_and_tortuous_zeppelin = [\n",
    "    (  # tortuosity assumption\n",
    "        zeppelin, 'lambda_perp',\n",
    "        T1_tortuosity, [\n",
    "            (None, 'partial_volume_0'),\n",
    "            (stick, 'lambda_par')\n",
    "        ]\n",
    "    ),\n",
    "    (  # equal parallel diffusivities\n",
    "        zeppelin, 'lambda_par',\n",
    "        parameter_equality, [\n",
    "            (stick, 'lambda_par')\n",
    "        ]\n",
    "    ),\n",
    "    (  # equal parallel diffusivities\n",
    "        zeppelin, 'mu',\n",
    "        parameter_equality, [\n",
    "            (stick, 'mu')\n",
    "        ]\n",
    "    )\n",
    "]\n",
    "\n",
    "stick_and_tortuous_zeppelin = (\n",
    "    three_dimensional_models.PartialVolumeCombinedMicrostrukturModel(\n",
    "        models=[stick, zeppelin],\n",
    "        parameter_links=parameter_links_stick_and_tortuous_zeppelin,\n",
    "        optimise_partial_volumes=True)\n",
    ")\n",
    "\n",
    "gt_parameter_vector = (\n",
    "    stick_and_tortuous_zeppelin.parameters_to_parameter_vector(\n",
    "        I1Stick_1_lambda_par=gt_lambda_par,\n",
    "        I1Stick_1_mu=gt_mu,\n",
    "        partial_volume_0=gt_partial_volume)\n",
    ")\n",
    "\n",
    "E = stick_and_tortuous_zeppelin.simulate_signal(\n",
    "    acq_scheme, gt_parameter_vector)"
   ]
  },
  {
   "cell_type": "code",
   "execution_count": 22,
   "metadata": {},
   "outputs": [],
   "source": [
    "# multi-dimensional example with voxel-dependent initial condition\n",
    "stick = three_dimensional_models.I1Stick()\n",
    "ball = three_dimensional_models.E3Ball()\n",
    "ball_and_stick = (\n",
    "    three_dimensional_models.PartialVolumeCombinedMicrostrukturModel(\n",
    "        models=[ball, stick],\n",
    "        parameter_links=[],\n",
    "        optimise_partial_volumes=True)\n",
    ")\n",
    "gt_lambda_par = (np.random.rand() + 1.) * 1e-9\n",
    "gt_lambda_iso = gt_lambda_par / 2.\n",
    "gt_partial_volume = 0.3\n",
    "gt_mu_array = np.empty((10, 10, 2))\n",
    "\n",
    "# I'm putting the orientation of the stick all over the sphere.\n",
    "for i, mu1 in enumerate(np.linspace(0, np.pi, 10)):\n",
    "    for j, mu2 in enumerate(np.linspace(-np.pi, np.pi, 10)):\n",
    "        gt_mu_array[i, j] = np.r_[mu1, mu2]\n",
    "\n",
    "gt_parameter_vector = (\n",
    "    ball_and_stick.parameters_to_parameter_vector(\n",
    "        I1Stick_1_lambda_par=gt_lambda_par,\n",
    "        E3Ball_1_lambda_iso=gt_lambda_iso,\n",
    "        I1Stick_1_mu=gt_mu_array,\n",
    "        partial_volume_0=gt_partial_volume)\n",
    ")\n",
    "\n",
    "E_array = ball_and_stick.simulate_signal(\n",
    "    acq_scheme, gt_parameter_vector)\n",
    "\n",
    "# I'm giving a voxel-dependent initial condition with gt_mu_array\n",
    "res = ball_and_stick.fit(E_array, acq_scheme,\n",
    "                         gt_parameter_vector)"
   ]
  },
  {
   "cell_type": "code",
   "execution_count": null,
   "metadata": {
    "collapsed": true
   },
   "outputs": [],
   "source": []
  }
 ],
 "metadata": {
  "kernelspec": {
   "display_name": "Python 2",
   "language": "python",
   "name": "python2"
  },
  "language_info": {
   "codemirror_mode": {
    "name": "ipython",
    "version": 2
   },
   "file_extension": ".py",
   "mimetype": "text/x-python",
   "name": "python",
   "nbconvert_exporter": "python",
   "pygments_lexer": "ipython2",
   "version": "2.7.13"
  }
 },
 "nbformat": 4,
 "nbformat_minor": 1
}
