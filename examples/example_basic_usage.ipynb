{
 "cells": [
  {
   "cell_type": "markdown",
   "metadata": {},
   "source": [
    "# Tutorial on using the dMRI Microstructure Toolbox"
   ]
  },
  {
   "cell_type": "markdown",
   "metadata": {},
   "source": [
    "Work in Progress...  \n",
    "Author: Dr. Rutger Fick  \n",
    "Starting date : 23-10-2017"
   ]
  },
  {
   "cell_type": "markdown",
   "metadata": {},
   "source": [
    "In this tutorial we will show the basic usage of the dMRI Microstructure Toolbox.\n",
    "\n",
    "To generate and fit dMRI data originating from a single voxel:\n",
    "\n",
    "- Some basics about dMRI acquisition parameters, and what information is needed to use the toolbox.\n",
    "- How to load, set model parameters, and generate diffusion signals, and fit data using individual biophysical models.\n",
    "- How to combine biophysical models into a combined \"microstructure model\".\n",
    "- How to impose parameter linking between different components in a microstructure model, such as a Tortuosity constraint.\n",
    "- How to generate and fit data with microstructure models.\n",
    "\n",
    "Finally, to fit N-dimensional data sets with any model we also explain how to set voxel-dependent initial conditions for the fitting process."
   ]
  },
  {
   "cell_type": "markdown",
   "metadata": {},
   "source": [
    "# Loading acquisition parameters and making an acquisition scheme"
   ]
  },
  {
   "cell_type": "markdown",
   "metadata": {},
   "source": [
    "The first thing to do is to load the parameters of some acquisition scheme. Typically, the b-values and gradient directions, along with the used pulse duration time $\\delta$ and pulse separation time $\\Delta$ are known. The Microstruktur toolbox uses SI units, so be careful, as bvalues are typically saved in $s/mm^2$, but we need them in $s/m^2$.\n",
    "\n",
    "As an example we load the acquisition parameters of the WU-MINN Human Connectome Project:"
   ]
  },
  {
   "cell_type": "code",
   "execution_count": 1,
   "metadata": {
    "collapsed": false
   },
   "outputs": [],
   "source": [
    "# load the necessary modules\n",
    "from microstruktur.signal_models import three_dimensional_models, dispersed_models\n",
    "from microstruktur.acquisition_scheme.acquisition_scheme import acquisition_scheme_from_bvalues\n",
    "from os.path import join\n",
    "import numpy as np\n",
    "\n",
    "# the HCP acquisition parameters are saved in the following toolbox path:\n",
    "acquisition_path = three_dimensional_models.GRADIENT_TABLES_PATH\n",
    "\n",
    "# we can then load the parameters themselves and convert them to SI units:\n",
    "bvalues = np.loadtxt(join(acquisition_path, 'bvals_hcp_wu_minn.txt'))  # given in s/mm^2\n",
    "bvalues = bvalues * 1e6  # now given in SI units as s/m^2\n",
    "gradient_directions = np.loadtxt(join(acquisition_path, 'bvecs_hcp_wu_minn.txt'))  # on the unit sphere\n",
    "\n",
    "# The delta and Delta times we know from the HCP documentation in seconds\n",
    "delta = 0.0106  \n",
    "Delta = 0.0431 \n",
    "\n",
    "# The acquisition scheme we use in the toolbox is then simply created as follows:\n",
    "acq_scheme = acquisition_scheme_from_bvalues(bvalues, gradient_directions, delta, Delta)"
   ]
  },
  {
   "cell_type": "markdown",
   "metadata": {},
   "source": [
    "From the acquisition scheme, some basic information can be called using the following command:"
   ]
  },
  {
   "cell_type": "code",
   "execution_count": 2,
   "metadata": {
    "collapsed": false
   },
   "outputs": [
    {
     "name": "stdout",
     "output_type": "stream",
     "text": [
      "Acquisition scheme summary\n",
      "\n",
      "total number of measurements: 288\n",
      "number of b0 measurements: 18\n",
      "number of DWI shells: 3\n",
      "\n",
      "shell_index |# of DWIs |bvalue [s/mm^2] |gradient strength [mT/m] |delta [ms] |Delta[ms]\n",
      "0           |18        |0               |0                        |10.6       |43.1 \n",
      "1           |90        |1000            |56                       |10.6       |43.1 \n",
      "2           |90        |2000            |79                       |10.6       |43.1 \n",
      "3           |90        |3000            |97                       |10.6       |43.1 \n"
     ]
    }
   ],
   "source": [
    "acq_scheme.print_acquisition_info()"
   ]
  },
  {
   "cell_type": "markdown",
   "metadata": {},
   "source": [
    "As the summary shows, the function automatically separates the different acquisition shells and detects b0 measurements.  \n",
    "Other metrics such as qvalues, gradient strengths, diffusion times and the shell_indices can also be explicitly called as follows:"
   ]
  },
  {
   "cell_type": "code",
   "execution_count": 3,
   "metadata": {
    "collapsed": true
   },
   "outputs": [],
   "source": [
    "acq_scheme.bvalues;  # bvalues in s/m^2\n",
    "acq_scheme.gradient_directions;  # gradient directions on the unit sphere\n",
    "acq_scheme.gradient_strengths;  # the gradient strength in T/m\n",
    "acq_scheme.qvalues;  # describes the diffusion sensitization in 1/m\n",
    "acq_scheme.tau;  # diffusion time as Delta - delta / 3. in seconds\n",
    "acq_scheme.shell_indices;  # index assigned to each shell. 0 is assigned to b0 measurements"
   ]
  },
  {
   "cell_type": "markdown",
   "metadata": {},
   "source": [
    "If needed, acquisition schemes can also be created from qvalues or gradient strengths by importing acquisition_scheme_from_qvalues or acquisition_scheme_from_gradient_strengths."
   ]
  },
  {
   "cell_type": "markdown",
   "metadata": {},
   "source": [
    "# Simulating and fitting data using biophysical models - Model Overview"
   ]
  },
  {
   "cell_type": "markdown",
   "metadata": {},
   "source": [
    "Now that we have defined an acquisition scheme, it is possible to use the toolbox to simulate and fit data with any one biophysical model - or any combination of biophysical models, comprising a multi-compartment microstructure model. \n",
    "\n",
    "Below we first give a brief overview of which models are currently available in the toolbox:"
   ]
  },
  {
   "cell_type": "markdown",
   "metadata": {},
   "source": [
    "### Cylinder Models"
   ]
  },
  {
   "cell_type": "markdown",
   "metadata": {},
   "source": [
    "Cylinder models are typically used to describe intra-axonal diffusion, and we provide a more detailed explanation at the [intra-axonal cylinder model tutorial (to be done)](https://github.com/AthenaEPI/microstruktur/blob/master/examples/example_intra_axonal_cylinder_models.ipynb). All cylinder models assume parallel diffusion $\\lambda_\\parallel$ orientated along $\\mu$ is free, but have different approximations for perpendicular diffusion. Briefly, from simplest to more complex approximations, we have:  \n",
    "- Stick model: Cylinder of radius zero, assumes perpendicular diffusion is zero.\n",
    "- Soderman model: Cylinder of finite radius $R$, assumes narrow pulses $\\delta\\rightarrow0$ and restricted perpendicular diffusion $\\Delta\\gg R^2/D$.\n",
    "- Callaghan model: Still assumes narrow pulses but accounts for finite pulse separation $\\Delta$.\n",
    "- Van Gelderen / Gaussian Phase model: Accounts for both finite pulse duration $\\delta$ and pulse separation $\\Delta$."
   ]
  },
  {
   "cell_type": "code",
   "execution_count": 4,
   "metadata": {
    "collapsed": true
   },
   "outputs": [],
   "source": [
    "cylinder_stick = three_dimensional_models.I1Stick()\n",
    "cylinder_soderman = three_dimensional_models.I2CylinderSodermanApproximation()\n",
    "cylinder_callaghan = three_dimensional_models.I3CylinderCallaghanApproximation()\n",
    "cylinder_vangelderen = three_dimensional_models.I4CylinderGaussianPhaseApproximation()"
   ]
  },
  {
   "cell_type": "markdown",
   "metadata": {},
   "source": [
    "### Gaussian Models"
   ]
  },
  {
   "cell_type": "markdown",
   "metadata": {},
   "source": [
    "Gaussian models that are typically used to described extra-axonal diffusion, and we provide a more detailed explanation at the [extra-axonal Gaussian model tutorial](https://github.com/AthenaEPI/microstruktur/blob/master/examples/example_extra_axonal_gaussian_models.ipynb). Briefly, we have:  \n",
    "- Dot model: Compartment in which diffusion is negligble, i.e. diffusion coefficients is zero.\n",
    "- Ball model: Isotropic Gaussian diffusion with diffusion coefficients $\\lambda_{iso}$.\n",
    "- Zeppelin Model: Axially symmetric Gaussian tensor, oriented along orientation $\\mu$ with parallel and perpendicular diffusivity $\\lambda_\\parallel$ and $\\lambda_\\perp$.\n",
    "- Restricted zeppeling model: Axially symmetric Gaussian tensor with time-dependent perpendicular diffusion to account for diffusion restricted in the extra-axonal space between axons. Instead of $\\lambda_\\perp$, this model has $\\lambda_{inf}$ and characteristic coefficient $A$."
   ]
  },
  {
   "cell_type": "code",
   "execution_count": 5,
   "metadata": {
    "collapsed": true
   },
   "outputs": [],
   "source": [
    "gaussian_dot = three_dimensional_models.E2Dot()\n",
    "gaussian_ball = three_dimensional_models.E3Ball()\n",
    "gaussian_zeppelin = three_dimensional_models.E4Zeppelin()\n",
    "gaussian_restricted_zeppelin = three_dimensional_models.E5RestrictedZeppelin()"
   ]
  },
  {
   "cell_type": "markdown",
   "metadata": {},
   "source": [
    "### Models simulating axonal dispersion"
   ]
  },
  {
   "cell_type": "markdown",
   "metadata": {},
   "source": [
    "Parametric angular distributions such as the Bingham and Watson are typically used to model axonal dispersion, and we provide a more detailed explanation of these distributions at the [axon dispersion tutorial](https://github.com/AthenaEPI/microstruktur/blob/master/examples/example_watson_bingham.ipynb).\n",
    "\n",
    "Basically, we can disperse any axially symmetric model (such as a cylinder or zeppelin) using a Watson or Bingham distribution. Using a Watson distribution, along with the standard model parameters (i.e. $\\lambda_\\parallel$ and $\\mu$ for the Stick for example), now concentration parameter $\\kappa$ sets the concentration of the Sticks. $\\kappa=0$ is a completely isotropic distribution, while $\\kappa\\rightarrow\\infty$ is a Delta function along $\\mu$.\n",
    "\n",
    "The Bingham distribution further generalizes the Watson to also include anistropic dispersion, whose anisotropy and orientation is set using secondary concentration parameter $\\beta$ and angle $\\psi$."
   ]
  },
  {
   "cell_type": "code",
   "execution_count": 6,
   "metadata": {
    "collapsed": true
   },
   "outputs": [],
   "source": [
    "watson_dispersed_stick = dispersed_models.SD3I1WatsonDispersedStick()\n",
    "watson_dispersed_callaghan = dispersed_models.SD3I2WatsonDispersedSodermanCylinder()\n",
    "watson_dispersed_soderman = dispersed_models.SD3I3WatsonDispersedCallaghanCylinder()\n",
    "watson_dispersed_vangelderen = dispersed_models.SD3I4WatsonDispersedGaussianPhaseCylinder()"
   ]
  },
  {
   "cell_type": "code",
   "execution_count": 7,
   "metadata": {
    "collapsed": true
   },
   "outputs": [],
   "source": [
    "bingham_dispersed_stick = dispersed_models.SD2I1BinghamDispersedStick()\n",
    "bingham_dispersed_callaghan = dispersed_models.SD2I2BinghamDispersedSodermanCylinder()\n",
    "bingham_dispersed_soderman = dispersed_models.SD2I3BinghamDispersedCallaghanCylinder()\n",
    "bingham_dispersed_vangelderen = dispersed_models.SD2I4BinghamDispersedGaussianPhaseCylinder()"
   ]
  },
  {
   "cell_type": "code",
   "execution_count": 8,
   "metadata": {
    "collapsed": true
   },
   "outputs": [],
   "source": [
    "watson_dispersed_zeppelin = dispersed_models.SD3E4WatsonDispersedZeppelin()\n",
    "bingham_dispersed_zeppelin = dispersed_models.SD2E4BinghamDispersedZeppelin()"
   ]
  },
  {
   "cell_type": "markdown",
   "metadata": {},
   "source": [
    "### Models simulating axon diameter distributions"
   ]
  },
  {
   "cell_type": "markdown",
   "metadata": {},
   "source": [
    "To simulate axon diameter distributions Assaf et al. (2008) proposed to use Gamma distributed cylinders, using shape and scale parameters $\\alpha$ and $\\beta$. We have these Gamma distributions for all three cylinder models with finite cylinder radii."
   ]
  },
  {
   "cell_type": "code",
   "execution_count": 9,
   "metadata": {
    "collapsed": true
   },
   "outputs": [],
   "source": [
    "gamma_distributed_soderman = dispersed_models.DD1I2GammaDistributedSodermanCylinder()\n",
    "gamma_distributed_callaghan = dispersed_models.DD1I3GammaDistributedCallaghanCylinder()\n",
    "gamma_distributed_vangelderen = dispersed_models.DD1I4GammaDistributedGaussianPhaseCylinder()"
   ]
  },
  {
   "cell_type": "markdown",
   "metadata": {},
   "source": [
    "### Models Based on the Spherical Mean"
   ]
  },
  {
   "cell_type": "markdown",
   "metadata": {},
   "source": [
    "Finally, we also have spherical mean models that don't fit the 3D DWI signal, but only the 1D spherical mean signal over b-value.\n",
    "- Spherical mean of the Stick model.\n",
    "- Spherical mean of the Zeppelin model.\n",
    "- Spherical mean of the restricted Zeppelin model. (unpublished as far as I know)"
   ]
  },
  {
   "cell_type": "code",
   "execution_count": 10,
   "metadata": {
    "collapsed": true
   },
   "outputs": [],
   "source": [
    "spherical_mean_stick = three_dimensional_models.I1StickSphericalMean()\n",
    "spherical_mean_zeppelin = three_dimensional_models.E4ZeppelinSphericalMean()\n",
    "spherical_mean_restricted_zeppelin = three_dimensional_models.E5RestrictedZeppelinSphericalMean()"
   ]
  },
  {
   "cell_type": "markdown",
   "metadata": {},
   "source": [
    "# Example 1: Simulating and fitting data using only Stick model"
   ]
  },
  {
   "cell_type": "markdown",
   "metadata": {},
   "source": [
    "As the simplest example we will simulate data using the Stick model, and then use the same Stick model to fit the signal again. As we did above, we first instantiate the model we need.\n",
    "\n",
    "NOTE: this example is EXACTLY the same with any of the other models, you only need to change the model and appropriate input parameters."
   ]
  },
  {
   "cell_type": "code",
   "execution_count": 11,
   "metadata": {
    "collapsed": true
   },
   "outputs": [],
   "source": [
    "cylinder_stick = three_dimensional_models.I1Stick()"
   ]
  },
  {
   "cell_type": "markdown",
   "metadata": {},
   "source": [
    "To find more information on the model parameters check its help function. We can also print the parameter cardinality to figure out the parameter names, and their input format."
   ]
  },
  {
   "cell_type": "code",
   "execution_count": 12,
   "metadata": {
    "collapsed": false
   },
   "outputs": [
    {
     "data": {
      "text/plain": [
       "OrderedDict([('lambda_par', 1), ('mu', 2)])"
      ]
     },
     "execution_count": 12,
     "metadata": {},
     "output_type": "execute_result"
    }
   ],
   "source": [
    "cylinder_stick.parameter_cardinality"
   ]
  },
  {
   "cell_type": "markdown",
   "metadata": {},
   "source": [
    "As the function shows, we need to give the Stick one parallel diffusivity as lambda_par, and its orientation mu as angles on the sphere [theta, phi].  \n",
    "For the example we align the Stick with some angle and give it a diffusivity of 1e-9 m^2/s. We obtain the right ordering for the input of the function by using the parameters_to_parameter_vector() function:"
   ]
  },
  {
   "cell_type": "code",
   "execution_count": 13,
   "metadata": {
    "collapsed": true
   },
   "outputs": [],
   "source": [
    "mu = (np.pi / 2., np.pi / 2.)\n",
    "lambda_par = 1e-9\n",
    "parameter_vector = cylinder_stick.parameters_to_parameter_vector(\n",
    "    lambda_par=lambda_par, mu=mu)"
   ]
  },
  {
   "cell_type": "markdown",
   "metadata": {},
   "source": [
    "A diffusion signal, for the given model parameters and our previously made acquisition scheme is then simply generated as follows:"
   ]
  },
  {
   "cell_type": "code",
   "execution_count": 14,
   "metadata": {
    "collapsed": false
   },
   "outputs": [],
   "source": [
    "E = cylinder_stick.simulate_signal(acq_scheme, parameter_vector)"
   ]
  },
  {
   "cell_type": "markdown",
   "metadata": {},
   "source": [
    "Let's assume this signal is now unknown, and we want to fit the Stick model to this signal to find best fitting model parameters. Using the same procedure as before, we now set an initial condition for the same parameters from which we start the optimization."
   ]
  },
  {
   "cell_type": "code",
   "execution_count": 15,
   "metadata": {
    "collapsed": false
   },
   "outputs": [],
   "source": [
    "initial_mu = np.random.rand(2)\n",
    "initial_lambda_par = np.random.rand() * 1e-9\n",
    "x0 = cylinder_stick.parameters_to_parameter_vector(\n",
    "    lambda_par=initial_lambda_par, mu=initial_mu)"
   ]
  },
  {
   "cell_type": "markdown",
   "metadata": {},
   "source": [
    "Using the data, acquisition scheme and initial guess, we fit the model using the following one-liner. We can see the correct model parameters are obtained."
   ]
  },
  {
   "cell_type": "code",
   "execution_count": 16,
   "metadata": {
    "collapsed": false
   },
   "outputs": [
    {
     "name": "stdout",
     "output_type": "stream",
     "text": [
      "Initial guess:    [  7.44236915e-11   4.60920209e-01   6.13735057e-01]\n",
      "Optimized result: [  9.99988497e-10   1.57080101e+00   1.57080387e+00]\n",
      "Ground truth:     [  1.00000000e-09   1.57079633e+00   1.57079633e+00]\n"
     ]
    }
   ],
   "source": [
    "res = cylinder_stick.fit(E, acq_scheme, x0)\n",
    "print 'Initial guess:   ', x0\n",
    "print 'Optimized result:', res\n",
    "print 'Ground truth:    ', parameter_vector"
   ]
  },
  {
   "cell_type": "markdown",
   "metadata": {},
   "source": [
    "The names of the parameters can again be obtained using parameter_vector_to_parameters."
   ]
  },
  {
   "cell_type": "code",
   "execution_count": 17,
   "metadata": {
    "collapsed": false
   },
   "outputs": [
    {
     "data": {
      "text/plain": [
       "{'lambda_par': array([  9.99988497e-10]),\n",
       " 'mu': array([ 1.57080101,  1.57080387])}"
      ]
     },
     "execution_count": 17,
     "metadata": {},
     "output_type": "execute_result"
    }
   ],
   "source": [
    "cylinder_stick.parameter_vector_to_parameters(res)"
   ]
  },
  {
   "cell_type": "markdown",
   "metadata": {},
   "source": [
    "# Example 2: Simulating and fitting data using Ball & Stick model"
   ]
  },
  {
   "cell_type": "markdown",
   "metadata": {},
   "source": [
    "Now to make our first multi-compartment Microstructure model! Don't worry, we start with a simple Ball & Stick model, and the procedure will be very simple and similar as before. First, we instantiate the models we want:"
   ]
  },
  {
   "cell_type": "code",
   "execution_count": 18,
   "metadata": {
    "collapsed": true
   },
   "outputs": [],
   "source": [
    "stick = three_dimensional_models.I1Stick()\n",
    "ball = three_dimensional_models.E3Ball()"
   ]
  },
  {
   "cell_type": "markdown",
   "metadata": {},
   "source": [
    "Next, we combine them into one model using PartialVolumeCombinedMicrostructureModel.  \n",
    "Our new model will now be $E = vf * E_{Ball} + (1 - vf) * E_{Stick}$ where $vf$ is the volume fraction between zero and one."
   ]
  },
  {
   "cell_type": "code",
   "execution_count": 19,
   "metadata": {
    "collapsed": true
   },
   "outputs": [],
   "source": [
    "ball_and_stick = (\n",
    "    three_dimensional_models.PartialVolumeCombinedMicrostrukturModel(\n",
    "        models=[ball, stick]))"
   ]
  },
  {
   "cell_type": "markdown",
   "metadata": {},
   "source": [
    "That it! We can again figure out the required parameter names using parameter_cardinality. As we are combining models, the parameter names now have the corresponding model prepended to it."
   ]
  },
  {
   "cell_type": "code",
   "execution_count": 21,
   "metadata": {
    "collapsed": false
   },
   "outputs": [
    {
     "data": {
      "text/plain": [
       "OrderedDict([('I1Stick_1_lambda_par', 1),\n",
       "             ('E3Ball_1_lambda_iso', 1),\n",
       "             ('I1Stick_1_mu', 2),\n",
       "             ('partial_volume_0', 1)])"
      ]
     },
     "execution_count": 21,
     "metadata": {},
     "output_type": "execute_result"
    }
   ],
   "source": [
    "ball_and_stick.parameter_cardinality"
   ]
  },
  {
   "cell_type": "markdown",
   "metadata": {},
   "source": [
    "It can be seen that now 'partial_volume_0' also appears. Note that the ordering in which you give models matters for the significance of the partial_volume_0! The procedure to simulate data is now the same as before:"
   ]
  },
  {
   "cell_type": "code",
   "execution_count": 31,
   "metadata": {
    "collapsed": true
   },
   "outputs": [],
   "source": [
    "mu = (np.pi / 2., np.pi / 2.)\n",
    "lambda_par = 1e-9\n",
    "lambda_iso = .6e-9\n",
    "partial_volume = 0.5\n",
    "\n",
    "parameter_vector = ball_and_stick.parameters_to_parameter_vector(\n",
    "    I1Stick_1_lambda_par=lambda_par,\n",
    "    E3Ball_1_lambda_iso=lambda_iso,\n",
    "    I1Stick_1_mu=mu,\n",
    "    partial_volume_0=partial_volume\n",
    ")\n",
    "\n",
    "E = ball_and_stick.simulate_signal(\n",
    "    acq_scheme, parameter_vector)"
   ]
  },
  {
   "cell_type": "markdown",
   "metadata": {},
   "source": [
    "Fitting the data is also the same as before:"
   ]
  },
  {
   "cell_type": "code",
   "execution_count": 36,
   "metadata": {
    "collapsed": false
   },
   "outputs": [],
   "source": [
    "initial_mu = (np.pi / 4., np.pi / 4.)\n",
    "initial_lambda_par = 1.4e-9\n",
    "intial_lambda_iso = .2e-9\n",
    "intial_partial_volume = .3\n",
    "\n",
    "x0 = ball_and_stick.parameters_to_parameter_vector(\n",
    "    I1Stick_1_lambda_par=initial_lambda_par,\n",
    "    E3Ball_1_lambda_iso=intial_lambda_iso,\n",
    "    I1Stick_1_mu=initial_mu,\n",
    "    partial_volume_0=intial_partial_volume\n",
    ")\n",
    "res = ball_and_stick.fit(E, acq_scheme, x0)"
   ]
  },
  {
   "cell_type": "code",
   "execution_count": 39,
   "metadata": {
    "collapsed": false
   },
   "outputs": [
    {
     "data": {
      "text/plain": [
       "{'E3Ball_1_lambda_iso': array([  5.99978175e-10]),\n",
       " 'I1Stick_1_lambda_par': array([  1.00005459e-09]),\n",
       " 'I1Stick_1_mu': array([ 1.57080643,  1.57081038]),\n",
       " 'partial_volume_0': array([ 0.49998818])}"
      ]
     },
     "execution_count": 39,
     "metadata": {},
     "output_type": "execute_result"
    }
   ],
   "source": [
    "# the optimized results\n",
    "ball_and_stick.parameter_vector_to_parameters(res)"
   ]
  },
  {
   "cell_type": "code",
   "execution_count": 40,
   "metadata": {
    "collapsed": false
   },
   "outputs": [
    {
     "data": {
      "text/plain": [
       "{'E3Ball_1_lambda_iso': array([  6.00000000e-10]),\n",
       " 'I1Stick_1_lambda_par': array([  1.00000000e-09]),\n",
       " 'I1Stick_1_mu': array([ 1.57079633,  1.57079633]),\n",
       " 'partial_volume_0': array([ 0.5])}"
      ]
     },
     "execution_count": 40,
     "metadata": {},
     "output_type": "execute_result"
    }
   ],
   "source": [
    "# and the ground truth correspond\n",
    "ball_and_stick.parameter_vector_to_parameters(parameter_vector)"
   ]
  },
  {
   "cell_type": "markdown",
   "metadata": {},
   "source": [
    "# Example 3: Imposing parameter links - Tortuosity and Equality"
   ]
  },
  {
   "cell_type": "markdown",
   "metadata": {},
   "source": [
    "In Microstructure Imaging, microstructure models like NODDI represent the combined diffusion in the intra- and extra-axonal space as a dispersed stick and a dispersed zeppelin. NODDI further imposes two constraints on the parameters of the model:\n",
    "- Certain parameters are the same between the zeppelin and the stick, such as the orientation $\\mu$, parallel diffusivity $\\lambda_\\parallel$, and concentration $\\kappa$.\n",
    "- The model imposes a Tortuosity constraint, such that $\\lambda_\\perp=(1-vf)\\lambda_\\parallel$.\n",
    "\n",
    "The microstructure toolbox allows us to straightforwardly impose such constraints on a microstructure model.  First we instantiate the required models."
   ]
  },
  {
   "cell_type": "code",
   "execution_count": 49,
   "metadata": {
    "collapsed": true
   },
   "outputs": [],
   "source": [
    "watson_stick = dispersed_models.SD3I1WatsonDispersedStick()\n",
    "watson_zeppelin = dispersed_models.SD3E4WatsonDispersedZeppelin()"
   ]
  },
  {
   "cell_type": "markdown",
   "metadata": {},
   "source": [
    "Just combining these two models results in a model with a lot of parameters, which will probably be very hard to optimize to a global optimum."
   ]
  },
  {
   "cell_type": "code",
   "execution_count": 50,
   "metadata": {
    "collapsed": false
   },
   "outputs": [
    {
     "data": {
      "text/plain": [
       "OrderedDict([('SD3E4WatsonDispersedZeppelin_1_lambda_perp', 1),\n",
       "             ('SD3I1WatsonDispersedStick_1_mu', 2),\n",
       "             ('SD3I1WatsonDispersedStick_1_kappa', 1),\n",
       "             ('SD3E4WatsonDispersedZeppelin_1_mu', 2),\n",
       "             ('SD3I1WatsonDispersedStick_1_lambda_par', 1),\n",
       "             ('SD3E4WatsonDispersedZeppelin_1_kappa', 1),\n",
       "             ('SD3E4WatsonDispersedZeppelin_1_lambda_par', 1),\n",
       "             ('partial_volume_0', 1)])"
      ]
     },
     "execution_count": 50,
     "metadata": {},
     "output_type": "execute_result"
    }
   ],
   "source": [
    "dispersed_stick_and_zeppelin = (\n",
    "    three_dimensional_models.PartialVolumeCombinedMicrostrukturModel(\n",
    "        models=[watson_stick, watson_zeppelin]))\n",
    "dispersed_stick_and_zeppelin.parameter_cardinality"
   ]
  },
  {
   "cell_type": "markdown",
   "metadata": {},
   "source": [
    "We can impose the required parameter constraints by making a parameter linking list. Such a list has the general shape as follows:  \n",
    "[(model1, parameter_to_be_linked, linking_function, [(model2, link_function_input_parameter)])]\n",
    "\n",
    "For example, to make the orientation $\\mu$ the same between the Stick and Zeppelin, the linking list would look like this:  \n",
    "[(watson_zeppelin, 'mu',  parameter_equality, [(watson_stick, 'mu')])]\n",
    "\n",
    "To add a tortuosity constraint, the linking list would look as follows:  \n",
    "[(watson_zeppelin, 'lambda_perp', T1_tortuosity, [(None, 'partial_volume_0'), (watson_stick, 'lambda_par')])] \n",
    "\n",
    "Notice that T1_tortuosity takes 2 input parameters, namely the volume fraction and parallel diffusivity. We can impose a list of links/constraints by simply growing the list:"
   ]
  },
  {
   "cell_type": "code",
   "execution_count": 53,
   "metadata": {
    "collapsed": false
   },
   "outputs": [],
   "source": [
    "from microstruktur.signal_models.utils import (\n",
    "    T1_tortuosity, parameter_equality)\n",
    "\n",
    "parameter_links_dispersed_stick_and_tortuous_zeppelin = [\n",
    "    (watson_zeppelin, 'lambda_perp', T1_tortuosity,\n",
    "     [(None, 'partial_volume_0'), (watson_stick, 'lambda_par')]\n",
    "    ), \n",
    "    (watson_zeppelin, 'lambda_par', parameter_equality,\n",
    "     [(watson_stick, 'lambda_par')]\n",
    "    ),\n",
    "    (watson_zeppelin, 'mu',  parameter_equality, \n",
    "     [(watson_stick, 'mu')]\n",
    "    ),\n",
    "    (watson_zeppelin, 'kappa',  parameter_equality, \n",
    "     [(watson_stick, 'kappa')]\n",
    "    ),\n",
    "]"
   ]
  },
  {
   "cell_type": "markdown",
   "metadata": {},
   "source": [
    "Now that the parameter linking is prepared, we can simply give them as input in PartialVolumeCombinedMicrostructureModel. Notice that parameter_cardinality now only shows non-linked (so the to-be-optimized) parameters. The remaining parameters are linked internally."
   ]
  },
  {
   "cell_type": "code",
   "execution_count": 54,
   "metadata": {
    "collapsed": false
   },
   "outputs": [
    {
     "data": {
      "text/plain": [
       "OrderedDict([('SD3I1WatsonDispersedStick_1_mu', 2),\n",
       "             ('SD3I1WatsonDispersedStick_1_kappa', 1),\n",
       "             ('SD3I1WatsonDispersedStick_1_lambda_par', 1),\n",
       "             ('partial_volume_0', 1)])"
      ]
     },
     "execution_count": 54,
     "metadata": {},
     "output_type": "execute_result"
    }
   ],
   "source": [
    "dispersed_stick_and_tortuous_zeppelin = (\n",
    "    three_dimensional_models.PartialVolumeCombinedMicrostrukturModel(\n",
    "        models=[watson_stick, watson_zeppelin],\n",
    "        parameter_links=parameter_links_dispersed_stick_and_tortuous_zeppelin)\n",
    ")\n",
    "dispersed_stick_and_tortuous_zeppelin.parameter_cardinality"
   ]
  },
  {
   "cell_type": "markdown",
   "metadata": {},
   "source": [
    "# Example 4: Simulating and fitting multiple voxels with varying initial conditions"
   ]
  },
  {
   "cell_type": "markdown",
   "metadata": {},
   "source": [
    "For real applications, we may need to simulate data with many different initial conditions, or fit a real dataset where we want to give a voxel-dependent initial condition to avoid local minima. The toolbox allows you to do both these things by generating a multi-dimensional parameter_vector.\n",
    "\n",
    "As an example, we will generate a simple Ball & Stick model."
   ]
  },
  {
   "cell_type": "code",
   "execution_count": 55,
   "metadata": {
    "collapsed": true
   },
   "outputs": [],
   "source": [
    "stick = three_dimensional_models.I1Stick()\n",
    "ball = three_dimensional_models.E3Ball()\n",
    "ball_and_stick = (\n",
    "    three_dimensional_models.PartialVolumeCombinedMicrostrukturModel(\n",
    "        models=[ball, stick]))"
   ]
  },
  {
   "cell_type": "markdown",
   "metadata": {},
   "source": [
    "Now say we want to simulate the signal in each voxel to have the same lambdas and partial_volume, but varying 10x10 grid of $\\mu$. This can be done by giving parameters_to_parameter vector just the single value you want for the lambdas and partial_volume, but the mu as a 10x10x2 array."
   ]
  },
  {
   "cell_type": "code",
   "execution_count": 65,
   "metadata": {
    "collapsed": false
   },
   "outputs": [
    {
     "name": "stdout",
     "output_type": "stream",
     "text": [
      "(10, 10, 5)\n"
     ]
    }
   ],
   "source": [
    "lambda_par = np.random.rand() * 1e-9\n",
    "lambda_iso = gt_lambda_par / 2.\n",
    "partial_volume = 0.4\n",
    "mu_array = np.random.rand(10, 10, 2) * 2.\n",
    "\n",
    "gt_parameter_vector = (\n",
    "    ball_and_stick.parameters_to_parameter_vector(\n",
    "        I1Stick_1_lambda_par=lambda_par,\n",
    "        E3Ball_1_lambda_iso=lambda_iso,\n",
    "        I1Stick_1_mu=mu_array,\n",
    "        partial_volume_0=partial_volume)\n",
    ")\n",
    "\n",
    "#notice that the entire parameter array is now 10x10x5\n",
    "print gt_parameter_vector.shape"
   ]
  },
  {
   "cell_type": "code",
   "execution_count": 67,
   "metadata": {
    "collapsed": false
   },
   "outputs": [
    {
     "name": "stdout",
     "output_type": "stream",
     "text": [
      "(10, 10, 288)\n"
     ]
    }
   ],
   "source": [
    "# the data can now be generated exactly as before.\n",
    "E_array = ball_and_stick.simulate_signal(acq_scheme, gt_parameter_vector)\n",
    "print E_array.shape"
   ]
  },
  {
   "cell_type": "markdown",
   "metadata": {},
   "source": [
    "Finally, we can fit the data with either a static initial condition or a voxel-varying one, where we will use the ground truth as an example."
   ]
  },
  {
   "cell_type": "code",
   "execution_count": 91,
   "metadata": {
    "collapsed": false
   },
   "outputs": [],
   "source": [
    "import matplotlib.pyplot as plt\n",
    "%matplotlib inline  \n",
    "\n",
    "single_parameter_vector = (\n",
    "    ball_and_stick.parameters_to_parameter_vector(\n",
    "        I1Stick_1_lambda_par=lambda_par,\n",
    "        E3Ball_1_lambda_iso=lambda_iso,\n",
    "        I1Stick_1_mu=(0, 0),\n",
    "        partial_volume_0=partial_volume)\n",
    ")\n",
    "# I'm giving a either a single or voxel-dependent initial condition with gt_mu_array\n",
    "res_single_x0 = ball_and_stick.fit(E_array, acq_scheme, single_parameter_vector)\n",
    "res_voxel_dependent_x0 = ball_and_stick.fit(E_array, acq_scheme, gt_parameter_vector)"
   ]
  },
  {
   "cell_type": "markdown",
   "metadata": {},
   "source": [
    "To illustrate how important it is to give a good initial condition to the model, we plot the percentual error of the estimated model parameters compared to the ground truth:"
   ]
  },
  {
   "cell_type": "code",
   "execution_count": 95,
   "metadata": {
    "collapsed": false
   },
   "outputs": [
    {
     "data": {
      "text/plain": [
       "[<matplotlib.lines.Line2D at 0x6a7d8d0>]"
      ]
     },
     "execution_count": 95,
     "metadata": {},
     "output_type": "execute_result"
    },
    {
     "data": {
      "image/png": "[encoded data removed]",
      "text/plain": [
       "<matplotlib.figure.Figure at 0x6a6fe10>"
      ]
     },
     "metadata": {},
     "output_type": "display_data"
    }
   ],
   "source": [
    "percentual_error_single = np.mean(\n",
    "    ((abs(gt_parameter_vector - res_single_x0)) / gt_parameter_vector), axis=-1)\n",
    "percentual_error_varying = np.mean(\n",
    "    ((abs(gt_parameter_vector - res_voxel_dependent_x0)) / gt_parameter_vector), axis=-1)\n",
    "\n",
    "plt.plot(percentual_error_single.ravel(), c='b')\n",
    "plt.ylim(-.05, .9)\n",
    "plt.plot(percentual_error_varying.ravel(), c='r')"
   ]
  },
  {
   "cell_type": "markdown",
   "metadata": {},
   "source": [
    "The results using varying initial condition (using the ground truth in this case) unsurprisingly always results in the optimal solution, and using the same initiation often results in a local minimu"
   ]
  },
  {
   "cell_type": "markdown",
   "metadata": {
    "collapsed": true
   },
   "source": [
    "# Example 5: Fitting real data using a custom microstructure model"
   ]
  },
  {
   "cell_type": "code",
   "execution_count": null,
   "metadata": {
    "collapsed": true
   },
   "outputs": [],
   "source": []
  }
 ],
 "metadata": {
  "kernelspec": {
   "display_name": "Python 2",
   "language": "python",
   "name": "python2"
  },
  "language_info": {
   "codemirror_mode": {
    "name": "ipython",
    "version": 2
   },
   "file_extension": ".py",
   "mimetype": "text/x-python",
   "name": "python",
   "nbconvert_exporter": "python",
   "pygments_lexer": "ipython2",
   "version": "2.7.6"
  }
 },
 "nbformat": 4,
 "nbformat_minor": 1
}
