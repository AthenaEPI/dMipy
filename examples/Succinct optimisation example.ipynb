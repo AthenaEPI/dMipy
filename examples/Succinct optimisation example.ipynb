{
 "cells": [
  {
   "cell_type": "code",
   "execution_count": 353,
   "metadata": {
    "collapsed": true
   },
   "outputs": [],
   "source": [
    "from os.path import join\n"
   ]
  },
  {
   "cell_type": "code",
   "execution_count": 22,
   "metadata": {
    "collapsed": true
   },
   "outputs": [],
   "source": [
    "import numpy as np"
   ]
  },
  {
   "cell_type": "code",
   "execution_count": 11,
   "metadata": {
    "collapsed": true
   },
   "outputs": [],
   "source": [
    "from scipy import optimize"
   ]
  },
  {
   "cell_type": "code",
   "execution_count": 7,
   "metadata": {
    "collapsed": true
   },
   "outputs": [],
   "source": [
    "from microstruktur.signal_models import three_dimensional_models\n",
    "from microstruktur.signal_models import gradient_conversions"
   ]
  },
  {
   "cell_type": "code",
   "execution_count": 3,
   "metadata": {
    "collapsed": true
   },
   "outputs": [],
   "source": [
    "from importlib import reload"
   ]
  },
  {
   "cell_type": "code",
   "execution_count": 154,
   "metadata": {
    "collapsed": false
   },
   "outputs": [],
   "source": [
    "bvals = np.loadtxt(join(three_dimensional_models.GRADIENT_TABLES_PATH, 'bvals_hcp_wu_minn.txt'))\n",
    "gradient_directions = np.loadtxt(join(three_dimensional_models.GRADIENT_TABLES_PATH, 'bvecs_hcp_wu_minn.txt'))"
   ]
  },
  {
   "cell_type": "code",
   "execution_count": 342,
   "metadata": {
    "collapsed": false
   },
   "outputs": [],
   "source": [
    "stick = three_dimensional_models.I1Stick(lambda_par=2e-3, mu=[0, 0])"
   ]
  },
  {
   "cell_type": "code",
   "execution_count": 343,
   "metadata": {
    "collapsed": false
   },
   "outputs": [
    {
     "data": {
      "text/plain": [
       "array([ 1.        ,  0.9335884 ,  0.60888331,  0.00647561,  0.72635583,\n",
       "        0.41434429,  0.32360809,  0.19819166,  0.09504999,  0.89685335,\n",
       "        0.71998388,  0.02296437,  0.5116401 ,  0.23070807,  0.99901891,\n",
       "        0.87608816,  1.        ,  0.77699837,  0.92441009,  0.00726072,\n",
       "        0.10433723,  0.45190814,  0.24258347,  0.87642082,  0.11050229,\n",
       "        0.03680408,  0.30671406,  0.25048305,  0.43244879,  0.80229888,\n",
       "        0.86910295,  0.11561769,  1.        ,  0.19698608,  0.97595931,\n",
       "        0.84296755,  0.16495121,  0.05832137,  0.52947699,  0.69191079,\n",
       "        0.0049633 ,  0.95691371,  0.0384834 ,  0.60712385,  0.07825937,\n",
       "        0.99847135,  0.43527201,  0.98953406,  1.        ,  0.2784147 ,\n",
       "        0.70151996,  0.79582974,  0.82327515,  0.32211598,  0.02482972,\n",
       "        0.29564166,  0.04263531,  0.59804174,  0.74817085,  0.23847658,\n",
       "        0.09969115,  0.99720355,  0.06091185,  0.70564666,  1.        ,\n",
       "        0.14599592,  0.07093692,  0.99862363,  0.99930743,  0.38745259,\n",
       "        0.56549971,  0.7090769 ,  0.12526081,  0.2944336 ,  0.46111565,\n",
       "        0.97642204,  0.00335362,  0.50488574,  0.02651395,  0.99980458,\n",
       "        1.        ,  0.94738836,  0.01302816,  0.24378553,  0.37437849,\n",
       "        0.67040952,  0.05653136,  0.56586831,  0.07709026,  0.68309745,\n",
       "        0.2711758 ,  0.2617982 ,  0.08761616,  0.99979391,  0.94933508,\n",
       "        1.        ,  0.29190564,  0.98018338,  0.68083539,  0.45107057,\n",
       "        0.17526704,  0.94934925,  0.75392597,  0.43960895,  0.02355782,\n",
       "        0.99921479,  0.70563117,  0.85368965,  0.00267379,  0.95774087,\n",
       "        0.05746806,  0.60570312,  1.        ,  0.14199156,  0.04250821,\n",
       "        0.23706767,  0.9916412 ,  0.38887388,  0.00905404,  0.4234994 ,\n",
       "        0.26115739,  0.5284947 ,  0.65403284,  0.16073363,  0.09008938,\n",
       "        0.38519488,  0.99921373,  0.00949131,  1.        ,  0.75663822,\n",
       "        0.57742783,  0.12277818,  0.33750071,  0.86320113,  0.06036128,\n",
       "        0.06249745,  0.94578108,  0.9718655 ,  0.9363545 ,  0.26716141,\n",
       "        0.03168922,  0.21573727,  0.6997029 ,  0.03644452,  1.        ,\n",
       "        0.19456842,  0.85221468,  0.00971469,  0.45925687,  0.04711973,\n",
       "        0.72362532,  0.38172475,  0.92048961,  0.01921919,  0.97689808,\n",
       "        0.03068484,  0.33281194,  0.75475   ,  0.77861065,  0.63460002,\n",
       "        1.        ,  0.43433255,  0.30655835,  0.18560408,  0.30927771,\n",
       "        0.79056405,  0.83616951,  0.8372546 ,  0.35184169,  0.18737855,\n",
       "        0.96123508,  0.18241516,  0.05202449,  0.81234879,  0.56375427,\n",
       "        0.69710608,  1.        ,  0.56160829,  0.00297673,  0.25616325,\n",
       "        0.88700469,  0.03734012,  0.75471316,  0.99994333,  0.01107181,\n",
       "        0.93792657,  0.22911934,  0.65476377,  0.38642016,  0.99676438,\n",
       "        0.94642941,  1.        ,  0.31377592,  0.45769945,  0.88988525,\n",
       "        0.51739377,  0.27489681,  0.01866893,  0.13867772,  0.78739389,\n",
       "        0.58808305,  0.16493582,  0.49143654,  0.89803996,  0.05861706,\n",
       "        0.16178674,  0.29943472,  0.32897688,  1.        ,  0.00501773,\n",
       "        0.48734698,  0.11541866,  0.85793916,  0.11346417,  0.17396854,\n",
       "        0.54614891,  0.92995765,  0.37906097,  0.9999489 ,  0.76250104,\n",
       "        0.02074064,  0.9924429 ,  0.20040165,  0.14109126,  1.        ,\n",
       "        0.91079825,  0.01655604,  0.05017618,  0.64753386,  0.85898143,\n",
       "        0.58286783,  0.00844512,  0.69244517,  0.05024426,  0.76986543,\n",
       "        0.1946656 ,  0.99333435,  0.29814946,  0.54148165,  0.01478447,\n",
       "        1.        ,  0.87029796,  0.96099645,  0.11262363,  0.61194683,\n",
       "        0.04740641,  0.99605841,  0.97069628,  0.99168664,  0.02173495,\n",
       "        0.25255726,  0.28603351,  0.26653065,  0.60900893,  0.01763405,\n",
       "        0.2560927 ,  1.        ,  0.13917066,  0.99193736,  0.11876234,\n",
       "        0.91934231,  0.02795711,  0.63829924,  0.94737466,  0.54385758,\n",
       "        0.03829934,  0.33570257,  0.19241588,  0.51974235,  0.2865396 ,\n",
       "        0.07240114,  0.20864241,  1.        ,  0.54798276,  0.98916932,\n",
       "        0.32149249,  0.80653078,  0.59527595,  0.7215187 ,  0.00362222,\n",
       "        0.46968995,  0.02847493,  0.83560086,  0.21708625,  0.62044352,\n",
       "        0.31653262,  0.94961558,  0.09032174])"
      ]
     },
     "execution_count": 343,
     "metadata": {},
     "output_type": "execute_result"
    }
   ],
   "source": [
    "E = stick(bvals, gradient_directions)\n",
    "E"
   ]
  },
  {
   "cell_type": "code",
   "execution_count": 345,
   "metadata": {
    "collapsed": false
   },
   "outputs": [
    {
     "data": {
      "text/plain": [
       "      fun: 1.8375322208433293e-06\n",
       " hess_inv: <3x3 LbfgsInvHessProduct with dtype=float64>\n",
       "      jac: array([ -5.61912422e-06,   4.10316736e-08,   0.00000000e+00])\n",
       "  message: b'CONVERGENCE: NORM_OF_PROJECTED_GRADIENT_<=_PGTOL'\n",
       "     nfev: 100\n",
       "      nit: 8\n",
       "   status: 0\n",
       "  success: True\n",
       "        x: array([ 0.00199999, -0.00147639,  0.002     ])"
      ]
     },
     "execution_count": 345,
     "metadata": {},
     "output_type": "execute_result"
    }
   ],
   "source": [
    "x0 = stick.parameters_to_parameter_vector(mu=[0, 0], lambda_par=2e-3)\n",
    "res = optimize.minimize(\n",
    "    stick.objective_function, x0, (bvals, gradient_directions, E),\n",
    "    bounds=stick.bounds_for_optimization, options={'disp': True}\n",
    ")\n",
    "res"
   ]
  },
  {
   "cell_type": "code",
   "execution_count": 351,
   "metadata": {
    "collapsed": false
   },
   "outputs": [
    {
     "data": {
      "text/plain": [
       "{'lambda_par': array([ 0.00199999]), 'mu': array([ 0.00199999, -0.00147639])}"
      ]
     },
     "execution_count": 351,
     "metadata": {},
     "output_type": "execute_result"
    }
   ],
   "source": [
    "stick.parameter_vector_to_parameters(res.x)"
   ]
  }
 ],
 "metadata": {
  "kernelspec": {
   "display_name": "Python 3",
   "language": "python",
   "name": "python3"
  },
  "language_info": {
   "codemirror_mode": {
    "name": "ipython",
    "version": 3
   },
   "file_extension": ".py",
   "mimetype": "text/x-python",
   "name": "python",
   "nbconvert_exporter": "python",
   "pygments_lexer": "ipython3",
   "version": "3.5.2"
  }
 },
 "nbformat": 4,
 "nbformat_minor": 0
}
