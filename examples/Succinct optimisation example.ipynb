{
 "cells": [
  {
   "cell_type": "code",
   "execution_count": 2,
   "metadata": {
    "collapsed": true
   },
   "outputs": [],
   "source": [
    "from os.path import join\n",
    "import numpy as np\n",
    "from scipy import optimize\n",
    "from microstruktur.signal_models import three_dimensional_models\n",
    "from microstruktur.signal_models import gradient_conversions"
   ]
  },
  {
   "cell_type": "code",
   "execution_count": 3,
   "metadata": {
    "collapsed": false
   },
   "outputs": [
    {
     "ename": "ImportError",
     "evalue": "cannot import name reload",
     "output_type": "error",
     "traceback": [
      "\u001b[1;31m---------------------------------------------------------------------------\u001b[0m",
      "\u001b[1;31mImportError\u001b[0m                               Traceback (most recent call last)",
      "\u001b[1;32m<ipython-input-3-acf073cbc276>\u001b[0m in \u001b[0;36m<module>\u001b[1;34m()\u001b[0m\n\u001b[1;32m----> 1\u001b[1;33m \u001b[1;32mfrom\u001b[0m \u001b[0mimportlib\u001b[0m \u001b[1;32mimport\u001b[0m \u001b[0mreload\u001b[0m\u001b[1;33m\u001b[0m\u001b[0m\n\u001b[0m\u001b[0;32m      2\u001b[0m \u001b[0mreload\u001b[0m\u001b[1;33m(\u001b[0m\u001b[0mthree_dimensional_models\u001b[0m\u001b[1;33m)\u001b[0m\u001b[1;33m\u001b[0m\u001b[0m\n",
      "\u001b[1;31mImportError\u001b[0m: cannot import name reload"
     ]
    }
   ],
   "source": [
    "from importlib import reload\n",
    "reload(three_dimensional_models)"
   ]
  },
  {
   "cell_type": "code",
   "execution_count": 4,
   "metadata": {
    "collapsed": false
   },
   "outputs": [],
   "source": [
    "bvals = np.loadtxt(join(three_dimensional_models.GRADIENT_TABLES_PATH, 'bvals_hcp_wu_minn.txt'))\n",
    "gradient_directions = np.loadtxt(join(three_dimensional_models.GRADIENT_TABLES_PATH, 'bvecs_hcp_wu_minn.txt'))"
   ]
  },
  {
   "cell_type": "code",
   "execution_count": 5,
   "metadata": {
    "collapsed": false
   },
   "outputs": [],
   "source": [
    "stick = three_dimensional_models.I1Stick(lambda_par=2e-3, mu=[0, 0])"
   ]
  },
  {
   "cell_type": "code",
   "execution_count": 7,
   "metadata": {
    "collapsed": false
   },
   "outputs": [
    {
     "data": {
      "text/plain": [
       "array([ 1.        ,  0.99993128,  0.99950399,  0.99497297,  0.99968034,\n",
       "        0.99911933,  0.99887241,  0.99838279,  0.99764941,  0.99989114,\n",
       "        0.99967153,  0.9962333 ,  0.99933009,  0.99853447,  0.99999902,\n",
       "        0.99986772,  1.        ,  0.99974771,  0.9999214 ,  0.99508683,\n",
       "        0.99774243,  0.99920604,  0.99858459,  0.9998681 ,  0.99779971,\n",
       "        0.9967033 ,  0.99881886,  0.99861659,  0.99916206,  0.99977975,\n",
       "        0.99985972,  0.99784486,  1.        ,  0.9983767 ,  0.99997567,\n",
       "        0.99982919,  0.99819952,  0.99716225,  0.99936434,  0.99963177,\n",
       "        0.99470837,  0.99995596,  0.99674777,  0.9995011 ,  0.99745552,\n",
       "        0.99999847,  0.99916856,  0.99998948,  1.        ,  0.99872217,\n",
       "        0.99964556,  0.99977166,  0.99980555,  0.9988678 ,  0.99631111,\n",
       "        0.99878214,  0.9968499 ,  0.99948604,  0.99970992,  0.99856754,\n",
       "        0.99769698,  0.9999972 ,  0.99720558,  0.99965142,  1.        ,\n",
       "        0.99807767,  0.99735753,  0.99999862,  0.99999931,  0.99905229,\n",
       "        0.99943012,  0.99965627,  0.9979248 ,  0.99877805,  0.99922619,\n",
       "        0.99997614,  0.99431849,  0.99931681,  0.9963765 ,  0.9999998 ,\n",
       "        1.        ,  0.99994596,  0.99566876,  0.99858953,  0.99901799,\n",
       "        0.99960021,  0.99713116,  0.99943077,  0.9974405 ,  0.99961895,\n",
       "        0.99869586,  0.99866072,  0.99756817,  0.99999979,  0.99994801,\n",
       "        1.        ,  0.99876943,  0.99997998,  0.99961564,  0.99920419,\n",
       "        0.99826007,  0.99994802,  0.99971758,  0.99917847,  0.99625872,\n",
       "        0.99999921,  0.9996514 ,  0.99984182,  0.99409326,  0.99995682,\n",
       "        0.99714755,  0.99949876,  1.        ,  0.99804992,  0.99684692,\n",
       "        0.99856163,  0.99999161,  0.99905595,  0.9953065 ,  0.99914117,\n",
       "        0.99865827,  0.99936248,  0.99957549,  0.99817366,  0.99759594,\n",
       "        0.99904645,  0.99999921,  0.99535345,  1.        ,  0.99972117,\n",
       "        0.99945098,  0.99790482,  0.9989144 ,  0.9998529 ,  0.99719653,\n",
       "        0.99723121,  0.99994426,  0.99997146,  0.99993424,  0.99868097,\n",
       "        0.99655417,  0.99846748,  0.99964296,  0.99669351,  1.        ,\n",
       "        0.99836437,  0.9998401 ,  0.9953766 ,  0.99922216,  0.9969496 ,\n",
       "        0.99967657,  0.99903741,  0.99991715,  0.99605595,  0.99997663,\n",
       "        0.99652208,  0.99890043,  0.99971867,  0.99974979,  0.99954534,\n",
       "        1.        ,  0.9991664 ,  0.99881835,  0.99831728,  0.99882717,\n",
       "        0.99976502,  0.99982109,  0.99982239,  0.99895597,  0.99832678,\n",
       "        0.99996046,  0.99829998,  0.99704832,  0.9997922 ,  0.99942703,\n",
       "        0.99963925,  1.        ,  0.99942322,  0.99419996,  0.99863899,\n",
       "        0.9998801 ,  0.99671771,  0.99971862,  0.99999994,  0.99550677,\n",
       "        0.99993592,  0.99852757,  0.99957661,  0.99904962,  0.99999676,\n",
       "        0.99994494,  1.        ,  0.9988416 ,  0.99921876,  0.99988334,\n",
       "        0.99934127,  0.99870947,  0.99602702,  0.99802635,  0.999761  ,\n",
       "        0.99946925,  0.99819942,  0.99928983,  0.99989247,  0.99716729,\n",
       "        0.99818018,  0.99879487,  0.99888885,  1.        ,  0.99471921,\n",
       "        0.99928148,  0.99784314,  0.99984679,  0.9978261 ,  0.99825265,\n",
       "        0.99939532,  0.99992739,  0.99903041,  0.99999995,  0.99972889,\n",
       "        0.99613184,  0.99999241,  0.99839386,  0.99804357,  1.        ,\n",
       "        0.99990657,  0.99590739,  0.99701226,  0.99956551,  0.999848  ,\n",
       "        0.99946035,  0.99523721,  0.99963254,  0.99701361,  0.99973849,\n",
       "        0.99836487,  0.99999331,  0.99879057,  0.99938674,  0.99579469,\n",
       "        1.        ,  0.99986109,  0.99996022,  0.99781868,  0.99950901,\n",
       "        0.99695565,  0.99999605,  0.99997026,  0.99999165,  0.99617849,\n",
       "        0.99862483,  0.99874914,  0.99867861,  0.9995042 ,  0.99597022,\n",
       "        0.99863871,  1.        ,  0.99802989,  0.9999919 ,  0.99787164,\n",
       "        0.99991591,  0.99642931,  0.99955115,  0.99994594,  0.99939112,\n",
       "        0.99674299,  0.99890907,  0.99835326,  0.99934579,  0.9987509 ,\n",
       "        0.99737791,  0.99843409,  1.        ,  0.99939867,  0.99998911,\n",
       "        0.99886586,  0.99978501,  0.9994814 ,  0.99967366,  0.9943951 ,\n",
       "        0.9992446 ,  0.99644759,  0.99982041,  0.99847371,  0.99952279,\n",
       "        0.99885033,  0.9999483 ,  0.99759851])"
      ]
     },
     "execution_count": 7,
     "metadata": {},
     "output_type": "execute_result"
    }
   ],
   "source": [
    "E = stick(bvals, gradient_directions)\n",
    "E"
   ]
  },
  {
   "cell_type": "code",
   "execution_count": 8,
   "metadata": {
    "collapsed": false
   },
   "outputs": [
    {
     "data": {
      "text/plain": [
       "      fun: 1.9072338816438421e-06\n",
       " hess_inv: <3x3 LbfgsInvHessProduct with dtype=float64>\n",
       "      jac: array([  1.61039651e-06,   3.06367590e-06,  -4.19772164e-08])\n",
       "  message: 'CONVERGENCE: NORM_OF_PROJECTED_GRADIENT_<=_PGTOL'\n",
       "     nfev: 12\n",
       "      nit: 2\n",
       "   status: 0\n",
       "  success: True\n",
       "        x: array([  1.34283616e-03,   7.85393875e-01,   6.84412853e-08])"
      ]
     },
     "execution_count": 8,
     "metadata": {},
     "output_type": "execute_result"
    }
   ],
   "source": [
    "x0 = stick.parameters_to_parameter_vector(mu=[np.pi/4, 0], lambda_par=2e-3)\n",
    "res = optimize.minimize(\n",
    "    stick.objective_function, x0, (bvals, gradient_directions, E),\n",
    "    bounds=stick.bounds_for_optimization, options={'disp': True}\n",
    ")\n",
    "res"
   ]
  },
  {
   "cell_type": "code",
   "execution_count": 9,
   "metadata": {
    "collapsed": false
   },
   "outputs": [
    {
     "data": {
      "text/plain": [
       "{'lambda_par': array([ 0.00134284]),\n",
       " 'mu': array([  7.85393875e-01,   6.84412853e-08])}"
      ]
     },
     "execution_count": 9,
     "metadata": {},
     "output_type": "execute_result"
    }
   ],
   "source": [
    "stick.parameter_vector_to_parameters(res.x)"
   ]
  },
  {
   "cell_type": "code",
   "execution_count": 10,
   "metadata": {
    "collapsed": false
   },
   "outputs": [],
   "source": [
    "stick2 = three_dimensional_models.I1Stick(lambda_par=2e-3, mu=[np.pi/4, 0])"
   ]
  },
  {
   "cell_type": "markdown",
   "metadata": {},
   "source": [
    "# Linked Parameter Example\n",
    "lambda_par of the second stick is double that of the first stick"
   ]
  },
  {
   "cell_type": "code",
   "execution_count": 11,
   "metadata": {
    "collapsed": false
   },
   "outputs": [
    {
     "data": {
      "text/plain": [
       "<module 'microstruktur.signal_models.three_dimensional_models' from '/user/rfick/home/Enthought/Canopy_64bit/User/lib/python2.7/site-packages/microstruktur-0.1.dev0-py2.7.egg/microstruktur/signal_models/three_dimensional_models.pyc'>"
      ]
     },
     "execution_count": 11,
     "metadata": {},
     "output_type": "execute_result"
    }
   ],
   "source": [
    "reload(three_dimensional_models)"
   ]
  },
  {
   "cell_type": "code",
   "execution_count": 12,
   "metadata": {
    "collapsed": false
   },
   "outputs": [
    {
     "data": {
      "text/plain": [
       "OrderedDict([('I1Stick_1_lambda_par', 1),\n",
       "             ('I1Stick_2_mu', 2),\n",
       "             ('I1Stick_1_mu', 2),\n",
       "             ('partial_volume_0', 1)])"
      ]
     },
     "execution_count": 12,
     "metadata": {},
     "output_type": "execute_result"
    }
   ],
   "source": [
    "def double_scalar_plus_constant(x, c):\n",
    "    return 2 * x + c\n",
    "\n",
    "parameter_links = [\n",
    "    (\n",
    "        stick2, 'lambda_par',\n",
    "        double_scalar_plus_constant, [\n",
    "            (stick, 'lambda_par'),\n",
    "            (None, 'partial_volume_0')\n",
    "        ]\n",
    "    )\n",
    "]\n",
    "\n",
    "two_sticks = three_dimensional_models.PartialVolumeCombinedMicrostrukturModel(\n",
    "    [stick, stick2], parameter_links=parameter_links, \n",
    "    optimise_partial_volumes=True\n",
    ")\n",
    "two_sticks.parameter_cardinality"
   ]
  },
  {
   "cell_type": "code",
   "execution_count": 13,
   "metadata": {
    "collapsed": false
   },
   "outputs": [
    {
     "data": {
      "text/plain": [
       "OrderedDict([('I1Stick_1_lambda_par', 0.002),\n",
       "             ('I1Stick_1_mu', [0, 0]),\n",
       "             ('I1Stick_2_mu', [0.7853981633974483, 0]),\n",
       "             ('partial_volume_0', 0.5),\n",
       "             ('I1Stick_2_lambda_par', 0.504)])"
      ]
     },
     "execution_count": 13,
     "metadata": {},
     "output_type": "execute_result"
    }
   ],
   "source": [
    "#Check if we add the linked parameter correctly\n",
    "two_sticks.add_linked_parameters_to_parameters(two_sticks.parameter_defaults)"
   ]
  },
  {
   "cell_type": "code",
   "execution_count": 16,
   "metadata": {
    "collapsed": false,
    "scrolled": false
   },
   "outputs": [
    {
     "data": {
      "text/plain": [
       "array([ 1.        ,  0.93304669,  0.89447038,  0.73968382,  0.99459731,\n",
       "        0.99676337,  0.73176879,  0.85181715,  0.99452009,  0.72855501,\n",
       "        0.99572492,  0.74797819,  0.67487947,  0.97877696,  0.81533204,\n",
       "        0.99410003,  1.        ,  0.84135576,  0.97447586,  0.7512597 ,\n",
       "        0.98782721,  0.85630807,  0.96107198,  0.96529864,  0.96424104,\n",
       "        0.61310906,  0.99001776,  0.70120865,  0.84961569,  0.92955813,\n",
       "        0.88918847,  0.99728672,  1.        ,  0.81910816,  0.93856646,\n",
       "        0.96045386,  0.86231971,  0.7869414 ,  0.89822112,  0.82371965,\n",
       "        0.87719752,  0.99416528,  0.6434009 ,  0.98374955,  0.80474512,\n",
       "        0.99999423,  0.96858919,  0.72041216,  1.        ,  0.92782391,\n",
       "        0.73105538,  0.9971164 ,  0.80991548,  0.94551746,  0.87504245,\n",
       "        0.80337041,  0.9796812 ,  0.8607821 ,  0.9882279 ,  0.99559667,\n",
       "        0.89514782,  0.96603314,  0.65997492,  0.79662003,  1.        ,\n",
       "        0.9251619 ,  0.69087701,  0.8415194 ,  0.89391107,  0.96595195,\n",
       "        0.90280452,  0.94565926,  0.97901717,  0.62707459,  0.84931233,\n",
       "        0.84744307,  0.66711434,  0.99965723,  0.86912649,  0.97321138,\n",
       "        1.        ,  0.88485091,  0.91811982,  0.72580044,  0.99950859,\n",
       "        0.9085221 ,  0.89334953,  0.94839653,  0.71526259,  0.96667951,\n",
       "        0.82475344,  0.87560946,  0.99495097,  0.95069189,  0.89497784,\n",
       "        1.        ,  0.65752802,  0.98978975,  0.73128092,  0.99608613,\n",
       "        0.92625149,  0.88705407,  0.92193248,  0.99180232,  0.77550335,\n",
       "        0.7590933 ,  0.99955825,  0.9895296 ,  0.75894878,  0.86322887,\n",
       "        0.97035767,  0.85858776,  1.        ,  0.86365883,  0.7468355 ,\n",
       "        0.6893782 ,  0.98651012,  0.99932457,  0.65263317,  0.81340815,\n",
       "        0.78325532,  0.96689421,  0.98339611,  0.76094514,  0.61753475,\n",
       "        0.90554241,  0.81137935,  0.87269303,  1.        ,  0.87731069,\n",
       "        0.93861891,  0.90773771,  0.88435134,  0.94991845,  0.89247276,\n",
       "        0.9982858 ,  0.94445158,  0.84782226,  0.97974526,  0.98462572,\n",
       "        0.90684525,  0.98004783,  0.99759773,  0.75760266,  1.        ,\n",
       "        0.93491172,  0.93576528,  0.62806597,  0.81672112,  0.69896248,\n",
       "        0.672431  ,  0.98462809,  0.88924069,  0.97860555,  0.94509234,\n",
       "        0.79708037,  0.97325411,  0.76472871,  0.88405646,  0.75548531,\n",
       "        1.        ,  0.99901362,  0.73813652,  0.99915541,  0.99442247,\n",
       "        0.83102697,  0.77705328,  0.98781186,  0.99252549,  0.99278658,\n",
       "        0.98718607,  0.82389676,  0.72531328,  0.99582357,  0.9427086 ,\n",
       "        0.67040687,  1.        ,  0.96679431,  0.74913704,  0.87577147,\n",
       "        0.93803587,  0.94087409,  0.89833941,  0.90460433,  0.67699496,\n",
       "        0.79221094,  0.88809959,  0.81196788,  0.91022448,  0.91715048,\n",
       "        0.99560491,  1.        ,  0.69151126,  0.96839063,  0.94449724,\n",
       "        0.96578852,  0.8254695 ,  0.81870696,  0.62168722,  0.9181889 ,\n",
       "        0.968662  ,  0.83322795,  0.99933585,  0.9990092 ,  0.95211844,\n",
       "        0.94365385,  0.97550496,  0.74156295,  1.        ,  0.82314968,\n",
       "        0.80478353,  0.88036993,  0.98260702,  0.98966353,  0.65170514,\n",
       "        0.90407072,  0.76401286,  0.9160394 ,  0.90282591,  0.99383298,\n",
       "        0.68298613,  0.80496796,  0.96412555,  0.70692619,  1.        ,\n",
       "        0.99548264,  0.96713242,  0.87832048,  0.98794137,  0.95585525,\n",
       "        0.71584405,  0.62662948,  0.84294401,  0.93200463,  0.84593179,\n",
       "        0.88937972,  0.90851405,  0.85751977,  0.94029982,  0.95154464,\n",
       "        1.        ,  0.79721117,  0.92774406,  0.6832163 ,  0.98308786,\n",
       "        0.74955284,  0.99261775,  0.97051742,  0.8682972 ,  0.81066123,\n",
       "        0.96604392,  0.82100884,  0.95039665,  0.83944151,  0.82381782,\n",
       "        0.98856169,  1.        ,  0.8859788 ,  0.81534946,  0.97635892,\n",
       "        0.99993695,  0.72613087,  0.99835085,  0.86431056,  0.82676671,\n",
       "        0.61019992,  0.99883383,  0.97608801,  0.82541254,  0.96611212,\n",
       "        0.70345931,  0.99628515,  1.        ,  0.98950291,  0.99875261,\n",
       "        0.63771815,  0.95874891,  0.9017281 ,  0.9186641 ,  0.683259  ,\n",
       "        0.71869029,  0.90867556,  0.9647644 ,  0.97119999,  0.99975235,\n",
       "        0.80722096,  0.83878605,  0.71857459])"
      ]
     },
     "execution_count": 16,
     "metadata": {},
     "output_type": "execute_result"
    }
   ],
   "source": [
    "E = two_sticks(bvals, gradient_directions, **two_sticks.parameter_defaults)\n",
    "E"
   ]
  },
  {
   "cell_type": "code",
   "execution_count": 17,
   "metadata": {
    "collapsed": false
   },
   "outputs": [
    {
     "data": {
      "text/plain": [
       "array([ 0.002     ,  0.78539816,  0.        ,  0.        ,  0.        ,\n",
       "        0.5       ])"
      ]
     },
     "execution_count": 17,
     "metadata": {},
     "output_type": "execute_result"
    }
   ],
   "source": [
    "x0 = two_sticks.parameters_to_parameter_vector(\n",
    "    **two_sticks.parameter_defaults\n",
    ")\n",
    "x0"
   ]
  },
  {
   "cell_type": "code",
   "execution_count": 18,
   "metadata": {
    "collapsed": false
   },
   "outputs": [
    {
     "data": {
      "text/plain": [
       "      fun: 3.5323715982492766e-10\n",
       " hess_inv: <6x6 LbfgsInvHessProduct with dtype=float64>\n",
       "      jac: array([ -7.45357281e-06,   1.37380851e-06,  -4.23016701e-06,\n",
       "         6.57761720e-09,  -1.05977346e-13,  -1.21545550e-08])\n",
       "  message: 'CONVERGENCE: NORM_OF_PROJECTED_GRADIENT_<=_PGTOL'\n",
       "     nfev: 196\n",
       "      nit: 23\n",
       "   status: 0\n",
       "  success: True\n",
       "        x: array([  1.98661323e-03,   7.85401077e-01,  -1.42234049e-04,\n",
       "         4.76743198e-06,   7.14572426e-08,   4.99927174e-01])"
      ]
     },
     "execution_count": 18,
     "metadata": {},
     "output_type": "execute_result"
    }
   ],
   "source": [
    "x0 = two_sticks.parameters_to_parameter_vector(\n",
    "    I1Stick_1_mu=[0, 0], I1Stick_1_lambda_par=0e-3,\n",
    "    I1Stick_2_mu=[0, 0], #I1Stick_2_lambda_par=2e-3,\n",
    "    partial_volume_0=.2\n",
    ")\n",
    "res = optimize.minimize(\n",
    "    two_sticks.objective_function, x0, (bvals, gradient_directions, E),\n",
    "    bounds=two_sticks.bounds_for_optimization, options={'disp': True}\n",
    ")\n",
    "res"
   ]
  },
  {
   "cell_type": "code",
   "execution_count": 19,
   "metadata": {
    "collapsed": false
   },
   "outputs": [
    {
     "data": {
      "text/plain": [
       "{'I1Stick_1_lambda_par': array([ 0.00198661]),\n",
       " 'I1Stick_1_mu': array([  4.76743198e-06,   7.14572426e-08]),\n",
       " 'I1Stick_2_mu': array([  7.85401077e-01,  -1.42234049e-04]),\n",
       " 'partial_volume_0': array([ 0.49992717])}"
      ]
     },
     "execution_count": 19,
     "metadata": {},
     "output_type": "execute_result"
    }
   ],
   "source": [
    "two_sticks.parameter_vector_to_parameters(res.x)"
   ]
  },
  {
   "cell_type": "code",
   "execution_count": 20,
   "metadata": {
    "collapsed": false
   },
   "outputs": [
    {
     "data": {
      "text/plain": [
       "{'I1Stick_1_lambda_par': array([ 0.00198661]),\n",
       " 'I1Stick_1_mu': array([  4.76743198e-06,   7.14572426e-08]),\n",
       " 'I1Stick_2_lambda_par': array([ 0.5039004]),\n",
       " 'I1Stick_2_mu': array([  7.85401077e-01,  -1.42234049e-04]),\n",
       " 'partial_volume_0': array([ 0.49992717])}"
      ]
     },
     "execution_count": 20,
     "metadata": {},
     "output_type": "execute_result"
    }
   ],
   "source": [
    "two_sticks.add_linked_parameters_to_parameters(two_sticks.parameter_vector_to_parameters(res.x))"
   ]
  },
  {
   "cell_type": "markdown",
   "metadata": {},
   "source": [
    "# Fixed Parameter Example\n",
    "lambda_par of the second stick is fixed to 2e-9"
   ]
  },
  {
   "cell_type": "code",
   "execution_count": 21,
   "metadata": {
    "collapsed": false
   },
   "outputs": [
    {
     "data": {
      "text/plain": [
       "OrderedDict([('I1Stick_1_lambda_par', 1),\n",
       "             ('I1Stick_2_mu', 2),\n",
       "             ('I1Stick_1_mu', 2),\n",
       "             ('partial_volume_0', 1)])"
      ]
     },
     "execution_count": 21,
     "metadata": {},
     "output_type": "execute_result"
    }
   ],
   "source": [
    "parameter_links = [\n",
    "    (\n",
    "        stick2, 'lambda_par',\n",
    "        lambda:2e-9, []\n",
    "    )\n",
    "]\n",
    "\n",
    "two_sticks = three_dimensional_models.PartialVolumeCombinedMicrostrukturModel(\n",
    "    [stick, stick2], parameter_links=parameter_links, \n",
    "    optimise_partial_volumes=True\n",
    ")\n",
    "two_sticks.parameter_cardinality"
   ]
  },
  {
   "cell_type": "code",
   "execution_count": 22,
   "metadata": {
    "collapsed": false
   },
   "outputs": [
    {
     "data": {
      "text/plain": [
       "OrderedDict([('I1Stick_1_lambda_par', 0.002),\n",
       "             ('I1Stick_1_mu', [0, 0]),\n",
       "             ('I1Stick_2_mu', [0.7853981633974483, 0]),\n",
       "             ('partial_volume_0', 0.5),\n",
       "             ('I1Stick_2_lambda_par', 2e-09)])"
      ]
     },
     "execution_count": 22,
     "metadata": {},
     "output_type": "execute_result"
    }
   ],
   "source": [
    "#Check if we add the linked parameter correctly\n",
    "two_sticks.add_linked_parameters_to_parameters(two_sticks.parameter_defaults)"
   ]
  },
  {
   "cell_type": "code",
   "execution_count": 25,
   "metadata": {
    "collapsed": false,
    "scrolled": false
   },
   "outputs": [
    {
     "data": {
      "text/plain": [
       "array([ 1.        ,  0.99996564,  0.999752  ,  0.99748648,  0.99984017,\n",
       "        0.99955966,  0.99943621,  0.99919139,  0.99882471,  0.99994557,\n",
       "        0.99983576,  0.99811665,  0.99966504,  0.99926724,  0.99999951,\n",
       "        0.99993386,  1.        ,  0.99987386,  0.9999607 ,  0.99754341,\n",
       "        0.99887121,  0.99960302,  0.9992923 ,  0.99993405,  0.99889985,\n",
       "        0.99835165,  0.99940943,  0.9993083 ,  0.99958103,  0.99988987,\n",
       "        0.99992986,  0.99892243,  1.        ,  0.99918835,  0.99998783,\n",
       "        0.99991459,  0.99909976,  0.99858112,  0.99968217,  0.99981588,\n",
       "        0.99735418,  0.99997798,  0.99837388,  0.99975055,  0.99872776,\n",
       "        0.99999924,  0.99958428,  0.99999474,  1.        ,  0.99936109,\n",
       "        0.99982278,  0.99988583,  0.99990278,  0.9994339 ,  0.99815555,\n",
       "        0.99939107,  0.99842495,  0.99974302,  0.99985496,  0.99928377,\n",
       "        0.99884849,  0.9999986 ,  0.99860279,  0.99982571,  1.        ,\n",
       "        0.99903884,  0.99867876,  0.99999931,  0.99999965,  0.99952614,\n",
       "        0.99971506,  0.99982813,  0.9989624 ,  0.99938902,  0.9996131 ,\n",
       "        0.99998807,  0.99715924,  0.99965841,  0.99818825,  0.9999999 ,\n",
       "        1.        ,  0.99997298,  0.99783438,  0.99929476,  0.999509  ,\n",
       "        0.99980011,  0.99856558,  0.99971538,  0.99872025,  0.99980948,\n",
       "        0.99934793,  0.99933036,  0.99878409,  0.9999999 ,  0.999974  ,\n",
       "        1.        ,  0.99938471,  0.99998999,  0.99980782,  0.99960209,\n",
       "        0.99913004,  0.99997401,  0.99985879,  0.99958923,  0.99812936,\n",
       "        0.99999961,  0.9998257 ,  0.99992091,  0.99704663,  0.99997841,\n",
       "        0.99857377,  0.99974938,  1.        ,  0.99902496,  0.99842346,\n",
       "        0.99928081,  0.9999958 ,  0.99952797,  0.99765325,  0.99957058,\n",
       "        0.99932913,  0.99968124,  0.99978775,  0.99908683,  0.99879797,\n",
       "        0.99952322,  0.99999961,  0.99767672,  1.        ,  0.99986058,\n",
       "        0.99972549,  0.99895241,  0.9994572 ,  0.99992645,  0.99859826,\n",
       "        0.99861561,  0.99997213,  0.99998573,  0.99996712,  0.99934048,\n",
       "        0.99827709,  0.99923374,  0.99982148,  0.99834676,  1.        ,\n",
       "        0.99918218,  0.99992005,  0.9976883 ,  0.99961108,  0.9984748 ,\n",
       "        0.99983828,  0.9995187 ,  0.99995858,  0.99802798,  0.99998831,\n",
       "        0.99826104,  0.99945021,  0.99985933,  0.99987489,  0.99977267,\n",
       "        1.        ,  0.9995832 ,  0.99940917,  0.99915864,  0.99941359,\n",
       "        0.99988251,  0.99991054,  0.99991119,  0.99947799,  0.99916339,\n",
       "        0.99998023,  0.99914999,  0.99852416,  0.9998961 ,  0.99971351,\n",
       "        0.99981962,  1.        ,  0.99971161,  0.99709998,  0.99931949,\n",
       "        0.99994005,  0.99835886,  0.99985931,  0.99999997,  0.99775338,\n",
       "        0.99996796,  0.99926379,  0.9997883 ,  0.99952481,  0.99999838,\n",
       "        0.99997247,  1.        ,  0.9994208 ,  0.99960938,  0.99994167,\n",
       "        0.99967063,  0.99935474,  0.99801351,  0.99901317,  0.9998805 ,\n",
       "        0.99973463,  0.99909971,  0.99964491,  0.99994623,  0.99858364,\n",
       "        0.99909009,  0.99939743,  0.99944442,  1.        ,  0.99735961,\n",
       "        0.99964074,  0.99892157,  0.99992339,  0.99891305,  0.99912632,\n",
       "        0.99969766,  0.99996369,  0.99951521,  0.99999997,  0.99986444,\n",
       "        0.99806592,  0.99999621,  0.99919693,  0.99902178,  1.        ,\n",
       "        0.99995329,  0.9979537 ,  0.99850613,  0.99978276,  0.999924  ,\n",
       "        0.99973017,  0.9976186 ,  0.99981627,  0.9985068 ,  0.99986925,\n",
       "        0.99918243,  0.99999666,  0.99939529,  0.99969337,  0.99789734,\n",
       "        1.        ,  0.99993054,  0.99998011,  0.99890934,  0.99975451,\n",
       "        0.99847782,  0.99999803,  0.99998513,  0.99999583,  0.99808924,\n",
       "        0.99931241,  0.99937457,  0.9993393 ,  0.9997521 ,  0.99798511,\n",
       "        0.99931936,  1.        ,  0.99901494,  0.99999595,  0.99893582,\n",
       "        0.99995795,  0.99821465,  0.99977558,  0.99997297,  0.99969556,\n",
       "        0.99837149,  0.99945453,  0.99917663,  0.9996729 ,  0.99937545,\n",
       "        0.99868895,  0.99921705,  1.        ,  0.99969933,  0.99999456,\n",
       "        0.99943293,  0.9998925 ,  0.9997407 ,  0.99983683,  0.99719755,\n",
       "        0.9996223 ,  0.9982238 ,  0.99991021,  0.99923685,  0.9997614 ,\n",
       "        0.99942517,  0.99997415,  0.99879925])"
      ]
     },
     "execution_count": 25,
     "metadata": {},
     "output_type": "execute_result"
    }
   ],
   "source": [
    "E = two_sticks(bvals, gradient_directions, **two_sticks.parameter_defaults)\n",
    "E"
   ]
  },
  {
   "cell_type": "code",
   "execution_count": 26,
   "metadata": {
    "collapsed": false
   },
   "outputs": [
    {
     "data": {
      "text/plain": [
       "array([ 0.002     ,  0.78539816,  0.        ,  0.        ,  0.        ,\n",
       "        0.5       ])"
      ]
     },
     "execution_count": 26,
     "metadata": {},
     "output_type": "execute_result"
    }
   ],
   "source": [
    "x0 = two_sticks.parameters_to_parameter_vector(\n",
    "    **two_sticks.parameter_defaults\n",
    ")\n",
    "x0"
   ]
  },
  {
   "cell_type": "code",
   "execution_count": 27,
   "metadata": {
    "collapsed": false
   },
   "outputs": [
    {
     "data": {
      "text/plain": [
       "      fun: 1.1685974104710362e-10\n",
       " hess_inv: <6x6 LbfgsInvHessProduct with dtype=float64>\n",
       "      jac: array([ -4.00149854e-06,   1.50701968e-15,   0.00000000e+00,\n",
       "        -4.04358190e-10,  -4.16175246e-15,  -9.95149616e-08])\n",
       "  message: 'CONVERGENCE: NORM_OF_PROJECTED_GRADIENT_<=_PGTOL'\n",
       "     nfev: 21\n",
       "      nit: 2\n",
       "   status: 0\n",
       "  success: True\n",
       "        x: array([  4.95300133e-03,   0.00000000e+00,   0.00000000e+00,\n",
       "         4.46024427e-07,   0.00000000e+00,   2.00113824e-01])"
      ]
     },
     "execution_count": 27,
     "metadata": {},
     "output_type": "execute_result"
    }
   ],
   "source": [
    "x0 = two_sticks.parameters_to_parameter_vector(\n",
    "    I1Stick_1_mu=[0, 0], I1Stick_1_lambda_par=0e-3,\n",
    "    I1Stick_2_mu=[0, 0], #I1Stick_2_lambda_par=2e-3,\n",
    "    partial_volume_0=.2\n",
    ")\n",
    "res = optimize.minimize(\n",
    "    two_sticks.objective_function, x0, (bvals, gradient_directions, E),\n",
    "    bounds=two_sticks.bounds_for_optimization, options={'disp': True}\n",
    ")\n",
    "res"
   ]
  },
  {
   "cell_type": "code",
   "execution_count": 28,
   "metadata": {
    "collapsed": false
   },
   "outputs": [
    {
     "data": {
      "text/plain": [
       "{'I1Stick_1_lambda_par': array([ 0.004953]),\n",
       " 'I1Stick_1_mu': array([  4.46024427e-07,   0.00000000e+00]),\n",
       " 'I1Stick_2_mu': array([ 0.,  0.]),\n",
       " 'partial_volume_0': array([ 0.20011382])}"
      ]
     },
     "execution_count": 28,
     "metadata": {},
     "output_type": "execute_result"
    }
   ],
   "source": [
    "two_sticks.parameter_vector_to_parameters(res.x)"
   ]
  },
  {
   "cell_type": "code",
   "execution_count": 29,
   "metadata": {
    "collapsed": false
   },
   "outputs": [
    {
     "data": {
      "text/plain": [
       "{'I1Stick_1_lambda_par': array([ 0.004953]),\n",
       " 'I1Stick_1_mu': array([  4.46024427e-07,   0.00000000e+00]),\n",
       " 'I1Stick_2_lambda_par': 2e-09,\n",
       " 'I1Stick_2_mu': array([ 0.,  0.]),\n",
       " 'partial_volume_0': array([ 0.20011382])}"
      ]
     },
     "execution_count": 29,
     "metadata": {},
     "output_type": "execute_result"
    }
   ],
   "source": [
    "two_sticks.add_linked_parameters_to_parameters(two_sticks.parameter_vector_to_parameters(res.x))"
   ]
  },
  {
   "cell_type": "code",
   "execution_count": 30,
   "metadata": {
    "collapsed": false
   },
   "outputs": [
    {
     "name": "stdout",
     "output_type": "stream",
     "text": [
      "10000000 loops, best of 3: 55.2 ns per loop\n"
     ]
    }
   ],
   "source": [
    "%timeit lambda:2"
   ]
  },
  {
   "cell_type": "code",
   "execution_count": 31,
   "metadata": {
    "collapsed": false
   },
   "outputs": [
    {
     "name": "stdout",
     "output_type": "stream",
     "text": [
      "100000000 loops, best of 3: 9.26 ns per loop\n"
     ]
    }
   ],
   "source": [
    "%timeit 2"
   ]
  },
  {
   "cell_type": "code",
   "execution_count": null,
   "metadata": {
    "collapsed": true
   },
   "outputs": [],
   "source": []
  }
 ],
 "metadata": {
  "kernelspec": {
   "display_name": "Python 2",
   "language": "python",
   "name": "python2"
  },
  "language_info": {
   "codemirror_mode": {
    "name": "ipython",
    "version": 2
   },
   "file_extension": ".py",
   "mimetype": "text/x-python",
   "name": "python",
   "nbconvert_exporter": "python",
   "pygments_lexer": "ipython2",
   "version": "2.7.6"
  }
 },
 "nbformat": 4,
 "nbformat_minor": 0
}
