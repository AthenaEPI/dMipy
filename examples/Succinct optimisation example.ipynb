{
 "cells": [
  {
   "cell_type": "code",
   "execution_count": 1,
   "metadata": {
    "collapsed": true
   },
   "outputs": [],
   "source": [
    "from os.path import join\n",
    "import numpy as np\n",
    "from scipy import optimize\n",
    "from microstruktur.signal_models import three_dimensional_models\n",
    "from microstruktur.signal_models import gradient_conversions"
   ]
  },
  {
   "cell_type": "code",
   "execution_count": 31,
   "metadata": {
    "collapsed": false
   },
   "outputs": [
    {
     "data": {
      "text/plain": [
       "<module 'microstruktur.signal_models.three_dimensional_models' from '/Users/dwasserm/sources/microstruktur/microstruktur/signal_models/three_dimensional_models.py'>"
      ]
     },
     "execution_count": 31,
     "metadata": {},
     "output_type": "execute_result"
    }
   ],
   "source": [
    "from importlib import reload\n",
    "reload(three_dimensional_models)"
   ]
  },
  {
   "cell_type": "code",
   "execution_count": 2,
   "metadata": {
    "collapsed": false
   },
   "outputs": [],
   "source": [
    "bvals = np.loadtxt(join(three_dimensional_models.GRADIENT_TABLES_PATH, 'bvals_hcp_wu_minn.txt'))\n",
    "gradient_directions = np.loadtxt(join(three_dimensional_models.GRADIENT_TABLES_PATH, 'bvecs_hcp_wu_minn.txt'))"
   ]
  },
  {
   "cell_type": "code",
   "execution_count": 3,
   "metadata": {
    "collapsed": false
   },
   "outputs": [],
   "source": [
    "stick = three_dimensional_models.I1Stick(lambda_par=2e-3, mu=[0, 0])"
   ]
  },
  {
   "cell_type": "code",
   "execution_count": 4,
   "metadata": {
    "collapsed": false
   },
   "outputs": [
    {
     "data": {
      "text/plain": [
       "array([ 1.        ,  0.9335884 ,  0.60888331,  0.00647561,  0.72635583,\n",
       "        0.41434429,  0.32360809,  0.19819166,  0.09504999,  0.89685335,\n",
       "        0.71998388,  0.02296437,  0.5116401 ,  0.23070807,  0.99901891,\n",
       "        0.87608816,  1.        ,  0.77699837,  0.92441009,  0.00726072,\n",
       "        0.10433723,  0.45190814,  0.24258347,  0.87642082,  0.11050229,\n",
       "        0.03680408,  0.30671406,  0.25048305,  0.43244879,  0.80229888,\n",
       "        0.86910295,  0.11561769,  1.        ,  0.19698608,  0.97595931,\n",
       "        0.84296755,  0.16495121,  0.05832137,  0.52947699,  0.69191079,\n",
       "        0.0049633 ,  0.95691371,  0.0384834 ,  0.60712385,  0.07825937,\n",
       "        0.99847135,  0.43527201,  0.98953406,  1.        ,  0.2784147 ,\n",
       "        0.70151996,  0.79582974,  0.82327515,  0.32211598,  0.02482972,\n",
       "        0.29564166,  0.04263531,  0.59804174,  0.74817085,  0.23847658,\n",
       "        0.09969115,  0.99720355,  0.06091185,  0.70564666,  1.        ,\n",
       "        0.14599592,  0.07093692,  0.99862363,  0.99930743,  0.38745259,\n",
       "        0.56549971,  0.7090769 ,  0.12526081,  0.2944336 ,  0.46111565,\n",
       "        0.97642204,  0.00335362,  0.50488574,  0.02651395,  0.99980458,\n",
       "        1.        ,  0.94738836,  0.01302816,  0.24378553,  0.37437849,\n",
       "        0.67040952,  0.05653136,  0.56586831,  0.07709026,  0.68309745,\n",
       "        0.2711758 ,  0.2617982 ,  0.08761616,  0.99979391,  0.94933508,\n",
       "        1.        ,  0.29190564,  0.98018338,  0.68083539,  0.45107057,\n",
       "        0.17526704,  0.94934925,  0.75392597,  0.43960895,  0.02355782,\n",
       "        0.99921479,  0.70563117,  0.85368965,  0.00267379,  0.95774087,\n",
       "        0.05746806,  0.60570312,  1.        ,  0.14199156,  0.04250821,\n",
       "        0.23706767,  0.9916412 ,  0.38887388,  0.00905404,  0.4234994 ,\n",
       "        0.26115739,  0.5284947 ,  0.65403284,  0.16073363,  0.09008938,\n",
       "        0.38519488,  0.99921373,  0.00949131,  1.        ,  0.75663822,\n",
       "        0.57742783,  0.12277818,  0.33750071,  0.86320113,  0.06036128,\n",
       "        0.06249745,  0.94578108,  0.9718655 ,  0.9363545 ,  0.26716141,\n",
       "        0.03168922,  0.21573727,  0.6997029 ,  0.03644452,  1.        ,\n",
       "        0.19456842,  0.85221468,  0.00971469,  0.45925687,  0.04711973,\n",
       "        0.72362532,  0.38172475,  0.92048961,  0.01921919,  0.97689808,\n",
       "        0.03068484,  0.33281194,  0.75475   ,  0.77861065,  0.63460002,\n",
       "        1.        ,  0.43433255,  0.30655835,  0.18560408,  0.30927771,\n",
       "        0.79056405,  0.83616951,  0.8372546 ,  0.35184169,  0.18737855,\n",
       "        0.96123508,  0.18241516,  0.05202449,  0.81234879,  0.56375427,\n",
       "        0.69710608,  1.        ,  0.56160829,  0.00297673,  0.25616325,\n",
       "        0.88700469,  0.03734012,  0.75471316,  0.99994333,  0.01107181,\n",
       "        0.93792657,  0.22911934,  0.65476377,  0.38642016,  0.99676438,\n",
       "        0.94642941,  1.        ,  0.31377592,  0.45769945,  0.88988525,\n",
       "        0.51739377,  0.27489681,  0.01866893,  0.13867772,  0.78739389,\n",
       "        0.58808305,  0.16493582,  0.49143654,  0.89803996,  0.05861706,\n",
       "        0.16178674,  0.29943472,  0.32897688,  1.        ,  0.00501773,\n",
       "        0.48734698,  0.11541866,  0.85793916,  0.11346417,  0.17396854,\n",
       "        0.54614891,  0.92995765,  0.37906097,  0.9999489 ,  0.76250104,\n",
       "        0.02074064,  0.9924429 ,  0.20040165,  0.14109126,  1.        ,\n",
       "        0.91079825,  0.01655604,  0.05017618,  0.64753386,  0.85898143,\n",
       "        0.58286783,  0.00844512,  0.69244517,  0.05024426,  0.76986543,\n",
       "        0.1946656 ,  0.99333435,  0.29814946,  0.54148165,  0.01478447,\n",
       "        1.        ,  0.87029796,  0.96099645,  0.11262363,  0.61194683,\n",
       "        0.04740641,  0.99605841,  0.97069628,  0.99168664,  0.02173495,\n",
       "        0.25255726,  0.28603351,  0.26653065,  0.60900893,  0.01763405,\n",
       "        0.2560927 ,  1.        ,  0.13917066,  0.99193736,  0.11876234,\n",
       "        0.91934231,  0.02795711,  0.63829924,  0.94737466,  0.54385758,\n",
       "        0.03829934,  0.33570257,  0.19241588,  0.51974235,  0.2865396 ,\n",
       "        0.07240114,  0.20864241,  1.        ,  0.54798276,  0.98916932,\n",
       "        0.32149249,  0.80653078,  0.59527595,  0.7215187 ,  0.00362222,\n",
       "        0.46968995,  0.02847493,  0.83560086,  0.21708625,  0.62044352,\n",
       "        0.31653262,  0.94961558,  0.09032174])"
      ]
     },
     "execution_count": 4,
     "metadata": {},
     "output_type": "execute_result"
    }
   ],
   "source": [
    "E = stick(bvals, gradient_directions)\n",
    "E"
   ]
  },
  {
   "cell_type": "code",
   "execution_count": 5,
   "metadata": {
    "collapsed": false
   },
   "outputs": [
    {
     "data": {
      "text/plain": [
       "      fun: 2.2193222037573134e-14\n",
       " hess_inv: <3x3 LbfgsInvHessProduct with dtype=float64>\n",
       "      jac: array([  1.03347964e-04,   5.88763873e-09,   0.00000000e+00])\n",
       "  message: b'ABNORMAL_TERMINATION_IN_LNSRCH'\n",
       "     nfev: 212\n",
       "      nit: 9\n",
       "   status: 2\n",
       "  success: False\n",
       "        x: array([ 0.002     ,  0.        , -0.02770102])"
      ]
     },
     "execution_count": 5,
     "metadata": {},
     "output_type": "execute_result"
    }
   ],
   "source": [
    "x0 = stick.parameters_to_parameter_vector(mu=[np.pi/4, 0], lambda_par=2e-3)\n",
    "res = optimize.minimize(\n",
    "    stick.objective_function, x0, (bvals, gradient_directions, E),\n",
    "    bounds=stick.bounds_for_optimization, options={'disp': True}\n",
    ")\n",
    "res"
   ]
  },
  {
   "cell_type": "code",
   "execution_count": 6,
   "metadata": {
    "collapsed": false
   },
   "outputs": [
    {
     "data": {
      "text/plain": [
       "{'lambda_par': array([ 0.002]), 'mu': array([ 0.        , -0.02770102])}"
      ]
     },
     "execution_count": 6,
     "metadata": {},
     "output_type": "execute_result"
    }
   ],
   "source": [
    "stick.parameter_vector_to_parameters(res.x)"
   ]
  },
  {
   "cell_type": "code",
   "execution_count": 8,
   "metadata": {
    "collapsed": true
   },
   "outputs": [],
   "source": [
    "stick2 = three_dimensional_models.I1Stick(lambda_par=2e-3, mu=[np.pi/4, 0])"
   ]
  },
  {
   "cell_type": "markdown",
   "metadata": {},
   "source": [
    "# Linked Parameter Example\n",
    "lambda_par of the second stick is double that of the first stick"
   ]
  },
  {
   "cell_type": "code",
   "execution_count": 245,
   "metadata": {
    "collapsed": false
   },
   "outputs": [
    {
     "data": {
      "text/plain": [
       "<module 'microstruktur.signal_models.three_dimensional_models' from '/Users/dwasserm/sources/microstruktur/microstruktur/signal_models/three_dimensional_models.py'>"
      ]
     },
     "execution_count": 245,
     "metadata": {},
     "output_type": "execute_result"
    }
   ],
   "source": [
    "reload(three_dimensional_models)"
   ]
  },
  {
   "cell_type": "code",
   "execution_count": 247,
   "metadata": {
    "collapsed": false
   },
   "outputs": [
    {
     "data": {
      "text/plain": [
       "OrderedDict([('I1Stick_2_mu', 2),\n",
       "             ('I1Stick_1_lambda_par', 1),\n",
       "             ('I1Stick_1_mu', 2),\n",
       "             ('partial_volume_0', 1)])"
      ]
     },
     "execution_count": 247,
     "metadata": {},
     "output_type": "execute_result"
    }
   ],
   "source": [
    "def double_scalar_plus_constant(x, c):\n",
    "    return 2 * x + c\n",
    "\n",
    "parameter_links = [\n",
    "    (\n",
    "        stick2, 'lambda_par',\n",
    "        double_scalar, [\n",
    "            (stick, 'lambda_par'),\n",
    "            (None, 'partial_volume_0')\n",
    "        ]\n",
    "    )\n",
    "]\n",
    "\n",
    "two_sticks = three_dimensional_models.PartialVolumeCombinedMicrostrukturModel(\n",
    "    [stick, stick2], parameter_links=parameter_links, \n",
    "    optimise_partial_volumes=True\n",
    ")\n",
    "two_sticks.parameter_cardinality"
   ]
  },
  {
   "cell_type": "code",
   "execution_count": 248,
   "metadata": {
    "collapsed": false
   },
   "outputs": [
    {
     "ename": "TypeError",
     "evalue": "double_scalar() takes 1 positional argument but 2 were given",
     "output_type": "error",
     "traceback": [
      "\u001b[0;31m---------------------------------------------------------------------------\u001b[0m",
      "\u001b[0;31mTypeError\u001b[0m                                 Traceback (most recent call last)",
      "\u001b[0;32m<ipython-input-248-a21855935905>\u001b[0m in \u001b[0;36m<module>\u001b[0;34m()\u001b[0m\n\u001b[1;32m      1\u001b[0m \u001b[0;31m#Check if we add the linked parameter correctly\u001b[0m\u001b[0;34m\u001b[0m\u001b[0;34m\u001b[0m\u001b[0m\n\u001b[0;32m----> 2\u001b[0;31m \u001b[0mtwo_sticks\u001b[0m\u001b[0;34m.\u001b[0m\u001b[0madd_linked_parameters_to_parameters\u001b[0m\u001b[0;34m(\u001b[0m\u001b[0mtwo_sticks\u001b[0m\u001b[0;34m.\u001b[0m\u001b[0mparameter_defaults\u001b[0m\u001b[0;34m)\u001b[0m\u001b[0;34m\u001b[0m\u001b[0m\n\u001b[0m",
      "\u001b[0;32m/Users/dwasserm/sources/microstruktur/microstruktur/signal_models/three_dimensional_models.py\u001b[0m in \u001b[0;36madd_linked_parameters_to_parameters\u001b[0;34m(self, parameters)\u001b[0m\n\u001b[1;32m    193\u001b[0m                 ))\n\u001b[1;32m    194\u001b[0m \u001b[0;34m\u001b[0m\u001b[0m\n\u001b[0;32m--> 195\u001b[0;31m             \u001b[0mparameters\u001b[0m\u001b[0;34m[\u001b[0m\u001b[0mparameter_name\u001b[0m\u001b[0;34m]\u001b[0m \u001b[0;34m=\u001b[0m \u001b[0mparameter_function\u001b[0m\u001b[0;34m(\u001b[0m\u001b[0;34m*\u001b[0m\u001b[0margument_values\u001b[0m\u001b[0;34m)\u001b[0m\u001b[0;34m\u001b[0m\u001b[0m\n\u001b[0m\u001b[1;32m    196\u001b[0m         \u001b[0;32mreturn\u001b[0m \u001b[0mparameters\u001b[0m\u001b[0;34m\u001b[0m\u001b[0m\n\u001b[1;32m    197\u001b[0m \u001b[0;34m\u001b[0m\u001b[0m\n",
      "\u001b[0;31mTypeError\u001b[0m: double_scalar() takes 1 positional argument but 2 were given"
     ]
    }
   ],
   "source": [
    "#Check if we add the linked parameter correctly\n",
    "two_sticks.add_linked_parameters_to_parameters(two_sticks.parameter_defaults)"
   ]
  },
  {
   "cell_type": "code",
   "execution_count": 229,
   "metadata": {
    "collapsed": false
   },
   "outputs": [
    {
     "data": {
      "text/plain": [
       "array([ 1.        ,  0.62664888,  0.38100631,  0.00482471,  0.82305019,\n",
       "        0.68540504,  0.16294488,  0.13038191,  0.51436428,  0.44943023,\n",
       "        0.8282815 ,  0.01351423,  0.25594158,  0.47406377,  0.51239407,\n",
       "        0.89357478,  1.        ,  0.41274663,  0.79231092,  0.00592494,\n",
       "        0.4709468 ,  0.26023052,  0.3872915 ,  0.72104735,  0.3379752 ,\n",
       "        0.01840627,  0.58349936,  0.1256159 ,  0.24573178,  0.55127555,\n",
       "        0.50310335,  0.54497333,  1.        ,  0.11294252,  0.66466635,\n",
       "        0.68186532,  0.12204689,  0.03549749,  0.34738607,  0.36189618,\n",
       "        0.05892657,  0.93414221,  0.0192688 ,  0.68980665,  0.04928554,\n",
       "        0.99919599,  0.51851628,  0.49551824,  1.        ,  0.28602312,\n",
       "        0.35185865,  0.87635293,  0.42289467,  0.36321367,  0.06546572,\n",
       "        0.15745213,  0.39052861,  0.33674528,  0.78891668,  0.59071318,\n",
       "        0.12887812,  0.78468649,  0.03051917,  0.36078926,  1.        ,\n",
       "        0.21356997,  0.03572172,  0.52358079,  0.57498484,  0.4817228 ,\n",
       "        0.37319023,  0.55578801,  0.4245889 ,  0.14722666,  0.25984154,\n",
       "        0.516036  ,  0.00177223,  0.75243354,  0.06001496,  0.82287851,\n",
       "        1.        ,  0.53635698,  0.13250916,  0.12282533,  0.68718605,\n",
       "        0.43617475,  0.10493133,  0.49462335,  0.0391977 ,  0.63172934,\n",
       "        0.15212477,  0.18327475,  0.5141832 ,  0.7192338 ,  0.55167275,\n",
       "        1.        ,  0.14600669,  0.91463976,  0.34152547,  0.69830199,\n",
       "        0.23084081,  0.54024003,  0.50727609,  0.66124078,  0.0164346 ,\n",
       "        0.50231754,  0.8506969 ,  0.85008026,  0.00428915,  0.51846812,\n",
       "        0.34405772,  0.33878911,  1.        ,  0.11180625,  0.02319446,\n",
       "        0.11876594,  0.89828632,  0.69282495,  0.00457291,  0.22415741,\n",
       "        0.13618217,  0.55612395,  0.7107939 ,  0.08331514,  0.04505023,\n",
       "        0.28838819,  0.511264  ,  0.05574242,  1.        ,  0.43200244,\n",
       "        0.46640961,  0.16248326,  0.2314341 ,  0.64824823,  0.10545575,\n",
       "        0.5286372 ,  0.66934825,  0.51400114,  0.82848368,  0.52804733,\n",
       "        0.11651337,  0.47439595,  0.83247249,  0.0209459 ,  1.        ,\n",
       "        0.26506408,  0.59424109,  0.00486898,  0.24310087,  0.02391395,\n",
       "        0.36192048,  0.58419601,  0.52882955,  0.37470845,  0.68710839,\n",
       "        0.02375006,  0.49260518,  0.38060337,  0.45107393,  0.31974185,\n",
       "        1.        ,  0.71266357,  0.15469436,  0.59277642,  0.61637149,\n",
       "        0.4142802 ,  0.42270972,  0.83028547,  0.62333136,  0.54526271,\n",
       "        0.88764585,  0.10748062,  0.02695411,  0.87475121,  0.47318776,\n",
       "        0.34865131,  1.        ,  0.57203549,  0.00366514,  0.18064856,\n",
       "        0.61865121,  0.20834219,  0.45990733,  0.59314504,  0.00568145,\n",
       "        0.47600974,  0.18252282,  0.33927879,  0.29812322,  0.61711226,\n",
       "        0.93958371,  1.        ,  0.1571401 ,  0.52859309,  0.64166752,\n",
       "        0.54518788,  0.15427351,  0.02406359,  0.06934604,  0.51506423,\n",
       "        0.59452725,  0.10286791,  0.74327066,  0.94163141,  0.25986872,\n",
       "        0.27764702,  0.48871796,  0.16607126,  1.        ,  0.01920148,\n",
       "        0.25360126,  0.11607514,  0.8069614 ,  0.48786457,  0.08702481,\n",
       "        0.36582595,  0.4681287 ,  0.30684956,  0.58994663,  0.83533738,\n",
       "        0.01055675,  0.50610514,  0.38094163,  0.07101804,  1.        ,\n",
       "        0.92099884,  0.31004438,  0.08149883,  0.73715559,  0.66989877,\n",
       "        0.29207631,  0.00423327,  0.37141318,  0.18620181,  0.41188489,\n",
       "        0.16720768,  0.5972367 ,  0.18444874,  0.45401602,  0.23840674,\n",
       "        1.        ,  0.44321909,  0.62542414,  0.0564934 ,  0.6880223 ,\n",
       "        0.02581491,  0.94236818,  0.79409348,  0.54002745,  0.02288359,\n",
       "        0.41577659,  0.15809234,  0.3540173 ,  0.32775996,  0.02552699,\n",
       "        0.54877488,  1.        ,  0.13499469,  0.5088601 ,  0.40588772,\n",
       "        0.95950451,  0.01495821,  0.80795337,  0.51423536,  0.28914951,\n",
       "        0.01915312,  0.6629462 ,  0.43977784,  0.27654329,  0.43279318,\n",
       "        0.03661933,  0.58151997,  1.        ,  0.69856568,  0.98481242,\n",
       "        0.16076482,  0.65619064,  0.38613443,  0.48332658,  0.00200687,\n",
       "        0.23556045,  0.11864907,  0.69818473,  0.42481883,  0.81015001,\n",
       "        0.16890014,  0.49759075,  0.04589489])"
      ]
     },
     "execution_count": 229,
     "metadata": {},
     "output_type": "execute_result"
    }
   ],
   "source": [
    "E = two_sticks(bvals, gradient_directions, **two_sticks.parameter_defaults)\n",
    "E"
   ]
  },
  {
   "cell_type": "code",
   "execution_count": 241,
   "metadata": {
    "collapsed": false
   },
   "outputs": [
    {
     "data": {
      "text/plain": [
       "array([ 0.78539816,  0.        ,  0.002     ,  0.        ,  0.        ,\n",
       "        0.5       ])"
      ]
     },
     "execution_count": 241,
     "metadata": {},
     "output_type": "execute_result"
    }
   ],
   "source": [
    "x0 = two_sticks.parameters_to_parameter_vector(\n",
    "    **two_sticks.parameter_defaults\n",
    ")\n",
    "x0"
   ]
  },
  {
   "cell_type": "code",
   "execution_count": 242,
   "metadata": {
    "collapsed": false
   },
   "outputs": [
    {
     "data": {
      "text/plain": [
       "      fun: 8.5811899386455722e-11\n",
       " hess_inv: <6x6 LbfgsInvHessProduct with dtype=float64>\n",
       "      jac: array([  6.20431517e-07,  -2.41488623e-06,   1.92186194e-05,\n",
       "         2.80716327e-06,  -1.88836455e-11,   2.42725814e-06])\n",
       "  message: b'CONVERGENCE: REL_REDUCTION_OF_F_<=_FACTR*EPSMCH'\n",
       "     nfev: 595\n",
       "      nit: 52\n",
       "   status: 0\n",
       "  success: True\n",
       "        x: array([  7.85413242e-01,  -1.34223621e-05,   2.00002275e-03,\n",
       "         2.96314423e-05,   1.63732510e-04,   5.00020029e-01])"
      ]
     },
     "execution_count": 242,
     "metadata": {},
     "output_type": "execute_result"
    }
   ],
   "source": [
    "x0 = two_sticks.parameters_to_parameter_vector(\n",
    "    I1Stick_1_mu=[0, 0], I1Stick_1_lambda_par=0e-3,\n",
    "    I1Stick_2_mu=[0, 0], #I1Stick_2_lambda_par=2e-3,\n",
    "    partial_volume_0=.2\n",
    ")\n",
    "res = optimize.minimize(\n",
    "    two_sticks.objective_function, x0, (bvals, gradient_directions, E),\n",
    "    bounds=two_sticks.bounds_for_optimization, options={'disp': True}\n",
    ")\n",
    "res"
   ]
  },
  {
   "cell_type": "code",
   "execution_count": 243,
   "metadata": {
    "collapsed": false
   },
   "outputs": [
    {
     "data": {
      "text/plain": [
       "{'I1Stick_1_lambda_par': array([ 0.00200002]),\n",
       " 'I1Stick_1_mu': array([  2.96314423e-05,   1.63732510e-04]),\n",
       " 'I1Stick_2_mu': array([  7.85413242e-01,  -1.34223621e-05]),\n",
       " 'partial_volume_0': array([ 0.50002003])}"
      ]
     },
     "execution_count": 243,
     "metadata": {},
     "output_type": "execute_result"
    }
   ],
   "source": [
    "two_sticks.parameter_vector_to_parameters(res.x)"
   ]
  },
  {
   "cell_type": "code",
   "execution_count": 244,
   "metadata": {
    "collapsed": false
   },
   "outputs": [
    {
     "data": {
      "text/plain": [
       "{'I1Stick_1_lambda_par': array([ 0.00200002]),\n",
       " 'I1Stick_1_mu': array([  2.96314423e-05,   1.63732510e-04]),\n",
       " 'I1Stick_2_lambda_par': array([ 0.00400005]),\n",
       " 'I1Stick_2_mu': array([  7.85413242e-01,  -1.34223621e-05]),\n",
       " 'partial_volume_0': array([ 0.50002003])}"
      ]
     },
     "execution_count": 244,
     "metadata": {},
     "output_type": "execute_result"
    }
   ],
   "source": [
    "two_sticks.add_linked_parameters_to_parameters(two_sticks.parameter_vector_to_parameters(res.x))"
   ]
  }
 ],
 "metadata": {
  "kernelspec": {
   "display_name": "Python 3",
   "language": "python",
   "name": "python3"
  },
  "language_info": {
   "codemirror_mode": {
    "name": "ipython",
    "version": 3
   },
   "file_extension": ".py",
   "mimetype": "text/x-python",
   "name": "python",
   "nbconvert_exporter": "python",
   "pygments_lexer": "ipython3",
   "version": "3.5.2"
  }
 },
 "nbformat": 4,
 "nbformat_minor": 0
}
