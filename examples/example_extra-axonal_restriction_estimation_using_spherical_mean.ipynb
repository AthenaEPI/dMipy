{
 "metadata": {
  "name": "example_extra-axonal_restriction_estimation_using_spherical_mean.ipynb"
 },
 "nbformat": 3,
 "nbformat_minor": 0,
 "worksheets": [
  {
   "cells": [
    {
     "cell_type": "heading",
     "level": 1,
     "metadata": {},
     "source": [
      "Rotation-, Dispersion- and Crossing-Invariant Estimation of Extra-Axonal Restriction using Spherical Mean"
     ]
    },
    {
     "cell_type": "raw",
     "metadata": {},
     "source": [
      "The diffusion restriction of the extra-axonal space [1, 2] is a recent feature of interest in studying the diffusion properties of white matter. To briefly describe this phenomenon, in the case of an axially symmetric axon bundle, it has been shown that the outer axon boundaries still have a restricting effect on the perpendicular diffusion in the extra-axonal space. As a result the perpendicular, extra-axonal diffusion coefficient becomes dependent on the pulse length and pulse separation time of the acquisition. \n",
      "\n",
      "The estimation of the extra-axonal restriction has so far only been explored in perpendicular, AxCaliber-type acquisition schemes. These schemes are limited in that the orientation of the tissue must be known beforehand, limiting its application. Our contribution in this work is to estimate the same measure for extra-axonal restriction in a rotation-, axon dispersion- and axon crossing-invariant way using a diffusion time-modified version of the multi-compartment spherical mean technique [3].\n",
      "\n",
      "[1] Burcaw, Lauren M., Els Fieremans, and Dmitry S. Novikov. \"Mesoscopic structure of neuronal tracts from time-dependent diffusion.\" NeuroImage 114 (2015): 18-37.\n",
      "\n",
      "[2] De Santis, Silvia, Derek K. Jones, and Alard Roebroeck. \"Including diffusion time dependence in the extra-axonal space improves in vivo estimates of axonal diameter and density in human white matter.\" NeuroImage 130 (2016): 91-103.\n",
      "\n",
      "[3] Kaden et al. \"Multi-compartment microscopic diffusion imaging.\" NeuroImage 139 (2016): 346-359"
     ]
    },
    {
     "cell_type": "heading",
     "level": 2,
     "metadata": {},
     "source": [
      "Example on synthetic data, can the model fit itself?"
     ]
    },
    {
     "cell_type": "code",
     "collapsed": false,
     "input": [
      "from microstruktur.signal_models import (\n",
      "    three_dimensional_models, spherical_mean\n",
      ")\n",
      "from microstruktur.signal_models.utils import (\n",
      "    T1_tortuosity, parameter_equality, define_shell_indices\n",
      ")\n",
      "from os.path import join\n",
      "from scipy import optimize\n",
      "from scipy.stats import pearsonr"
     ],
     "language": "python",
     "metadata": {},
     "outputs": [],
     "prompt_number": 2
    },
    {
     "cell_type": "code",
     "collapsed": false,
     "input": [
      "import pkg_resources\n",
      "DATA_PATH = pkg_resources.resource_filename('microstruktur', 'data/')"
     ],
     "language": "python",
     "metadata": {},
     "outputs": [],
     "prompt_number": 3
    },
    {
     "cell_type": "code",
     "collapsed": false,
     "input": [
      "# load bvals and bvecs\n",
      "bvals = np.loadtxt(\n",
      "    join(three_dimensional_models.GRADIENT_TABLES_PATH,\n",
      "         'bvals_hcp_wu_minn.txt')\n",
      ")\n",
      "bvals *= 1e6  # bvals must be in SI units as s/m^2, so 10^6 s/mm^2\n",
      "gradient_directions = np.loadtxt(\n",
      "    join(three_dimensional_models.GRADIENT_TABLES_PATH,\n",
      "         'bvecs_hcp_wu_minn.txt')\n",
      ")\n",
      "\n",
      "# to estimate the spherical mean we must know what measurement belongs to\n",
      "# what shell of the acquisition. This produces an array of integers from 0 (for the b0) to 1,2,3 etc.\n",
      "# for the following shells. The ordering doesn't matter, as long as the same number if for the same shell.\n",
      "shell_indices, shell_bvalues = define_shell_indices(\n",
      "    bvals, ((0, 10e6), (995e6, 1005e6), (1995e6, 2005e6), (2995e6, 3005e6))\n",
      ")"
     ],
     "language": "python",
     "metadata": {},
     "outputs": [],
     "prompt_number": 4
    },
    {
     "cell_type": "code",
     "collapsed": false,
     "input": [
      "# we make a multi-b-shell multi-diffusion time acquisition\n",
      "# by taking 10 shells over big delta (pulse separation) and also 10 over small delta (pulse length).\n",
      "# this means our acquisitio has 300 shells (unrealistic but just for the sake of testing)\n",
      "Deltas = np.zeros(300)\n",
      "deltas = np.zeros(300)\n",
      "bvaltile = np.tile(shell_bvalues[1:], 100)\n",
      "counter =0\n",
      "for delta in linspace(0.001, 0.02, 10):\n",
      "    for Delta in linspace(0.025, 0.1, 10):\n",
      "        deltas[counter:counter+3] = delta\n",
      "        Deltas[counter:counter+3] = Delta\n",
      "        counter += 3"
     ],
     "language": "python",
     "metadata": {},
     "outputs": [],
     "prompt_number": 8
    },
    {
     "cell_type": "markdown",
     "metadata": {},
     "source": [
      "We now call the restricted zeppelin and stick model, or I1 and E5 as in our [review paper](https://www.overleaf.com/7710782nxbwpxvyxkwq#/27030704/).\n",
      "\n",
      "As testing parameters we set lambda_par to 1.7, which is the same for stick and zeppelin. We use the parameter links to impose this constraint.\n",
      "\n",
      "We set the bulk (infinite time) diffusivity to .5 and the extra-axonal restriction parameter to 5. "
     ]
    },
    {
     "cell_type": "code",
     "collapsed": false,
     "input": [
      "# call the spherical mean of the restricted zeppelin model.\n",
      "# we set lambda_par to 1.7, lambda_inf to \n",
      "E5sm = three_dimensional_models.E5RestrictedZeppelinSphericalMean(\n",
      "    lambda_par=1.7, lambda_inf=.5, A=5\n",
      ")\n",
      "I1sm = three_dimensional_models.I1StickSphericalMean(lambda_par=1.7)\n",
      "\n",
      "parameter_links_smt = [\n",
      "    (  # equal parallel diffusivities\n",
      "         E5sm, 'lambda_par',\n",
      "         parameter_equality, [\n",
      "            (I1sm, 'lambda_par')\n",
      "        ]\n",
      "     )\n",
      "]\n",
      "\n",
      "# producing the multi-compartment model.\n",
      "I1E5sm = three_dimensional_models.PartialVolumeCombinedMicrostrukturModel(\n",
      "    models=[I1sm, E5sm], parameter_links=parameter_links_smt, optimise_partial_volumes=True)"
     ],
     "language": "python",
     "metadata": {},
     "outputs": [],
     "prompt_number": 9
    },
    {
     "cell_type": "code",
     "collapsed": false,
     "input": [
      "# we generate the simulated data.\n",
      "# note that the spherical means (every data point) have different values for different combinations\n",
      "# of b-value, big- and small delta BECAUSE of the extra-axonal restriction. If not, there would always\n",
      "# only be three unique values (since b are always 1000, 2000 and 3000).\n",
      "E_measured = I1E5sm(bvals=bvaltile, n=0, delta=deltas, Delta=Deltas, \n",
      "    **I1E5sm.parameter_defaults)"
     ],
     "language": "python",
     "metadata": {},
     "outputs": [],
     "prompt_number": 10
    },
    {
     "cell_type": "code",
     "collapsed": false,
     "input": [
      "plot(E_measured)"
     ],
     "language": "python",
     "metadata": {},
     "outputs": [
      {
       "metadata": {},
       "output_type": "pyout",
       "prompt_number": 11,
       "text": [
        "[<matplotlib.lines.Line2D at 0x5660fd0>]"
       ]
      },
      {
       "metadata": {},
       "output_type": "display_data",
       "png": "[encoded data removed]",
       "text": [
        "<matplotlib.figure.Figure at 0x553f450>"
       ]
      }
     ],
     "prompt_number": 11
    },
    {
     "cell_type": "code",
     "collapsed": false,
     "input": [
      "# to fit the data we need an initial condition. I chose some values that were close to the solution\n",
      "# but not the same.\n",
      "x0_smt = I1E5sm.parameters_to_parameter_vector(\n",
      "    I1StickSphericalMean_1_lambda_par=1.5,  # initialization diffusivity\n",
      "    E5RestrictedZeppelinSphericalMean_1_lambda_inf=.4,\n",
      "    E5RestrictedZeppelinSphericalMean_1_A=4,\n",
      "    partial_volume_0=0.65  # initialization volume fraction parameter\n",
      ")"
     ],
     "language": "python",
     "metadata": {},
     "outputs": [],
     "prompt_number": 12
    },
    {
     "cell_type": "code",
     "collapsed": false,
     "input": [
      "# fit the data\n",
      "res = optimize.minimize(I1E5sm.objective_function, x0_smt,\n",
      "                        (bvaltile, gradient_directions[:3], E_measured, None, deltas, Deltas),\n",
      "                        bounds=I1E5sm.bounds_for_optimization,\n",
      "                        options={'disp': True, 'gtol': 1e-08, 'ftol': 2.220446049250313e-12})"
     ],
     "language": "python",
     "metadata": {},
     "outputs": [],
     "prompt_number": 13
    },
    {
     "cell_type": "code",
     "collapsed": false,
     "input": [
      "# show the results, note that there is convergence\n",
      "res"
     ],
     "language": "python",
     "metadata": {},
     "outputs": [
      {
       "metadata": {},
       "output_type": "pyout",
       "prompt_number": 24,
       "text": [
        "      fun: 1.6820729873459617e-15\n",
        " hess_inv: <4x4 LbfgsInvHessProduct with dtype=float64>\n",
        "      jac: array([ -2.11010927e-09,  -2.22103272e-09,  -1.82273490e-10,\n",
        "         4.23349466e-09])\n",
        "  message: 'CONVERGENCE: NORM_OF_PROJECTED_GRADIENT_<=_PGTOL'\n",
        "     nfev: 225\n",
        "      nit: 40\n",
        "   status: 0\n",
        "  success: True\n",
        "        x: array([ 1.69999389,  0.50000296,  5.00000538,  0.4999993 ])"
       ]
      }
     ],
     "prompt_number": 24
    },
    {
     "cell_type": "code",
     "collapsed": false,
     "input": [
      "# this was the ground truth input parameters\n",
      "I1E5sm.parameter_defaults"
     ],
     "language": "python",
     "metadata": {},
     "outputs": [
      {
       "metadata": {},
       "output_type": "pyout",
       "prompt_number": 27,
       "text": [
        "OrderedDict([('I1StickSphericalMean_1_lambda_par', 1.7), ('E5RestrictedZeppelinSphericalMean_1_A', 5), ('E5RestrictedZeppelinSphericalMean_1_lambda_inf', 0.5), ('partial_volume_0', 0.5)])"
       ]
      }
     ],
     "prompt_number": 27
    },
    {
     "cell_type": "code",
     "collapsed": false,
     "input": [
      "# this is what we found, pretty much perfect (as expected since there was no noise)\n",
      "I1E5sm.parameter_vector_to_parameters(res.x)"
     ],
     "language": "python",
     "metadata": {},
     "outputs": [
      {
       "metadata": {},
       "output_type": "pyout",
       "prompt_number": 26,
       "text": [
        "{'E5RestrictedZeppelinSphericalMean_1_A': array([ 5.00000538]),\n",
        " 'E5RestrictedZeppelinSphericalMean_1_lambda_inf': array([ 0.50000296]),\n",
        " 'I1StickSphericalMean_1_lambda_par': array([ 1.69999389]),\n",
        " 'partial_volume_0': array([ 0.4999993])}"
       ]
      }
     ],
     "prompt_number": 26
    },
    {
     "cell_type": "heading",
     "level": 2,
     "metadata": {},
     "source": [
      "Now does this work for your multi-diffusion time mouse data??"
     ]
    },
    {
     "cell_type": "code",
     "collapsed": false,
     "input": [],
     "language": "python",
     "metadata": {},
     "outputs": []
    }
   ],
   "metadata": {}
  }
 ]
}