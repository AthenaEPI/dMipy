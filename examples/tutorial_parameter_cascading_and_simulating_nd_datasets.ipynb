{
 "cells": [
  {
   "cell_type": "markdown",
   "metadata": {},
   "source": [
    "# Simulating and fitting multiple voxels with varying initial conditions"
   ]
  },
  {
   "cell_type": "code",
   "execution_count": 1,
   "metadata": {
    "collapsed": true
   },
   "outputs": [],
   "source": [
    "from dmipy.data.saved_acquisition_schemes import wu_minn_hcp_acquisition_scheme\n",
    "acq_scheme = wu_minn_hcp_acquisition_scheme()"
   ]
  },
  {
   "cell_type": "markdown",
   "metadata": {},
   "source": [
    "## Simulating N-dimensional datasets with varying parameters"
   ]
  },
  {
   "cell_type": "markdown",
   "metadata": {},
   "source": [
    "For real applications, we may need to simulate data with many different initial conditions, or fit a real dataset where we want to give a voxel-dependent initial condition to avoid local minima. The toolbox allows you to do both these things by generating a multi-dimensional parameter vector.\n",
    "\n",
    "As an example, we will generate a simple Ball & Stick model."
   ]
  },
  {
   "cell_type": "code",
   "execution_count": 2,
   "metadata": {},
   "outputs": [
    {
     "data": {
      "text/plain": [
       "OrderedDict([('G1Ball_1_lambda_iso', 1),\n",
       "             ('C1Stick_1_mu', 2),\n",
       "             ('C1Stick_1_lambda_par', 1),\n",
       "             ('partial_volume_0', 1),\n",
       "             ('partial_volume_1', 1)])"
      ]
     },
     "execution_count": 2,
     "metadata": {},
     "output_type": "execute_result"
    }
   ],
   "source": [
    "from dmipy.signal_models import cylinder_models, gaussian_models\n",
    "from dmipy.core.modeling_framework import MultiCompartmentModel\n",
    "stick = cylinder_models.C1Stick()\n",
    "ball = gaussian_models.G1Ball()\n",
    "ball_and_stick = MultiCompartmentModel(models=[ball, stick])\n",
    "ball_and_stick.parameter_cardinality"
   ]
  },
  {
   "cell_type": "markdown",
   "metadata": {},
   "source": [
    "Now say we want to simulate the signal in each voxel to have the same lambdas and partial_volume, but varying 10x10 grid of $\\mu$. This can be done by giving parameters_to_parameter vector just the single value you want for the lambdas and partial_volume, but the mu as a 10x10x2 array."
   ]
  },
  {
   "cell_type": "code",
   "execution_count": 3,
   "metadata": {},
   "outputs": [
    {
     "name": "stdout",
     "output_type": "stream",
     "text": [
      "ND parameter vector shape: (10, 10, 6)\n",
      "Parameters of first two voxels:\n",
      "[[  5.21618802e-10   9.64593297e-01   8.17844887e-01   2.60809401e-10\n",
      "    5.00000000e-01   5.00000000e-01]\n",
      " [  5.21618802e-10   5.58099709e-01   4.38288666e-01   2.60809401e-10\n",
      "    5.00000000e-01   5.00000000e-01]]\n"
     ]
    }
   ],
   "source": [
    "import numpy as np\n",
    "lambda_par = np.random.rand() * 1e-9\n",
    "lambda_iso = lambda_par * 2.\n",
    "partial_volume = 0.5\n",
    "mu_array = np.random.rand(10, 10, 2)\n",
    "\n",
    "gt_parameter_vector = (\n",
    "    ball_and_stick.parameters_to_parameter_vector(\n",
    "        C1Stick_1_lambda_par=lambda_par,\n",
    "        G1Ball_1_lambda_iso=lambda_iso,\n",
    "        C1Stick_1_mu=mu_array,\n",
    "        partial_volume_0=partial_volume,\n",
    "        partial_volume_1=partial_volume)\n",
    ")\n",
    "\n",
    "print 'ND parameter vector shape:', gt_parameter_vector.shape\n",
    "print 'Parameters of first two voxels:'\n",
    "print gt_parameter_vector[0, :2]"
   ]
  },
  {
   "cell_type": "code",
   "execution_count": 4,
   "metadata": {},
   "outputs": [
    {
     "name": "stdout",
     "output_type": "stream",
     "text": [
      "(10, 10, 288)\n"
     ]
    }
   ],
   "source": [
    "# the data can now be generated exactly as before.\n",
    "E_array = ball_and_stick.simulate_signal(acq_scheme, gt_parameter_vector)\n",
    "print E_array.shape"
   ]
  },
  {
   "cell_type": "markdown",
   "metadata": {},
   "source": [
    "## Fitting N-dimensional data with varying initial condition"
   ]
  },
  {
   "cell_type": "markdown",
   "metadata": {},
   "source": [
    "To give an initial guess for only some parameters we can use the function \"parameter_initial_guess_to_parameter_vector\". It works example the same as the previous \"parameters_to_parameter_vector\", but fills \"None\" in the parameter vector for unaccounted parameters.\n",
    "\n",
    "First, it is important to realize that by giving an initial condition that the optimizer will try to find a global optimum of all other parameters *given* the initial guess parameters, and then polish the result for a local minimum. First, to see how this works we can give an initial guess that our Stick model is aligned with some random orientation, and actually the ground truth orientation."
   ]
  },
  {
   "cell_type": "code",
   "execution_count": 5,
   "metadata": {},
   "outputs": [
    {
     "name": "stdout",
     "output_type": "stream",
     "text": [
      "ND parameter vector shape: (10, 10, 6)\n",
      "Parameters of first two voxels:\n",
      "[[None 0.722598818211424 0.11599794435901156 None None None]\n",
      " [None 0.8829538391605147 0.3411344205245743 None None None]]\n"
     ]
    }
   ],
   "source": [
    "random_initial_mu = np.random.rand(10, 10, 2)\n",
    "parameter_guess_random_mu = (\n",
    "    ball_and_stick.parameter_initial_guess_to_parameter_vector(C1Stick_1_mu=random_initial_mu)\n",
    ")\n",
    "\n",
    "true_initial_mu = mu_array\n",
    "parameter_guess_true_mu = (\n",
    "    ball_and_stick.parameter_initial_guess_to_parameter_vector(C1Stick_1_mu=true_initial_mu)\n",
    ")\n",
    "print 'ND parameter vector shape:', parameter_guess_random_mu.shape\n",
    "print 'Parameters of first two voxels:'\n",
    "print parameter_guess_random_mu[0, :2]"
   ]
  },
  {
   "cell_type": "markdown",
   "metadata": {},
   "source": [
    "Notice how only the mu parameters have a value and the rest is None.  \n",
    "We can then fit the data with our standard brute2fine optimizer and sample the remaining parameters at 5 equal points between their respective parameter_ranges."
   ]
  },
  {
   "cell_type": "code",
   "execution_count": 6,
   "metadata": {},
   "outputs": [
    {
     "name": "stdout",
     "output_type": "stream",
     "text": [
      "Using parallel processing with 8 workers.\n",
      "Cannot estimate signal grid with voxel-dependent x0_vector.\n",
      "Setup brute2fine optimizer in 0.00029993057251 seconds\n",
      "Fitting of 100 voxels complete in 1.18870615959 seconds.\n",
      "Average of 0.0118870615959 seconds per voxel.\n",
      "Using parallel processing with 8 workers.\n",
      "Cannot estimate signal grid with voxel-dependent x0_vector.\n",
      "Setup brute2fine optimizer in 0.000287055969238 seconds\n",
      "Fitting of 100 voxels complete in 1.06285691261 seconds.\n",
      "Average of 0.0106285691261 seconds per voxel.\n"
     ]
    }
   ],
   "source": [
    "BAS_fit_random = ball_and_stick.fit(acq_scheme, E_array, parameter_guess_random_mu, Ns=5)\n",
    "BAS_fit_true = ball_and_stick.fit(acq_scheme, E_array, parameter_guess_true_mu, Ns=5)"
   ]
  },
  {
   "cell_type": "markdown",
   "metadata": {},
   "source": [
    "If we then visualize the fitting error:"
   ]
  },
  {
   "cell_type": "code",
   "execution_count": 7,
   "metadata": {},
   "outputs": [
    {
     "data": {
      "text/plain": [
       "<matplotlib.colorbar.Colorbar at 0x7ff0a36c5f90>"
      ]
     },
     "execution_count": 7,
     "metadata": {},
     "output_type": "execute_result"
    },
    {
     "data": {
      "image/png": "[encoded data removed]",
      "text/plain": [
       "<matplotlib.figure.Figure at 0x7ff0a91d2350>"
      ]
     },
     "metadata": {},
     "output_type": "display_data"
    }
   ],
   "source": [
    "import matplotlib.pyplot as plt\n",
    "%matplotlib inline\n",
    "\n",
    "mse_random = BAS_fit_random.mean_squared_error(E_array)\n",
    "mse_true = BAS_fit_true.mean_squared_error(E_array)\n",
    "\n",
    "fig, axs = plt.subplots(1, 3, figsize=[15, 5])\n",
    "cf = axs[0].imshow(mse_random)\n",
    "axs[0].set_title('MSE Random')\n",
    "fig.colorbar(cf, ax=axs[0], shrink=0.8)\n",
    "cf = axs[1].imshow(mse_true)\n",
    "axs[1].set_title('MSE True')\n",
    "fig.colorbar(cf, ax=axs[1], shrink=0.8)\n",
    "cf = axs[2].imshow(mse_random - mse_true)\n",
    "axs[2].set_title('MSE Random - MSE True')\n",
    "\n",
    "fig.colorbar(cf, ax=axs[2], shrink=0.8)"
   ]
  },
  {
   "cell_type": "markdown",
   "metadata": {},
   "source": [
    "You can see that some voxels find the wrong local minimum with the random orientation guess - resulting in high fitting errors, and the true guess always finds the global minimum (to the solver tolerance)."
   ]
  },
  {
   "cell_type": "markdown",
   "metadata": {},
   "source": [
    "## Parameter Cascading - Preparing a complex model with a simple model"
   ]
  },
  {
   "cell_type": "markdown",
   "metadata": {},
   "source": [
    "The idea of parameter cascading is simple: we find some good initial guesses for parameters using some simpler models, and then put these guesses into a complex model to help it better find a global minimum.\n",
    "\n",
    "As an example, we use dipy's DTI module to get the initial guess for orientation:"
   ]
  },
  {
   "cell_type": "code",
   "execution_count": 8,
   "metadata": {},
   "outputs": [
    {
     "data": {
      "text/plain": [
       "(10, 10, 3)"
      ]
     },
     "execution_count": 8,
     "metadata": {},
     "output_type": "execute_result"
    }
   ],
   "source": [
    "from dipy.reconst import dti\n",
    "from dmipy.core.acquisition_scheme import gtab_mipy2dipy\n",
    "\n",
    "# convert dmipy acquisition scheme to dipy gradient table\n",
    "gtab = gtab_mipy2dipy(acq_scheme)\n",
    "# initialize the dti model\n",
    "tenmod = dti.TensorModel(gtab)\n",
    "# fit the dti model\n",
    "tenfit = tenmod.fit(E_array)\n",
    "# get the estimated eigenvectors of the DTI tensor\n",
    "evecs = tenfit.evecs\n",
    "# the principal eigenvector is our initial guess for the Stick model orientation\n",
    "evecs_principal = evecs[..., 0]\n",
    "evecs_principal.shape"
   ]
  },
  {
   "cell_type": "markdown",
   "metadata": {},
   "source": [
    "We then estimate the spherical angles from the cartesian ones"
   ]
  },
  {
   "cell_type": "code",
   "execution_count": 9,
   "metadata": {
    "collapsed": true
   },
   "outputs": [],
   "source": [
    "from dmipy.utils.utils import cart2mu\n",
    "mu_dti = cart2mu(evecs_principal)"
   ]
  },
  {
   "cell_type": "markdown",
   "metadata": {},
   "source": [
    "and do the same as before"
   ]
  },
  {
   "cell_type": "code",
   "execution_count": 10,
   "metadata": {},
   "outputs": [
    {
     "name": "stdout",
     "output_type": "stream",
     "text": [
      "Using parallel processing with 8 workers.\n",
      "Cannot estimate signal grid with voxel-dependent x0_vector.\n",
      "Setup brute2fine optimizer in 0.000297069549561 seconds\n",
      "Fitting of 100 voxels complete in 1.14823889732 seconds.\n",
      "Average of 0.0114823889732 seconds per voxel.\n"
     ]
    },
    {
     "data": {
      "text/plain": [
       "<matplotlib.colorbar.Colorbar at 0x7ff0a3653790>"
      ]
     },
     "execution_count": 10,
     "metadata": {},
     "output_type": "execute_result"
    },
    {
     "data": {
      "image/png": "[encoded data removed]",
      "text/plain": [
       "<matplotlib.figure.Figure at 0x7ff0a34fca50>"
      ]
     },
     "metadata": {},
     "output_type": "display_data"
    }
   ],
   "source": [
    "parameter_guess_dti_mu = (\n",
    "    ball_and_stick.parameter_initial_guess_to_parameter_vector(C1Stick_1_mu=mu_dti)\n",
    ")\n",
    "BAS_fit_dti = ball_and_stick.fit(acq_scheme, E_array, parameter_guess_dti_mu, Ns=5)\n",
    "mse_dti_mu = BAS_fit_dti.mean_squared_error(E_array)\n",
    "\n",
    "plt.imshow(mse_dti_mu)\n",
    "plt.title(\"MSE DTI Cascading\")\n",
    "plt.colorbar()"
   ]
  },
  {
   "cell_type": "markdown",
   "metadata": {},
   "source": [
    "We can see we that using DTI cascading we have similar results as giving the ground truth orientations (as we did before)\n",
    "\n",
    "This process is the same for any other paramater, e.g. using CSD to initialize multiple orientations.\n",
    "\n",
    "NOTE: currently dmipy does not accept initial conditions for volume fractions, but everything else is fine."
   ]
  }
 ],
 "metadata": {
  "kernelspec": {
   "display_name": "Python 2",
   "language": "python",
   "name": "python2"
  },
  "language_info": {
   "codemirror_mode": {
    "name": "ipython",
    "version": 2
   },
   "file_extension": ".py",
   "mimetype": "text/x-python",
   "name": "python",
   "nbconvert_exporter": "python",
   "pygments_lexer": "ipython2",
   "version": "2.7.14"
  }
 },
 "nbformat": 4,
 "nbformat_minor": 1
}
