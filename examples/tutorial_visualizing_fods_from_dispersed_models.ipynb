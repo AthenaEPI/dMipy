{
 "cells": [
  {
   "cell_type": "code",
   "execution_count": 1,
   "metadata": {
    "collapsed": false
   },
   "outputs": [
    {
     "data": {
      "text/plain": [
       "OrderedDict([('SD3I1WatsonDispersedStick_2_kappa', 1),\n",
       "             ('SD3I1WatsonDispersedStick_2_lambda_par', 1),\n",
       "             ('SD3I1WatsonDispersedStick_2_mu', 2),\n",
       "             ('SD3I1WatsonDispersedStick_1_kappa', 1),\n",
       "             ('SD3I1WatsonDispersedStick_1_lambda_par', 1),\n",
       "             ('SD3I1WatsonDispersedStick_1_mu', 2),\n",
       "             ('partial_volume_0', 1)])"
      ]
     },
     "execution_count": 1,
     "metadata": {},
     "output_type": "execute_result"
    }
   ],
   "source": [
    "from microstruktur.signal_models import dispersed_models\n",
    "from microstruktur.signal_models.three_dimensional_models import (\n",
    "    PartialVolumeCombinedMicrostrukturModel)\n",
    "from dipy.data import get_sphere\n",
    "import numpy as np\n",
    "from numpy.testing import assert_almost_equal\n",
    "from dipy.viz import fvtk\n",
    "sphere = get_sphere()\n",
    "vertices = sphere.vertices\n",
    "\n",
    "watson_stick1 = dispersed_models.SD3I1WatsonDispersedStick()\n",
    "watson_stick2 = dispersed_models.SD3I1WatsonDispersedStick()\n",
    "\n",
    "mc_model = PartialVolumeCombinedMicrostrukturModel([watson_stick1, watson_stick2])\n",
    "mc_model.parameter_cardinality"
   ]
  },
  {
   "cell_type": "code",
   "execution_count": 23,
   "metadata": {
    "collapsed": false
   },
   "outputs": [],
   "source": [
    "theta = np.linspace(0, np.pi / 2.0, 11)\n",
    "kappa = np.linspace(0, 10, 11)\n",
    "kappa_grid, theta_grid = np.meshgrid(kappa, theta)\n",
    "phi_grid = np.zeros_like(theta_grid)\n",
    "mu2_grid = np.concatenate(( theta_grid[..., None], phi_grid[..., None]), axis=-1)\n",
    "\n",
    "kappa = 5.\n",
    "lambda_par = 1.7e-9\n",
    "mu2 = np.zeros((11, 2))\n",
    "mu2[:, 0] = np.linspace(0, np.pi / 2., 11)\n",
    "fraction = 0.5\n",
    "\n",
    "param_vector = mc_model.parameters_to_parameter_vector(\n",
    "    SD3I1WatsonDispersedStick_2_kappa = kappa_grid,\n",
    "    SD3I1WatsonDispersedStick_2_lambda_par = lambda_par,\n",
    "    SD3I1WatsonDispersedStick_2_mu = (0, 0),\n",
    "    SD3I1WatsonDispersedStick_1_kappa = kappa_grid,\n",
    "    SD3I1WatsonDispersedStick_1_lambda_par = lambda_par,\n",
    "    SD3I1WatsonDispersedStick_1_mu = mu2_grid,\n",
    "    partial_volume_0 = 0.5)\n",
    "\n",
    "fods = mc_model.fod(vertices, param_vector)\n",
    "fods = np.transpose(np.array([fods]), (2,0,1,3))\n",
    "ren = fvtk.ren()\n",
    "fod_spheres = fvtk.sphere_funcs(fods, sphere, scale=2.5, norm=True)\n",
    "fod_spheres.RotateX(90)\n",
    "fvtk.add(ren, fod_spheres)\n",
    "fvtk.show(ren)"
   ]
  }
 ],
 "metadata": {
  "kernelspec": {
   "display_name": "Python 2",
   "language": "python",
   "name": "python2"
  },
  "language_info": {
   "codemirror_mode": {
    "name": "ipython",
    "version": 2
   },
   "file_extension": ".py",
   "mimetype": "text/x-python",
   "name": "python",
   "nbconvert_exporter": "python",
   "pygments_lexer": "ipython2",
   "version": "2.7.6"
  }
 },
 "nbformat": 4,
 "nbformat_minor": 0
}
