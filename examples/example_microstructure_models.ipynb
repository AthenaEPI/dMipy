{
 "metadata": {
  "name": "example_microstructure_models.ipynb"
 },
 "nbformat": 3,
 "nbformat_minor": 0,
 "worksheets": [
  {
   "cells": [
    {
     "cell_type": "code",
     "collapsed": false,
     "input": [
      "from microstruktur.signal_models import three_dimensional_models\n",
      "from microstruktur.signal_models import spherical_mean\n",
      "from microstruktur.signal_models.utils import T1_tortuosity, parameter_equality, define_shell_indices\n",
      "from os.path import join\n",
      "from scipy import optimize\n",
      "from scipy.stats import pearsonr\n",
      "# import pandas"
     ],
     "language": "python",
     "metadata": {},
     "outputs": [],
     "prompt_number": 1
    },
    {
     "cell_type": "heading",
     "level": 2,
     "metadata": {},
     "source": [
      "Load Data"
     ]
    },
    {
     "cell_type": "code",
     "collapsed": false,
     "input": [
      "import pkg_resources\n",
      "DATA_PATH = '/user/rfick/home/microstruktur/microstruktur/data/'\n",
      "# DATA_PATH = pkg_resources.resource_filename(\n",
      "#     'microstruktur', 'data/'\n",
      "# )"
     ],
     "language": "python",
     "metadata": {},
     "outputs": [],
     "prompt_number": 2
    },
    {
     "cell_type": "code",
     "collapsed": false,
     "input": [
      "bvals = np.loadtxt(join(three_dimensional_models.GRADIENT_TABLES_PATH, 'bvals_hcp_wu_minn.txt'))\n",
      "gradient_directions = np.loadtxt(join(three_dimensional_models.GRADIENT_TABLES_PATH, 'bvecs_hcp_wu_minn.txt'))\n",
      "\n",
      "shell_indices, shell_bvalues = define_shell_indices(bvals, ((0, 10), (995, 1005), (1995, 2005), (2995, 3005)))\n",
      "number_of_shells = shell_indices.max()"
     ],
     "language": "python",
     "metadata": {},
     "outputs": [],
     "prompt_number": 13
    },
    {
     "cell_type": "code",
     "collapsed": false,
     "input": [
      "data_1_7 = np.loadtxt(join(DATA_PATH, 'data_camino_D1_7.txt'))\n",
      "fractions_1_7 = np.loadtxt(DATA_PATH +'fractions_camino_D1_7.txt')\n",
      "data_2_0 = np.loadtxt(join(DATA_PATH, 'data_camino_D2_0.txt'))\n",
      "fractions_2_0 = np.loadtxt(DATA_PATH +'fractions_camino_D2_0.txt')\n",
      "data_2_3 = np.loadtxt(join(DATA_PATH, 'data_camino_D2_3.txt'))\n",
      "fractions_2_3 = np.loadtxt(DATA_PATH +'fractions_camino_D2_3.txt')"
     ],
     "language": "python",
     "metadata": {},
     "outputs": [],
     "prompt_number": 4
    },
    {
     "cell_type": "code",
     "collapsed": false,
     "input": [
      "data_multidif = np.r_[data_1_7, data_2_0, data_2_3]\n",
      "fractions_multidif = np.r_[fractions_1_7, fractions_2_0, fractions_2_3]"
     ],
     "language": "python",
     "metadata": {},
     "outputs": [],
     "prompt_number": 5
    },
    {
     "cell_type": "code",
     "collapsed": false,
     "input": [
      "data_1_7_dispersed = np.loadtxt(join(DATA_PATH, 'data_camino_dispersed_D1_7.txt'))\n",
      "parameters_1_7_dispersed = np.loadtxt(DATA_PATH +'parameters_camino_dispersed_D1_7.txt')\n",
      "fractions_1_7_dispersed = parameters_1_7_dispersed[:,0]\n",
      "\n",
      "data_2_0_dispersed = np.loadtxt(join(DATA_PATH, 'data_camino_dispersed_D2_0.txt'))\n",
      "parameters_2_0_dispersed = np.loadtxt(DATA_PATH +'parameters_camino_dispersed_D2_0.txt')\n",
      "fractions_2_0_dispersed = parameters_2_0_dispersed[:,0]\n",
      "\n",
      "data_2_3_dispersed = np.loadtxt(join(DATA_PATH, 'data_camino_dispersed_D2_3.txt'))\n",
      "parameters_2_3_dispersed = np.loadtxt(DATA_PATH +'parameters_camino_dispersed_D2_3.txt')\n",
      "fractions_2_3_dispersed = parameters_2_3_dispersed[:,0]"
     ],
     "language": "python",
     "metadata": {},
     "outputs": [],
     "prompt_number": 6
    },
    {
     "cell_type": "code",
     "collapsed": false,
     "input": [
      "data_multidif_dispersed = np.r_[data_1_7_dispersed, data_2_0_dispersed, data_2_3_dispersed]\n",
      "fractions_multidif_dispersed = np.r_[fractions_1_7_dispersed, fractions_2_0_dispersed, fractions_2_3_dispersed]"
     ],
     "language": "python",
     "metadata": {},
     "outputs": [],
     "prompt_number": 7
    },
    {
     "cell_type": "heading",
     "level": 2,
     "metadata": {},
     "source": [
      "Ball and Stick"
     ]
    },
    {
     "cell_type": "markdown",
     "metadata": {},
     "source": [
      "$$\n",
      " E^{\\textrm{Ball and}}_{\\textrm{Sticks}}=\\underbrace{f_h\\overbrace{E_{iso}(\\lambda_{\\textrm{iso}})}^{\\textrm{Ball}}}_{\\textrm{Extra-Axonal}}+ \\sum_{i=1}^{N}\\underbrace{f_{i,r}\\overbrace{E_r(\\boldsymbol{\\mu}_i|\\lambda_\\parallel)}^{\\textrm{Stick}}}_{\\textrm{Intra-Axonal}}\n",
      "$$"
     ]
    },
    {
     "cell_type": "heading",
     "level": 3,
     "metadata": {},
     "source": [
      "Initializing Model"
     ]
    },
    {
     "cell_type": "code",
     "collapsed": false,
     "input": [
      "ball = three_dimensional_models.E3Ball()\n",
      "stick = three_dimensional_models.I1Stick()"
     ],
     "language": "python",
     "metadata": {},
     "outputs": [],
     "prompt_number": 16
    },
    {
     "cell_type": "code",
     "collapsed": false,
     "input": [
      "ball_and_stick = three_dimensional_models.PartialVolumeCombinedMicrostrukturModel(\n",
      "    [stick, ball], parameter_links=[], optimise_partial_volumes=True)\n",
      "x0 = ball_and_stick.parameters_to_parameter_vector(I1Stick_1_lambda_par=2,\n",
      "                                                   I1Stick_1_mu=[0, 0],\n",
      "                                                   E3Ball_1_lambda_iso=1,\n",
      "                                                   partial_volume_0=.5\n",
      "                                                   )"
     ],
     "language": "python",
     "metadata": {},
     "outputs": [],
     "prompt_number": 17
    },
    {
     "cell_type": "heading",
     "level": 3,
     "metadata": {},
     "source": [
      "Fitting Data"
     ]
    },
    {
     "cell_type": "code",
     "collapsed": false,
     "input": [
      "# fitting to parallel (undispersed) data with one diffusivity D=1.7\n",
      "results_ball_and_stick = np.zeros((data_1_7.shape[0], 5))\n",
      "for i, data_ in enumerate(data_1_7):\n",
      "    res = optimize.minimize(\n",
      "        ball_and_stick.objective_function, x0, (bvals, gradient_directions, data_),\n",
      "        bounds=ball_and_stick.bounds_for_optimization, options={'disp': True})\n",
      "    results_ball_and_stick[i] = res.x\n",
      "\n",
      "# fitting to dispersed data with one diffusivity D=1.7\n",
      "results_ball_and_stick_dispersed = np.zeros((data_1_7_dispersed.shape[0], 5))\n",
      "for i, data_ in enumerate(data_1_7_dispersed):\n",
      "    res = optimize.minimize(\n",
      "        ball_and_stick.objective_function, x0, (bvals, gradient_directions, data_),\n",
      "        bounds=ball_and_stick.bounds_for_optimization, options={'disp': True})\n",
      "    results_ball_and_stick_dispersed[i] = res.x\n",
      "\n",
      "# fitting to parallel (undispersed) data varying diffusivity D=[1.7, 2.0, 2.3]\n",
      "results_ball_and_stick_multidif = np.zeros((data_multidif.shape[0], 5))\n",
      "for i, data_ in enumerate(data_multidif):\n",
      "    res = optimize.minimize(\n",
      "        ball_and_stick.objective_function, x0, (bvals, gradient_directions, data_),\n",
      "        bounds=ball_and_stick.bounds_for_optimization, options={'disp': True})\n",
      "    results_ball_and_stick_multidif[i] = res.x\n",
      "\n",
      "# fitting to dispersed data varying diffusivity D=[1.7, 2.0, 2.3]\n",
      "results_ball_and_stick_multidif_dispersed = np.zeros((data_multidif_dispersed.shape[0], 5))\n",
      "for i, data_ in enumerate(data_multidif_dispersed):\n",
      "    res = optimize.minimize(\n",
      "        ball_and_stick.objective_function, x0, (bvals, gradient_directions, data_),\n",
      "        bounds=ball_and_stick.bounds_for_optimization, options={'disp': True})\n",
      "    results_ball_and_stick_multidif_dispersed[i] = res.x\n",
      "\n",
      "# estimating mean error and std\n",
      "mean_error_BAS = np.mean(results_ball_and_stick[:, -1] - fractions_1_7)\n",
      "std_error_BAS = np.std(results_ball_and_stick[:, -1] - fractions_1_7)\n",
      "mean_error_BAS_dispersed = np.mean(results_ball_and_stick_dispersed[:, -1] - fractions_1_7_dispersed)\n",
      "std_error_BAS_dispersed = np.std(results_ball_and_stick_dispersed[:, -1] - fractions_1_7_dispersed)\n",
      "mean_error_BAS_multidif = np.mean(results_ball_and_stick_multidif[:, -1] - fractions_multidif)\n",
      "std_error_BAS_multidif = np.std(results_ball_and_stick_multidif[:, -1] - fractions_multidif)\n",
      "mean_error_BAS_dispersed_multidif = np.mean(results_ball_and_stick_multidif_dispersed[:, -1] - fractions_multidif_dispersed)\n",
      "std_error_BAS_dispersed_multidif = np.std(results_ball_and_stick_multidif_dispersed[:, -1] - fractions_multidif_dispersed)\n",
      "\n",
      "# estimating pearson correlation with ground truth\n",
      "pr = pearsonr(results_ball_and_stick[:, -1], fractions_1_7)\n",
      "pr_dispersed = pearsonr(results_ball_and_stick_dispersed[:, -1], fractions_1_7_dispersed)\n",
      "pr_multidif = pearsonr(results_ball_and_stick_multidif[:, -1], fractions_multidif)\n",
      "pr_multidif_dispersed = pearsonr(results_ball_and_stick_multidif_dispersed[:, -1], fractions_multidif_dispersed)"
     ],
     "language": "python",
     "metadata": {},
     "outputs": [],
     "prompt_number": 168
    },
    {
     "cell_type": "heading",
     "level": 3,
     "metadata": {},
     "source": [
      "Illustrate Results"
     ]
    },
    {
     "cell_type": "code",
     "collapsed": false,
     "input": [
      "f, ((ax1, ax2), (ax3, ax4)) = plt.subplots(2, 2, sharex='col', sharey='row')\n",
      "ax1.scatter(results_ball_and_stick[:, -1], fractions_1_7)\n",
      "ax2.scatter(results_ball_and_stick_multidif[:, -1], fractions_multidif)\n",
      "ax3.scatter(results_ball_and_stick_dispersed[:, -1], fractions_1_7_dispersed)\n",
      "ax4.scatter(results_ball_and_stick_multidif_dispersed[:, -1], fractions_multidif_dispersed)\n",
      "\n",
      "ax1.text(.43, .34, 'pearsonR= '+str(np.round(pr[0], 3)), fontsize=10)\n",
      "ax2.text(.43, .34, 'pearsonR= '+str(np.round(pr_multidif[0], 3)), fontsize=10)\n",
      "ax3.text(.43, .34, 'pearsonR= '+str(np.round(pr_dispersed[0], 3)), fontsize=10)\n",
      "ax4.text(.43, .34, 'pearsonR= '+str(np.round(pr_multidif_dispersed[0], 3)), fontsize=10)\n",
      "\n",
      "ax1.set_title('Static Diffusivity')\n",
      "ax1.set_ylabel('Parallel Axons')\n",
      "ax2.set_title('Varying Diffusivity')\n",
      "ax3.set_xlabel('Esimated Volume Fraction')\n",
      "ax3.set_ylabel('Dispersed Axons')\n",
      "ax4.set_xlabel('Esimated Volume Fraction')\n",
      "\n",
      "ax1.plot([0, 1], [0, 1], ls='--', c='k', lw=3)\n",
      "ax2.plot([0, 1], [0, 1], ls='--', c='k', lw=3)\n",
      "ax3.plot([0, 1], [0, 1], ls='--', c='k', lw=3)\n",
      "ax4.plot([0, 1], [0, 1], ls='--', c='k', lw=3)\n",
      "ax1.set_ylim(0.3, 0.8)\n",
      "ax1.set_xlim(0.1, 0.9)\n",
      "ax4.set_ylim(0.3, 0.8)\n",
      "ax4.set_xlim(0.1, 0.9)"
     ],
     "language": "python",
     "metadata": {},
     "outputs": [
      {
       "metadata": {},
       "output_type": "pyout",
       "prompt_number": 167,
       "text": [
        "(0.1, 0.9)"
       ]
      },
      {
       "metadata": {},
       "output_type": "display_data",
       "png": "[encoded data removed]",
       "text": [
        "<matplotlib.figure.Figure at 0xf561390>"
       ]
      }
     ],
     "prompt_number": 167
    },
    {
     "cell_type": "heading",
     "level": 2,
     "metadata": {},
     "source": [
      "Ball and Rackets"
     ]
    },
    {
     "cell_type": "code",
     "collapsed": false,
     "input": [
      "def preset_parameter(preset_value):\n",
      "    return np.r_[1.7]"
     ],
     "language": "python",
     "metadata": {},
     "outputs": [],
     "prompt_number": 8
    },
    {
     "cell_type": "code",
     "collapsed": false,
     "input": [
      "ball = three_dimensional_models.E3Ball()\n",
      "bingham_stick = three_dimensional_models.I1BinghamDispersedStick()"
     ],
     "language": "python",
     "metadata": {},
     "outputs": [],
     "prompt_number": 10
    },
    {
     "cell_type": "code",
     "collapsed": false,
     "input": [
      "parameter_links = [\n",
      "    (  # preset parallel diffusivity\n",
      "         bingham_stick, 'lambda_par',\n",
      "         preset_parameter, [(None, 'partial_volume_0')]\n",
      "     )\n",
      "]"
     ],
     "language": "python",
     "metadata": {},
     "outputs": [],
     "prompt_number": 11
    },
    {
     "cell_type": "code",
     "collapsed": false,
     "input": [
      "ball_and_racket = three_dimensional_models.PartialVolumeCombinedMicrostrukturModel(\n",
      "    [bingham_stick, ball], parameter_links=[], optimise_partial_volumes=True)"
     ],
     "language": "python",
     "metadata": {},
     "outputs": [],
     "prompt_number": 12
    },
    {
     "cell_type": "code",
     "collapsed": false,
     "input": [
      "ball_and_racket.parameter_defaults"
     ],
     "language": "python",
     "metadata": {},
     "outputs": [
      {
       "metadata": {},
       "output_type": "pyout",
       "prompt_number": 21,
       "text": [
        "OrderedDict([('I1BinghamDispersedStick_1_beta', None), ('I1BinghamDispersedStick_1_kappa', None), ('I1BinghamDispersedStick_1_lambda_par', None), ('I1BinghamDispersedStick_1_mu', None), ('I1BinghamDispersedStick_1_psi', None), ('E3Ball_1_lambda_iso', None), ('partial_volume_0', 0.5)])"
       ]
      }
     ],
     "prompt_number": 21
    },
    {
     "cell_type": "code",
     "collapsed": false,
     "input": [
      "x0 = ball_and_racket.parameters_to_parameter_vector(I1BinghamDispersedStick_1_beta=0,\n",
      "                                                    I1BinghamDispersedStick_1_kappa=5,\n",
      "                                                    I1BinghamDispersedStick_1_lambda_par=1.9,\n",
      "                                                    I1BinghamDispersedStick_1_mu=[0, 0],\n",
      "                                                    I1BinghamDispersedStick_1_psi=0,\n",
      "                                                    E3Ball_1_lambda_iso=1,\n",
      "                                                    partial_volume_0=.5\n",
      "                                                    )\n",
      "\n",
      "results_ball_and_racket = np.zeros((data_1_7_dispersed.shape[0], len(ball_and_racket.parameter_defaults) + 1))\n",
      "for i, data_ in enumerate(data_1_7_dispersed[-3:]):\n",
      "    res = optimize.minimize(\n",
      "        ball_and_racket.objective_function, x0, (bvals, gradient_directions, data_, shell_indices),\n",
      "        bounds=ball_and_racket.bounds_for_optimization, options={'disp': True})\n",
      "    results_ball_and_racket[i] = res.x"
     ],
     "language": "python",
     "metadata": {},
     "outputs": [],
     "prompt_number": 31
    },
    {
     "cell_type": "code",
     "collapsed": false,
     "input": [
      "res"
     ],
     "language": "python",
     "metadata": {},
     "outputs": [
      {
       "metadata": {},
       "output_type": "pyout",
       "prompt_number": 32,
       "text": [
        "      fun: 1.0601081248020341e-05\n",
        " hess_inv: <8x8 LbfgsInvHessProduct with dtype=float64>\n",
        "      jac: array([  1.13754187e-06,  -3.97919816e-07,   8.10080796e-07,\n",
        "         9.49143785e-07,   3.50553056e-09,  -3.32834109e-06,\n",
        "        -1.62920638e-06,  -4.10545655e-06])\n",
        "  message: 'CONVERGENCE: NORM_OF_PROJECTED_GRADIENT_<=_PGTOL'\n",
        "     nfev: 333\n",
        "      nit: 34\n",
        "   status: 0\n",
        "  success: True\n",
        "        x: array([  2.35246243e+00,   4.70241898e-06,   8.72612320e+00,\n",
        "         1.39829539e-04,   3.14159265e+00,   1.29422407e+00,\n",
        "         4.12614688e+00,   4.46694555e-01])"
       ]
      }
     ],
     "prompt_number": 32
    },
    {
     "cell_type": "code",
     "collapsed": false,
     "input": [
      "ball_and_racket.add_linked_parameters_to_parameters(ball_and_racket.parameter_vector_to_parameters(\n",
      "                                                                                            results_ball_and_racket[2]))"
     ],
     "language": "python",
     "metadata": {},
     "outputs": [
      {
       "metadata": {},
       "output_type": "pyout",
       "prompt_number": 33,
       "text": [
        "{'E3Ball_1_lambda_iso': array([ 1.29422407]),\n",
        " 'I1BinghamDispersedStick_1_beta': array([ 4.12614688]),\n",
        " 'I1BinghamDispersedStick_1_kappa': array([ 8.7261232]),\n",
        " 'I1BinghamDispersedStick_1_lambda_par': array([ 2.35246243]),\n",
        " 'I1BinghamDispersedStick_1_mu': array([  1.39829539e-04,   3.14159265e+00]),\n",
        " 'I1BinghamDispersedStick_1_psi': array([  4.70241898e-06]),\n",
        " 'partial_volume_0': array([ 0.44669456])}"
       ]
      }
     ],
     "prompt_number": 33
    },
    {
     "cell_type": "heading",
     "level": 2,
     "metadata": {},
     "source": [
      "Multi-Compartment Spherical Mean Technique"
     ]
    },
    {
     "cell_type": "heading",
     "level": 2,
     "metadata": {},
     "source": [
      "Initialize model"
     ]
    },
    {
     "cell_type": "code",
     "collapsed": false,
     "input": [
      "stick_mean = three_dimensional_models.I1StickSphericalMean()\n",
      "zeppelin_mean = three_dimensional_models.E4ZeppelinSphericalMean()"
     ],
     "language": "python",
     "metadata": {},
     "outputs": [],
     "prompt_number": 174
    },
    {
     "cell_type": "code",
     "collapsed": false,
     "input": [
      "parameter_links_smt = [\n",
      "    (  # tortuosity assumption\n",
      "        zeppelin_mean, 'lambda_perp',\n",
      "        T1_tortuosity, [\n",
      "            (None, 'partial_volume_0'),\n",
      "            (stick_mean, 'lambda_par')\n",
      "        ]\n",
      "    ),\n",
      "    (  # equal parallel diffusivities\n",
      "         zeppelin_mean, 'lambda_par',\n",
      "         parameter_equality, [\n",
      "            (stick_mean, 'lambda_par')\n",
      "        ]\n",
      "     )\n",
      "]"
     ],
     "language": "python",
     "metadata": {},
     "outputs": [],
     "prompt_number": 177
    },
    {
     "cell_type": "code",
     "collapsed": false,
     "input": [
      "mc_smt = three_dimensional_models.PartialVolumeCombinedMicrostrukturModel(\n",
      "    [stick_mean, zeppelin_mean], parameter_links=parameter_links_smt, optimise_partial_volumes=True)\n",
      "x0_smt = mc_smt.parameters_to_parameter_vector(I1StickSphericalMean_1_lambda_par=.6e-3,\n",
      "                                           partial_volume_0=0.55)"
     ],
     "language": "python",
     "metadata": {},
     "outputs": [],
     "prompt_number": 178
    },
    {
     "cell_type": "heading",
     "level": 3,
     "metadata": {},
     "source": [
      "Compute spherical mean of data"
     ]
    },
    {
     "cell_type": "code",
     "collapsed": false,
     "input": [
      "data_1_7_sm = np.zeros((data_1_7.shape[0], number_of_shells))\n",
      "data_1_7_dispersed_sm = np.zeros((data_1_7_dispersed.shape[0], number_of_shells))\n",
      "data_multidif_sm = np.zeros((data_multidif.shape[0], number_of_shells))\n",
      "data_multidif_dispersed_sm = np.zeros((data_multidif_dispersed.shape[0], number_of_shells))\n",
      "\n",
      "for i, data_ in enumerate(data_1_7):\n",
      "    data_1_7_sm[i] = spherical_mean.estimate_spherical_mean_multi_shell(\n",
      "                                data_, gradient_directions, shell_indices)\n",
      "for i, data_ in enumerate(data_1_7_dispersed):\n",
      "    data_1_7_dispersed_sm[i] = spherical_mean.estimate_spherical_mean_multi_shell(\n",
      "                                data_, gradient_directions, shell_indices)\n",
      "for i, data_ in enumerate(data_multidif):\n",
      "    data_multidif_sm[i] = spherical_mean.estimate_spherical_mean_multi_shell(\n",
      "                                data_, gradient_directions, shell_indices)\n",
      "for i, data_ in enumerate(data_multidif_dispersed):\n",
      "    data_multidif_dispersed_sm[i] = spherical_mean.estimate_spherical_mean_multi_shell(\n",
      "                                data_, gradient_directions, shell_indices)"
     ],
     "language": "python",
     "metadata": {},
     "outputs": [],
     "prompt_number": 171
    },
    {
     "cell_type": "heading",
     "level": 3,
     "metadata": {},
     "source": [
      "Fit model to data"
     ]
    },
    {
     "cell_type": "code",
     "collapsed": false,
     "input": [
      "results_mc_smt = np.zeros((data_1_7_sm.shape[0], 2))\n",
      "results_mc_smt_multidif = np.zeros((data_multidif_sm.shape[0], 2))\n",
      "results_mc_smt_dispersed = np.zeros((data_1_7_dispersed_sm.shape[0], 2))\n",
      "results_mc_smt_multidif_dispersed = np.zeros((data_multidif_dispersed_sm.shape[0], 2))\n",
      "\n",
      "for i, data_spherical_mean_ in enumerate(data_1_7_sm):\n",
      "    res = optimize.minimize(mc_smt.objective_function, x0_smt,\n",
      "                            (shell_bvalues[1:], gradient_directions[:3], data_spherical_mean_),\n",
      "                            bounds=mc_smt.bounds_for_optimization, options={'disp': True})\n",
      "    results_mc_smt[i] = res.x\n",
      "\n",
      "for i, data_spherical_mean_ in enumerate(data_1_7_dispersed_sm):\n",
      "    res = optimize.minimize(mc_smt.objective_function, x0_smt,\n",
      "                            (shell_bvalues[1:], gradient_directions[:3], data_spherical_mean_),\n",
      "                            bounds=mc_smt.bounds_for_optimization, options={'disp': True})\n",
      "    results_mc_smt_dispersed[i] = res.x\n",
      "\n",
      "for i, data_spherical_mean_ in enumerate(data_multidif_sm):\n",
      "    res = optimize.minimize(mc_smt.objective_function, x0_smt,\n",
      "                            (shell_bvalues[1:], gradient_directions[:3], data_spherical_mean_),\n",
      "                            bounds=mc_smt.bounds_for_optimization, options={'disp': True})\n",
      "    results_mc_smt_multidif[i] = res.x\n",
      "\n",
      "for i, data_spherical_mean_ in enumerate(data_multidif_dispersed_sm):\n",
      "    res = optimize.minimize(mc_smt.objective_function, x0_smt,\n",
      "                            (shell_bvalues[1:], gradient_directions[:3], data_spherical_mean_),\n",
      "                            bounds=mc_smt.bounds_for_optimization, options={'disp': True})\n",
      "    results_mc_smt_multidif_dispersed[i] = res.x\n",
      "\n",
      "# estimating mean error and std\n",
      "mean_error_mc_smt = np.mean(results_mc_smt[:, -1] - fractions_1_7)\n",
      "std_error_mc_smt = np.std(results_mc_smt[:, -1] - fractions_1_7)\n",
      "mean_error_mc_smt_dispersed = np.mean(results_mc_smt_dispersed[:, -1] - fractions_1_7_dispersed)\n",
      "std_error_mc_smt_dispersed = np.std(results_mc_smt_dispersed[:, -1] - fractions_1_7_dispersed)\n",
      "mean_error_mc_smt_multidif = np.mean(results_mc_smt_multidif[:, -1] - fractions_multidif)\n",
      "std_error_mc_smt_multidif = np.std(results_mc_smt_multidif[:, -1] - fractions_multidif)\n",
      "mean_error_mc_smt_dispersed_multidif = np.mean(results_mc_smt_multidif_dispersed[:, -1] - fractions_multidif_dispersed)\n",
      "std_error_mc_smt_dispersed_multidif = np.std(results_mc_smt_multidif_dispersed[:, -1] - fractions_multidif_dispersed)\n",
      "\n",
      "# estimating pearson correlation with ground truth\n",
      "pr_mc_smt = pearsonr(results_mc_smt[:, -1], fractions_1_7)\n",
      "pr_mc_smt_dispersed = pearsonr(results_mc_smt_dispersed[:, -1], fractions_1_7_dispersed)\n",
      "pr_mc_smt_multidif = pearsonr(results_mc_smt_multidif[:, -1], fractions_multidif)\n",
      "pr_mc_smt_multidif_dispersed = pearsonr(results_mc_smt_multidif_dispersed[:, -1], fractions_multidif_dispersed)"
     ],
     "language": "python",
     "metadata": {},
     "outputs": [],
     "prompt_number": 179
    },
    {
     "cell_type": "heading",
     "level": 3,
     "metadata": {},
     "source": [
      "Illustrate Results"
     ]
    },
    {
     "cell_type": "code",
     "collapsed": false,
     "input": [
      "f, ((ax1, ax2), (ax3, ax4)) = plt.subplots(2, 2, sharex='col', sharey='row')\n",
      "ax1.scatter(results_mc_smt[:, -1], fractions_1_7)\n",
      "ax2.scatter(results_mc_smt_multidif[:, -1], fractions_multidif)\n",
      "ax3.scatter(results_mc_smt_dispersed[:, -1], fractions_1_7_dispersed)\n",
      "ax4.scatter(results_mc_smt_multidif_dispersed[:, -1], fractions_multidif_dispersed)\n",
      "\n",
      "ax1.text(.43, .34, 'pearsonR= '+str(np.round(pr_mc_smt[0], 3)), fontsize=10)\n",
      "ax2.text(.43, .34, 'pearsonR= '+str(np.round(pr_mc_smt_multidif[0], 3)), fontsize=10)\n",
      "ax3.text(.43, .34, 'pearsonR= '+str(np.round(pr_mc_smt_dispersed[0], 3)), fontsize=10)\n",
      "ax4.text(.43, .34, 'pearsonR= '+str(np.round(pr_mc_smt_multidif_dispersed[0], 3)), fontsize=10)\n",
      "\n",
      "ax1.set_title('Static Diffusivity')\n",
      "ax1.set_ylabel('Parallel Axons')\n",
      "ax2.set_title('Varying Diffusivity')\n",
      "ax3.set_xlabel('Esimated Volume Fraction')\n",
      "ax3.set_ylabel('Dispersed Axons')\n",
      "ax4.set_xlabel('Esimated Volume Fraction')\n",
      "\n",
      "ax1.plot([0, 1], [0, 1], ls='--', c='k', lw=3)\n",
      "ax2.plot([0, 1], [0, 1], ls='--', c='k', lw=3)\n",
      "ax3.plot([0, 1], [0, 1], ls='--', c='k', lw=3)\n",
      "ax4.plot([0, 1], [0, 1], ls='--', c='k', lw=3)\n",
      "ax1.set_ylim(0.3, 0.8)\n",
      "ax1.set_xlim(0.1, 0.9)\n",
      "ax4.set_ylim(0.3, 0.8)\n",
      "ax4.set_xlim(0.1, 0.9)"
     ],
     "language": "python",
     "metadata": {},
     "outputs": [
      {
       "metadata": {},
       "output_type": "pyout",
       "prompt_number": 180,
       "text": [
        "(0.1, 0.9)"
       ]
      },
      {
       "metadata": {},
       "output_type": "display_data",
       "png": "[encoded data removed]",
       "text": [
        "<matplotlib.figure.Figure at 0xf541b50>"
       ]
      }
     ],
     "prompt_number": 180
    },
    {
     "cell_type": "heading",
     "level": 2,
     "metadata": {},
     "source": [
      "Noddi-Watson Kaden"
     ]
    },
    {
     "cell_type": "code",
     "collapsed": false,
     "input": [
      "def T1_tortuosity_with_preset_lambda_par(f_intra, lambda_par=1.7):\n",
      "    lambda_perp = (1 - f_intra) * lambda_par\n",
      "    return lambda_perp"
     ],
     "language": "python",
     "metadata": {},
     "outputs": [],
     "prompt_number": 36
    },
    {
     "cell_type": "code",
     "collapsed": false,
     "input": [
      "dispersed_stick = three_dimensional_models.I1WatsonDispersedStick()\n",
      "dispersed_zeppelin = three_dimensional_models.E4WatsonDispersedZeppelin()"
     ],
     "language": "python",
     "metadata": {},
     "outputs": [],
     "prompt_number": 37
    },
    {
     "cell_type": "code",
     "collapsed": false,
     "input": [
      "dispersed_zeppelin.parameter_cardinality"
     ],
     "language": "python",
     "metadata": {},
     "outputs": [
      {
       "metadata": {},
       "output_type": "pyout",
       "prompt_number": 38,
       "text": [
        "OrderedDict([('kappa', 1), ('lambda_par', 1), ('lambda_perp', 1), ('mu', 2)])"
       ]
      }
     ],
     "prompt_number": 38
    },
    {
     "cell_type": "raw",
     "metadata": {},
     "source": [
      "How to make a double linking?\n",
      "we need to preset lambda_par of the stick, but doing so will remove it from the parameter list.\n",
      "It no longer exists once the tortuosity function wants to use it in the second link.\n",
      "How to fix it?\n",
      "\n",
      "Hacked it with preset function"
     ]
    },
    {
     "cell_type": "code",
     "collapsed": false,
     "input": [
      "parameter_links = [\n",
      "    (  # parallel stick diffusivity to 1.7\n",
      "         dispersed_stick, 'lambda_par',\n",
      "         preset_parameter, [\n",
      "            (None, 'partial_volume_0')\n",
      "        ]\n",
      "     ),\n",
      "    (  # tortuosity assumption\n",
      "        dispersed_zeppelin, 'lambda_perp',\n",
      "        T1_tortuosity_with_preset_lambda_par, [\n",
      "            (None, 'partial_volume_0')\n",
      "#             (dispersed_stick, 'lambda_par')\n",
      "        ]\n",
      "    ),\n",
      "    (  # parallel zeppelin diffusivity to 1.7\n",
      "         dispersed_zeppelin, 'lambda_par',\n",
      "         preset_parameter, [\n",
      "            (None, 'partial_volume_0')\n",
      "        ]\n",
      "     ),\n",
      "    (  # kappa equality\n",
      "         dispersed_stick, 'kappa',\n",
      "         parameter_equality, [\n",
      "            (dispersed_zeppelin, 'kappa')\n",
      "            ]\n",
      "    ),\n",
      "    (  # mu equality\n",
      "         dispersed_stick, 'mu',\n",
      "         parameter_equality, [\n",
      "            (dispersed_zeppelin, 'mu')\n",
      "            ]\n",
      "    )\n",
      "]"
     ],
     "language": "python",
     "metadata": {},
     "outputs": [],
     "prompt_number": 59
    },
    {
     "cell_type": "code",
     "collapsed": false,
     "input": [
      "noddi_kaden = three_dimensional_models.PartialVolumeCombinedMicrostrukturModel(\n",
      "    [dispersed_stick, dispersed_zeppelin],\n",
      "    parameter_links=parameter_links, optimise_partial_volumes=True)"
     ],
     "language": "python",
     "metadata": {},
     "outputs": [],
     "prompt_number": 60
    },
    {
     "cell_type": "code",
     "collapsed": false,
     "input": [
      "noddi_kaden.parameter_cardinality"
     ],
     "language": "python",
     "metadata": {},
     "outputs": [
      {
       "metadata": {},
       "output_type": "pyout",
       "prompt_number": 61,
       "text": [
        "OrderedDict([('E4WatsonDispersedZeppelin_1_kappa', 1), ('E4WatsonDispersedZeppelin_1_mu', 2), ('partial_volume_0', 1)])"
       ]
      }
     ],
     "prompt_number": 61
    },
    {
     "cell_type": "code",
     "collapsed": false,
     "input": [
      "x0 = noddi_kaden.parameters_to_parameter_vector(E4WatsonDispersedZeppelin_1_kappa=1.,\n",
      "                                                E4WatsonDispersedZeppelin_1_mu=[0, 0],\n",
      "                                                partial_volume_0=.7\n",
      "                                                )\n",
      "\n",
      "results_noddi_kaden = np.zeros((data_1_7_dispersed.shape[0], len(noddi_kaden.parameter_cardinality) + 1))\n",
      "for i, data_ in enumerate(data_1_7_dispersed[:5]):\n",
      "    res = optimize.minimize(\n",
      "        noddi_kaden.objective_function, x0,\n",
      "        (bvals, gradient_directions, data_, shell_indices),\n",
      "        bounds=noddi_kaden.bounds_for_optimization, options={'disp': True})\n",
      "    results_noddi_kaden[i] = res.x"
     ],
     "language": "python",
     "metadata": {},
     "outputs": [],
     "prompt_number": 67
    },
    {
     "cell_type": "code",
     "collapsed": false,
     "input": [
      "res"
     ],
     "language": "python",
     "metadata": {},
     "outputs": [
      {
       "metadata": {},
       "output_type": "pyout",
       "prompt_number": 63,
       "text": [
        "      fun: 2.3923786727730008e-05\n",
        " hess_inv: <4x4 LbfgsInvHessProduct with dtype=float64>\n",
        "      jac: array([ -8.34893610e-07,   1.77915781e-06,   0.00000000e+00,\n",
        "        -9.53044542e-07])\n",
        "  message: 'CONVERGENCE: NORM_OF_PROJECTED_GRADIENT_<=_PGTOL'\n",
        "     nfev: 55\n",
        "      nit: 9\n",
        "   status: 0\n",
        "  success: True\n",
        "        x: array([ 2.96637986,  0.        ,  3.14159265,  0.54594505])"
       ]
      }
     ],
     "prompt_number": 63
    },
    {
     "cell_type": "raw",
     "metadata": {},
     "source": [
      "There is a bug somewhere since the volume fraction is underestimated but the kappa is well estimated"
     ]
    },
    {
     "cell_type": "code",
     "collapsed": false,
     "input": [
      "noddi_kaden.add_linked_parameters_to_parameters(\n",
      "    noddi_kaden.parameter_vector_to_parameters(results_noddi_kaden[2]))"
     ],
     "language": "python",
     "metadata": {},
     "outputs": [
      {
       "metadata": {},
       "output_type": "pyout",
       "prompt_number": 69,
       "text": [
        "{'E4WatsonDispersedZeppelin_1_kappa': array([ 15.3370379]),\n",
        " 'E4WatsonDispersedZeppelin_1_lambda_par': array([ 1.7]),\n",
        " 'E4WatsonDispersedZeppelin_1_lambda_perp': array([ 0.77522819]),\n",
        " 'E4WatsonDispersedZeppelin_1_mu': array([ 0.        ,  3.14159265]),\n",
        " 'I1WatsonDispersedStick_1_kappa': array([ 15.3370379]),\n",
        " 'I1WatsonDispersedStick_1_lambda_par': array([ 1.7]),\n",
        " 'I1WatsonDispersedStick_1_mu': array([ 0.        ,  3.14159265]),\n",
        " 'partial_volume_0': array([ 0.54398342])}"
       ]
      }
     ],
     "prompt_number": 69
    },
    {
     "cell_type": "heading",
     "level": 2,
     "metadata": {},
     "source": [
      "Apparent Fiber Density"
     ]
    },
    {
     "cell_type": "code",
     "collapsed": false,
     "input": [
      "from dipy.reconst.csdeconv import auto_response\n",
      "from dipy.core.gradients import gradient_table\n",
      "from dipy.reconst.csdeconv import ConstrainedSphericalDeconvModel\n",
      "from dipy.data import get_sphere\n",
      "sphere = get_sphere('symmetric724')\n",
      "\n",
      "b3k_mask = np.any([bvals == 0, bvals > 2500], axis=0)\n",
      "bvals3k = bvals[b3k_mask]\n",
      "gradient_directions3k = gradient_directions[b3k_mask]\n",
      "gtab3k = gradient_table(bvals=bvals3k, bvecs=gradient_directions3k)\n",
      "\n",
      "data3k = data[:, b3k_mask]\n",
      "data3k_dispersed = data_dispersed[:, b3k_mask]"
     ],
     "language": "python",
     "metadata": {},
     "outputs": [],
     "prompt_number": 51
    },
    {
     "cell_type": "code",
     "collapsed": false,
     "input": [
      "# not dispersed\n",
      "response, ratio = auto_response(gtab3k, data3k[:, None, None], roi_radius=1000, fa_thr=0.5)\n",
      "csd_model = ConstrainedSphericalDeconvModel(gtab3k, response)\n",
      "csd_fit = csd_model.fit(data3k)\n",
      "arg_par = argmin(np.linalg.norm(sphere.vertices - np.r_[0, 0, 1], axis=1))\n",
      "csd_odf = csd_fit.odf(sphere)\n",
      "csd_amplitudes = csd_odf[:, arg_par]\n",
      "\n",
      "# dispersed\n",
      "response, ratio = auto_response(gtab3k, data3k_dispersed[:, None, None], roi_radius=1000, fa_thr=0.5)\n",
      "csd_model = ConstrainedSphericalDeconvModel(gtab3k, response)\n",
      "csd_fit = csd_model.fit(data3k_dispersed)\n",
      "arg_par = argmin(np.linalg.norm(sphere.vertices - np.r_[0, 0, 1], axis=1))\n",
      "csd_odf = csd_fit.odf(sphere)\n",
      "csd_amplitudes_dispersed = csd_odf[:, arg_par]"
     ],
     "language": "python",
     "metadata": {},
     "outputs": [],
     "prompt_number": 52
    },
    {
     "cell_type": "code",
     "collapsed": false,
     "input": [
      "# from dipy.viz import fvtk\n",
      "# ren = fvtk.ren()\n",
      "# fodf_spheres = fvtk.sphere_funcs(csd_odf, sphere, scale=1.3, norm=False)\n",
      "# fvtk.add(ren, fodf_spheres)\n",
      "# fvtk.show(ren)"
     ],
     "language": "python",
     "metadata": {},
     "outputs": [],
     "prompt_number": 48
    },
    {
     "cell_type": "code",
     "collapsed": false,
     "input": [
      "scatter(csd_amplitudes, fractions)\n",
      "pr = pearsonr(csd_amplitudes, fractions)\n",
      "text(2.25, .32, 'PearsonR: '+str(np.round(pr[0], 3)), fontsize=15)"
     ],
     "language": "python",
     "metadata": {},
     "outputs": [
      {
       "metadata": {},
       "output_type": "pyout",
       "prompt_number": 53,
       "text": [
        "<matplotlib.text.Text at 0x5e85a50>"
       ]
      },
      {
       "metadata": {},
       "output_type": "display_data",
       "png": "[encoded data removed]",
       "text": [
        "<matplotlib.figure.Figure at 0x5e1ec90>"
       ]
      }
     ],
     "prompt_number": 53
    },
    {
     "cell_type": "code",
     "collapsed": false,
     "input": [
      "scatter(csd_amplitudes_dispersed, fractions_dispersed)\n",
      "pr = pearsonr(csd_amplitudes_dispersed, fractions_dispersed)\n",
      "text(2.25, .32, 'PearsonR: '+str(np.round(pr[0], 3)), fontsize=15)"
     ],
     "language": "python",
     "metadata": {},
     "outputs": [
      {
       "metadata": {},
       "output_type": "pyout",
       "prompt_number": 56,
       "text": [
        "<matplotlib.text.Text at 0x57a22d0>"
       ]
      },
      {
       "metadata": {},
       "output_type": "display_data",
       "png": "[encoded data removed]",
       "text": [
        "<matplotlib.figure.Figure at 0x5d7bc50>"
       ]
      }
     ],
     "prompt_number": 56
    },
    {
     "cell_type": "markdown",
     "metadata": {},
     "source": [
      "Apparent volume fraction is not robust to dispersion"
     ]
    },
    {
     "cell_type": "heading",
     "level": 2,
     "metadata": {},
     "source": [
      "White Matter Tract Integrity"
     ]
    },
    {
     "cell_type": "code",
     "collapsed": false,
     "input": [
      "from dipy.core.gradients import gradient_table\n",
      "from dipy.reconst import dki\n",
      "\n",
      "gtab = gradient_table(bvals=bvals, bvecs=gradient_directions)\n",
      "\n",
      "dki_model = dki.DiffusionKurtosisModel(gtab)\n",
      "dki_fit = dki_model.fit(data)\n",
      "dki_fit_dispersed = dki_model.fit(data_dispersed)\n",
      "\n",
      "# not dispersed: radial (perpendicular) kurtosis is highest\n",
      "k_max = dki_fit.rk(max_kurtosis=10)\n",
      "dki_fintra = k_max / (k_max + 3)\n",
      "\n",
      "# dispersed: radial (perpendicular) kurtosis is highest\n",
      "k_max = dki_fit_dispersed.rk(max_kurtosis=10)\n",
      "dki_fintra_dispersed = k_max / (k_max + 3)"
     ],
     "language": "python",
     "metadata": {},
     "outputs": [],
     "prompt_number": 57
    },
    {
     "cell_type": "code",
     "collapsed": false,
     "input": [
      "# without dispersion\n",
      "scatter(dki_fintra, fractions)\n",
      "plot([0, 1], [0, 1])\n",
      "ylim(0, 1)\n",
      "xlim(0, 1)\n",
      "pr = pearsonr(dki_fintra, fractions)\n",
      "text(.58, .05, 'PearsonR: '+str(np.round(pr[0], 4)), fontsize=15)"
     ],
     "language": "python",
     "metadata": {},
     "outputs": [
      {
       "metadata": {},
       "output_type": "pyout",
       "prompt_number": 173,
       "text": [
        "<matplotlib.text.Text at 0xba2bfd0>"
       ]
      },
      {
       "metadata": {},
       "output_type": "display_data",
       "png": "[encoded data removed]",
       "text": [
        "<matplotlib.figure.Figure at 0xa056c10>"
       ]
      }
     ],
     "prompt_number": 173
    },
    {
     "cell_type": "code",
     "collapsed": false,
     "input": [
      "# with dispersion\n",
      "scatter(dki_fintra_dispersed, fractions_dispersed)\n",
      "plot([0, 1], [0, 1])\n",
      "ylim(0, 1)\n",
      "xlim(0, 1)\n",
      "pr = pearsonr(dki_fintra_dispersed, fractions_dispersed)\n",
      "text(.58, .05, 'PearsonR: '+str(np.round(pr[0], 4)), fontsize=15)"
     ],
     "language": "python",
     "metadata": {},
     "outputs": [
      {
       "metadata": {},
       "output_type": "pyout",
       "prompt_number": 59,
       "text": [
        "<matplotlib.text.Text at 0x61e0fd0>"
       ]
      },
      {
       "metadata": {},
       "output_type": "display_data",
       "png": "[encoded data removed]",
       "text": [
        "<matplotlib.figure.Figure at 0x5da3350>"
       ]
      }
     ],
     "prompt_number": 59
    },
    {
     "cell_type": "markdown",
     "metadata": {},
     "source": [
      "White matter Tract Integrity also is not really robust"
     ]
    },
    {
     "cell_type": "code",
     "collapsed": false,
     "input": [],
     "language": "python",
     "metadata": {},
     "outputs": []
    }
   ],
   "metadata": {}
  }
 ]
}