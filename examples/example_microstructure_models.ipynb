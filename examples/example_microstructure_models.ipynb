{
 "metadata": {
  "name": "example_microstructure_models.ipynb"
 },
 "nbformat": 3,
 "nbformat_minor": 0,
 "worksheets": [
  {
   "cells": [
    {
     "cell_type": "code",
     "collapsed": false,
     "input": [
      "from microstruktur.signal_models import three_dimensional_models\n",
      "from microstruktur.signal_models import spherical_mean\n",
      "from microstruktur.signal_models.utils import T1_tortuosity\n",
      "from os.path import join\n",
      "from scipy import optimize\n",
      "# import seaborn as sns\n",
      "from dipy.sims.phantom import add_noise\n",
      "from scipy.stats import pearsonr"
     ],
     "language": "python",
     "metadata": {},
     "outputs": [],
     "prompt_number": 24
    },
    {
     "cell_type": "heading",
     "level": 2,
     "metadata": {},
     "source": [
      "Load Data"
     ]
    },
    {
     "cell_type": "code",
     "collapsed": false,
     "input": [
      "import pkg_resources\n",
      "DATA_PATH = '/user/rfick/home/microstruktur/microstruktur/data/'\n",
      "# DATA_PATH = pkg_resources.resource_filename(\n",
      "#     'microstruktur', 'data/'\n",
      "# )"
     ],
     "language": "python",
     "metadata": {},
     "outputs": [],
     "prompt_number": 25
    },
    {
     "cell_type": "code",
     "collapsed": false,
     "input": [
      "bvals = np.loadtxt(join(three_dimensional_models.GRADIENT_TABLES_PATH, 'bvals_hcp_wu_minn.txt'))\n",
      "gradient_directions = np.loadtxt(join(three_dimensional_models.GRADIENT_TABLES_PATH, 'bvecs_hcp_wu_minn.txt'))"
     ],
     "language": "python",
     "metadata": {},
     "outputs": [],
     "prompt_number": 26
    },
    {
     "cell_type": "code",
     "collapsed": false,
     "input": [
      "data = np.loadtxt(join(DATA_PATH, 'data_camino_D1_7.txt'))\n",
      "fractions = np.loadtxt(DATA_PATH +'fractions_camino_D1_7.txt')"
     ],
     "language": "python",
     "metadata": {},
     "outputs": [],
     "prompt_number": 27
    },
    {
     "cell_type": "code",
     "collapsed": false,
     "input": [
      "data_dispersed = np.loadtxt(join(DATA_PATH, 'data_camino_dispersed_D1_7.txt'))\n",
      "fractions_dispersed = np.loadtxt(DATA_PATH +'parameters_camino_dispersed_D1_7.txt')[:,0]"
     ],
     "language": "python",
     "metadata": {},
     "outputs": [],
     "prompt_number": 28
    },
    {
     "cell_type": "heading",
     "level": 2,
     "metadata": {},
     "source": [
      "Ball and Stick"
     ]
    },
    {
     "cell_type": "markdown",
     "metadata": {},
     "source": [
      "$$\n",
      " E^{\\textrm{Ball and}}_{\\textrm{Sticks}}=\\underbrace{f_h\\overbrace{E_{iso}(\\lambda_{\\textrm{iso}})}^{\\textrm{Ball}}}_{\\textrm{Extra-Axonal}}+ \\sum_{i=1}^{N}\\underbrace{f_{i,r}\\overbrace{E_r(\\boldsymbol{\\mu}_i|\\lambda_\\parallel)}^{\\textrm{Stick}}}_{\\textrm{Intra-Axonal}}\n",
      "$$"
     ]
    },
    {
     "cell_type": "code",
     "collapsed": false,
     "input": [
      "ball = three_dimensional_models.E3Ball(lambda_iso=1e-3)\n",
      "stick = three_dimensional_models.I1Stick(lambda_par=2e-3, mu=[np.pi/4, 0])"
     ],
     "language": "python",
     "metadata": {},
     "outputs": [],
     "prompt_number": 41
    },
    {
     "cell_type": "code",
     "collapsed": false,
     "input": [
      "ball_and_stick = three_dimensional_models.PartialVolumeCombinedMicrostrukturModel(\n",
      "    [stick, ball], parameter_links=[], optimise_partial_volumes=True)"
     ],
     "language": "python",
     "metadata": {},
     "outputs": [],
     "prompt_number": 42
    },
    {
     "cell_type": "code",
     "collapsed": false,
     "input": [
      "x0 = ball_and_stick.parameters_to_parameter_vector(I1Stick_1_lambda_par=2,\n",
      "                                                   I1Stick_1_mu=[0, 0],\n",
      "                                                   E3Ball_1_lambda_iso=1,\n",
      "                                                   partial_volume_0=.5\n",
      "                                                   )\n",
      "\n",
      "results_ball_and_stick = np.zeros((data.shape[0], 5))\n",
      "for i, data_ in enumerate(data):\n",
      "    res = optimize.minimize(\n",
      "        ball_and_stick.objective_function, x0, (bvals, gradient_directions, add_noise(data_, snr=20, S0=1)),\n",
      "        bounds=ball_and_stick.bounds_for_optimization, options={'disp': True})\n",
      "    results_ball_and_stick[i] = res.x"
     ],
     "language": "python",
     "metadata": {},
     "outputs": [],
     "prompt_number": 43
    },
    {
     "cell_type": "heading",
     "level": 3,
     "metadata": {},
     "source": [
      "Fit to undispersed data"
     ]
    },
    {
     "cell_type": "code",
     "collapsed": false,
     "input": [
      "plt.scatter(results_ball_and_stick[:, -1], fractions)\n",
      "plot([0, 1], [0, 1])\n",
      "ylim(0, 1)\n",
      "xlim(0, 1)\n",
      "\n",
      "pr = pearsonr(results_ball_and_stick[:, -1], fractions)\n",
      "text(.6, .06, 'PearsonR: '+str(np.round(pr[0], 3)), fontsize=15)"
     ],
     "language": "python",
     "metadata": {},
     "outputs": [
      {
       "metadata": {},
       "output_type": "pyout",
       "prompt_number": 44,
       "text": [
        "<matplotlib.text.Text at 0x5a15990>"
       ]
      },
      {
       "metadata": {},
       "output_type": "display_data",
       "png": "[encoded data removed]",
       "text": [
        "<matplotlib.figure.Figure at 0x45c3b10>"
       ]
      }
     ],
     "prompt_number": 44
    },
    {
     "cell_type": "heading",
     "level": 3,
     "metadata": {},
     "source": [
      "Fit to dispersed data"
     ]
    },
    {
     "cell_type": "code",
     "collapsed": false,
     "input": [
      "x0 = ball_and_stick.parameters_to_parameter_vector(I1Stick_1_lambda_par=2,\n",
      "                                                   I1Stick_1_mu=[0, 0],\n",
      "                                                   E3Ball_1_lambda_iso=1,\n",
      "                                                   partial_volume_0=.5\n",
      "                                                   )\n",
      "\n",
      "results_ball_and_stick_dispersed = np.zeros((data_dispersed.shape[0], 5))\n",
      "for i, data_ in enumerate(data_dispersed):\n",
      "    res = optimize.minimize(\n",
      "        ball_and_stick.objective_function, x0, (bvals, gradient_directions, add_noise(data_, snr=20, S0=1)),\n",
      "        bounds=ball_and_stick.bounds_for_optimization, options={'disp': True})\n",
      "    results_ball_and_stick_dispersed[i] = res.x"
     ],
     "language": "python",
     "metadata": {},
     "outputs": [],
     "prompt_number": 45
    },
    {
     "cell_type": "code",
     "collapsed": false,
     "input": [
      "plt.scatter(results_ball_and_stick_dispersed[:, -1], fractions_dispersed)\n",
      "plot([0, 1], [0, 1])\n",
      "ylim(0, 1)\n",
      "xlim(0, 1)\n",
      "\n",
      "pr = pearsonr(results_ball_and_stick_dispersed[:, -1], fractions_dispersed)\n",
      "text(.6, .06, 'PearsonR: '+str(np.round(pr[0], 3)), fontsize=15)"
     ],
     "language": "python",
     "metadata": {},
     "outputs": [
      {
       "metadata": {},
       "output_type": "pyout",
       "prompt_number": 46,
       "text": [
        "<matplotlib.text.Text at 0x486ed50>"
       ]
      },
      {
       "metadata": {},
       "output_type": "display_data",
       "png": "[encoded data removed]",
       "text": [
        "<matplotlib.figure.Figure at 0x59f7e10>"
       ]
      }
     ],
     "prompt_number": 46
    },
    {
     "cell_type": "markdown",
     "metadata": {},
     "source": [
      "It can be seen that Stick and Ball is not robust to dispersion."
     ]
    },
    {
     "cell_type": "heading",
     "level": 2,
     "metadata": {},
     "source": [
      "Multi-Compartment Spherical Mean Technique"
     ]
    },
    {
     "cell_type": "code",
     "collapsed": false,
     "input": [
      "stick_mean = three_dimensional_models.I1StickSphericalMean()\n",
      "zeppelin_mean = three_dimensional_models.E4ZeppelinSphericalMean()"
     ],
     "language": "python",
     "metadata": {},
     "outputs": [],
     "prompt_number": 29
    },
    {
     "cell_type": "code",
     "collapsed": false,
     "input": [
      "def parameter_equality(param):\n",
      "    return param"
     ],
     "language": "python",
     "metadata": {},
     "outputs": [],
     "prompt_number": 30
    },
    {
     "cell_type": "code",
     "collapsed": false,
     "input": [
      "parameter_links = [\n",
      "    (  # tortuosity assumption\n",
      "        zeppelin_mean, 'lambda_perp',\n",
      "        T1_tortuosity, [\n",
      "            (None, 'partial_volume_0'),\n",
      "            (stick_mean, 'lambda_par')\n",
      "        ]\n",
      "    ),\n",
      "    (  # equal parallel diffusivities\n",
      "         zeppelin_mean, 'lambda_par',\n",
      "         parameter_equality, [\n",
      "            (stick_mean, 'lambda_par')\n",
      "        ]\n",
      "     )\n",
      "]"
     ],
     "language": "python",
     "metadata": {},
     "outputs": [],
     "prompt_number": 31
    },
    {
     "cell_type": "code",
     "collapsed": false,
     "input": [
      "mc_smt = three_dimensional_models.PartialVolumeCombinedMicrostrukturModel(\n",
      "    [stick_mean, zeppelin_mean], parameter_links=parameter_links, optimise_partial_volumes=True)"
     ],
     "language": "python",
     "metadata": {},
     "outputs": [],
     "prompt_number": 32
    },
    {
     "cell_type": "code",
     "collapsed": false,
     "input": [
      "# to be made for convenient later\n",
      "bshell_indices = np.round(bvals / 1e3)\n",
      "shell_bvals = np.linspace(1, 3, 3) * 1e3\n",
      "\n",
      "number_of_shells = bshell_indices.max()\n",
      "data_spherical_means = np.zeros((data.shape[0], number_of_shells))\n",
      "for i, data_ in enumerate(data):\n",
      "    data_spherical_means[i] = spherical_mean.estimate_spherical_mean_multi_shell(\n",
      "                                data_, gradient_directions, bshell_indices)"
     ],
     "language": "python",
     "metadata": {},
     "outputs": [],
     "prompt_number": 33
    },
    {
     "cell_type": "heading",
     "level": 3,
     "metadata": {},
     "source": [
      "Fit to undispersed data"
     ]
    },
    {
     "cell_type": "code",
     "collapsed": false,
     "input": [
      "x0 = mc_smt.parameters_to_parameter_vector(I1StickSphericalMean_1_lambda_par=.6e-3,\n",
      "                                           partial_volume_0=0.55)\n",
      "\n",
      "results_mc_smt = np.zeros((data.shape[0], 2))\n",
      "for i, data_spherical_mean_ in enumerate(data_spherical_means):\n",
      "    res = optimize.minimize(mc_smt.objective_function, x0,\n",
      "                            (shell_bvals, gradient_directions[:3], data_spherical_mean_),\n",
      "                            bounds=mc_smt.bounds_for_optimization, options={'disp': True})\n",
      "    results_mc_smt[i] = res.x"
     ],
     "language": "python",
     "metadata": {},
     "outputs": [],
     "prompt_number": 34
    },
    {
     "cell_type": "code",
     "collapsed": false,
     "input": [
      "plt.scatter(results_mc_smt[:, -1], fractions)\n",
      "plot([0, 1], [0, 1])\n",
      "ylim(0, 1)\n",
      "xlim(0, 1)\n",
      "\n",
      "pr = pearsonr(results_mc_smt[:, -1], fractions)\n",
      "text(.6, .06, 'PearsonR: '+str(np.round(pr[0], 3)), fontsize=15)"
     ],
     "language": "python",
     "metadata": {},
     "outputs": [
      {
       "metadata": {},
       "output_type": "pyout",
       "prompt_number": 35,
       "text": [
        "<matplotlib.text.Text at 0x54d4090>"
       ]
      },
      {
       "metadata": {},
       "output_type": "display_data",
       "png": "[encoded data removed]",
       "text": [
        "<matplotlib.figure.Figure at 0x45c0890>"
       ]
      }
     ],
     "prompt_number": 35
    },
    {
     "cell_type": "heading",
     "level": 3,
     "metadata": {},
     "source": [
      "fit to dispersed data"
     ]
    },
    {
     "cell_type": "code",
     "collapsed": false,
     "input": [
      "# to be made for convenient later\n",
      "bshell_indices = np.round(bvals / 1e3)\n",
      "shell_bvals = np.linspace(1, 3, 3) * 1e3\n",
      "\n",
      "number_of_shells = bshell_indices.max()\n",
      "data_dispersed_spherical_means = np.zeros((data_dispersed.shape[0], number_of_shells))\n",
      "for i, data_ in enumerate(data_dispersed):\n",
      "    data_dispersed_spherical_means[i] = spherical_mean.estimate_spherical_mean_multi_shell(\n",
      "                                data_, gradient_directions, bshell_indices)"
     ],
     "language": "python",
     "metadata": {},
     "outputs": [],
     "prompt_number": 36
    },
    {
     "cell_type": "code",
     "collapsed": false,
     "input": [
      "x0 = mc_smt.parameters_to_parameter_vector(I1StickSphericalMean_1_lambda_par=.6e-3,\n",
      "                                           partial_volume_0=0.55)\n",
      "\n",
      "results_mc_smt_dispersed = np.zeros((data_dispersed.shape[0], 2))\n",
      "for i, data_spherical_mean_ in enumerate(data_dispersed_spherical_means):\n",
      "    res = optimize.minimize(mc_smt.objective_function, x0,\n",
      "                            (shell_bvals, gradient_directions[:3], data_spherical_mean_),\n",
      "                            bounds=mc_smt.bounds_for_optimization, options={'disp': True})\n",
      "    results_mc_smt_dispersed[i] = res.x"
     ],
     "language": "python",
     "metadata": {},
     "outputs": [],
     "prompt_number": 38
    },
    {
     "cell_type": "code",
     "collapsed": false,
     "input": [
      "plt.scatter(results_mc_smt_dispersed[:, -1], fractions_dispersed)\n",
      "plot([0, 1], [0, 1])\n",
      "ylim(0, 1)\n",
      "xlim(0, 1)\n",
      "\n",
      "pr = pearsonr(results_mc_smt_dispersed[:, -1], fractions_dispersed)\n",
      "text(.6, .06, 'PearsonR: '+str(np.round(pr[0], 3)), fontsize=15)"
     ],
     "language": "python",
     "metadata": {},
     "outputs": [
      {
       "metadata": {},
       "output_type": "pyout",
       "prompt_number": 40,
       "text": [
        "<matplotlib.text.Text at 0x59743d0>"
       ]
      },
      {
       "metadata": {},
       "output_type": "display_data",
       "png": "[encoded data removed]",
       "text": [
        "<matplotlib.figure.Figure at 0x54ec790>"
       ]
      }
     ],
     "prompt_number": 40
    },
    {
     "cell_type": "markdown",
     "metadata": {},
     "source": [
      "MC-SMT is completely robust to dispersion (as advocated in the paper)"
     ]
    },
    {
     "cell_type": "heading",
     "level": 2,
     "metadata": {},
     "source": [
      "Noddi Kaden"
     ]
    },
    {
     "cell_type": "code",
     "collapsed": false,
     "input": [
      "def parameter_equality(param):\n",
      "    return param\n",
      "\n",
      "def parameter_preset(param, preset_value):\n",
      "    return preset_value"
     ],
     "language": "python",
     "metadata": {},
     "outputs": [],
     "prompt_number": 9
    },
    {
     "cell_type": "code",
     "collapsed": false,
     "input": [
      "dispersed_stick = three_dimensional_models.I1WatsonDispersedStick()\n",
      "dispersed_zeppelin = three_dimensional_models.E4WatsonDispersedZeppelin()"
     ],
     "language": "python",
     "metadata": {},
     "outputs": [],
     "prompt_number": 10
    },
    {
     "cell_type": "code",
     "collapsed": false,
     "input": [
      "dispersed_zeppelin.parameter_cardinality"
     ],
     "language": "python",
     "metadata": {},
     "outputs": [
      {
       "metadata": {},
       "output_type": "pyout",
       "prompt_number": 11,
       "text": [
        "OrderedDict([('kappa', 1), ('lambda_par', 1), ('lambda_perp', 1), ('mu', 2)])"
       ]
      }
     ],
     "prompt_number": 11
    },
    {
     "cell_type": "code",
     "collapsed": false,
     "input": [
      "b_shell_indices_ = bvals / 1e3"
     ],
     "language": "python",
     "metadata": {},
     "outputs": [],
     "prompt_number": 12
    },
    {
     "cell_type": "code",
     "collapsed": false,
     "input": [
      "parameter_links = [\n",
      "    (  # tortuosity assumption\n",
      "        dispersed_zeppelin, 'lambda_perp',\n",
      "        T1_tortuosity, [\n",
      "            (None, 'partial_volume_0'),\n",
      "            (dispersed_stick, 'lambda_par')\n",
      "        ]\n",
      "    ),\n",
      "    (  # parallel diffusivities equality\n",
      "         dispersed_zeppelin, 'lambda_par',\n",
      "         parameter_equality, [\n",
      "            (dispersed_stick, 'lambda_par')\n",
      "        ]\n",
      "     ),\n",
      "    (  # kappa equality\n",
      "         dispersed_stick, 'kappa',\n",
      "         parameter_equality, [\n",
      "            (dispersed_zeppelin, 'kappa')\n",
      "            ]\n",
      "    ),\n",
      "    (  # mu equality\n",
      "         dispersed_stick, 'mu',\n",
      "         parameter_equality, [\n",
      "            (dispersed_zeppelin, 'mu')\n",
      "            ]\n",
      "    )\n",
      "]"
     ],
     "language": "python",
     "metadata": {},
     "outputs": [],
     "prompt_number": 13
    },
    {
     "cell_type": "code",
     "collapsed": false,
     "input": [
      "noddi_kaden = three_dimensional_models.PartialVolumeCombinedMicrostrukturModel(\n",
      "    [dispersed_stick, dispersed_zeppelin],\n",
      "    parameter_links=parameter_links, optimise_partial_volumes=True)"
     ],
     "language": "python",
     "metadata": {},
     "outputs": [],
     "prompt_number": 14
    },
    {
     "cell_type": "code",
     "collapsed": false,
     "input": [
      "noddi_kaden.parameter_cardinality"
     ],
     "language": "python",
     "metadata": {},
     "outputs": [
      {
       "metadata": {},
       "output_type": "pyout",
       "prompt_number": 15,
       "text": [
        "OrderedDict([('E4WatsonDispersedZeppelin_1_kappa', 1), ('I1WatsonDispersedStick_1_lambda_par', 1), ('E4WatsonDispersedZeppelin_1_mu', 2), ('partial_volume_0', 1)])"
       ]
      }
     ],
     "prompt_number": 15
    },
    {
     "cell_type": "code",
     "collapsed": false,
     "input": [
      "x0 = noddi_kaden.parameters_to_parameter_vector(E4WatsonDispersedZeppelin_1_kappa=1.,\n",
      "                                                E4WatsonDispersedZeppelin_1_mu=[0, 0],\n",
      "                                                I1WatsonDispersedStick_1_lambda_par=1.7,\n",
      "                                                partial_volume_0=.7\n",
      "                                                )\n",
      "\n",
      "results_noddi_kaden = np.zeros((data.shape[0], 5))\n",
      "for i, data_ in enumerate(data[:1]):\n",
      "    res = optimize.minimize(\n",
      "        noddi_kaden.objective_function, x0,\n",
      "        (bvals, gradient_directions, data_, b_shell_indices_),\n",
      "        bounds=noddi_kaden.bounds_for_optimization, options={'disp': True})\n",
      "    results_noddi_kaden[i] = res.x"
     ],
     "language": "python",
     "metadata": {},
     "outputs": [],
     "prompt_number": 16
    },
    {
     "cell_type": "code",
     "collapsed": false,
     "input": [
      "res"
     ],
     "language": "python",
     "metadata": {},
     "outputs": [
      {
       "metadata": {},
       "output_type": "pyout",
       "prompt_number": 17,
       "text": [
        "      fun: 0.00078757890756236135\n",
        " hess_inv: <5x5 LbfgsInvHessProduct with dtype=float64>\n",
        "      jac: array([ -4.91642317e-07,   1.52438825e-08,   6.61936684e-04,\n",
        "         0.00000000e+00,  -3.14418630e-10])\n",
        "  message: 'CONVERGENCE: NORM_OF_PROJECTED_GRADIENT_<=_PGTOL'\n",
        "     nfev: 222\n",
        "      nit: 20\n",
        "   status: 0\n",
        "  success: True\n",
        "        x: array([  9.21351951e+00,   2.48856598e+03,   0.00000000e+00,\n",
        "         3.14159265e+00,   1.00000000e+00])"
       ]
      }
     ],
     "prompt_number": 17
    },
    {
     "cell_type": "code",
     "collapsed": false,
     "input": [
      "results_noddi_kaden[0]"
     ],
     "language": "python",
     "metadata": {},
     "outputs": [
      {
       "metadata": {},
       "output_type": "pyout",
       "prompt_number": 18,
       "text": [
        "array([  9.21351951e+00,   2.48856598e+03,   0.00000000e+00,\n",
        "         3.14159265e+00,   1.00000000e+00])"
       ]
      }
     ],
     "prompt_number": 18
    },
    {
     "cell_type": "heading",
     "level": 2,
     "metadata": {},
     "source": [
      "Apparent Fiber Density"
     ]
    },
    {
     "cell_type": "code",
     "collapsed": false,
     "input": [
      "from dipy.reconst.csdeconv import auto_response\n",
      "from dipy.core.gradients import gradient_table\n",
      "from dipy.reconst.csdeconv import ConstrainedSphericalDeconvModel\n",
      "from dipy.data import get_sphere\n",
      "sphere = get_sphere('symmetric724')\n",
      "\n",
      "b3k_mask = np.any([bvals == 0, bvals > 2500], axis=0)\n",
      "bvals3k = bvals[b3k_mask]\n",
      "gradient_directions3k = gradient_directions[b3k_mask]\n",
      "gtab3k = gradient_table(bvals=bvals3k, bvecs=gradient_directions3k)\n",
      "\n",
      "data3k = data[:, b3k_mask]\n",
      "data3k_dispersed = data_dispersed[:, b3k_mask]"
     ],
     "language": "python",
     "metadata": {},
     "outputs": [],
     "prompt_number": 51
    },
    {
     "cell_type": "code",
     "collapsed": false,
     "input": [
      "# not dispersed\n",
      "response, ratio = auto_response(gtab3k, data3k[:, None, None], roi_radius=1000, fa_thr=0.5)\n",
      "csd_model = ConstrainedSphericalDeconvModel(gtab3k, response)\n",
      "csd_fit = csd_model.fit(data3k)\n",
      "arg_par = argmin(np.linalg.norm(sphere.vertices - np.r_[0, 0, 1], axis=1))\n",
      "csd_odf = csd_fit.odf(sphere)\n",
      "csd_amplitudes = csd_odf[:, arg_par]\n",
      "\n",
      "# dispersed\n",
      "response, ratio = auto_response(gtab3k, data3k_dispersed[:, None, None], roi_radius=1000, fa_thr=0.5)\n",
      "csd_model = ConstrainedSphericalDeconvModel(gtab3k, response)\n",
      "csd_fit = csd_model.fit(data3k_dispersed)\n",
      "arg_par = argmin(np.linalg.norm(sphere.vertices - np.r_[0, 0, 1], axis=1))\n",
      "csd_odf = csd_fit.odf(sphere)\n",
      "csd_amplitudes_dispersed = csd_odf[:, arg_par]"
     ],
     "language": "python",
     "metadata": {},
     "outputs": [],
     "prompt_number": 52
    },
    {
     "cell_type": "code",
     "collapsed": false,
     "input": [
      "# from dipy.viz import fvtk\n",
      "# ren = fvtk.ren()\n",
      "# fodf_spheres = fvtk.sphere_funcs(csd_odf, sphere, scale=1.3, norm=False)\n",
      "# fvtk.add(ren, fodf_spheres)\n",
      "# fvtk.show(ren)"
     ],
     "language": "python",
     "metadata": {},
     "outputs": [],
     "prompt_number": 48
    },
    {
     "cell_type": "code",
     "collapsed": false,
     "input": [
      "scatter(csd_amplitudes, fractions)\n",
      "pr = pearsonr(csd_amplitudes, fractions)\n",
      "text(2.25, .32, 'PearsonR: '+str(np.round(pr[0], 3)), fontsize=15)"
     ],
     "language": "python",
     "metadata": {},
     "outputs": [
      {
       "metadata": {},
       "output_type": "pyout",
       "prompt_number": 53,
       "text": [
        "<matplotlib.text.Text at 0x5e85a50>"
       ]
      },
      {
       "metadata": {},
       "output_type": "display_data",
       "png": "[encoded data removed]",
       "text": [
        "<matplotlib.figure.Figure at 0x5e1ec90>"
       ]
      }
     ],
     "prompt_number": 53
    },
    {
     "cell_type": "code",
     "collapsed": false,
     "input": [
      "scatter(csd_amplitudes_dispersed, fractions_dispersed)\n",
      "pr = pearsonr(csd_amplitudes_dispersed, fractions_dispersed)\n",
      "text(2.25, .32, 'PearsonR: '+str(np.round(pr[0], 3)), fontsize=15)"
     ],
     "language": "python",
     "metadata": {},
     "outputs": [
      {
       "metadata": {},
       "output_type": "pyout",
       "prompt_number": 56,
       "text": [
        "<matplotlib.text.Text at 0x57a22d0>"
       ]
      },
      {
       "metadata": {},
       "output_type": "display_data",
       "png": "[encoded data removed]",
       "text": [
        "<matplotlib.figure.Figure at 0x5d7bc50>"
       ]
      }
     ],
     "prompt_number": 56
    },
    {
     "cell_type": "markdown",
     "metadata": {},
     "source": [
      "Apparent volume fraction is not robust to dispersion"
     ]
    },
    {
     "cell_type": "heading",
     "level": 2,
     "metadata": {},
     "source": [
      "White Matter Tract Integrity"
     ]
    },
    {
     "cell_type": "code",
     "collapsed": false,
     "input": [
      "from dipy.core.gradients import gradient_table\n",
      "from dipy.reconst import dki\n",
      "\n",
      "gtab = gradient_table(bvals=bvals, bvecs=gradient_directions)\n",
      "\n",
      "dki_model = dki.DiffusionKurtosisModel(gtab)\n",
      "dki_fit = dki_model.fit(data)\n",
      "dki_fit_dispersed = dki_model.fit(data_dispersed)\n",
      "\n",
      "# not dispersed: radial (perpendicular) kurtosis is highest\n",
      "k_max = dki_fit.rk(max_kurtosis=10)\n",
      "dki_fintra = k_max / (k_max + 3)\n",
      "\n",
      "# dispersed: radial (perpendicular) kurtosis is highest\n",
      "k_max = dki_fit_dispersed.rk(max_kurtosis=10)\n",
      "dki_fintra_dispersed = k_max / (k_max + 3)"
     ],
     "language": "python",
     "metadata": {},
     "outputs": [],
     "prompt_number": 57
    },
    {
     "cell_type": "code",
     "collapsed": false,
     "input": [
      "# without dispersion\n",
      "scatter(dki_fintra, fractions)\n",
      "plot([0, 1], [0, 1])\n",
      "ylim(0, 1)\n",
      "xlim(0, 1)\n",
      "pr = pearsonr(dki_fintra, fractions)\n",
      "text(.58, .05, 'PearsonR: '+str(np.round(pr[0], 4)), fontsize=15)"
     ],
     "language": "python",
     "metadata": {},
     "outputs": [
      {
       "metadata": {},
       "output_type": "pyout",
       "prompt_number": 173,
       "text": [
        "<matplotlib.text.Text at 0xba2bfd0>"
       ]
      },
      {
       "metadata": {},
       "output_type": "display_data",
       "png": "[encoded data removed]",
       "text": [
        "<matplotlib.figure.Figure at 0xa056c10>"
       ]
      }
     ],
     "prompt_number": 173
    },
    {
     "cell_type": "code",
     "collapsed": false,
     "input": [
      "# with dispersion\n",
      "scatter(dki_fintra_dispersed, fractions_dispersed)\n",
      "plot([0, 1], [0, 1])\n",
      "ylim(0, 1)\n",
      "xlim(0, 1)\n",
      "pr = pearsonr(dki_fintra_dispersed, fractions_dispersed)\n",
      "text(.58, .05, 'PearsonR: '+str(np.round(pr[0], 4)), fontsize=15)"
     ],
     "language": "python",
     "metadata": {},
     "outputs": [
      {
       "metadata": {},
       "output_type": "pyout",
       "prompt_number": 59,
       "text": [
        "<matplotlib.text.Text at 0x61e0fd0>"
       ]
      },
      {
       "metadata": {},
       "output_type": "display_data",
       "png": "[encoded data removed]",
       "text": [
        "<matplotlib.figure.Figure at 0x5da3350>"
       ]
      }
     ],
     "prompt_number": 59
    },
    {
     "cell_type": "markdown",
     "metadata": {},
     "source": [
      "White matter Tract Integrity also is not really robust"
     ]
    },
    {
     "cell_type": "code",
     "collapsed": false,
     "input": [],
     "language": "python",
     "metadata": {},
     "outputs": []
    }
   ],
   "metadata": {}
  }
 ]
}