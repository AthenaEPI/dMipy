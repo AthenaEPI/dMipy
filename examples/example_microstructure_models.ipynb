{
 "metadata": {
  "name": "example_microstructure_models.ipynb"
 },
 "nbformat": 3,
 "nbformat_minor": 0,
 "worksheets": [
  {
   "cells": [
    {
     "cell_type": "code",
     "collapsed": false,
     "input": [
      "from microstruktur.signal_models import three_dimensional_models\n",
      "from microstruktur.signal_models import spherical_mean\n",
      "from microstruktur.signal_models.utils import T1_tortuosity\n",
      "from os.path import join\n",
      "from scipy import optimize\n",
      "import seaborn as sns\n",
      "from dipy.sims.phantom import add_noise"
     ],
     "language": "python",
     "metadata": {},
     "outputs": [
      {
       "output_type": "stream",
       "stream": "stderr",
       "text": [
        "/user/rfick/home/Enthought/Canopy_64bit/User/lib/python2.7/site-packages/matplotlib/__init__.py:872: UserWarning: axes.color_cycle is deprecated and replaced with axes.prop_cycle; please use the latter.\n",
        "  warnings.warn(self.msg_depr % (key, alt_key))\n"
       ]
      }
     ],
     "prompt_number": 1
    },
    {
     "cell_type": "heading",
     "level": 2,
     "metadata": {},
     "source": [
      "Load Data"
     ]
    },
    {
     "cell_type": "code",
     "collapsed": false,
     "input": [
      "import pkg_resources\n",
      "# DATA_PATH = '/user/rfick/home/microstruktur/microstruktur/data/'\n",
      "DATA_PATH = pkg_resources.resource_filename(\n",
      "    'microstruktur', 'data/'\n",
      ")"
     ],
     "language": "python",
     "metadata": {},
     "outputs": [],
     "prompt_number": 2
    },
    {
     "cell_type": "code",
     "collapsed": false,
     "input": [
      "bvals = np.loadtxt(join(three_dimensional_models.GRADIENT_TABLES_PATH, 'bvals_hcp_wu_minn.txt'))\n",
      "gradient_directions = np.loadtxt(join(three_dimensional_models.GRADIENT_TABLES_PATH, 'bvecs_hcp_wu_minn.txt'))"
     ],
     "language": "python",
     "metadata": {},
     "outputs": [],
     "prompt_number": 3
    },
    {
     "cell_type": "code",
     "collapsed": false,
     "input": [
      "data = np.loadtxt(join(DATA_PATH, 'data_camino_D1_7.txt'))\n",
      "fractions = np.loadtxt(DATA_PATH +'fractions_camino_D1_7.txt')"
     ],
     "language": "python",
     "metadata": {},
     "outputs": [
      {
       "ename": "IOError",
       "evalue": "[Errno 2] No such file or directory: '/user/rfick/home/Enthought/Canopy_64bit/User/lib/python2.7/site-packages/microstruktur-0.1.dev0-py2.7.egg/microstruktur/data/data_camino_D1_7.txt'",
       "output_type": "pyerr",
       "traceback": [
        "\u001b[1;31m---------------------------------------------------------------------------\u001b[0m\n\u001b[1;31mIOError\u001b[0m                                   Traceback (most recent call last)",
        "\u001b[1;32m<ipython-input-136-6dfde8a29355>\u001b[0m in \u001b[0;36m<module>\u001b[1;34m()\u001b[0m\n\u001b[1;32m----> 1\u001b[1;33m \u001b[0mdata\u001b[0m \u001b[1;33m=\u001b[0m \u001b[0mnp\u001b[0m\u001b[1;33m.\u001b[0m\u001b[0mloadtxt\u001b[0m\u001b[1;33m(\u001b[0m\u001b[0mjoin\u001b[0m\u001b[1;33m(\u001b[0m\u001b[0mDATA_PATH\u001b[0m\u001b[1;33m,\u001b[0m \u001b[1;34m'data_camino_D1_7.txt'\u001b[0m\u001b[1;33m)\u001b[0m\u001b[1;33m)\u001b[0m\u001b[1;33m\u001b[0m\u001b[0m\n\u001b[0m\u001b[0;32m      2\u001b[0m \u001b[0mfractions\u001b[0m \u001b[1;33m=\u001b[0m \u001b[0mnp\u001b[0m\u001b[1;33m.\u001b[0m\u001b[0mloadtxt\u001b[0m\u001b[1;33m(\u001b[0m\u001b[0mDATA_PATH\u001b[0m \u001b[1;33m+\u001b[0m\u001b[1;34m'fractions_camino_D1_7.txt'\u001b[0m\u001b[1;33m)\u001b[0m\u001b[1;33m\u001b[0m\u001b[0m\n",
        "\u001b[1;32m/user/rfick/home/Enthought/Canopy_64bit/User/lib/python2.7/site-packages/numpy/lib/npyio.pyc\u001b[0m in \u001b[0;36mloadtxt\u001b[1;34m(fname, dtype, comments, delimiter, converters, skiprows, usecols, unpack, ndmin)\u001b[0m\n\u001b[0;32m    799\u001b[0m                 \u001b[0mfh\u001b[0m \u001b[1;33m=\u001b[0m \u001b[0miter\u001b[0m\u001b[1;33m(\u001b[0m\u001b[0mbz2\u001b[0m\u001b[1;33m.\u001b[0m\u001b[0mBZ2File\u001b[0m\u001b[1;33m(\u001b[0m\u001b[0mfname\u001b[0m\u001b[1;33m)\u001b[0m\u001b[1;33m)\u001b[0m\u001b[1;33m\u001b[0m\u001b[0m\n\u001b[0;32m    800\u001b[0m             \u001b[1;32melif\u001b[0m \u001b[0msys\u001b[0m\u001b[1;33m.\u001b[0m\u001b[0mversion_info\u001b[0m\u001b[1;33m[\u001b[0m\u001b[1;36m0\u001b[0m\u001b[1;33m]\u001b[0m \u001b[1;33m==\u001b[0m \u001b[1;36m2\u001b[0m\u001b[1;33m:\u001b[0m\u001b[1;33m\u001b[0m\u001b[0m\n\u001b[1;32m--> 801\u001b[1;33m                 \u001b[0mfh\u001b[0m \u001b[1;33m=\u001b[0m \u001b[0miter\u001b[0m\u001b[1;33m(\u001b[0m\u001b[0mopen\u001b[0m\u001b[1;33m(\u001b[0m\u001b[0mfname\u001b[0m\u001b[1;33m,\u001b[0m \u001b[1;34m'U'\u001b[0m\u001b[1;33m)\u001b[0m\u001b[1;33m)\u001b[0m\u001b[1;33m\u001b[0m\u001b[0m\n\u001b[0m\u001b[0;32m    802\u001b[0m             \u001b[1;32melse\u001b[0m\u001b[1;33m:\u001b[0m\u001b[1;33m\u001b[0m\u001b[0m\n\u001b[0;32m    803\u001b[0m                 \u001b[0mfh\u001b[0m \u001b[1;33m=\u001b[0m \u001b[0miter\u001b[0m\u001b[1;33m(\u001b[0m\u001b[0mopen\u001b[0m\u001b[1;33m(\u001b[0m\u001b[0mfname\u001b[0m\u001b[1;33m)\u001b[0m\u001b[1;33m)\u001b[0m\u001b[1;33m\u001b[0m\u001b[0m\n",
        "\u001b[1;31mIOError\u001b[0m: [Errno 2] No such file or directory: '/user/rfick/home/Enthought/Canopy_64bit/User/lib/python2.7/site-packages/microstruktur-0.1.dev0-py2.7.egg/microstruktur/data/data_camino_D1_7.txt'"
       ]
      }
     ],
     "prompt_number": 136
    },
    {
     "cell_type": "heading",
     "level": 2,
     "metadata": {},
     "source": [
      "Ball and Stick"
     ]
    },
    {
     "cell_type": "markdown",
     "metadata": {},
     "source": [
      "$$\n",
      " E^{\\textrm{Ball and}}_{\\textrm{Sticks}}=\\underbrace{f_h\\overbrace{E_{iso}(\\lambda_{\\textrm{iso}})}^{\\textrm{Ball}}}_{\\textrm{Extra-Axonal}}+ \\sum_{i=1}^{N}\\underbrace{f_{i,r}\\overbrace{E_r(\\boldsymbol{\\mu}_i|\\lambda_\\parallel)}^{\\textrm{Stick}}}_{\\textrm{Intra-Axonal}}\n",
      "$$"
     ]
    },
    {
     "cell_type": "code",
     "collapsed": false,
     "input": [
      "ball = three_dimensional_models.E3Ball(lambda_iso=1e-3)\n",
      "stick = three_dimensional_models.I1Stick(lambda_par=2e-3, mu=[np.pi/4, 0])"
     ],
     "language": "python",
     "metadata": {},
     "outputs": [],
     "prompt_number": 5
    },
    {
     "cell_type": "code",
     "collapsed": false,
     "input": [
      "ball_and_stick = three_dimensional_models.PartialVolumeCombinedMicrostrukturModel(\n",
      "    [stick, ball], parameter_links=[], optimise_partial_volumes=True)"
     ],
     "language": "python",
     "metadata": {},
     "outputs": [],
     "prompt_number": 6
    },
    {
     "cell_type": "code",
     "collapsed": false,
     "input": [
      "x0 = ball_and_stick.parameters_to_parameter_vector(I1Stick_1_lambda_par=2e-3,\n",
      "                                                   I1Stick_1_mu=[np.pi/4, 0],\n",
      "                                                   E3Ball_1_lambda_iso=2e-3,\n",
      "                                                   partial_volume_0=.5\n",
      "                                                   )\n",
      "\n",
      "results_ball_and_stick = np.zeros((data.shape[0], 5))\n",
      "for i, data_ in enumerate(data):\n",
      "    results_ball_and_stick[i] = optimize.minimize(\n",
      "        ball_and_stick.objective_function, x0, (bvals, gradient_directions, add_noise(data_, snr=20, S0=1)),\n",
      "        bounds=ball_and_stick.bounds_for_optimization, options={'disp': True}).x"
     ],
     "language": "python",
     "metadata": {},
     "outputs": [],
     "prompt_number": 7
    },
    {
     "cell_type": "code",
     "collapsed": false,
     "input": [
      "sns.jointplot(results_ball_and_stick[:, -1], fractions)"
     ],
     "language": "python",
     "metadata": {},
     "outputs": [
      {
       "output_type": "stream",
       "stream": "stderr",
       "text": [
        "/user/rfick/home/Enthought/Canopy_64bit/User/lib/python2.7/site-packages/matplotlib/__init__.py:892: UserWarning: axes.color_cycle is deprecated and replaced with axes.prop_cycle; please use the latter.\n",
        "  warnings.warn(self.msg_depr % (key, alt_key))\n"
       ]
      },
      {
       "metadata": {},
       "output_type": "pyout",
       "prompt_number": 8,
       "text": [
        "<seaborn.axisgrid.JointGrid at 0x6761b50>"
       ]
      },
      {
       "metadata": {},
       "output_type": "display_data",
       "png": "[encoded data removed]",
       "text": [
        "<matplotlib.figure.Figure at 0x6761b10>"
       ]
      }
     ],
     "prompt_number": 8
    },
    {
     "cell_type": "heading",
     "level": 2,
     "metadata": {},
     "source": [
      "Multi-Compartment Spherical Mean Technique"
     ]
    },
    {
     "cell_type": "code",
     "collapsed": false,
     "input": [
      "stick_mean = three_dimensional_models.I1StickSphericalMean()\n",
      "zeppelin_mean = three_dimensional_models.E4ZeppelinSphericalMean()"
     ],
     "language": "python",
     "metadata": {},
     "outputs": [],
     "prompt_number": 5
    },
    {
     "cell_type": "code",
     "collapsed": false,
     "input": [
      "def parameter_equality(param):\n",
      "    return param"
     ],
     "language": "python",
     "metadata": {},
     "outputs": [],
     "prompt_number": 8
    },
    {
     "cell_type": "code",
     "collapsed": false,
     "input": [
      "parameter_links = [\n",
      "    (  # tortuosity assumption\n",
      "        zeppelin_mean, 'lambda_perp',\n",
      "        T1_tortuosity, [\n",
      "            (None, 'partial_volume_0'),\n",
      "            (stick_mean, 'lambda_par')\n",
      "        ]\n",
      "    ),\n",
      "    (  # equal parallel diffusivities\n",
      "         zeppelin_mean, 'lambda_par',\n",
      "         parameter_equality, [\n",
      "            (stick_mean, 'lambda_par')\n",
      "        ]\n",
      "     )\n",
      "]"
     ],
     "language": "python",
     "metadata": {},
     "outputs": [],
     "prompt_number": 113
    },
    {
     "cell_type": "code",
     "collapsed": false,
     "input": [
      "mc_smt = three_dimensional_models.PartialVolumeCombinedMicrostrukturModel(\n",
      "    [stick_mean, zeppelin_mean], parameter_links=parameter_links, optimise_partial_volumes=True)"
     ],
     "language": "python",
     "metadata": {},
     "outputs": [],
     "prompt_number": 114
    },
    {
     "cell_type": "code",
     "collapsed": false,
     "input": [
      "# to be made for convenient later\n",
      "bshell_indices = np.round(bvals / 1e3)\n",
      "shell_bvals = np.linspace(1, 3, 3) * 1e3\n",
      "data_spherical_means = spherical_mean.estimate_spherical_mean_multi_shell(data[0], gradient_directions, bshell_indices)"
     ],
     "language": "python",
     "metadata": {},
     "outputs": [],
     "prompt_number": 128
    },
    {
     "cell_type": "code",
     "collapsed": false,
     "input": [
      "x0 = mc_smt.parameters_to_parameter_vector(I1StickSphericalMean_1_lambda_par=.6e-3, partial_volume_0=0.55)\n",
      "\n",
      "res = optimize.minimize(mc_smt.objective_function, x0, (shell_bvals, gradient_directions[:3], data_spherical_means),\n",
      "        bounds=mc_smt.bounds_for_optimization, options={'disp': True})\n",
      "res"
     ],
     "language": "python",
     "metadata": {},
     "outputs": [
      {
       "metadata": {},
       "output_type": "pyout",
       "prompt_number": 129,
       "text": [
        "      fun: 0.00013805713502766179\n",
        " hess_inv: <2x2 LbfgsInvHessProduct with dtype=float64>\n",
        "      jac: array([ -6.83573532e-05,  -1.59602997e-03])\n",
        "  message: 'CONVERGENCE: REL_REDUCTION_OF_F_<=_FACTR*EPSMCH'\n",
        "     nfev: 45\n",
        "      nit: 7\n",
        "   status: 0\n",
        "  success: True\n",
        "        x: array([ 0.00131001,  0.54999971])"
       ]
      }
     ],
     "prompt_number": 129
    },
    {
     "cell_type": "code",
     "collapsed": false,
     "input": [
      "x0 = mc_smt.parameters_to_parameter_vector(I1StickSphericalMean_1_lambda_par=1.0e-3, partial_volume_0=0.55)\n",
      "\n",
      "res = optimize.minimize(mc_smt.objective_function, x0, (shell_bvals, gradient_directions[:3], data_spherical_means),\n",
      "        bounds=mc_smt.bounds_for_optimization, options={'disp': True})\n",
      "res"
     ],
     "language": "python",
     "metadata": {},
     "outputs": [
      {
       "metadata": {},
       "output_type": "pyout",
       "prompt_number": 130,
       "text": [
        "      fun: 0.00013805715698643871\n",
        " hess_inv: <2x2 LbfgsInvHessProduct with dtype=float64>\n",
        "      jac: array([ -3.18477964e-05,  -1.59612080e-03])\n",
        "  message: 'CONVERGENCE: REL_REDUCTION_OF_F_<=_FACTR*EPSMCH'\n",
        "     nfev: 39\n",
        "      nit: 6\n",
        "   status: 0\n",
        "  success: True\n",
        "        x: array([ 0.00131002,  0.54999969])"
       ]
      }
     ],
     "prompt_number": 130
    },
    {
     "cell_type": "code",
     "collapsed": false,
     "input": [
      "# spherical mean data\n",
      "data_spherical_means"
     ],
     "language": "python",
     "metadata": {},
     "outputs": [
      {
       "metadata": {},
       "output_type": "pyout",
       "prompt_number": 127,
       "text": [
        "array([ 0.56760861,  0.39019633,  0.30372648])"
       ]
      }
     ],
     "prompt_number": 127
    },
    {
     "cell_type": "code",
     "collapsed": false,
     "input": [
      "#spherical means of wrongly found parameters\n",
      "mc_smt(bvals=shell_bvals, n=gradient_directions[:3],\n",
      "       partial_volume_0=res.x[1],\n",
      "       I1StickSphericalMean_1_lambda_par=res.x[0])\n",
      "# quite a bit off"
     ],
     "language": "python",
     "metadata": {},
     "outputs": [
      {
       "metadata": {},
       "output_type": "pyout",
       "prompt_number": 125,
       "text": [
        "array([ 0.581567  ,  0.3875147 ,  0.28916134])"
       ]
      }
     ],
     "prompt_number": 125
    },
    {
     "cell_type": "code",
     "collapsed": false,
     "input": [
      "#spherical means of ground truth parameters\n",
      "mc_smt(bvals=shell_bvals, n=gradient_directions[:3],\n",
      "       partial_volume_0=fractions[0],\n",
      "       I1StickSphericalMean_1_lambda_par=1.7e-3)\n",
      "# They match almost exactly"
     ],
     "language": "python",
     "metadata": {},
     "outputs": [
      {
       "metadata": {},
       "output_type": "pyout",
       "prompt_number": 126,
       "text": [
        "array([ 0.57831725,  0.3999075 ,  0.3105193 ])"
       ]
      }
     ],
     "prompt_number": 126
    }
   ],
   "metadata": {}
  }
 ]
}