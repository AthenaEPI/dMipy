{
 "cells": [
  {
   "cell_type": "markdown",
   "metadata": {},
   "source": [
    "# Simulating and fitting data using a simple Stick model"
   ]
  },
  {
   "cell_type": "markdown",
   "metadata": {},
   "source": [
    "As in the previous tutorial we first create an acquisition scheme that we will use to simulate and fit data."
   ]
  },
  {
   "cell_type": "code",
   "execution_count": 1,
   "metadata": {
    "collapsed": true
   },
   "outputs": [],
   "source": [
    "# load the necessary modules\n",
    "from microstruktur.signal_models import three_dimensional_models, dispersed_models\n",
    "from microstruktur.acquisition_scheme.acquisition_scheme import acquisition_scheme_from_bvalues\n",
    "from os.path import join\n",
    "import numpy as np\n",
    "\n",
    "# the HCP acquisition parameters are saved in the following toolbox path:\n",
    "acquisition_path = three_dimensional_models.GRADIENT_TABLES_PATH\n",
    "\n",
    "# we can then load the parameters themselves and convert them to SI units:\n",
    "bvalues = np.loadtxt(join(acquisition_path, 'bvals_hcp_wu_minn.txt'))  # given in s/mm^2\n",
    "bvalues_SI = bvalues * 1e6  # now given in SI units as s/m^2\n",
    "gradient_directions = np.loadtxt(join(acquisition_path, 'bvecs_hcp_wu_minn.txt'))  # on the unit sphere\n",
    "\n",
    "# The delta and Delta times we know from the HCP documentation in seconds\n",
    "delta = 0.0106  \n",
    "Delta = 0.0431 \n",
    "\n",
    "# The acquisition scheme we use in the toolbox is then simply created as follows:\n",
    "acq_scheme = acquisition_scheme_from_bvalues(bvalues_SI, gradient_directions, delta, Delta)"
   ]
  },
  {
   "cell_type": "markdown",
   "metadata": {},
   "source": [
    "Using this acquisition scheme, we will simulate data using a simple Stick model, and then use the same Stick model to fit the signal again. The first thing we have to do is instantiate the model we need.\n",
    "\n",
    "NOTE: this example is EXACTLY the same with any of the other models, you only need to change the model and appropriate input parameters."
   ]
  },
  {
   "cell_type": "code",
   "execution_count": 2,
   "metadata": {
    "collapsed": false
   },
   "outputs": [],
   "source": [
    "stick = three_dimensional_models.I1Stick()"
   ]
  },
  {
   "cell_type": "markdown",
   "metadata": {},
   "source": [
    "To find more information on the model parameters check its function documentation. We can also print the parameter cardinality to figure out the parameter names, and their input format."
   ]
  },
  {
   "cell_type": "code",
   "execution_count": 3,
   "metadata": {
    "collapsed": false
   },
   "outputs": [
    {
     "data": {
      "text/plain": [
       "OrderedDict([('lambda_par', 1), ('mu', 2)])"
      ]
     },
     "execution_count": 3,
     "metadata": {},
     "output_type": "execute_result"
    }
   ],
   "source": [
    "stick.parameter_cardinality"
   ]
  },
  {
   "cell_type": "markdown",
   "metadata": {},
   "source": [
    "As the function shows, we need to give the Stick one parallel diffusivity as lambda_par, and its orientation mu as angles on the sphere [theta, phi].  \n",
    "For the example we align the Stick with some angle and give it a diffusivity of 1.7e-9 m^2/s. We obtain the right ordering for the input of the function by using the model's parameters_to_parameter_vector() function:"
   ]
  },
  {
   "cell_type": "code",
   "execution_count": 4,
   "metadata": {
    "collapsed": true
   },
   "outputs": [],
   "source": [
    "mu = (np.pi / 2., np.pi / 2.)\n",
    "lambda_par = 1.7e-9\n",
    "parameter_vector = stick.parameters_to_parameter_vector(\n",
    "    lambda_par=lambda_par, mu=mu)"
   ]
  },
  {
   "cell_type": "markdown",
   "metadata": {},
   "source": [
    "A diffusion signal, for the given model parameters and our previously made acquisition scheme is then simply generated as follows:"
   ]
  },
  {
   "cell_type": "code",
   "execution_count": 5,
   "metadata": {
    "collapsed": true
   },
   "outputs": [],
   "source": [
    "E = stick.simulate_signal(acq_scheme, parameter_vector)"
   ]
  },
  {
   "cell_type": "markdown",
   "metadata": {},
   "source": [
    "Let's assume this signal is now unknown, and we want to fit the Stick model to this signal to find best fitting model parameters. Using the same procedure as before, we now set an initial condition for the same parameters from which we start the optimization."
   ]
  },
  {
   "cell_type": "code",
   "execution_count": 6,
   "metadata": {
    "collapsed": true
   },
   "outputs": [],
   "source": [
    "initial_mu = np.random.rand(2)\n",
    "initial_lambda_par = np.random.rand() * 1e-9\n",
    "x0 = stick.parameters_to_parameter_vector(\n",
    "    lambda_par=initial_lambda_par, mu=initial_mu)"
   ]
  },
  {
   "cell_type": "markdown",
   "metadata": {},
   "source": [
    "Using the data, acquisition scheme and initial guess, we fit the model using the following one-liner. We can see the correct model parameters are obtained."
   ]
  },
  {
   "cell_type": "code",
   "execution_count": 7,
   "metadata": {
    "collapsed": false
   },
   "outputs": [
    {
     "name": "stdout",
     "output_type": "stream",
     "text": [
      "Initial guess:    [  9.50322577e-10   4.61430812e-01   2.13174817e-01]\n",
      "Optimized result: [  1.69999318e-09   1.57079548e+00   1.57079768e+00]\n",
      "Ground truth:     [  1.70000000e-09   1.57079633e+00   1.57079633e+00]\n"
     ]
    }
   ],
   "source": [
    "res = stick.fit(E, acq_scheme, x0)\n",
    "print 'Initial guess:   ', x0\n",
    "print 'Optimized result:', res\n",
    "print 'Ground truth:    ', parameter_vector"
   ]
  },
  {
   "cell_type": "markdown",
   "metadata": {},
   "source": [
    "The names of the parameters can again be obtained using parameter_vector_to_parameters."
   ]
  },
  {
   "cell_type": "code",
   "execution_count": 8,
   "metadata": {
    "collapsed": false
   },
   "outputs": [
    {
     "data": {
      "text/plain": [
       "{'lambda_par': array([  1.69999318e-09]),\n",
       " 'mu': array([ 1.57079548,  1.57079768])}"
      ]
     },
     "execution_count": 8,
     "metadata": {},
     "output_type": "execute_result"
    }
   ],
   "source": [
    "stick.parameter_vector_to_parameters(res)"
   ]
  }
 ],
 "metadata": {
  "kernelspec": {
   "display_name": "Python 2",
   "language": "python",
   "name": "python2"
  },
  "language_info": {
   "codemirror_mode": {
    "name": "ipython",
    "version": 2
   },
   "file_extension": ".py",
   "mimetype": "text/x-python",
   "name": "python",
   "nbconvert_exporter": "python",
   "pygments_lexer": "ipython2",
   "version": "2.7.6"
  }
 },
 "nbformat": 4,
 "nbformat_minor": 0
}
