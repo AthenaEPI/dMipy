{
 "cells": [
  {
   "cell_type": "markdown",
   "metadata": {},
   "source": [
    "# Simulating and fitting data using a simple Stick model"
   ]
  },
  {
   "cell_type": "markdown",
   "metadata": {},
   "source": [
    "As in the previous tutorial we will use the wu-minn acquisition scheme to do our experiments. Instead of doing it from scratch, we simply load it from dmipy.data.saved_acquisition_schemes, which contains some saved dmipy acquisition schemes."
   ]
  },
  {
   "cell_type": "code",
   "execution_count": 1,
   "metadata": {},
   "outputs": [],
   "source": [
    "# load the necessary modules\n",
    "from dmipy.signal_models import cylinder_models\n",
    "from dmipy.core import modeling_framework\n",
    "from dmipy.data import saved_acquisition_schemes\n",
    "import numpy as np\n",
    "\n",
    "acq_scheme = saved_acquisition_schemes.wu_minn_hcp_acquisition_scheme()"
   ]
  },
  {
   "cell_type": "markdown",
   "metadata": {},
   "source": [
    "Using this acquisition scheme, we will simulate data using a simple Stick model, and then use the same Stick model to fit the signal again. The first thing we have to do is instantiate the model(s) we need.\n",
    "\n",
    "NOTE: this example is EXACTLY the same with any of the other models, you only need to change the model and appropriate input parameters."
   ]
  },
  {
   "cell_type": "code",
   "execution_count": 2,
   "metadata": {},
   "outputs": [],
   "source": [
    "stick = cylinder_models.C1Stick()"
   ]
  },
  {
   "cell_type": "markdown",
   "metadata": {},
   "source": [
    "In Dmipy, all the simulation and fitting functionality is contained in the MultiCompartmentModel module. To simulate some data, we therefore make a \"multi-compartment model\" that just contains the Stick model."
   ]
  },
  {
   "cell_type": "code",
   "execution_count": 3,
   "metadata": {
    "collapsed": true
   },
   "outputs": [],
   "source": [
    "from dmipy.core.modeling_framework import MultiCompartmentModel\n",
    "stick_model = MultiCompartmentModel(models=[stick])"
   ]
  },
  {
   "cell_type": "markdown",
   "metadata": {},
   "source": [
    "To find more information on the model parameters check its function documentation of the original stick model. We can also print the parameter cardinality to figure out the parameter names, and their input format."
   ]
  },
  {
   "cell_type": "code",
   "execution_count": 4,
   "metadata": {},
   "outputs": [
    {
     "data": {
      "text/plain": [
       "OrderedDict([('C1Stick_1_mu', 2), ('C1Stick_1_lambda_par', 1)])"
      ]
     },
     "execution_count": 4,
     "metadata": {},
     "output_type": "execute_result"
    }
   ],
   "source": [
    "stick_model.parameter_cardinality"
   ]
  },
  {
   "cell_type": "markdown",
   "metadata": {},
   "source": [
    "First thing to notice is name of the model \"C1Stick\" and the parameter \"mu\" is separated by a number \"\\_1\\_\". If multiple sticks are given to the MultiCompartmentModel, then these numbers will differ for the different models, making it possible to differentiate between the first and second stick parameters.\n",
    "\n",
    "The number after the parameter name indicates the cardinality of the parameter, meaning that the orientation of the stick \"mu\" takes two angles on the sphere as [theta, phi], and one value as parallel diffusivity lambda_par.\n",
    "\n",
    "For the example we align the Stick with some angle and give it a diffusivity of 1.7e-9 m^2/s. We obtain the right ordering for the input of the function by using the model's parameters_to_parameter_vector() function:"
   ]
  },
  {
   "cell_type": "code",
   "execution_count": 5,
   "metadata": {
    "collapsed": true
   },
   "outputs": [],
   "source": [
    "mu = (np.pi / 2., np.pi / 2.)  # in radians\n",
    "lambda_par = 1.7e-9  # in m^2/s\n",
    "parameter_vector = stick_model.parameters_to_parameter_vector(\n",
    "    C1Stick_1_lambda_par=lambda_par, C1Stick_1_mu=mu)"
   ]
  },
  {
   "cell_type": "markdown",
   "metadata": {},
   "source": [
    "As you can see, this just produces a parameter vector with the 'correct' order for the model to understand it."
   ]
  },
  {
   "cell_type": "code",
   "execution_count": 6,
   "metadata": {},
   "outputs": [
    {
     "data": {
      "text/plain": [
       "array([  1.57079633e+00,   1.57079633e+00,   1.70000000e-09])"
      ]
     },
     "execution_count": 6,
     "metadata": {},
     "output_type": "execute_result"
    }
   ],
   "source": [
    "parameter_vector"
   ]
  },
  {
   "cell_type": "markdown",
   "metadata": {},
   "source": [
    "A diffusion signal, for the given model parameters and the wu-minn acquisition scheme is then simply generated as follows:"
   ]
  },
  {
   "cell_type": "code",
   "execution_count": 7,
   "metadata": {},
   "outputs": [
    {
     "data": {
      "text/plain": [
       "288"
      ]
     },
     "execution_count": 7,
     "metadata": {},
     "output_type": "execute_result"
    }
   ],
   "source": [
    "E = stick_model.simulate_signal(acq_scheme, parameter_vector)\n",
    "len(E)  # See that this produces the signal attenuation for the entire acquisition scheme"
   ]
  },
  {
   "cell_type": "markdown",
   "metadata": {},
   "source": [
    "Let's assume this signal is now unknown, and we want to fit the Stick model to this signal to find best fitting model parameters. the model.fit(scheme, data) is the easiest way to fit some data. As a default, dmipy uses a global optimizer that we call brute2fine, which does exactly what the name implies: first to a global brute-force optimization and then refine solution to a local minimum."
   ]
  },
  {
   "cell_type": "code",
   "execution_count": 8,
   "metadata": {},
   "outputs": [
    {
     "name": "stdout",
     "output_type": "stream",
     "text": [
      "Using parallel processing with 8 workers.\n",
      "Setup brute2fine optimizer in 0.0137729644775 seconds\n",
      "Fitting of 1 voxels complete in 0.0152580738068 seconds.\n",
      "Average of 0.0152580738068 seconds per voxel.\n"
     ]
    }
   ],
   "source": [
    "res = stick_model.fit(acq_scheme, E)"
   ]
  },
  {
   "cell_type": "markdown",
   "metadata": {},
   "source": [
    "Using the data and the acquisition scheme we fit the stick_model using the following one-liner. We can see the correct model parameters are obtained."
   ]
  },
  {
   "cell_type": "code",
   "execution_count": 9,
   "metadata": {},
   "outputs": [
    {
     "name": "stdout",
     "output_type": "stream",
     "text": [
      "Optimized result: [  1.57080726e+00  -1.57079593e+00   1.70010077e-09]\n",
      "Ground truth:     [  1.57079633e+00   1.57079633e+00   1.70000000e-09]\n"
     ]
    }
   ],
   "source": [
    "print 'Optimized result:', res.fitted_parameters_vector\n",
    "print 'Ground truth:    ', parameter_vector"
   ]
  }
 ],
 "metadata": {
  "kernelspec": {
   "display_name": "Python 2",
   "language": "python",
   "name": "python2"
  },
  "language_info": {
   "codemirror_mode": {
    "name": "ipython",
    "version": 2
   },
   "file_extension": ".py",
   "mimetype": "text/x-python",
   "name": "python",
   "nbconvert_exporter": "python",
   "pygments_lexer": "ipython2",
   "version": "2.7.14"
  }
 },
 "nbformat": 4,
 "nbformat_minor": 1
}
