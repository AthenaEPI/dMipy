{
 "metadata": {
  "name": "example_ball_and_stick.ipynb"
 },
 "nbformat": 3,
 "nbformat_minor": 0,
 "worksheets": [
  {
   "cells": [
    {
     "cell_type": "code",
     "collapsed": false,
     "input": [
      "from microstruktur.signal_models import three_dimensional_models\n",
      "from os.path import join\n",
      "from scipy import optimize\n",
      "from scipy.stats import pearsonr"
     ],
     "language": "python",
     "metadata": {},
     "outputs": [],
     "prompt_number": 22
    },
    {
     "cell_type": "code",
     "collapsed": false,
     "input": [
      "import pkg_resources\n",
      "DATA_PATH = pkg_resources.resource_filename('microstruktur', 'data/')"
     ],
     "language": "python",
     "metadata": {},
     "outputs": [],
     "prompt_number": 23
    },
    {
     "cell_type": "code",
     "collapsed": false,
     "input": [
      "bvals = np.loadtxt(\n",
      "    join(three_dimensional_models.GRADIENT_TABLES_PATH,\n",
      "         'bvals_hcp_wu_minn.txt')\n",
      ")\n",
      "bvals *= 1e6\n",
      "gradient_directions = np.loadtxt(\n",
      "    join(three_dimensional_models.GRADIENT_TABLES_PATH,\n",
      "         'bvecs_hcp_wu_minn.txt')\n",
      ")"
     ],
     "language": "python",
     "metadata": {},
     "outputs": [],
     "prompt_number": 24
    },
    {
     "cell_type": "code",
     "collapsed": false,
     "input": [
      "data_1_7 = np.loadtxt(join(DATA_PATH, 'data_camino_D1_7.txt'))\n",
      "data_2_0 = np.loadtxt(join(DATA_PATH, 'data_camino_D2_0.txt'))\n",
      "data_2_3 = np.loadtxt(join(DATA_PATH, 'data_camino_D2_3.txt'))\n",
      "fractions_2_0 = np.loadtxt(DATA_PATH +'fractions_camino_D2_0.txt')\n",
      "fractions_1_7 = np.loadtxt(DATA_PATH +'fractions_camino_D1_7.txt')\n",
      "fractions_2_3 = np.loadtxt(DATA_PATH +'fractions_camino_D2_3.txt')\n",
      "\n",
      "data_multidif = np.r_[data_1_7, data_2_0, data_2_3]\n",
      "fractions_multidif = np.r_[fractions_1_7, fractions_2_0, fractions_2_3]\n",
      "\n",
      "data_1_7_dispersed = np.loadtxt(\n",
      "    join(DATA_PATH, 'data_camino_dispersed_D1_7.txt')\n",
      ")\n",
      "data_2_0_dispersed = np.loadtxt(\n",
      "    join(DATA_PATH, 'data_camino_dispersed_D2_0.txt')\n",
      ")\n",
      "data_2_3_dispersed = np.loadtxt(\n",
      "    join(DATA_PATH, 'data_camino_dispersed_D2_3.txt')\n",
      ")\n",
      "data_multidif_dispersed = np.r_[\n",
      "    data_1_7_dispersed, data_2_0_dispersed, data_2_3_dispersed\n",
      "]\n",
      "\n",
      "parameters_1_7_dispersed = np.loadtxt(\n",
      "    join(DATA_PATH, 'parameters_camino_dispersed_D1_7.txt')\n",
      ")\n",
      "parameters_2_0_dispersed = np.loadtxt(\n",
      "    join(DATA_PATH, 'parameters_camino_dispersed_D2_0.txt')\n",
      ")\n",
      "parameters_2_3_dispersed = np.loadtxt(\n",
      "    join(DATA_PATH, 'parameters_camino_dispersed_D2_3.txt')\n",
      ")\n",
      "\n",
      "fractions_1_7_dispersed = parameters_1_7_dispersed[:,0]\n",
      "fractions_2_0_dispersed = parameters_2_0_dispersed[:,0]\n",
      "fractions_2_3_dispersed = parameters_2_3_dispersed[:,0]\n",
      "\n",
      "fractions_multidif_dispersed = np.r_[\n",
      "    fractions_1_7_dispersed,\n",
      "    fractions_2_0_dispersed,\n",
      "    fractions_2_3_dispersed\n",
      "]"
     ],
     "language": "python",
     "metadata": {},
     "outputs": [],
     "prompt_number": 25
    },
    {
     "cell_type": "code",
     "collapsed": false,
     "input": [
      "ball = three_dimensional_models.E3Ball()\n",
      "stick = three_dimensional_models.I1Stick()"
     ],
     "language": "python",
     "metadata": {},
     "outputs": [],
     "prompt_number": 26
    },
    {
     "cell_type": "code",
     "collapsed": false,
     "input": [
      "ball_and_stick = three_dimensional_models.PartialVolumeCombinedMicrostrukturModel(\n",
      "    models=[stick, ball], parameter_links=[], optimise_partial_volumes=True\n",
      ")"
     ],
     "language": "python",
     "metadata": {},
     "outputs": [],
     "prompt_number": 27
    },
    {
     "cell_type": "code",
     "collapsed": false,
     "input": [
      "ball_and_stick.models"
     ],
     "language": "python",
     "metadata": {},
     "outputs": [
      {
       "metadata": {},
       "output_type": "pyout",
       "prompt_number": 37,
       "text": [
        "[<microstruktur.signal_models.three_dimensional_models.I1Stick instance at 0x195a830>,\n",
        " <microstruktur.signal_models.three_dimensional_models.E3Ball instance at 0x49e9998>]"
       ]
      }
     ],
     "prompt_number": 37
    },
    {
     "cell_type": "code",
     "collapsed": false,
     "input": [
      "ball_and_stick.parameter_defaults"
     ],
     "language": "python",
     "metadata": {},
     "outputs": [
      {
       "metadata": {},
       "output_type": "pyout",
       "prompt_number": 35,
       "text": [
        "OrderedDict([('I1Stick_1_lambda_par', None), ('I1Stick_1_mu', None), ('E3Ball_1_lambda_iso', None), ('partial_volume_0', 0.5)])"
       ]
      }
     ],
     "prompt_number": 35
    },
    {
     "cell_type": "code",
     "collapsed": false,
     "input": [
      "x0 = ball_and_stick.parameters_to_parameter_vector(\n",
      "    I1Stick_1_lambda_par=2, I1Stick_1_mu=[0, 0],  # initialization stick parameters\n",
      "    E3Ball_1_lambda_iso=1,  # initialization ball parameter\n",
      "    partial_volume_0=.5  # initialization volume fraction parameter\n",
      ")"
     ],
     "language": "python",
     "metadata": {},
     "outputs": [],
     "prompt_number": 28
    },
    {
     "cell_type": "code",
     "collapsed": false,
     "input": [
      "# fitting to parallel (undispersed) data varying diffusivity D=[1.7, 2.0, 2.3]\n",
      "results_ball_and_stick_multidif = np.zeros((data_multidif.shape[0], 5))\n",
      "for i, data_ in enumerate(data_multidif):\n",
      "    res = optimize.minimize(\n",
      "        ball_and_stick.objective_function, x0, (bvals, gradient_directions, data_),\n",
      "        bounds=ball_and_stick.bounds_for_optimization, options={'disp': True})\n",
      "    results_ball_and_stick_multidif[i] = res.x\n",
      "\n",
      "# fitting to dispersed data varying diffusivity D=[1.7, 2.0, 2.3]\n",
      "results_ball_and_stick_multidif_dispersed = np.zeros((data_multidif_dispersed.shape[0], 5))\n",
      "for i, data_ in enumerate(data_multidif_dispersed):\n",
      "    res = optimize.minimize(\n",
      "        ball_and_stick.objective_function, x0, (bvals, gradient_directions, data_),\n",
      "        bounds=ball_and_stick.bounds_for_optimization, options={'disp': True})\n",
      "    results_ball_and_stick_multidif_dispersed[i] = res.x\n",
      "\n",
      "# we separate the first one-third of the results that come from only D=1.7x10^-9 m/s^2 data\n",
      "results_ball_and_stick_1_7 = results_ball_and_stick_multidif[\n",
      "    0: len(results_ball_and_stick_multidif) / 3]    \n",
      "results_ball_and_stick_dispersed_1_7 = results_ball_and_stick_multidif_dispersed[\n",
      "    0: len(results_ball_and_stick_multidif_dispersed) / 3]"
     ],
     "language": "python",
     "metadata": {},
     "outputs": [],
     "prompt_number": 45
    },
    {
     "cell_type": "code",
     "collapsed": false,
     "input": [
      "pr = pearsonr(\n",
      "    results_ball_and_stick_1_7[:, -1], fractions_1_7)\n",
      "pr_dispersed = pearsonr(\n",
      "    results_ball_and_stick_dispersed_1_7[:, -1], fractions_1_7_dispersed)\n",
      "pr_multidif = pearsonr(\n",
      "    results_ball_and_stick_multidif[:, -1], fractions_multidif)\n",
      "pr_multidif_dispersed = pearsonr(\n",
      "    results_ball_and_stick_multidif_dispersed[:, -1], fractions_multidif_dispersed)"
     ],
     "language": "python",
     "metadata": {},
     "outputs": [],
     "prompt_number": 48
    },
    {
     "cell_type": "code",
     "collapsed": false,
     "input": [
      "f, ((ax1, ax2), (ax3, ax4)) = plt.subplots(2, 2, sharex='col', sharey='row')\n",
      "ax1.scatter(fractions_1_7, results_ball_and_stick_1_7[:, -1])\n",
      "ax2.scatter(fractions_multidif, results_ball_and_stick_multidif[:, -1])\n",
      "ax3.scatter(fractions_1_7_dispersed, results_ball_and_stick_dispersed_1_7[:, -1])\n",
      "ax4.scatter(fractions_multidif_dispersed, results_ball_and_stick_multidif_dispersed[:, -1])\n",
      "\n",
      "ax1.text(.216, .817, 'pearsonR= ' + str(np.round(pr[0], 3)),\n",
      "         fontsize=10, bbox=dict(facecolor='white', alpha=1))\n",
      "ax2.text(.216, .817, 'pearsonR= ' + str(np.round(pr_multidif[0], 3)),\n",
      "         fontsize=10, bbox=dict(facecolor='white', alpha=1))\n",
      "ax3.text(.216, .817, 'pearsonR= ' + str(np.round(pr_dispersed[0], 3)),\n",
      "         fontsize=10, bbox=dict(facecolor='white', alpha=1))\n",
      "ax4.text(.216, .817, 'pearsonR= ' + str(np.round(pr_multidif_dispersed[0], 3)),\n",
      "         fontsize=10, bbox=dict(facecolor='white', alpha=1))\n",
      "\n",
      "# ax1.set_title('Static Diffusivity')\n",
      "ax3.set_xlabel('Ground Truth')\n",
      "# ax2.set_title('Varying Diffusivity')\n",
      "ax1.set_ylabel('Estimated intra-vf')\n",
      "ax4.set_xlabel('Ground Truth')\n",
      "ax3.set_ylabel('Estimated intra-vf')\n",
      "\n",
      "ax1.plot([0, 1], [0, 1], ls='--', c='k', lw=3)\n",
      "ax2.plot([0, 1], [0, 1], ls='--', c='k', lw=3)\n",
      "ax3.plot([0, 1], [0, 1], ls='--', c='k', lw=3)\n",
      "ax4.plot([0, 1], [0, 1], ls='--', c='k', lw=3)\n",
      "ax1.set_ylim(0.2, .9)\n",
      "ax1.set_xlim(0.2, .8)\n",
      "ax4.set_ylim(0.2, .9)\n",
      "ax4.set_xlim(0.2, .8)\n",
      "\n",
      "# savefig('/user/rfick/home/Work/neuroimage_review/results_BAS.png', dpi=120)"
     ],
     "language": "python",
     "metadata": {},
     "outputs": [
      {
       "metadata": {},
       "output_type": "pyout",
       "prompt_number": 49,
       "text": [
        "(0.2, 0.8)"
       ]
      },
      {
       "metadata": {},
       "output_type": "display_data",
       "png": "[encoded data removed]",
       "text": [
        "<matplotlib.figure.Figure at 0x4cad310>"
       ]
      }
     ],
     "prompt_number": 49
    }
   ],
   "metadata": {}
  }
 ]
}